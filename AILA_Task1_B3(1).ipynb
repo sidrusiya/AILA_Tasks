{
  "nbformat": 4,
  "nbformat_minor": 0,
  "metadata": {
    "colab": {
      "name": "AILA_Task1_B3(1).ipynb",
      "provenance": [],
      "collapsed_sections": [],
      "include_colab_link": true
    },
    "kernelspec": {
      "name": "python3",
      "display_name": "Python 3"
    },
    "language_info": {
      "name": "python"
    },
    "accelerator": "GPU"
  },
  "cells": [
    {
      "cell_type": "markdown",
      "metadata": {
        "id": "view-in-github",
        "colab_type": "text"
      },
      "source": [
        "<a href=\"https://colab.research.google.com/github/sidrusiya/AILA_Tasks/blob/main/AILA_Task1_B3(1).ipynb\" target=\"_parent\"><img src=\"https://colab.research.google.com/assets/colab-badge.svg\" alt=\"Open In Colab\"/></a>"
      ]
    },
    {
      "cell_type": "markdown",
      "metadata": {
        "id": "gc3rb0poratx"
      },
      "source": [
        "# **Import Dataset and Dependencies**"
      ]
    },
    {
      "cell_type": "code",
      "metadata": {
        "id": "l9bMs1iiqEQ9",
        "colab": {
          "base_uri": "https://localhost:8080/"
        },
        "outputId": "56fd4b88-a101-4d91-8d32-4c7f7f7f4c52"
      },
      "source": [
        "import numpy as np\n",
        "import pandas as pd\n",
        "import os\n",
        "import nltk\n",
        "import re\n",
        "import seaborn as sns\n",
        "import gensim\n",
        "nltk.download('all')"
      ],
      "execution_count": null,
      "outputs": [
        {
          "output_type": "stream",
          "name": "stdout",
          "text": [
            "[nltk_data] Downloading collection 'all'\n",
            "[nltk_data]    | \n",
            "[nltk_data]    | Downloading package abc to /root/nltk_data...\n",
            "[nltk_data]    |   Package abc is already up-to-date!\n",
            "[nltk_data]    | Downloading package alpino to /root/nltk_data...\n",
            "[nltk_data]    |   Package alpino is already up-to-date!\n",
            "[nltk_data]    | Downloading package biocreative_ppi to\n",
            "[nltk_data]    |     /root/nltk_data...\n",
            "[nltk_data]    |   Package biocreative_ppi is already up-to-date!\n",
            "[nltk_data]    | Downloading package brown to /root/nltk_data...\n",
            "[nltk_data]    |   Package brown is already up-to-date!\n",
            "[nltk_data]    | Downloading package brown_tei to /root/nltk_data...\n",
            "[nltk_data]    |   Package brown_tei is already up-to-date!\n",
            "[nltk_data]    | Downloading package cess_cat to /root/nltk_data...\n",
            "[nltk_data]    |   Package cess_cat is already up-to-date!\n",
            "[nltk_data]    | Downloading package cess_esp to /root/nltk_data...\n",
            "[nltk_data]    |   Package cess_esp is already up-to-date!\n",
            "[nltk_data]    | Downloading package chat80 to /root/nltk_data...\n",
            "[nltk_data]    |   Package chat80 is already up-to-date!\n",
            "[nltk_data]    | Downloading package city_database to\n",
            "[nltk_data]    |     /root/nltk_data...\n",
            "[nltk_data]    |   Package city_database is already up-to-date!\n",
            "[nltk_data]    | Downloading package cmudict to /root/nltk_data...\n",
            "[nltk_data]    |   Package cmudict is already up-to-date!\n",
            "[nltk_data]    | Downloading package comparative_sentences to\n",
            "[nltk_data]    |     /root/nltk_data...\n",
            "[nltk_data]    |   Package comparative_sentences is already up-to-\n",
            "[nltk_data]    |       date!\n",
            "[nltk_data]    | Downloading package comtrans to /root/nltk_data...\n",
            "[nltk_data]    |   Package comtrans is already up-to-date!\n",
            "[nltk_data]    | Downloading package conll2000 to /root/nltk_data...\n",
            "[nltk_data]    |   Package conll2000 is already up-to-date!\n",
            "[nltk_data]    | Downloading package conll2002 to /root/nltk_data...\n",
            "[nltk_data]    |   Package conll2002 is already up-to-date!\n",
            "[nltk_data]    | Downloading package conll2007 to /root/nltk_data...\n",
            "[nltk_data]    |   Package conll2007 is already up-to-date!\n",
            "[nltk_data]    | Downloading package crubadan to /root/nltk_data...\n",
            "[nltk_data]    |   Package crubadan is already up-to-date!\n",
            "[nltk_data]    | Downloading package dependency_treebank to\n",
            "[nltk_data]    |     /root/nltk_data...\n",
            "[nltk_data]    |   Package dependency_treebank is already up-to-date!\n",
            "[nltk_data]    | Downloading package dolch to /root/nltk_data...\n",
            "[nltk_data]    |   Package dolch is already up-to-date!\n",
            "[nltk_data]    | Downloading package europarl_raw to\n",
            "[nltk_data]    |     /root/nltk_data...\n",
            "[nltk_data]    |   Package europarl_raw is already up-to-date!\n",
            "[nltk_data]    | Downloading package floresta to /root/nltk_data...\n",
            "[nltk_data]    |   Package floresta is already up-to-date!\n",
            "[nltk_data]    | Downloading package framenet_v15 to\n",
            "[nltk_data]    |     /root/nltk_data...\n",
            "[nltk_data]    |   Package framenet_v15 is already up-to-date!\n",
            "[nltk_data]    | Downloading package framenet_v17 to\n",
            "[nltk_data]    |     /root/nltk_data...\n",
            "[nltk_data]    |   Package framenet_v17 is already up-to-date!\n",
            "[nltk_data]    | Downloading package gazetteers to /root/nltk_data...\n",
            "[nltk_data]    |   Package gazetteers is already up-to-date!\n",
            "[nltk_data]    | Downloading package genesis to /root/nltk_data...\n",
            "[nltk_data]    |   Package genesis is already up-to-date!\n",
            "[nltk_data]    | Downloading package gutenberg to /root/nltk_data...\n",
            "[nltk_data]    |   Package gutenberg is already up-to-date!\n",
            "[nltk_data]    | Downloading package ieer to /root/nltk_data...\n",
            "[nltk_data]    |   Package ieer is already up-to-date!\n",
            "[nltk_data]    | Downloading package inaugural to /root/nltk_data...\n",
            "[nltk_data]    |   Package inaugural is already up-to-date!\n",
            "[nltk_data]    | Downloading package indian to /root/nltk_data...\n",
            "[nltk_data]    |   Package indian is already up-to-date!\n",
            "[nltk_data]    | Downloading package jeita to /root/nltk_data...\n",
            "[nltk_data]    |   Package jeita is already up-to-date!\n",
            "[nltk_data]    | Downloading package kimmo to /root/nltk_data...\n",
            "[nltk_data]    |   Package kimmo is already up-to-date!\n",
            "[nltk_data]    | Downloading package knbc to /root/nltk_data...\n",
            "[nltk_data]    |   Package knbc is already up-to-date!\n",
            "[nltk_data]    | Downloading package lin_thesaurus to\n",
            "[nltk_data]    |     /root/nltk_data...\n",
            "[nltk_data]    |   Package lin_thesaurus is already up-to-date!\n",
            "[nltk_data]    | Downloading package mac_morpho to /root/nltk_data...\n",
            "[nltk_data]    |   Package mac_morpho is already up-to-date!\n",
            "[nltk_data]    | Downloading package machado to /root/nltk_data...\n",
            "[nltk_data]    |   Package machado is already up-to-date!\n",
            "[nltk_data]    | Downloading package masc_tagged to /root/nltk_data...\n",
            "[nltk_data]    |   Package masc_tagged is already up-to-date!\n",
            "[nltk_data]    | Downloading package moses_sample to\n",
            "[nltk_data]    |     /root/nltk_data...\n",
            "[nltk_data]    |   Package moses_sample is already up-to-date!\n",
            "[nltk_data]    | Downloading package movie_reviews to\n",
            "[nltk_data]    |     /root/nltk_data...\n",
            "[nltk_data]    |   Package movie_reviews is already up-to-date!\n",
            "[nltk_data]    | Downloading package names to /root/nltk_data...\n",
            "[nltk_data]    |   Package names is already up-to-date!\n",
            "[nltk_data]    | Downloading package nombank.1.0 to /root/nltk_data...\n",
            "[nltk_data]    |   Package nombank.1.0 is already up-to-date!\n",
            "[nltk_data]    | Downloading package nps_chat to /root/nltk_data...\n",
            "[nltk_data]    |   Package nps_chat is already up-to-date!\n",
            "[nltk_data]    | Downloading package omw to /root/nltk_data...\n",
            "[nltk_data]    |   Package omw is already up-to-date!\n",
            "[nltk_data]    | Downloading package opinion_lexicon to\n",
            "[nltk_data]    |     /root/nltk_data...\n",
            "[nltk_data]    |   Package opinion_lexicon is already up-to-date!\n",
            "[nltk_data]    | Downloading package paradigms to /root/nltk_data...\n",
            "[nltk_data]    |   Package paradigms is already up-to-date!\n",
            "[nltk_data]    | Downloading package pil to /root/nltk_data...\n",
            "[nltk_data]    |   Package pil is already up-to-date!\n",
            "[nltk_data]    | Downloading package pl196x to /root/nltk_data...\n",
            "[nltk_data]    |   Package pl196x is already up-to-date!\n",
            "[nltk_data]    | Downloading package ppattach to /root/nltk_data...\n",
            "[nltk_data]    |   Package ppattach is already up-to-date!\n",
            "[nltk_data]    | Downloading package problem_reports to\n",
            "[nltk_data]    |     /root/nltk_data...\n",
            "[nltk_data]    |   Package problem_reports is already up-to-date!\n",
            "[nltk_data]    | Downloading package propbank to /root/nltk_data...\n",
            "[nltk_data]    |   Package propbank is already up-to-date!\n",
            "[nltk_data]    | Downloading package ptb to /root/nltk_data...\n",
            "[nltk_data]    |   Package ptb is already up-to-date!\n",
            "[nltk_data]    | Downloading package product_reviews_1 to\n",
            "[nltk_data]    |     /root/nltk_data...\n",
            "[nltk_data]    |   Package product_reviews_1 is already up-to-date!\n",
            "[nltk_data]    | Downloading package product_reviews_2 to\n",
            "[nltk_data]    |     /root/nltk_data...\n",
            "[nltk_data]    |   Package product_reviews_2 is already up-to-date!\n",
            "[nltk_data]    | Downloading package pros_cons to /root/nltk_data...\n",
            "[nltk_data]    |   Package pros_cons is already up-to-date!\n",
            "[nltk_data]    | Downloading package qc to /root/nltk_data...\n",
            "[nltk_data]    |   Package qc is already up-to-date!\n",
            "[nltk_data]    | Downloading package reuters to /root/nltk_data...\n",
            "[nltk_data]    |   Package reuters is already up-to-date!\n",
            "[nltk_data]    | Downloading package rte to /root/nltk_data...\n",
            "[nltk_data]    |   Package rte is already up-to-date!\n",
            "[nltk_data]    | Downloading package semcor to /root/nltk_data...\n",
            "[nltk_data]    |   Package semcor is already up-to-date!\n",
            "[nltk_data]    | Downloading package senseval to /root/nltk_data...\n",
            "[nltk_data]    |   Package senseval is already up-to-date!\n",
            "[nltk_data]    | Downloading package sentiwordnet to\n",
            "[nltk_data]    |     /root/nltk_data...\n",
            "[nltk_data]    |   Package sentiwordnet is already up-to-date!\n",
            "[nltk_data]    | Downloading package sentence_polarity to\n",
            "[nltk_data]    |     /root/nltk_data...\n",
            "[nltk_data]    |   Package sentence_polarity is already up-to-date!\n",
            "[nltk_data]    | Downloading package shakespeare to /root/nltk_data...\n",
            "[nltk_data]    |   Package shakespeare is already up-to-date!\n",
            "[nltk_data]    | Downloading package sinica_treebank to\n",
            "[nltk_data]    |     /root/nltk_data...\n",
            "[nltk_data]    |   Package sinica_treebank is already up-to-date!\n",
            "[nltk_data]    | Downloading package smultron to /root/nltk_data...\n",
            "[nltk_data]    |   Package smultron is already up-to-date!\n",
            "[nltk_data]    | Downloading package state_union to /root/nltk_data...\n",
            "[nltk_data]    |   Package state_union is already up-to-date!\n",
            "[nltk_data]    | Downloading package stopwords to /root/nltk_data...\n",
            "[nltk_data]    |   Package stopwords is already up-to-date!\n",
            "[nltk_data]    | Downloading package subjectivity to\n",
            "[nltk_data]    |     /root/nltk_data...\n",
            "[nltk_data]    |   Package subjectivity is already up-to-date!\n",
            "[nltk_data]    | Downloading package swadesh to /root/nltk_data...\n",
            "[nltk_data]    |   Package swadesh is already up-to-date!\n",
            "[nltk_data]    | Downloading package switchboard to /root/nltk_data...\n",
            "[nltk_data]    |   Package switchboard is already up-to-date!\n",
            "[nltk_data]    | Downloading package timit to /root/nltk_data...\n",
            "[nltk_data]    |   Package timit is already up-to-date!\n",
            "[nltk_data]    | Downloading package toolbox to /root/nltk_data...\n",
            "[nltk_data]    |   Package toolbox is already up-to-date!\n",
            "[nltk_data]    | Downloading package treebank to /root/nltk_data...\n",
            "[nltk_data]    |   Package treebank is already up-to-date!\n",
            "[nltk_data]    | Downloading package twitter_samples to\n",
            "[nltk_data]    |     /root/nltk_data...\n",
            "[nltk_data]    |   Package twitter_samples is already up-to-date!\n",
            "[nltk_data]    | Downloading package udhr to /root/nltk_data...\n",
            "[nltk_data]    |   Package udhr is already up-to-date!\n",
            "[nltk_data]    | Downloading package udhr2 to /root/nltk_data...\n",
            "[nltk_data]    |   Package udhr2 is already up-to-date!\n",
            "[nltk_data]    | Downloading package unicode_samples to\n",
            "[nltk_data]    |     /root/nltk_data...\n",
            "[nltk_data]    |   Package unicode_samples is already up-to-date!\n",
            "[nltk_data]    | Downloading package universal_treebanks_v20 to\n",
            "[nltk_data]    |     /root/nltk_data...\n",
            "[nltk_data]    |   Package universal_treebanks_v20 is already up-to-\n",
            "[nltk_data]    |       date!\n",
            "[nltk_data]    | Downloading package verbnet to /root/nltk_data...\n",
            "[nltk_data]    |   Package verbnet is already up-to-date!\n",
            "[nltk_data]    | Downloading package verbnet3 to /root/nltk_data...\n",
            "[nltk_data]    |   Package verbnet3 is already up-to-date!\n",
            "[nltk_data]    | Downloading package webtext to /root/nltk_data...\n",
            "[nltk_data]    |   Package webtext is already up-to-date!\n",
            "[nltk_data]    | Downloading package wordnet to /root/nltk_data...\n",
            "[nltk_data]    |   Package wordnet is already up-to-date!\n",
            "[nltk_data]    | Downloading package wordnet31 to /root/nltk_data...\n",
            "[nltk_data]    |   Package wordnet31 is already up-to-date!\n",
            "[nltk_data]    | Downloading package wordnet_ic to /root/nltk_data...\n",
            "[nltk_data]    |   Package wordnet_ic is already up-to-date!\n",
            "[nltk_data]    | Downloading package words to /root/nltk_data...\n",
            "[nltk_data]    |   Package words is already up-to-date!\n",
            "[nltk_data]    | Downloading package ycoe to /root/nltk_data...\n",
            "[nltk_data]    |   Package ycoe is already up-to-date!\n",
            "[nltk_data]    | Downloading package rslp to /root/nltk_data...\n",
            "[nltk_data]    |   Package rslp is already up-to-date!\n",
            "[nltk_data]    | Downloading package maxent_treebank_pos_tagger to\n",
            "[nltk_data]    |     /root/nltk_data...\n",
            "[nltk_data]    |   Package maxent_treebank_pos_tagger is already up-\n",
            "[nltk_data]    |       to-date!\n",
            "[nltk_data]    | Downloading package universal_tagset to\n",
            "[nltk_data]    |     /root/nltk_data...\n",
            "[nltk_data]    |   Package universal_tagset is already up-to-date!\n",
            "[nltk_data]    | Downloading package maxent_ne_chunker to\n",
            "[nltk_data]    |     /root/nltk_data...\n",
            "[nltk_data]    |   Package maxent_ne_chunker is already up-to-date!\n",
            "[nltk_data]    | Downloading package punkt to /root/nltk_data...\n",
            "[nltk_data]    |   Package punkt is already up-to-date!\n",
            "[nltk_data]    | Downloading package book_grammars to\n",
            "[nltk_data]    |     /root/nltk_data...\n",
            "[nltk_data]    |   Package book_grammars is already up-to-date!\n",
            "[nltk_data]    | Downloading package sample_grammars to\n",
            "[nltk_data]    |     /root/nltk_data...\n",
            "[nltk_data]    |   Package sample_grammars is already up-to-date!\n",
            "[nltk_data]    | Downloading package spanish_grammars to\n",
            "[nltk_data]    |     /root/nltk_data...\n",
            "[nltk_data]    |   Package spanish_grammars is already up-to-date!\n",
            "[nltk_data]    | Downloading package basque_grammars to\n",
            "[nltk_data]    |     /root/nltk_data...\n",
            "[nltk_data]    |   Package basque_grammars is already up-to-date!\n",
            "[nltk_data]    | Downloading package large_grammars to\n",
            "[nltk_data]    |     /root/nltk_data...\n",
            "[nltk_data]    |   Package large_grammars is already up-to-date!\n",
            "[nltk_data]    | Downloading package tagsets to /root/nltk_data...\n",
            "[nltk_data]    |   Package tagsets is already up-to-date!\n",
            "[nltk_data]    | Downloading package snowball_data to\n",
            "[nltk_data]    |     /root/nltk_data...\n",
            "[nltk_data]    |   Package snowball_data is already up-to-date!\n",
            "[nltk_data]    | Downloading package bllip_wsj_no_aux to\n",
            "[nltk_data]    |     /root/nltk_data...\n",
            "[nltk_data]    |   Package bllip_wsj_no_aux is already up-to-date!\n",
            "[nltk_data]    | Downloading package word2vec_sample to\n",
            "[nltk_data]    |     /root/nltk_data...\n",
            "[nltk_data]    |   Package word2vec_sample is already up-to-date!\n",
            "[nltk_data]    | Downloading package panlex_swadesh to\n",
            "[nltk_data]    |     /root/nltk_data...\n",
            "[nltk_data]    |   Package panlex_swadesh is already up-to-date!\n",
            "[nltk_data]    | Downloading package mte_teip5 to /root/nltk_data...\n",
            "[nltk_data]    |   Package mte_teip5 is already up-to-date!\n",
            "[nltk_data]    | Downloading package averaged_perceptron_tagger to\n",
            "[nltk_data]    |     /root/nltk_data...\n",
            "[nltk_data]    |   Package averaged_perceptron_tagger is already up-\n",
            "[nltk_data]    |       to-date!\n",
            "[nltk_data]    | Downloading package averaged_perceptron_tagger_ru to\n",
            "[nltk_data]    |     /root/nltk_data...\n",
            "[nltk_data]    |   Package averaged_perceptron_tagger_ru is already\n",
            "[nltk_data]    |       up-to-date!\n",
            "[nltk_data]    | Downloading package perluniprops to\n",
            "[nltk_data]    |     /root/nltk_data...\n",
            "[nltk_data]    |   Package perluniprops is already up-to-date!\n",
            "[nltk_data]    | Downloading package nonbreaking_prefixes to\n",
            "[nltk_data]    |     /root/nltk_data...\n",
            "[nltk_data]    |   Package nonbreaking_prefixes is already up-to-date!\n",
            "[nltk_data]    | Downloading package vader_lexicon to\n",
            "[nltk_data]    |     /root/nltk_data...\n",
            "[nltk_data]    |   Package vader_lexicon is already up-to-date!\n",
            "[nltk_data]    | Downloading package porter_test to /root/nltk_data...\n",
            "[nltk_data]    |   Package porter_test is already up-to-date!\n",
            "[nltk_data]    | Downloading package wmt15_eval to /root/nltk_data...\n",
            "[nltk_data]    |   Package wmt15_eval is already up-to-date!\n",
            "[nltk_data]    | Downloading package mwa_ppdb to /root/nltk_data...\n",
            "[nltk_data]    |   Package mwa_ppdb is already up-to-date!\n",
            "[nltk_data]    | \n",
            "[nltk_data]  Done downloading collection all\n"
          ]
        },
        {
          "output_type": "execute_result",
          "data": {
            "text/plain": [
              "True"
            ]
          },
          "metadata": {},
          "execution_count": 72
        }
      ]
    },
    {
      "cell_type": "code",
      "metadata": {
        "id": "EESroL50qqOO",
        "colab": {
          "base_uri": "https://localhost:8080/"
        },
        "outputId": "a4e61466-c438-4521-b811-151b57f87214"
      },
      "source": [
        "import tensorflow as tf\n",
        "from tensorflow.keras.preprocessing.text import Tokenizer\n",
        "from tensorflow.keras.layers import Embedding, Dense, Dropout, Bidirectional, LSTM\n",
        "from tensorflow.keras.preprocessing.sequence import pad_sequences\n",
        "from tensorflow.keras.utils import to_categorical\n",
        "from google.colab import drive\n",
        "from nltk import WordNetLemmatizer\n",
        "from nltk.corpus import stopwords\n",
        "import matplotlib.pyplot as plt\n",
        "!pip3 install tensorflow_text\n",
        "import tensorflow_text\n",
        "!pip install -q tf-models-official\n",
        "!pip install -q -U tensorflow-text\n",
        "from tensorflow_text.tools.wordpiece_vocab import bert_vocab_from_dataset as bert_vocab\n",
        "import tensorflow_hub as hub\n",
        "import tensorflow_text as tf_text"
      ],
      "execution_count": null,
      "outputs": [
        {
          "output_type": "stream",
          "name": "stdout",
          "text": [
            "Requirement already satisfied: tensorflow_text in /usr/local/lib/python3.7/dist-packages (2.7.0)\n",
            "Requirement already satisfied: tensorflow-hub>=0.8.0 in /usr/local/lib/python3.7/dist-packages (from tensorflow_text) (0.12.0)\n",
            "Requirement already satisfied: tensorflow<2.8,>=2.7.0 in /usr/local/lib/python3.7/dist-packages (from tensorflow_text) (2.7.0)\n",
            "Requirement already satisfied: tensorboard~=2.6 in /usr/local/lib/python3.7/dist-packages (from tensorflow<2.8,>=2.7.0->tensorflow_text) (2.7.0)\n",
            "Requirement already satisfied: tensorflow-estimator<2.8,~=2.7.0rc0 in /usr/local/lib/python3.7/dist-packages (from tensorflow<2.8,>=2.7.0->tensorflow_text) (2.7.0)\n",
            "Requirement already satisfied: wrapt>=1.11.0 in /usr/local/lib/python3.7/dist-packages (from tensorflow<2.8,>=2.7.0->tensorflow_text) (1.13.3)\n",
            "Requirement already satisfied: wheel<1.0,>=0.32.0 in /usr/local/lib/python3.7/dist-packages (from tensorflow<2.8,>=2.7.0->tensorflow_text) (0.37.0)\n",
            "Requirement already satisfied: termcolor>=1.1.0 in /usr/local/lib/python3.7/dist-packages (from tensorflow<2.8,>=2.7.0->tensorflow_text) (1.1.0)\n",
            "Requirement already satisfied: tensorflow-io-gcs-filesystem>=0.21.0 in /usr/local/lib/python3.7/dist-packages (from tensorflow<2.8,>=2.7.0->tensorflow_text) (0.21.0)\n",
            "Requirement already satisfied: numpy>=1.14.5 in /usr/local/lib/python3.7/dist-packages (from tensorflow<2.8,>=2.7.0->tensorflow_text) (1.19.5)\n",
            "Requirement already satisfied: keras<2.8,>=2.7.0rc0 in /usr/local/lib/python3.7/dist-packages (from tensorflow<2.8,>=2.7.0->tensorflow_text) (2.7.0)\n",
            "Requirement already satisfied: google-pasta>=0.1.1 in /usr/local/lib/python3.7/dist-packages (from tensorflow<2.8,>=2.7.0->tensorflow_text) (0.2.0)\n",
            "Requirement already satisfied: grpcio<2.0,>=1.24.3 in /usr/local/lib/python3.7/dist-packages (from tensorflow<2.8,>=2.7.0->tensorflow_text) (1.41.1)\n",
            "Requirement already satisfied: opt-einsum>=2.3.2 in /usr/local/lib/python3.7/dist-packages (from tensorflow<2.8,>=2.7.0->tensorflow_text) (3.3.0)\n",
            "Requirement already satisfied: keras-preprocessing>=1.1.1 in /usr/local/lib/python3.7/dist-packages (from tensorflow<2.8,>=2.7.0->tensorflow_text) (1.1.2)\n",
            "Requirement already satisfied: gast<0.5.0,>=0.2.1 in /usr/local/lib/python3.7/dist-packages (from tensorflow<2.8,>=2.7.0->tensorflow_text) (0.4.0)\n",
            "Requirement already satisfied: typing-extensions>=3.6.6 in /usr/local/lib/python3.7/dist-packages (from tensorflow<2.8,>=2.7.0->tensorflow_text) (3.10.0.2)\n",
            "Requirement already satisfied: protobuf>=3.9.2 in /usr/local/lib/python3.7/dist-packages (from tensorflow<2.8,>=2.7.0->tensorflow_text) (3.17.3)\n",
            "Requirement already satisfied: six>=1.12.0 in /usr/local/lib/python3.7/dist-packages (from tensorflow<2.8,>=2.7.0->tensorflow_text) (1.15.0)\n",
            "Requirement already satisfied: absl-py>=0.4.0 in /usr/local/lib/python3.7/dist-packages (from tensorflow<2.8,>=2.7.0->tensorflow_text) (0.12.0)\n",
            "Requirement already satisfied: libclang>=9.0.1 in /usr/local/lib/python3.7/dist-packages (from tensorflow<2.8,>=2.7.0->tensorflow_text) (12.0.0)\n",
            "Requirement already satisfied: h5py>=2.9.0 in /usr/local/lib/python3.7/dist-packages (from tensorflow<2.8,>=2.7.0->tensorflow_text) (3.1.0)\n",
            "Requirement already satisfied: flatbuffers<3.0,>=1.12 in /usr/local/lib/python3.7/dist-packages (from tensorflow<2.8,>=2.7.0->tensorflow_text) (2.0)\n",
            "Requirement already satisfied: astunparse>=1.6.0 in /usr/local/lib/python3.7/dist-packages (from tensorflow<2.8,>=2.7.0->tensorflow_text) (1.6.3)\n",
            "Requirement already satisfied: cached-property in /usr/local/lib/python3.7/dist-packages (from h5py>=2.9.0->tensorflow<2.8,>=2.7.0->tensorflow_text) (1.5.2)\n",
            "Requirement already satisfied: markdown>=2.6.8 in /usr/local/lib/python3.7/dist-packages (from tensorboard~=2.6->tensorflow<2.8,>=2.7.0->tensorflow_text) (3.3.4)\n",
            "Requirement already satisfied: tensorboard-plugin-wit>=1.6.0 in /usr/local/lib/python3.7/dist-packages (from tensorboard~=2.6->tensorflow<2.8,>=2.7.0->tensorflow_text) (1.8.0)\n",
            "Requirement already satisfied: google-auth<3,>=1.6.3 in /usr/local/lib/python3.7/dist-packages (from tensorboard~=2.6->tensorflow<2.8,>=2.7.0->tensorflow_text) (1.35.0)\n",
            "Requirement already satisfied: werkzeug>=0.11.15 in /usr/local/lib/python3.7/dist-packages (from tensorboard~=2.6->tensorflow<2.8,>=2.7.0->tensorflow_text) (1.0.1)\n",
            "Requirement already satisfied: setuptools>=41.0.0 in /usr/local/lib/python3.7/dist-packages (from tensorboard~=2.6->tensorflow<2.8,>=2.7.0->tensorflow_text) (57.4.0)\n",
            "Requirement already satisfied: tensorboard-data-server<0.7.0,>=0.6.0 in /usr/local/lib/python3.7/dist-packages (from tensorboard~=2.6->tensorflow<2.8,>=2.7.0->tensorflow_text) (0.6.1)\n",
            "Requirement already satisfied: google-auth-oauthlib<0.5,>=0.4.1 in /usr/local/lib/python3.7/dist-packages (from tensorboard~=2.6->tensorflow<2.8,>=2.7.0->tensorflow_text) (0.4.6)\n",
            "Requirement already satisfied: requests<3,>=2.21.0 in /usr/local/lib/python3.7/dist-packages (from tensorboard~=2.6->tensorflow<2.8,>=2.7.0->tensorflow_text) (2.23.0)\n",
            "Requirement already satisfied: rsa<5,>=3.1.4 in /usr/local/lib/python3.7/dist-packages (from google-auth<3,>=1.6.3->tensorboard~=2.6->tensorflow<2.8,>=2.7.0->tensorflow_text) (4.7.2)\n",
            "Requirement already satisfied: cachetools<5.0,>=2.0.0 in /usr/local/lib/python3.7/dist-packages (from google-auth<3,>=1.6.3->tensorboard~=2.6->tensorflow<2.8,>=2.7.0->tensorflow_text) (4.2.4)\n",
            "Requirement already satisfied: pyasn1-modules>=0.2.1 in /usr/local/lib/python3.7/dist-packages (from google-auth<3,>=1.6.3->tensorboard~=2.6->tensorflow<2.8,>=2.7.0->tensorflow_text) (0.2.8)\n",
            "Requirement already satisfied: requests-oauthlib>=0.7.0 in /usr/local/lib/python3.7/dist-packages (from google-auth-oauthlib<0.5,>=0.4.1->tensorboard~=2.6->tensorflow<2.8,>=2.7.0->tensorflow_text) (1.3.0)\n",
            "Requirement already satisfied: importlib-metadata in /usr/local/lib/python3.7/dist-packages (from markdown>=2.6.8->tensorboard~=2.6->tensorflow<2.8,>=2.7.0->tensorflow_text) (4.8.2)\n",
            "Requirement already satisfied: pyasn1<0.5.0,>=0.4.6 in /usr/local/lib/python3.7/dist-packages (from pyasn1-modules>=0.2.1->google-auth<3,>=1.6.3->tensorboard~=2.6->tensorflow<2.8,>=2.7.0->tensorflow_text) (0.4.8)\n",
            "Requirement already satisfied: chardet<4,>=3.0.2 in /usr/local/lib/python3.7/dist-packages (from requests<3,>=2.21.0->tensorboard~=2.6->tensorflow<2.8,>=2.7.0->tensorflow_text) (3.0.4)\n",
            "Requirement already satisfied: certifi>=2017.4.17 in /usr/local/lib/python3.7/dist-packages (from requests<3,>=2.21.0->tensorboard~=2.6->tensorflow<2.8,>=2.7.0->tensorflow_text) (2021.10.8)\n",
            "Requirement already satisfied: idna<3,>=2.5 in /usr/local/lib/python3.7/dist-packages (from requests<3,>=2.21.0->tensorboard~=2.6->tensorflow<2.8,>=2.7.0->tensorflow_text) (2.10)\n",
            "Requirement already satisfied: urllib3!=1.25.0,!=1.25.1,<1.26,>=1.21.1 in /usr/local/lib/python3.7/dist-packages (from requests<3,>=2.21.0->tensorboard~=2.6->tensorflow<2.8,>=2.7.0->tensorflow_text) (1.24.3)\n",
            "Requirement already satisfied: oauthlib>=3.0.0 in /usr/local/lib/python3.7/dist-packages (from requests-oauthlib>=0.7.0->google-auth-oauthlib<0.5,>=0.4.1->tensorboard~=2.6->tensorflow<2.8,>=2.7.0->tensorflow_text) (3.1.1)\n",
            "Requirement already satisfied: zipp>=0.5 in /usr/local/lib/python3.7/dist-packages (from importlib-metadata->markdown>=2.6.8->tensorboard~=2.6->tensorflow<2.8,>=2.7.0->tensorflow_text) (3.6.0)\n"
          ]
        }
      ]
    },
    {
      "cell_type": "code",
      "metadata": {
        "id": "kcEXgRb0qsy0",
        "colab": {
          "base_uri": "https://localhost:8080/"
        },
        "outputId": "2693c1e7-530c-4ac2-d28e-32f20a765b48"
      },
      "source": [
        "drive.mount('/content/drive')\n",
        "PATH = '/content/drive/MyDrive/Task1/'\n",
        "list_dir = os.listdir(PATH)\n",
        "text = []\n",
        "labels = []\n",
        "for file in list_dir:\n",
        "    file_path = PATH + file\n",
        "    with open(file_path, 'r') as f:\n",
        "        for line in f:\n",
        "            line = line.split(sep='\\t')\n",
        "            text.append(line[0])\n",
        "            labels.append(line[1][:-1])\n",
        "\n",
        "data = {'Text': text, \"labels\": labels}\n",
        "dataset1 = pd.DataFrame(data=data)"
      ],
      "execution_count": null,
      "outputs": [
        {
          "output_type": "stream",
          "name": "stdout",
          "text": [
            "Drive already mounted at /content/drive; to attempt to forcibly remount, call drive.mount(\"/content/drive\", force_remount=True).\n"
          ]
        }
      ]
    },
    {
      "cell_type": "code",
      "metadata": {
        "id": "m8IV4bIxkQVu",
        "colab": {
          "base_uri": "https://localhost:8080/",
          "height": 204
        },
        "outputId": "f70a2da5-e280-4650-8845-e03c68acda23"
      },
      "source": [
        "dataset1.head()"
      ],
      "execution_count": null,
      "outputs": [
        {
          "output_type": "execute_result",
          "data": {
            "text/html": [
              "<div>\n",
              "<style scoped>\n",
              "    .dataframe tbody tr th:only-of-type {\n",
              "        vertical-align: middle;\n",
              "    }\n",
              "\n",
              "    .dataframe tbody tr th {\n",
              "        vertical-align: top;\n",
              "    }\n",
              "\n",
              "    .dataframe thead th {\n",
              "        text-align: right;\n",
              "    }\n",
              "</style>\n",
              "<table border=\"1\" class=\"dataframe\">\n",
              "  <thead>\n",
              "    <tr style=\"text-align: right;\">\n",
              "      <th></th>\n",
              "      <th>Text</th>\n",
              "      <th>labels</th>\n",
              "    </tr>\n",
              "  </thead>\n",
              "  <tbody>\n",
              "    <tr>\n",
              "      <th>0</th>\n",
              "      <td>The appellant who was arraigned as Accused 2 w...</td>\n",
              "      <td>Facts</td>\n",
              "    </tr>\n",
              "    <tr>\n",
              "      <th>1</th>\n",
              "      <td>The allegations against the accused, inter ali...</td>\n",
              "      <td>Facts</td>\n",
              "    </tr>\n",
              "    <tr>\n",
              "      <th>2</th>\n",
              "      <td>Bindula Devi was married to Accused 1 Jaipraks...</td>\n",
              "      <td>Facts</td>\n",
              "    </tr>\n",
              "    <tr>\n",
              "      <th>3</th>\n",
              "      <td>The appellant and Accused 3 Shakun Devo Yadav ...</td>\n",
              "      <td>Facts</td>\n",
              "    </tr>\n",
              "    <tr>\n",
              "      <th>4</th>\n",
              "      <td>Accused 4 Dani Dutta Yadav is their father and...</td>\n",
              "      <td>Facts</td>\n",
              "    </tr>\n",
              "  </tbody>\n",
              "</table>\n",
              "</div>"
            ],
            "text/plain": [
              "                                                Text labels\n",
              "0  The appellant who was arraigned as Accused 2 w...  Facts\n",
              "1  The allegations against the accused, inter ali...  Facts\n",
              "2  Bindula Devi was married to Accused 1 Jaipraks...  Facts\n",
              "3  The appellant and Accused 3 Shakun Devo Yadav ...  Facts\n",
              "4  Accused 4 Dani Dutta Yadav is their father and...  Facts"
            ]
          },
          "metadata": {},
          "execution_count": 75
        }
      ]
    },
    {
      "cell_type": "code",
      "metadata": {
        "id": "40t5fU4hk6un",
        "colab": {
          "base_uri": "https://localhost:8080/"
        },
        "outputId": "bc07a3c4-f767-4f63-e0e2-0447603f7a10"
      },
      "source": [
        "dataset1.shape"
      ],
      "execution_count": null,
      "outputs": [
        {
          "output_type": "execute_result",
          "data": {
            "text/plain": [
              "(11285, 2)"
            ]
          },
          "metadata": {},
          "execution_count": 76
        }
      ]
    },
    {
      "cell_type": "markdown",
      "metadata": {
        "id": "rxqoej62rrFU"
      },
      "source": [
        "# **Data Preprocessing**"
      ]
    },
    {
      "cell_type": "code",
      "metadata": {
        "id": "xybqUDN_q3IL",
        "colab": {
          "base_uri": "https://localhost:8080/"
        },
        "outputId": "95772779-efa3-4e45-e6a4-8dd4919adf2d"
      },
      "source": [
        "dataset1.labels.value_counts()"
      ],
      "execution_count": null,
      "outputs": [
        {
          "output_type": "execute_result",
          "data": {
            "text/plain": [
              "Ratio of the decision      4211\n",
              "Facts                      2622\n",
              "Precedent                  1787\n",
              "Argument                    939\n",
              "Statute                     902\n",
              "Ruling by Lower Court       483\n",
              "Ruling by Present Court     341\n",
              "Name: labels, dtype: int64"
            ]
          },
          "metadata": {},
          "execution_count": 77
        }
      ]
    },
    {
      "cell_type": "code",
      "metadata": {
        "id": "plnKSMyoq-zF",
        "colab": {
          "base_uri": "https://localhost:8080/"
        },
        "outputId": "f5788b0f-0e91-44c1-d187-f5e549b8a432"
      },
      "source": [
        "event_types_dict = {}\n",
        "for num, name in enumerate(list(dataset1['labels'].unique())):\n",
        "    event_types_dict[name] = num\n",
        "    # print(name, \" : \", num)\n",
        "\n",
        "event_types_dict\n",
        "\n",
        "event_types_dict_inverse = {k:v for v,k in event_types_dict.items()}\n",
        "print(event_types_dict)\n",
        "print( event_types_dict_inverse)"
      ],
      "execution_count": null,
      "outputs": [
        {
          "output_type": "stream",
          "name": "stdout",
          "text": [
            "{'Facts': 0, 'Ruling by Lower Court': 1, 'Argument': 2, 'Precedent': 3, 'Ratio of the decision': 4, 'Statute': 5, 'Ruling by Present Court': 6}\n",
            "{0: 'Facts', 1: 'Ruling by Lower Court', 2: 'Argument', 3: 'Precedent', 4: 'Ratio of the decision', 5: 'Statute', 6: 'Ruling by Present Court'}\n"
          ]
        }
      ]
    },
    {
      "cell_type": "code",
      "metadata": {
        "id": "HJ9M9AX3rFJf",
        "colab": {
          "base_uri": "https://localhost:8080/",
          "height": 436
        },
        "outputId": "f34f676b-4bb8-4304-d0ad-d1e6c3592382"
      },
      "source": [
        "def text_to_numerical_category(name):\n",
        "    num = event_types_dict[name]\n",
        "    return num\n",
        "\n",
        "print(text_to_numerical_category('Facts'))\n",
        "dataset1['num_labels'] = dataset1['labels'].apply(text_to_numerical_category)\n",
        "dataset1"
      ],
      "execution_count": null,
      "outputs": [
        {
          "output_type": "stream",
          "name": "stdout",
          "text": [
            "0\n"
          ]
        },
        {
          "output_type": "execute_result",
          "data": {
            "text/html": [
              "<div>\n",
              "<style scoped>\n",
              "    .dataframe tbody tr th:only-of-type {\n",
              "        vertical-align: middle;\n",
              "    }\n",
              "\n",
              "    .dataframe tbody tr th {\n",
              "        vertical-align: top;\n",
              "    }\n",
              "\n",
              "    .dataframe thead th {\n",
              "        text-align: right;\n",
              "    }\n",
              "</style>\n",
              "<table border=\"1\" class=\"dataframe\">\n",
              "  <thead>\n",
              "    <tr style=\"text-align: right;\">\n",
              "      <th></th>\n",
              "      <th>Text</th>\n",
              "      <th>labels</th>\n",
              "      <th>num_labels</th>\n",
              "    </tr>\n",
              "  </thead>\n",
              "  <tbody>\n",
              "    <tr>\n",
              "      <th>0</th>\n",
              "      <td>The appellant who was arraigned as Accused 2 w...</td>\n",
              "      <td>Facts</td>\n",
              "      <td>0</td>\n",
              "    </tr>\n",
              "    <tr>\n",
              "      <th>1</th>\n",
              "      <td>The allegations against the accused, inter ali...</td>\n",
              "      <td>Facts</td>\n",
              "      <td>0</td>\n",
              "    </tr>\n",
              "    <tr>\n",
              "      <th>2</th>\n",
              "      <td>Bindula Devi was married to Accused 1 Jaipraks...</td>\n",
              "      <td>Facts</td>\n",
              "      <td>0</td>\n",
              "    </tr>\n",
              "    <tr>\n",
              "      <th>3</th>\n",
              "      <td>The appellant and Accused 3 Shakun Devo Yadav ...</td>\n",
              "      <td>Facts</td>\n",
              "      <td>0</td>\n",
              "    </tr>\n",
              "    <tr>\n",
              "      <th>4</th>\n",
              "      <td>Accused 4 Dani Dutta Yadav is their father and...</td>\n",
              "      <td>Facts</td>\n",
              "      <td>0</td>\n",
              "    </tr>\n",
              "    <tr>\n",
              "      <th>...</th>\n",
              "      <td>...</td>\n",
              "      <td>...</td>\n",
              "      <td>...</td>\n",
              "    </tr>\n",
              "    <tr>\n",
              "      <th>11280</th>\n",
              "      <td>Suffice it to state that the appellant,as a fa...</td>\n",
              "      <td>Ratio of the decision</td>\n",
              "      <td>4</td>\n",
              "    </tr>\n",
              "    <tr>\n",
              "      <th>11281</th>\n",
              "      <td>The High Court,in our view,declined,for good r...</td>\n",
              "      <td>Ratio of the decision</td>\n",
              "      <td>4</td>\n",
              "    </tr>\n",
              "    <tr>\n",
              "      <th>11282</th>\n",
              "      <td>We are also not persuaded to take a different ...</td>\n",
              "      <td>Ratio of the decision</td>\n",
              "      <td>4</td>\n",
              "    </tr>\n",
              "    <tr>\n",
              "      <th>11283</th>\n",
              "      <td>In these circumstances,we are of the view that...</td>\n",
              "      <td>Ratio of the decision</td>\n",
              "      <td>4</td>\n",
              "    </tr>\n",
              "    <tr>\n",
              "      <th>11284</th>\n",
              "      <td>The appeal is accordingly dismissed but,in the...</td>\n",
              "      <td>Ruling by Present Court</td>\n",
              "      <td>6</td>\n",
              "    </tr>\n",
              "  </tbody>\n",
              "</table>\n",
              "<p>11285 rows × 3 columns</p>\n",
              "</div>"
            ],
            "text/plain": [
              "                                                    Text  ... num_labels\n",
              "0      The appellant who was arraigned as Accused 2 w...  ...          0\n",
              "1      The allegations against the accused, inter ali...  ...          0\n",
              "2      Bindula Devi was married to Accused 1 Jaipraks...  ...          0\n",
              "3      The appellant and Accused 3 Shakun Devo Yadav ...  ...          0\n",
              "4      Accused 4 Dani Dutta Yadav is their father and...  ...          0\n",
              "...                                                  ...  ...        ...\n",
              "11280  Suffice it to state that the appellant,as a fa...  ...          4\n",
              "11281  The High Court,in our view,declined,for good r...  ...          4\n",
              "11282  We are also not persuaded to take a different ...  ...          4\n",
              "11283  In these circumstances,we are of the view that...  ...          4\n",
              "11284  The appeal is accordingly dismissed but,in the...  ...          6\n",
              "\n",
              "[11285 rows x 3 columns]"
            ]
          },
          "metadata": {},
          "execution_count": 79
        }
      ]
    },
    {
      "cell_type": "markdown",
      "metadata": {
        "id": "eyDduPyerWUz"
      },
      "source": [
        "# **Lowering the characters and removing the stopwords**"
      ]
    },
    {
      "cell_type": "code",
      "metadata": {
        "id": "izDPWXUAIZgV"
      },
      "source": [
        "# Remove Excess [Size:: ] from EoS\n",
        "def remove_size(text):\n",
        "\tresult = re.search(\"\\[size\", text)\n",
        "\tif result is not None:\n",
        "\t\ttext = text[:result.start()]\n",
        "\treturn text.strip()\n",
        "\n",
        "months = ['january', 'jan', 'feb', 'mar', 'apr', 'aug', 'sept', 'oct', 'nov', 'dec', 'feburary', 'february', 'march', 'april', 'may', 'june', 'july', 'august', 'september', 'october', 'november', 'december', 'on']\n",
        "def remove_months(text):\n",
        "    text = text.split()\n",
        "    text = [word for word in text if word.lower() not in set(months)]\n",
        "    text = ' '.join(text)\n",
        "    return text\n",
        "\n",
        "def remove_nums(text):\n",
        "    result = re.sub(r'[0-9+]', '', text)\n",
        "    return result\n",
        "\n",
        "def remove_comma(text):\n",
        "    result = re.sub(r',', '', text)\n",
        "    return result"
      ],
      "execution_count": null,
      "outputs": []
    },
    {
      "cell_type": "code",
      "metadata": {
        "id": "lU-VV2iNrK0j",
        "colab": {
          "base_uri": "https://localhost:8080/"
        },
        "outputId": "a360c1c5-7424-449c-de4e-c7867552f0c2"
      },
      "source": [
        "import sys\n",
        "text = []\n",
        "lem_text = []\n",
        "for i in dataset1.index:\n",
        "    dataset1['Text'][i] = remove_size(dataset1['Text'][i])\n",
        "    dataset1['Text'][i] = remove_months(dataset1['Text'][i])\n",
        "    dataset1['Text'][i] = remove_nums(dataset1['Text'][i])\n",
        "    dataset1['Text'][i] = remove_comma(dataset1['Text'][i])\n",
        "    temp = dataset1['Text'][i].lower().split()\n",
        "    clean = [word for word in temp if word not in stopwords.words('english')]\n",
        "    clean = \" \".join(clean)\n",
        "    text.append(clean)\n",
        "    lem_text.append(clean)"
      ],
      "execution_count": null,
      "outputs": [
        {
          "output_type": "stream",
          "name": "stderr",
          "text": [
            "/usr/local/lib/python3.7/dist-packages/ipykernel_launcher.py:5: SettingWithCopyWarning: \n",
            "A value is trying to be set on a copy of a slice from a DataFrame\n",
            "\n",
            "See the caveats in the documentation: https://pandas.pydata.org/pandas-docs/stable/user_guide/indexing.html#returning-a-view-versus-a-copy\n",
            "  \"\"\"\n",
            "/usr/local/lib/python3.7/dist-packages/ipykernel_launcher.py:6: SettingWithCopyWarning: \n",
            "A value is trying to be set on a copy of a slice from a DataFrame\n",
            "\n",
            "See the caveats in the documentation: https://pandas.pydata.org/pandas-docs/stable/user_guide/indexing.html#returning-a-view-versus-a-copy\n",
            "  \n",
            "/usr/local/lib/python3.7/dist-packages/ipykernel_launcher.py:7: SettingWithCopyWarning: \n",
            "A value is trying to be set on a copy of a slice from a DataFrame\n",
            "\n",
            "See the caveats in the documentation: https://pandas.pydata.org/pandas-docs/stable/user_guide/indexing.html#returning-a-view-versus-a-copy\n",
            "  import sys\n",
            "/usr/local/lib/python3.7/dist-packages/ipykernel_launcher.py:8: SettingWithCopyWarning: \n",
            "A value is trying to be set on a copy of a slice from a DataFrame\n",
            "\n",
            "See the caveats in the documentation: https://pandas.pydata.org/pandas-docs/stable/user_guide/indexing.html#returning-a-view-versus-a-copy\n",
            "  \n"
          ]
        }
      ]
    },
    {
      "cell_type": "markdown",
      "metadata": {
        "id": "Fd6l-ILcsJKb"
      },
      "source": [
        "# **Tokenization**"
      ]
    },
    {
      "cell_type": "code",
      "metadata": {
        "id": "2B_g-rQfsHy8"
      },
      "source": [
        "for i in range(len(text)):\n",
        "    text[i] = text[i].split()"
      ],
      "execution_count": null,
      "outputs": []
    },
    {
      "cell_type": "code",
      "metadata": {
        "id": "7WuK2FEvsQw6"
      },
      "source": [
        "for i in range(len(lem_text)):\n",
        "    lem_text[i] = lem_text[i].split()"
      ],
      "execution_count": null,
      "outputs": []
    },
    {
      "cell_type": "markdown",
      "metadata": {
        "id": "-d5TrMM-sVvB"
      },
      "source": [
        "# **Stemmation**"
      ]
    },
    {
      "cell_type": "code",
      "metadata": {
        "id": "9dbJ8EeZsbD_"
      },
      "source": [
        "from nltk import PorterStemmer\n",
        "st = PorterStemmer()\n",
        "for i in range(len(text)):\n",
        "    text[i] = [st.stem(word) for word in text[i]]"
      ],
      "execution_count": null,
      "outputs": []
    },
    {
      "cell_type": "markdown",
      "metadata": {
        "id": "iVVsRMjQsjCf"
      },
      "source": [
        "# **Lemmatization**"
      ]
    },
    {
      "cell_type": "code",
      "metadata": {
        "id": "IQWtrDggsmVs"
      },
      "source": [
        "from nltk.stem import WordNetLemmatizer\n",
        "  \n",
        "lemmatizer = WordNetLemmatizer()\n",
        "\n",
        "for i in range(len(lem_text)):\n",
        "    lem_text[i] = [lemmatizer.lemmatize(word) for word in lem_text[i]]"
      ],
      "execution_count": null,
      "outputs": []
    },
    {
      "cell_type": "markdown",
      "metadata": {
        "id": "ZfvxZNSRsvab"
      },
      "source": [
        "# **Recombining Tokens**"
      ]
    },
    {
      "cell_type": "code",
      "metadata": {
        "id": "JhjhKymPs0tE",
        "colab": {
          "base_uri": "https://localhost:8080/",
          "height": 35
        },
        "outputId": "bf6e940b-23be-4f9a-83a6-08e50cab89c8"
      },
      "source": [
        "for i in range(len(text)):\n",
        "    text[i] = \" \".join(text[i])\n",
        "\n",
        "text[0]"
      ],
      "execution_count": null,
      "outputs": [
        {
          "output_type": "execute_result",
          "data": {
            "application/vnd.google.colaboratory.intrinsic+json": {
              "type": "string"
            },
            "text/plain": [
              "'appel arraign accus tri along five accus offenc punish section read ss. ipc st addit session judg madhepura.'"
            ]
          },
          "metadata": {},
          "execution_count": 86
        }
      ]
    },
    {
      "cell_type": "code",
      "metadata": {
        "id": "4Zmn7N9Zs8wi",
        "colab": {
          "base_uri": "https://localhost:8080/",
          "height": 35
        },
        "outputId": "7f4e0954-ac16-4390-847a-6f35e8a5f8e1"
      },
      "source": [
        "for i in range(len(lem_text)):\n",
        "    lem_text[i] = \" \".join(lem_text[i])\n",
        "\n",
        "lem_text[0]"
      ],
      "execution_count": null,
      "outputs": [
        {
          "output_type": "execute_result",
          "data": {
            "application/vnd.google.colaboratory.intrinsic+json": {
              "type": "string"
            },
            "text/plain": [
              "'appellant arraigned accused tried along five accused offence punishable section read ss. ipc st additional session judge madhepura.'"
            ]
          },
          "metadata": {},
          "execution_count": 87
        }
      ]
    },
    {
      "cell_type": "code",
      "metadata": {
        "id": "vl64OryBtD4M",
        "colab": {
          "base_uri": "https://localhost:8080/",
          "height": 538
        },
        "outputId": "1dc20aa3-d0d9-4ad8-ff41-85a68ded1193"
      },
      "source": [
        "dataset1['lem_text'] = np.array(lem_text)\n",
        "dataset1['stem_text'] = np.array(text)\n",
        "\n",
        "dataset1"
      ],
      "execution_count": null,
      "outputs": [
        {
          "output_type": "execute_result",
          "data": {
            "text/html": [
              "<div>\n",
              "<style scoped>\n",
              "    .dataframe tbody tr th:only-of-type {\n",
              "        vertical-align: middle;\n",
              "    }\n",
              "\n",
              "    .dataframe tbody tr th {\n",
              "        vertical-align: top;\n",
              "    }\n",
              "\n",
              "    .dataframe thead th {\n",
              "        text-align: right;\n",
              "    }\n",
              "</style>\n",
              "<table border=\"1\" class=\"dataframe\">\n",
              "  <thead>\n",
              "    <tr style=\"text-align: right;\">\n",
              "      <th></th>\n",
              "      <th>Text</th>\n",
              "      <th>labels</th>\n",
              "      <th>num_labels</th>\n",
              "      <th>lem_text</th>\n",
              "      <th>stem_text</th>\n",
              "    </tr>\n",
              "  </thead>\n",
              "  <tbody>\n",
              "    <tr>\n",
              "      <th>0</th>\n",
              "      <td>The appellant who was arraigned as Accused  wa...</td>\n",
              "      <td>Facts</td>\n",
              "      <td>0</td>\n",
              "      <td>appellant arraigned accused tried along five a...</td>\n",
              "      <td>appel arraign accus tri along five accus offen...</td>\n",
              "    </tr>\n",
              "    <tr>\n",
              "      <th>1</th>\n",
              "      <td>The allegations against the accused inter alia...</td>\n",
              "      <td>Facts</td>\n",
              "      <td>0</td>\n",
              "      <td>allegation accused inter alia subjected one bi...</td>\n",
              "      <td>alleg accus inter alia subject one bindula dev...</td>\n",
              "    </tr>\n",
              "    <tr>\n",
              "      <th>2</th>\n",
              "      <td>Bindula Devi was married to Accused  Jaipraksh...</td>\n",
              "      <td>Facts</td>\n",
              "      <td>0</td>\n",
              "      <td>bindula devi married accused jaipraksh yadav.</td>\n",
              "      <td>bindula devi marri accus jaipraksh yadav.</td>\n",
              "    </tr>\n",
              "    <tr>\n",
              "      <th>3</th>\n",
              "      <td>The appellant and Accused  Shakun Devo Yadav a...</td>\n",
              "      <td>Facts</td>\n",
              "      <td>0</td>\n",
              "      <td>appellant accused shakun devo yadav brother ac...</td>\n",
              "      <td>appel accus shakun devo yadav brother accus ja...</td>\n",
              "    </tr>\n",
              "    <tr>\n",
              "      <th>4</th>\n",
              "      <td>Accused  Dani Dutta Yadav is their father and ...</td>\n",
              "      <td>Facts</td>\n",
              "      <td>0</td>\n",
              "      <td>accused dani dutta yadav father accused satya ...</td>\n",
              "      <td>accus dani dutta yadav father accus satya bham...</td>\n",
              "    </tr>\n",
              "    <tr>\n",
              "      <th>...</th>\n",
              "      <td>...</td>\n",
              "      <td>...</td>\n",
              "      <td>...</td>\n",
              "      <td>...</td>\n",
              "      <td>...</td>\n",
              "    </tr>\n",
              "    <tr>\n",
              "      <th>11280</th>\n",
              "      <td>Suffice it to state that the appellantas a fac...</td>\n",
              "      <td>Ratio of the decision</td>\n",
              "      <td>4</td>\n",
              "      <td>suffice state appellantas facthad used trade m...</td>\n",
              "      <td>suffic state appellanta facthad use trade mark...</td>\n",
              "    </tr>\n",
              "    <tr>\n",
              "      <th>11281</th>\n",
              "      <td>The High Courtin our viewdeclinedfor good reas...</td>\n",
              "      <td>Ratio of the decision</td>\n",
              "      <td>4</td>\n",
              "      <td>high courtin viewdeclinedfor good reasonsto re...</td>\n",
              "      <td>high courtin viewdeclinedfor good reasonsto re...</td>\n",
              "    </tr>\n",
              "    <tr>\n",
              "      <th>11282</th>\n",
              "      <td>We are also not persuaded to take a different ...</td>\n",
              "      <td>Ratio of the decision</td>\n",
              "      <td>4</td>\n",
              "      <td>also persuaded take different view high court</td>\n",
              "      <td>also persuad take differ view high court</td>\n",
              "    </tr>\n",
              "    <tr>\n",
              "      <th>11283</th>\n",
              "      <td>In these circumstanceswe are of the view that ...</td>\n",
              "      <td>Ratio of the decision</td>\n",
              "      <td>4</td>\n",
              "      <td>circumstanceswe view high court properly exerc...</td>\n",
              "      <td>circumstancesw view high court properli exerci...</td>\n",
              "    </tr>\n",
              "    <tr>\n",
              "      <th>11284</th>\n",
              "      <td>The appeal is accordingly dismissed butin the ...</td>\n",
              "      <td>Ruling by Present Court</td>\n",
              "      <td>6</td>\n",
              "      <td>appeal accordingly dismissed butin circumstanc...</td>\n",
              "      <td>appeal accordingli dismiss butin circumstances...</td>\n",
              "    </tr>\n",
              "  </tbody>\n",
              "</table>\n",
              "<p>11285 rows × 5 columns</p>\n",
              "</div>"
            ],
            "text/plain": [
              "                                                    Text  ...                                          stem_text\n",
              "0      The appellant who was arraigned as Accused  wa...  ...  appel arraign accus tri along five accus offen...\n",
              "1      The allegations against the accused inter alia...  ...  alleg accus inter alia subject one bindula dev...\n",
              "2      Bindula Devi was married to Accused  Jaipraksh...  ...          bindula devi marri accus jaipraksh yadav.\n",
              "3      The appellant and Accused  Shakun Devo Yadav a...  ...  appel accus shakun devo yadav brother accus ja...\n",
              "4      Accused  Dani Dutta Yadav is their father and ...  ...  accus dani dutta yadav father accus satya bham...\n",
              "...                                                  ...  ...                                                ...\n",
              "11280  Suffice it to state that the appellantas a fac...  ...  suffic state appellanta facthad use trade mark...\n",
              "11281  The High Courtin our viewdeclinedfor good reas...  ...  high courtin viewdeclinedfor good reasonsto re...\n",
              "11282  We are also not persuaded to take a different ...  ...           also persuad take differ view high court\n",
              "11283  In these circumstanceswe are of the view that ...  ...  circumstancesw view high court properli exerci...\n",
              "11284  The appeal is accordingly dismissed butin the ...  ...  appeal accordingli dismiss butin circumstances...\n",
              "\n",
              "[11285 rows x 5 columns]"
            ]
          },
          "metadata": {},
          "execution_count": 88
        }
      ]
    },
    {
      "cell_type": "code",
      "metadata": {
        "id": "D1m2LxFuukpJ",
        "colab": {
          "base_uri": "https://localhost:8080/"
        },
        "outputId": "d413f28e-edfe-489d-c6ca-f29ed8b33399"
      },
      "source": [
        "dataset1.labels.value_counts()"
      ],
      "execution_count": null,
      "outputs": [
        {
          "output_type": "execute_result",
          "data": {
            "text/plain": [
              "Ratio of the decision      4211\n",
              "Facts                      2622\n",
              "Precedent                  1787\n",
              "Argument                    939\n",
              "Statute                     902\n",
              "Ruling by Lower Court       483\n",
              "Ruling by Present Court     341\n",
              "Name: labels, dtype: int64"
            ]
          },
          "metadata": {},
          "execution_count": 89
        }
      ]
    },
    {
      "cell_type": "code",
      "metadata": {
        "id": "JEvOfTfgu0kT",
        "colab": {
          "base_uri": "https://localhost:8080/"
        },
        "outputId": "f18d15ff-7ade-44a9-f0a3-1cf10dfaec33"
      },
      "source": [
        "dataset1.drop_duplicates(['lem_text']).labels.value_counts()"
      ],
      "execution_count": null,
      "outputs": [
        {
          "output_type": "execute_result",
          "data": {
            "text/plain": [
              "Ratio of the decision      4146\n",
              "Facts                      2566\n",
              "Precedent                  1754\n",
              "Argument                    905\n",
              "Statute                     867\n",
              "Ruling by Lower Court       476\n",
              "Ruling by Present Court     276\n",
              "Name: labels, dtype: int64"
            ]
          },
          "metadata": {},
          "execution_count": 90
        }
      ]
    },
    {
      "cell_type": "markdown",
      "metadata": {
        "id": "wzJZvhZqvfdM"
      },
      "source": [
        "# **Handling Imbalanced Dataset**"
      ]
    },
    {
      "cell_type": "code",
      "metadata": {
        "id": "tDM_2IvxvkeU"
      },
      "source": [
        "from sklearn.utils import shuffle\n",
        "\n",
        "lemm = []\n",
        "labels = []\n",
        "THRESH_1 = 1500\n",
        "THRESH_2 = 500\n",
        "\n",
        "for group in dataset1.labels.unique():\n",
        "    if len(dataset1.groupby('labels').get_group(group).Text.unique()) > THRESH_1:\n",
        "        lemm += (list(shuffle(dataset1.groupby('labels').get_group(group).Text.unique())))\n",
        "        lemm += (list(shuffle(dataset1.groupby('labels').get_group(group).Text.unique())))\n",
        "        labels += ([group]*2*len(list(shuffle(dataset1.groupby('labels').get_group(group).Text.unique()))))\n",
        "\n",
        "    elif len(dataset1.groupby('labels').get_group(group).Text.unique()) > THRESH_2:\n",
        "        lemm += (list(shuffle(dataset1.groupby('labels').get_group(group).Text.unique())))\n",
        "        lemm += (list(shuffle(dataset1.groupby('labels').get_group(group).Text.unique())))\n",
        "        lemm += (list(shuffle(dataset1.groupby('labels').get_group(group).Text.unique())))\n",
        "        labels += ([group]*3*len(list(shuffle(dataset1.groupby('labels').get_group(group).Text.unique()))))\n",
        "    else:\n",
        "        lemm += (list(shuffle(dataset1.groupby('labels').get_group(group).Text.unique())))\n",
        "        lemm += (list(shuffle(dataset1.groupby('labels').get_group(group).Text.unique())))\n",
        "        lemm += (list(shuffle(dataset1.groupby('labels').get_group(group).Text.unique())))\n",
        "        lemm += (list(shuffle(dataset1.groupby('labels').get_group(group).Text.unique())))\n",
        "        lemm += (list(shuffle(dataset1.groupby('labels').get_group(group).Text.unique())))\n",
        "        labels += ([group]*5*len(list(shuffle(dataset1.groupby('labels').get_group(group).Text.unique()))))"
      ],
      "execution_count": null,
      "outputs": []
    },
    {
      "cell_type": "code",
      "metadata": {
        "id": "axUZftrFyJzS",
        "colab": {
          "base_uri": "https://localhost:8080/"
        },
        "outputId": "f9fc4ac4-0a84-4ef2-b527-490f617f4fa5"
      },
      "source": [
        "len(lemm)"
      ],
      "execution_count": null,
      "outputs": [
        {
          "output_type": "execute_result",
          "data": {
            "text/plain": [
              "26198"
            ]
          },
          "metadata": {},
          "execution_count": 92
        }
      ]
    },
    {
      "cell_type": "code",
      "metadata": {
        "id": "ue2jXHsiyd7t"
      },
      "source": [
        "balanced_df = pd.DataFrame({'Text' : lemm, 'Labels': labels})"
      ],
      "execution_count": null,
      "outputs": []
    },
    {
      "cell_type": "code",
      "metadata": {
        "id": "QNXt9KqsyoVB",
        "colab": {
          "base_uri": "https://localhost:8080/"
        },
        "outputId": "36a35825-ec2b-40b4-833d-24e83cb2a31e"
      },
      "source": [
        "balanced_df.Labels.value_counts()"
      ],
      "execution_count": null,
      "outputs": [
        {
          "output_type": "execute_result",
          "data": {
            "text/plain": [
              "Ratio of the decision      8328\n",
              "Facts                      5164\n",
              "Precedent                  3528\n",
              "Argument                   2754\n",
              "Statute                    2619\n",
              "Ruling by Lower Court      2410\n",
              "Ruling by Present Court    1395\n",
              "Name: Labels, dtype: int64"
            ]
          },
          "metadata": {},
          "execution_count": 94
        }
      ]
    },
    {
      "cell_type": "code",
      "metadata": {
        "id": "FMTxKcdizkBj"
      },
      "source": [
        "balanced_df['NumLabel'] = balanced_df.Labels.apply(text_to_numerical_category)"
      ],
      "execution_count": null,
      "outputs": []
    },
    {
      "cell_type": "code",
      "metadata": {
        "id": "IvRyfQvJz08q",
        "colab": {
          "base_uri": "https://localhost:8080/",
          "height": 204
        },
        "outputId": "560e2ba3-bb82-41e0-e222-ead7decdb3c0"
      },
      "source": [
        "balanced_df.head()"
      ],
      "execution_count": null,
      "outputs": [
        {
          "output_type": "execute_result",
          "data": {
            "text/html": [
              "<div>\n",
              "<style scoped>\n",
              "    .dataframe tbody tr th:only-of-type {\n",
              "        vertical-align: middle;\n",
              "    }\n",
              "\n",
              "    .dataframe tbody tr th {\n",
              "        vertical-align: top;\n",
              "    }\n",
              "\n",
              "    .dataframe thead th {\n",
              "        text-align: right;\n",
              "    }\n",
              "</style>\n",
              "<table border=\"1\" class=\"dataframe\">\n",
              "  <thead>\n",
              "    <tr style=\"text-align: right;\">\n",
              "      <th></th>\n",
              "      <th>Text</th>\n",
              "      <th>Labels</th>\n",
              "      <th>NumLabel</th>\n",
              "    </tr>\n",
              "  </thead>\n",
              "  <tbody>\n",
              "    <tr>\n",
              "      <th>0</th>\n",
              "      <td>ate food studied school</td>\n",
              "      <td>Facts</td>\n",
              "      <td>0</td>\n",
              "    </tr>\n",
              "    <tr>\n",
              "      <th>1</th>\n",
              "      <td>ferry situated adjacent maize field hazari man...</td>\n",
              "      <td>Facts</td>\n",
              "      <td>0</td>\n",
              "    </tr>\n",
              "    <tr>\n",
              "      <th>2</th>\n",
              "      <td>initially writ petition filed high court const...</td>\n",
              "      <td>Facts</td>\n",
              "      <td>0</td>\n",
              "    </tr>\n",
              "    <tr>\n",
              "      <th>3</th>\n",
              "      <td>second rectification application filed first r...</td>\n",
              "      <td>Facts</td>\n",
              "      <td>0</td>\n",
              "    </tr>\n",
              "    <tr>\n",
              "      <th>4</th>\n",
              "      <td>thereupon establishment moved high court madras u</td>\n",
              "      <td>Facts</td>\n",
              "      <td>0</td>\n",
              "    </tr>\n",
              "  </tbody>\n",
              "</table>\n",
              "</div>"
            ],
            "text/plain": [
              "                                                Text Labels  NumLabel\n",
              "0                            ate food studied school  Facts         0\n",
              "1  ferry situated adjacent maize field hazari man...  Facts         0\n",
              "2  initially writ petition filed high court const...  Facts         0\n",
              "3  second rectification application filed first r...  Facts         0\n",
              "4  thereupon establishment moved high court madras u  Facts         0"
            ]
          },
          "metadata": {},
          "execution_count": 96
        }
      ]
    },
    {
      "cell_type": "code",
      "metadata": {
        "id": "XDzTIiUEPY-o",
        "colab": {
          "base_uri": "https://localhost:8080/",
          "height": 366
        },
        "outputId": "46d0633b-7700-4165-8b04-a5135049db13"
      },
      "source": [
        "sns.set_theme(style=\"darkgrid\")\n",
        "x = dataset1['labels'].value_counts()\n",
        "y = x.index\n",
        "plt.figure(figsize=(10, 5))\n",
        "g = sns.barplot(x=x, y=y)\n",
        "plt.title(\"Labels Frequency Distribution\", fontsize=20)\n",
        "plt.ylabel('Labels', fontsize= 20)\n",
        "plt.yticks(fontsize=11)\n",
        "plt.xlabel('Frequency', fontsize=20)\n",
        "plt.xticks(fontsize=10)\n",
        "plt.show()"
      ],
      "execution_count": null,
      "outputs": [
        {
          "output_type": "display_data",
          "data": {
            "image/png": "[encoded data removed]",
            "text/plain": [
              "<Figure size 720x360 with 1 Axes>"
            ]
          },
          "metadata": {}
        }
      ]
    },
    {
      "cell_type": "code",
      "metadata": {
        "id": "dNsvKLU5QAv-",
        "colab": {
          "base_uri": "https://localhost:8080/",
          "height": 366
        },
        "outputId": "0f51500f-5731-44f5-daa3-1ac2e2484b2d"
      },
      "source": [
        "sns.set_theme(style=\"darkgrid\")\n",
        "x = balanced_df.Labels.value_counts()\n",
        "y = x.index\n",
        "plt.figure(figsize=(10, 5))\n",
        "g = sns.barplot(x=x, y=y)\n",
        "plt.title(\"Event Frequency Distribution [India]\", fontsize=20)\n",
        "plt.ylabel('Events', fontsize= 20)\n",
        "plt.yticks(fontsize=11)\n",
        "plt.xlabel('Frequency', fontsize=20)\n",
        "plt.xticks(fontsize=10)\n",
        "plt.show()"
      ],
      "execution_count": null,
      "outputs": [
        {
          "output_type": "display_data",
          "data": {
            "image/png": "[encoded data removed]",
            "text/plain": [
              "<Figure size 720x360 with 1 Axes>"
            ]
          },
          "metadata": {}
        }
      ]
    },
    {
      "cell_type": "code",
      "metadata": {
        "id": "4I0j932fQTng",
        "colab": {
          "base_uri": "https://localhost:8080/",
          "height": 596
        },
        "outputId": "9cc66fb1-5f92-482c-d895-eea8e564b5b6"
      },
      "source": [
        "plt.figure(figsize=(30,10))\n",
        "plt.title('Percentage of Different Labels', fontsize=20)\n",
        "balanced_df.Labels.value_counts().plot(kind='pie', labels= balanced_df.Labels.unique(),\n",
        "                              wedgeprops=dict(width=.7), autopct='%1.0f%%', startangle= -20, \n",
        "                              textprops={'fontsize': 15})\n",
        "plt.legend(loc='upper left')\n",
        "plt.show()"
      ],
      "execution_count": null,
      "outputs": [
        {
          "output_type": "display_data",
          "data": {
            "image/png": "[encoded data removed]",
            "text/plain": [
              "<Figure size 2160x720 with 1 Axes>"
            ]
          },
          "metadata": {}
        }
      ]
    },
    {
      "cell_type": "code",
      "metadata": {
        "id": "61JUkunEyxNk",
        "colab": {
          "base_uri": "https://localhost:8080/",
          "height": 596
        },
        "outputId": "73300d47-9eb3-48cc-86c0-c000e2210e59"
      },
      "source": [
        "plt.figure(figsize=(30,10))\n",
        "plt.title('Percentage of Different Labels', fontsize=20)\n",
        "dataset1.labels.value_counts().plot(kind='pie', labels= dataset1.labels.unique(),\n",
        "                              wedgeprops=dict(width=.7), autopct='%1.0f%%', startangle= -20, \n",
        "                              textprops={'fontsize': 15})\n",
        "plt.legend(loc='upper left')\n",
        "plt.show()"
      ],
      "execution_count": null,
      "outputs": [
        {
          "output_type": "display_data",
          "data": {
            "image/png": "[encoded data removed]",
            "text/plain": [
              "<Figure size 2160x720 with 1 Axes>"
            ]
          },
          "metadata": {}
        }
      ]
    },
    {
      "cell_type": "markdown",
      "metadata": {
        "id": "P4cm0JTfz3jf"
      },
      "source": [
        "# **BERT**"
      ]
    },
    {
      "cell_type": "markdown",
      "metadata": {
        "id": "LTlb-tuY0AAv"
      },
      "source": [
        "**Tokenization**"
      ]
    },
    {
      "cell_type": "code",
      "metadata": {
        "id": "xbZyNNEg0UK4"
      },
      "source": [
        "max_classes = len(balanced_df.Labels.unique())"
      ],
      "execution_count": null,
      "outputs": []
    },
    {
      "cell_type": "code",
      "metadata": {
        "id": "l1-xXR1r0k25"
      },
      "source": [
        "from sklearn.utils import shuffle\n",
        "from sklearn.model_selection import train_test_split\n",
        "result = shuffle(balanced_df)"
      ],
      "execution_count": null,
      "outputs": []
    },
    {
      "cell_type": "code",
      "metadata": {
        "id": "w20j2gIf0ttd"
      },
      "source": [
        "X_train, X_test, Y_train, Y_test = train_test_split(balanced_df.Text, balanced_df.NumLabel, test_size = 0.1, random_state = 42, stratify =balanced_df.NumLabel)"
      ],
      "execution_count": null,
      "outputs": []
    },
    {
      "cell_type": "code",
      "metadata": {
        "id": "nu59JE3H0yTK"
      },
      "source": [
        "bert_model_name = 'bert_en_uncased_L-12_H-768_A-12'\n",
        "bert_model_link = 'https://tfhub.dev/tensorflow/bert_en_uncased_L-12_H-768_A-12/4'\n",
        "bert_model_preprocessing_link = 'https://tfhub.dev/tensorflow/bert_en_uncased_preprocess/3'"
      ],
      "execution_count": null,
      "outputs": []
    },
    {
      "cell_type": "code",
      "metadata": {
        "id": "OTGatwJt05bF"
      },
      "source": [
        "bert_preprocess_model = hub.KerasLayer(bert_model_preprocessing_link)"
      ],
      "execution_count": null,
      "outputs": []
    },
    {
      "cell_type": "code",
      "metadata": {
        "id": "m3GNvgF309VZ"
      },
      "source": [
        "bert_model = hub.KerasLayer(bert_model_link)"
      ],
      "execution_count": null,
      "outputs": []
    },
    {
      "cell_type": "code",
      "metadata": {
        "id": "OX83DjKx1BYZ"
      },
      "source": [
        "def build_classifier_model():\n",
        "    text_input = tf.keras.layers.Input(shape=(), dtype = tf.string, name='input-text')\n",
        "    preprocessing_layer = hub.KerasLayer(bert_model_preprocessing_link, name='bert-preprocessing')\n",
        "    encoder_inputs = preprocessing_layer(text_input)\n",
        "    encoder = hub.KerasLayer(bert_model_link, trainable=True, name='bert-encoder')\n",
        "    outputs = encoder(encoder_inputs)\n",
        "    net = outputs['pooled_output']\n",
        "    net = tf.keras.layers.Dropout(0.1)(net)\n",
        "    net = Dense(units= 512, activation='relu')(net)\n",
        "    net = tf.keras.layers.Dropout(0.1)(net)\n",
        "    net = Dense(units=max_classes, activation='softmax', name='classifer')(net)\n",
        "    return tf.keras.Model(text_input, net)"
      ],
      "execution_count": null,
      "outputs": []
    },
    {
      "cell_type": "code",
      "metadata": {
        "id": "iIgKJNVC1Hae"
      },
      "source": [
        "classifier_model = build_classifier_model()\n",
        "# bert_raw_result = classifier_model(tf.constant(sample_text))"
      ],
      "execution_count": null,
      "outputs": []
    },
    {
      "cell_type": "code",
      "metadata": {
        "id": "WXTP7uZ01LdX",
        "colab": {
          "base_uri": "https://localhost:8080/"
        },
        "outputId": "d05a9027-5b19-4c0d-b2fe-101ee23dca3c"
      },
      "source": [
        "classifier_model.summary()"
      ],
      "execution_count": null,
      "outputs": [
        {
          "output_type": "stream",
          "name": "stdout",
          "text": [
            "Model: \"model_1\"\n",
            "__________________________________________________________________________________________________\n",
            " Layer (type)                   Output Shape         Param #     Connected to                     \n",
            "==================================================================================================\n",
            " input-text (InputLayer)        [(None,)]            0           []                               \n",
            "                                                                                                  \n",
            " bert-preprocessing (KerasLayer  {'input_type_ids':   0          ['input-text[0][0]']             \n",
            " )                              (None, 128),                                                      \n",
            "                                 'input_word_ids':                                                \n",
            "                                (None, 128),                                                      \n",
            "                                 'input_mask': (Non                                               \n",
            "                                e, 128)}                                                          \n",
            "                                                                                                  \n",
            " bert-encoder (KerasLayer)      {'default': (None,   109482241   ['bert-preprocessing[0][0]',     \n",
            "                                768),                             'bert-preprocessing[0][1]',     \n",
            "                                 'encoder_outputs':               'bert-preprocessing[0][2]']     \n",
            "                                 [(None, 128, 768),                                               \n",
            "                                 (None, 128, 768),                                                \n",
            "                                 (None, 128, 768),                                                \n",
            "                                 (None, 128, 768),                                                \n",
            "                                 (None, 128, 768),                                                \n",
            "                                 (None, 128, 768),                                                \n",
            "                                 (None, 128, 768),                                                \n",
            "                                 (None, 128, 768),                                                \n",
            "                                 (None, 128, 768),                                                \n",
            "                                 (None, 128, 768),                                                \n",
            "                                 (None, 128, 768),                                                \n",
            "                                 (None, 128, 768)],                                               \n",
            "                                 'pooled_output': (                                               \n",
            "                                None, 768),                                                       \n",
            "                                 'sequence_output':                                               \n",
            "                                 (None, 128, 768)}                                                \n",
            "                                                                                                  \n",
            " dropout_2 (Dropout)            (None, 768)          0           ['bert-encoder[0][13]']          \n",
            "                                                                                                  \n",
            " dense_1 (Dense)                (None, 512)          393728      ['dropout_2[0][0]']              \n",
            "                                                                                                  \n",
            " dropout_3 (Dropout)            (None, 512)          0           ['dense_1[0][0]']                \n",
            "                                                                                                  \n",
            " classifer (Dense)              (None, 7)            3591        ['dropout_3[0][0]']              \n",
            "                                                                                                  \n",
            "==================================================================================================\n",
            "Total params: 109,879,560\n",
            "Trainable params: 109,879,559\n",
            "Non-trainable params: 1\n",
            "__________________________________________________________________________________________________\n"
          ]
        }
      ]
    },
    {
      "cell_type": "markdown",
      "metadata": {
        "id": "qPHYVuHA1Sdn"
      },
      "source": [
        "\n",
        "**Label** **Encoding**"
      ]
    },
    {
      "cell_type": "code",
      "metadata": {
        "id": "BG5IyQwe1Vs-"
      },
      "source": [
        "max_classes = len(balanced_df.Labels.unique())"
      ],
      "execution_count": null,
      "outputs": []
    },
    {
      "cell_type": "code",
      "metadata": {
        "id": "gaMBmNbW1Yun",
        "colab": {
          "base_uri": "https://localhost:8080/"
        },
        "outputId": "9dd8bedb-0e59-4e37-b466-41409262b781"
      },
      "source": [
        "%time\n",
        "encoded_labels_train = to_categorical(Y_train, num_classes=max_classes)\n",
        "encoded_labels_test = to_categorical(Y_test, num_classes=max_classes)"
      ],
      "execution_count": null,
      "outputs": [
        {
          "output_type": "stream",
          "name": "stdout",
          "text": [
            "CPU times: user 3 µs, sys: 1e+03 ns, total: 4 µs\n",
            "Wall time: 7.63 µs\n"
          ]
        }
      ]
    },
    {
      "cell_type": "markdown",
      "metadata": {
        "id": "W02v0ExB1efu"
      },
      "source": [
        "\n",
        "# **Hyperparameters**"
      ]
    },
    {
      "cell_type": "code",
      "metadata": {
        "id": "Luyi7V9Y1iFh"
      },
      "source": [
        "from tensorflow.keras.optimizers.schedules import PolynomialDecay\n",
        "\n",
        "EPOCHS = 4\n",
        "loss = tf.keras.losses.CategoricalCrossentropy(from_logits=False)\n",
        "batch_size = 32\n",
        "\n",
        "num_train_steps =  len((balanced_df.NumLabel) // batch_size) * EPOCHS\n",
        "lr_scheduler = PolynomialDecay(initial_learning_rate=5e-5,\n",
        "                               end_learning_rate=0.,\n",
        "                               decay_steps=num_train_steps\n",
        "                               )\n",
        "\n",
        "from tensorflow.keras.optimizers import Adam\n",
        "opt = Adam(learning_rate=lr_scheduler)"
      ],
      "execution_count": null,
      "outputs": []
    },
    {
      "cell_type": "code",
      "metadata": {
        "id": "BOH_gnZs1ujx",
        "colab": {
          "base_uri": "https://localhost:8080/"
        },
        "outputId": "01842aeb-83bc-45ce-d9d9-5e786a51b95e"
      },
      "source": [
        "from tensorflow.keras.callbacks import ModelCheckpoint, EarlyStopping\n",
        "!mkdir checkpoints\n",
        "\n",
        "MyCheckpoint = ModelCheckpoint('/content/checkpoints',\n",
        "                               monitor = 'val_categorical_accuracy',\n",
        "                               verbose = 1,\n",
        "                               save_best_only = True,\n",
        "                               save_weights_only = False)\n",
        "\n",
        "MyEarlyStopping = EarlyStopping(patience =1,\n",
        "                                monitor='val_categorical_accuracy',\n",
        "                                restore_best_weights = True,\n",
        "                                verbose = 1)\n",
        "\n",
        "import os\n",
        "os.path.exists('/content/checkpoints')"
      ],
      "execution_count": null,
      "outputs": [
        {
          "output_type": "stream",
          "name": "stdout",
          "text": [
            "mkdir: cannot create directory ‘checkpoints’: File exists\n"
          ]
        },
        {
          "output_type": "execute_result",
          "data": {
            "text/plain": [
              "True"
            ]
          },
          "metadata": {},
          "execution_count": 113
        }
      ]
    },
    {
      "cell_type": "markdown",
      "metadata": {
        "id": "KlaQuLJk1zIo"
      },
      "source": [
        "# **Class Weight Balancing**"
      ]
    },
    {
      "cell_type": "code",
      "metadata": {
        "id": "jPRHeWqg1xbd",
        "colab": {
          "base_uri": "https://localhost:8080/"
        },
        "outputId": "1571cecf-5ab6-4935-a74f-dca6f43aa7c1"
      },
      "source": [
        "from sklearn.utils import class_weight\n",
        "class_weights_array = class_weight.compute_class_weight('balanced'\n",
        "                                               ,np.unique(balanced_df.NumLabel)\n",
        "                                               ,balanced_df.NumLabel)\n",
        "\n",
        "class_weights_array"
      ],
      "execution_count": null,
      "outputs": [
        {
          "output_type": "execute_result",
          "data": {
            "text/plain": [
              "array([0.72474272, 1.5529342 , 1.3589584 , 1.06081957, 0.44939618,\n",
              "       1.4290078 , 2.6828469 ])"
            ]
          },
          "metadata": {},
          "execution_count": 114
        }
      ]
    },
    {
      "cell_type": "code",
      "metadata": {
        "id": "TdiW2_Jn19iu",
        "colab": {
          "base_uri": "https://localhost:8080/"
        },
        "outputId": "1f88804b-de63-442f-eb0d-677a0a00ecae"
      },
      "source": [
        "class_weights = {i : class_weights_array[i] for i in range(len(class_weights_array))}\n",
        "class_weights"
      ],
      "execution_count": null,
      "outputs": [
        {
          "output_type": "execute_result",
          "data": {
            "text/plain": [
              "{0: 0.7247427243554276,\n",
              " 1: 1.5529342027267339,\n",
              " 2: 1.3589583981740845,\n",
              " 3: 1.0608195659216066,\n",
              " 4: 0.4493961849869631,\n",
              " 5: 1.4290078001418207,\n",
              " 6: 2.682846902201741}"
            ]
          },
          "metadata": {},
          "execution_count": 115
        }
      ]
    },
    {
      "cell_type": "markdown",
      "metadata": {
        "id": "fRyCjmhT2E6I"
      },
      "source": [
        "# **Building Model**"
      ]
    },
    {
      "cell_type": "code",
      "metadata": {
        "id": "XpCgUJz-2If8"
      },
      "source": [
        "import tensorflow_addons as tfa\n",
        "\n",
        "macro_f1 = tfa.metrics.F1Score(num_classes=max_classes, average='macro')\n",
        "micro_f1 = tfa.metrics.F1Score(num_classes=max_classes, average='micro')\n",
        "weighted_f1 = tfa.metrics.F1Score(num_classes=max_classes, average='weighted')\n",
        "precision = tf.metrics.Precision()\n",
        "recall = tf.metrics.Recall()\n",
        "categorical_accuracry = tf.metrics.CategoricalAccuracy()\n",
        "\n",
        "metrics = [categorical_accuracry, micro_f1, precision, recall]"
      ],
      "execution_count": null,
      "outputs": []
    },
    {
      "cell_type": "code",
      "metadata": {
        "id": "0rjs5ofI2PAh"
      },
      "source": [
        "classifier_model.compile(optimizer= opt,\n",
        "              loss= loss,\n",
        "              metrics = metrics)"
      ],
      "execution_count": null,
      "outputs": []
    },
    {
      "cell_type": "code",
      "metadata": {
        "id": "DOffB6DM2TRT"
      },
      "source": [
        "train_dataset = tf.data.Dataset.from_tensor_slices((X_train, encoded_labels_train)).shuffle(70000).batch(batch_size).prefetch(tf.data.AUTOTUNE)\n",
        "test_dataset = tf.data.Dataset.from_tensor_slices((X_test, encoded_labels_test)).shuffle(70000).batch(batch_size).prefetch(tf.data.AUTOTUNE)"
      ],
      "execution_count": null,
      "outputs": []
    },
    {
      "cell_type": "code",
      "metadata": {
        "id": "cTm9oRPf2j0I",
        "colab": {
          "base_uri": "https://localhost:8080/"
        },
        "outputId": "fcfa80fa-d713-4df8-d5e1-70fbf5603b9f"
      },
      "source": [
        "classifier_model.fit(train_dataset,\n",
        "                     validation_data=test_dataset,\n",
        "                 epochs = EPOCHS,\n",
        "                 verbose = 1,\n",
        "                 class_weight=class_weights,\n",
        "                 callbacks = [MyCheckpoint, MyEarlyStopping]\n",
        "          )"
      ],
      "execution_count": null,
      "outputs": [
        {
          "output_type": "stream",
          "name": "stdout",
          "text": [
            "Epoch 1/4\n",
            "737/737 [==============================] - ETA: 0s - loss: 1.1514 - categorical_accuracy: 0.5174 - f1_score: 0.5174 - precision_1: 0.6753 - recall_1: 0.3312\n",
            "Epoch 00001: val_categorical_accuracy improved from -inf to 0.70496, saving model to /content/checkpoints\n"
          ]
        },
        {
          "output_type": "stream",
          "name": "stderr",
          "text": [
            "WARNING:absl:Function `_wrapped_model` contains input name(s) input-text with unsupported characters which will be renamed to input_text in the SavedModel.\n",
            "WARNING:absl:Found untraced functions such as restored_function_body, restored_function_body, restored_function_body, restored_function_body, restored_function_body while saving (showing 5 of 915). These functions will not be directly callable after loading.\n"
          ]
        },
        {
          "output_type": "stream",
          "name": "stdout",
          "text": [
            "INFO:tensorflow:Assets written to: /content/checkpoints/assets\n"
          ]
        },
        {
          "output_type": "stream",
          "name": "stderr",
          "text": [
            "INFO:tensorflow:Assets written to: /content/checkpoints/assets\n"
          ]
        },
        {
          "output_type": "stream",
          "name": "stdout",
          "text": [
            "\b\b\b\b\b\b\b\b\b\b\b\b\b\b\b\b\b\b\b\b\b\b\b\b\b\b\b\b\b\b\b\b\b\b\b\b\b\b\b\b\b\b\b\b\b\b\b\b\b\b\b\b\b\b\b\b\b\b\b\b\b\b\b\b\b\b\b\b\b\b\b\b\b\b\b\b\b\b\b\b\b\b\b\b\b\b\b\b\b\b\b\b\b\b\b\b\b\b\b\b\b\b\b\b\b\b\b\b\b\b\b\b\b\b\b\b\b\b\b\b\b\b\b\b\b\b\b\b\b\b\b\b\b\b\b\b\b\b\b\b\b\b\b\b\b\b\b\b\b\b\b\b\b\b\b\b\r737/737 [==============================] - 1281s 2s/step - loss: 1.1514 - categorical_accuracy: 0.5174 - f1_score: 0.5174 - precision_1: 0.6753 - recall_1: 0.3312 - val_loss: 0.8091 - val_categorical_accuracy: 0.7050 - val_f1_score: 0.7050 - val_precision_1: 0.7582 - val_recall_1: 0.6439\n",
            "Epoch 2/4\n",
            "737/737 [==============================] - ETA: 0s - loss: 0.4645 - categorical_accuracy: 0.7747 - f1_score: 0.7747 - precision_1: 0.8133 - recall_1: 0.7287\n",
            "Epoch 00002: val_categorical_accuracy improved from 0.70496 to 0.82748, saving model to /content/checkpoints\n"
          ]
        },
        {
          "output_type": "stream",
          "name": "stderr",
          "text": [
            "WARNING:absl:Function `_wrapped_model` contains input name(s) input-text with unsupported characters which will be renamed to input_text in the SavedModel.\n",
            "WARNING:absl:Found untraced functions such as restored_function_body, restored_function_body, restored_function_body, restored_function_body, restored_function_body while saving (showing 5 of 915). These functions will not be directly callable after loading.\n"
          ]
        },
        {
          "output_type": "stream",
          "name": "stdout",
          "text": [
            "INFO:tensorflow:Assets written to: /content/checkpoints/assets\n"
          ]
        },
        {
          "output_type": "stream",
          "name": "stderr",
          "text": [
            "INFO:tensorflow:Assets written to: /content/checkpoints/assets\n"
          ]
        },
        {
          "output_type": "stream",
          "name": "stdout",
          "text": [
            "\b\b\b\b\b\b\b\b\b\b\b\b\b\b\b\b\b\b\b\b\b\b\b\b\b\b\b\b\b\b\b\b\b\b\b\b\b\b\b\b\b\b\b\b\b\b\b\b\b\b\b\b\b\b\b\b\b\b\b\b\b\b\b\b\b\b\b\b\b\b\b\b\b\b\b\b\b\b\b\b\b\b\b\b\b\b\b\b\b\b\b\b\b\b\b\b\b\b\b\b\b\b\b\b\b\b\b\b\b\b\b\b\b\b\b\b\b\b\b\b\b\b\b\b\b\b\b\b\b\b\b\b\b\b\b\b\b\b\b\b\b\b\b\b\b\b\b\b\b\b\b\b\b\b\b\b\r737/737 [==============================] - 1268s 2s/step - loss: 0.4645 - categorical_accuracy: 0.7747 - f1_score: 0.7747 - precision_1: 0.8133 - recall_1: 0.7287 - val_loss: 0.5061 - val_categorical_accuracy: 0.8275 - val_f1_score: 0.8275 - val_precision_1: 0.8493 - val_recall_1: 0.8004\n",
            "Epoch 3/4\n",
            "737/737 [==============================] - ETA: 0s - loss: 0.2144 - categorical_accuracy: 0.8964 - f1_score: 0.8964 - precision_1: 0.9067 - recall_1: 0.8845\n",
            "Epoch 00003: val_categorical_accuracy improved from 0.82748 to 0.89160, saving model to /content/checkpoints\n"
          ]
        },
        {
          "output_type": "stream",
          "name": "stderr",
          "text": [
            "WARNING:absl:Function `_wrapped_model` contains input name(s) input-text with unsupported characters which will be renamed to input_text in the SavedModel.\n",
            "WARNING:absl:Found untraced functions such as restored_function_body, restored_function_body, restored_function_body, restored_function_body, restored_function_body while saving (showing 5 of 915). These functions will not be directly callable after loading.\n"
          ]
        },
        {
          "output_type": "stream",
          "name": "stdout",
          "text": [
            "INFO:tensorflow:Assets written to: /content/checkpoints/assets\n"
          ]
        },
        {
          "output_type": "stream",
          "name": "stderr",
          "text": [
            "INFO:tensorflow:Assets written to: /content/checkpoints/assets\n"
          ]
        },
        {
          "output_type": "stream",
          "name": "stdout",
          "text": [
            "\b\b\b\b\b\b\b\b\b\b\b\b\b\b\b\b\b\b\b\b\b\b\b\b\b\b\b\b\b\b\b\b\b\b\b\b\b\b\b\b\b\b\b\b\b\b\b\b\b\b\b\b\b\b\b\b\b\b\b\b\b\b\b\b\b\b\b\b\b\b\b\b\b\b\b\b\b\b\b\b\b\b\b\b\b\b\b\b\b\b\b\b\b\b\b\b\b\b\b\b\b\b\b\b\b\b\b\b\b\b\b\b\b\b\b\b\b\b\b\b\b\b\b\b\b\b\b\b\b\b\b\b\b\b\b\b\b\b\b\b\b\b\b\b\b\b\b\b\b\b\b\b\b\b\b\b\r737/737 [==============================] - 1269s 2s/step - loss: 0.2144 - categorical_accuracy: 0.8964 - f1_score: 0.8964 - precision_1: 0.9067 - recall_1: 0.8845 - val_loss: 0.3494 - val_categorical_accuracy: 0.8916 - val_f1_score: 0.8916 - val_precision_1: 0.8998 - val_recall_1: 0.8840\n",
            "Epoch 4/4\n",
            "737/737 [==============================] - ETA: 0s - loss: 0.1466 - categorical_accuracy: 0.9317 - f1_score: 0.9317 - precision_1: 0.9389 - recall_1: 0.9262\n",
            "Epoch 00004: val_categorical_accuracy improved from 0.89160 to 0.91298, saving model to /content/checkpoints\n"
          ]
        },
        {
          "output_type": "stream",
          "name": "stderr",
          "text": [
            "WARNING:absl:Function `_wrapped_model` contains input name(s) input-text with unsupported characters which will be renamed to input_text in the SavedModel.\n",
            "WARNING:absl:Found untraced functions such as restored_function_body, restored_function_body, restored_function_body, restored_function_body, restored_function_body while saving (showing 5 of 915). These functions will not be directly callable after loading.\n"
          ]
        },
        {
          "output_type": "stream",
          "name": "stdout",
          "text": [
            "INFO:tensorflow:Assets written to: /content/checkpoints/assets\n"
          ]
        },
        {
          "output_type": "stream",
          "name": "stderr",
          "text": [
            "INFO:tensorflow:Assets written to: /content/checkpoints/assets\n"
          ]
        },
        {
          "output_type": "stream",
          "name": "stdout",
          "text": [
            "\b\b\b\b\b\b\b\b\b\b\b\b\b\b\b\b\b\b\b\b\b\b\b\b\b\b\b\b\b\b\b\b\b\b\b\b\b\b\b\b\b\b\b\b\b\b\b\b\b\b\b\b\b\b\b\b\b\b\b\b\b\b\b\b\b\b\b\b\b\b\b\b\b\b\b\b\b\b\b\b\b\b\b\b\b\b\b\b\b\b\b\b\b\b\b\b\b\b\b\b\b\b\b\b\b\b\b\b\b\b\b\b\b\b\b\b\b\b\b\b\b\b\b\b\b\b\b\b\b\b\b\b\b\b\b\b\b\b\b\b\b\b\b\b\b\b\b\b\b\b\b\b\b\b\b\b\r737/737 [==============================] - 1248s 2s/step - loss: 0.1466 - categorical_accuracy: 0.9317 - f1_score: 0.9317 - precision_1: 0.9389 - recall_1: 0.9262 - val_loss: 0.3015 - val_categorical_accuracy: 0.9130 - val_f1_score: 0.9130 - val_precision_1: 0.9205 - val_recall_1: 0.9057\n"
          ]
        },
        {
          "output_type": "execute_result",
          "data": {
            "text/plain": [
              "<keras.callbacks.History at 0x7f00c97c5a90>"
            ]
          },
          "metadata": {},
          "execution_count": 119
        }
      ]
    },
    {
      "cell_type": "code",
      "metadata": {
        "id": "DCilk5pSDUdD"
      },
      "source": [
        "classifier_model.save('BERT-Model.h5')"
      ],
      "execution_count": null,
      "outputs": []
    },
    {
      "cell_type": "markdown",
      "metadata": {
        "id": "r3T5h9NH0Jm-"
      },
      "source": [
        "# **Testing**"
      ]
    },
    {
      "cell_type": "code",
      "metadata": {
        "colab": {
          "base_uri": "https://localhost:8080/"
        },
        "id": "R8iuHtVQCty9",
        "outputId": "9abbf352-af70-4eff-865a-1975bb7be52d"
      },
      "source": [
        "drive.mount('/content/drive')\n",
        "PATH = '/content/drive/MyDrive/Task1_Test/'\n",
        "list_dir = os.listdir(PATH)\n",
        "text = []\n",
        "labels = []\n",
        "sentid = []\n",
        "i=0\n",
        "for file in list_dir:\n",
        "    file_path = PATH + file\n",
        "    j=1\n",
        "    i=i+1\n",
        "    with open(file_path, 'r') as f:\n",
        "        for line in f:\n",
        "            line = line.split(sep='\\t')\n",
        "            text.append(line[0])\n",
        "            labels.append(line[1][:-1])\n",
        "            sentid.append(\"d\"+str(i)+\"_s\"+str(j))\n",
        "            j=j+1\n",
        "\n",
        "data = {'ID': sentid, 'Text': text, \"labels\": labels}\n",
        "test_file = pd.DataFrame(data=data)"
      ],
      "execution_count": null,
      "outputs": [
        {
          "output_type": "stream",
          "name": "stdout",
          "text": [
            "Drive already mounted at /content/drive; to attempt to forcibly remount, call drive.mount(\"/content/drive\", force_remount=True).\n"
          ]
        }
      ]
    },
    {
      "cell_type": "code",
      "metadata": {
        "id": "_dCbKU7jE6Pc"
      },
      "source": [
        "# Remove Excess [Size:: ] from EoS\n",
        "def remove_size(text):\n",
        "\tresult = re.search(\"\\[size\", text)\n",
        "\tif result is not None:\n",
        "\t\ttext = text[:result.start()]\n",
        "\treturn text.strip()\n",
        "\n",
        "months = ['january', 'jan', 'feb', 'mar', 'apr', 'aug', 'sept', 'oct', 'nov', 'dec', 'feburary', 'february', 'march', 'april', 'may', 'june', 'july', 'august', 'september', 'october', 'november', 'december', 'on']\n",
        "def remove_months(text):\n",
        "    text = text.split()\n",
        "    text = [word for word in text if word.lower() not in set(months)]\n",
        "    text = ' '.join(text)\n",
        "    return text\n",
        "\n",
        "def remove_nums(text):\n",
        "    result = re.sub(r'[0-9+]', '', text)\n",
        "    return result\n",
        "\n",
        "def remove_comma(text):\n",
        "    result = re.sub(r',', '', text)\n",
        "    return result"
      ],
      "execution_count": null,
      "outputs": []
    },
    {
      "cell_type": "code",
      "metadata": {
        "id": "MOcPvbqXFGnV"
      },
      "source": [
        "def text_cleaning(text):\n",
        "    text = remove_size(text)\n",
        "    text = remove_nums(text)\n",
        "    text = remove_months(text)\n",
        "    text = remove_comma(text)\n",
        "    return text.strip().lower()\n",
        "\n",
        "test_file['processed'] = test_file['Text'].apply(text_cleaning)"
      ],
      "execution_count": null,
      "outputs": []
    },
    {
      "cell_type": "code",
      "metadata": {
        "id": "KTveXjE2Fepy",
        "colab": {
          "base_uri": "https://localhost:8080/",
          "height": 419
        },
        "outputId": "2f3eb4af-d738-4a85-e5a0-9b1e3985ce27"
      },
      "source": [
        "test_file"
      ],
      "execution_count": null,
      "outputs": [
        {
          "output_type": "execute_result",
          "data": {
            "text/html": [
              "<div>\n",
              "<style scoped>\n",
              "    .dataframe tbody tr th:only-of-type {\n",
              "        vertical-align: middle;\n",
              "    }\n",
              "\n",
              "    .dataframe tbody tr th {\n",
              "        vertical-align: top;\n",
              "    }\n",
              "\n",
              "    .dataframe thead th {\n",
              "        text-align: right;\n",
              "    }\n",
              "</style>\n",
              "<table border=\"1\" class=\"dataframe\">\n",
              "  <thead>\n",
              "    <tr style=\"text-align: right;\">\n",
              "      <th></th>\n",
              "      <th>ID</th>\n",
              "      <th>Text</th>\n",
              "      <th>labels</th>\n",
              "      <th>processed</th>\n",
              "    </tr>\n",
              "  </thead>\n",
              "  <tbody>\n",
              "    <tr>\n",
              "      <th>0</th>\n",
              "      <td>d1_s1</td>\n",
              "      <td>These two Criminal Appeals are preferred by th...</td>\n",
              "      <td>Facts</td>\n",
              "      <td>these two criminal appeals are preferred by th...</td>\n",
              "    </tr>\n",
              "    <tr>\n",
              "      <th>1</th>\n",
              "      <td>d1_s2</td>\n",
              "      <td>Application no. 1295 of 2011 and 1296 of 2011 ...</td>\n",
              "      <td>Facts</td>\n",
              "      <td>application no. of and of passed by the learne...</td>\n",
              "    </tr>\n",
              "    <tr>\n",
              "      <th>2</th>\n",
              "      <td>d1_s3</td>\n",
              "      <td>The respondent no. 1 Shyam Vithalrao Devkatta,...</td>\n",
              "      <td>Facts</td>\n",
              "      <td>the respondent no. shyam vithalrao devkatta fi...</td>\n",
              "    </tr>\n",
              "    <tr>\n",
              "      <th>3</th>\n",
              "      <td>d1_s4</td>\n",
              "      <td>Upon due verification process was issued by th...</td>\n",
              "      <td>Facts</td>\n",
              "      <td>upon due verification process was issued by th...</td>\n",
              "    </tr>\n",
              "    <tr>\n",
              "      <th>4</th>\n",
              "      <td>d1_s5</td>\n",
              "      <td>Of these accused, four approached the Bombay H...</td>\n",
              "      <td>Facts</td>\n",
              "      <td>of these accused four approached the bombay hi...</td>\n",
              "    </tr>\n",
              "    <tr>\n",
              "      <th>...</th>\n",
              "      <td>...</td>\n",
              "      <td>...</td>\n",
              "      <td>...</td>\n",
              "      <td>...</td>\n",
              "    </tr>\n",
              "    <tr>\n",
              "      <th>692</th>\n",
              "      <td>d10_s60</td>\n",
              "      <td>Applying the above principles, it is clear fro...</td>\n",
              "      <td>Ratio of the decision</td>\n",
              "      <td>applying the above principles it is clear from...</td>\n",
              "    </tr>\n",
              "    <tr>\n",
              "      <th>693</th>\n",
              "      <td>d10_s61</td>\n",
              "      <td>Kalawati was last seen in the company of the a...</td>\n",
              "      <td>Ratio of the decision</td>\n",
              "      <td>kalawati was last seen in the company of the a...</td>\n",
              "    </tr>\n",
              "    <tr>\n",
              "      <th>694</th>\n",
              "      <td>d10_s62</td>\n",
              "      <td>After his arrest, the production, by the appel...</td>\n",
              "      <td>Ratio of the decision</td>\n",
              "      <td>after his arrest the production by the appella...</td>\n",
              "    </tr>\n",
              "    <tr>\n",
              "      <th>695</th>\n",
              "      <td>d10_s63</td>\n",
              "      <td>To conclude, the appellant has been rightly co...</td>\n",
              "      <td>Ruling by Present Court</td>\n",
              "      <td>to conclude the appellant has been rightly con...</td>\n",
              "    </tr>\n",
              "    <tr>\n",
              "      <th>696</th>\n",
              "      <td>d10_s64</td>\n",
              "      <td>Appeal Dismissed.</td>\n",
              "      <td>Ruling by Present Court</td>\n",
              "      <td>appeal dismissed.</td>\n",
              "    </tr>\n",
              "  </tbody>\n",
              "</table>\n",
              "<p>697 rows × 4 columns</p>\n",
              "</div>"
            ],
            "text/plain": [
              "          ID  ...                                          processed\n",
              "0      d1_s1  ...  these two criminal appeals are preferred by th...\n",
              "1      d1_s2  ...  application no. of and of passed by the learne...\n",
              "2      d1_s3  ...  the respondent no. shyam vithalrao devkatta fi...\n",
              "3      d1_s4  ...  upon due verification process was issued by th...\n",
              "4      d1_s5  ...  of these accused four approached the bombay hi...\n",
              "..       ...  ...                                                ...\n",
              "692  d10_s60  ...  applying the above principles it is clear from...\n",
              "693  d10_s61  ...  kalawati was last seen in the company of the a...\n",
              "694  d10_s62  ...  after his arrest the production by the appella...\n",
              "695  d10_s63  ...  to conclude the appellant has been rightly con...\n",
              "696  d10_s64  ...                                  appeal dismissed.\n",
              "\n",
              "[697 rows x 4 columns]"
            ]
          },
          "metadata": {},
          "execution_count": 127
        }
      ]
    },
    {
      "cell_type": "code",
      "metadata": {
        "id": "54PZGJbvFqYs",
        "colab": {
          "base_uri": "https://localhost:8080/"
        },
        "outputId": "5b8cb608-d8a0-4946-d6f9-431d7915c511"
      },
      "source": [
        "lemmatizer = WordNetLemmatizer()\n",
        "from nltk import word_tokenize, WordNetLemmatizer\n",
        "from nltk.corpus import stopwords\n",
        "nltk.download('stopwords')\n",
        "def lemmatizing_headlines(text):\n",
        "    tokens = word_tokenize(text.lower())\n",
        "    tokens = [lemmatizer.lemmatize(word) for word in tokens if word not in set(stopwords.words('english'))]\n",
        "    return ' '.join(tokens).strip()\n",
        "\n",
        "test_file['processed'] = test_file['processed'].apply(lemmatizing_headlines)"
      ],
      "execution_count": null,
      "outputs": [
        {
          "output_type": "stream",
          "name": "stdout",
          "text": [
            "[nltk_data] Downloading package stopwords to /root/nltk_data...\n",
            "[nltk_data]   Package stopwords is already up-to-date!\n"
          ]
        }
      ]
    },
    {
      "cell_type": "code",
      "metadata": {
        "id": "J6V3V84kF3Sq",
        "colab": {
          "base_uri": "https://localhost:8080/",
          "height": 204
        },
        "outputId": "e099fd74-b98b-4f1a-fb6e-d6fdc0d3cdd0"
      },
      "source": [
        "test_file.head()"
      ],
      "execution_count": null,
      "outputs": [
        {
          "output_type": "execute_result",
          "data": {
            "text/html": [
              "<div>\n",
              "<style scoped>\n",
              "    .dataframe tbody tr th:only-of-type {\n",
              "        vertical-align: middle;\n",
              "    }\n",
              "\n",
              "    .dataframe tbody tr th {\n",
              "        vertical-align: top;\n",
              "    }\n",
              "\n",
              "    .dataframe thead th {\n",
              "        text-align: right;\n",
              "    }\n",
              "</style>\n",
              "<table border=\"1\" class=\"dataframe\">\n",
              "  <thead>\n",
              "    <tr style=\"text-align: right;\">\n",
              "      <th></th>\n",
              "      <th>ID</th>\n",
              "      <th>Text</th>\n",
              "      <th>labels</th>\n",
              "      <th>processed</th>\n",
              "    </tr>\n",
              "  </thead>\n",
              "  <tbody>\n",
              "    <tr>\n",
              "      <th>0</th>\n",
              "      <td>d1_s1</td>\n",
              "      <td>These two Criminal Appeals are preferred by th...</td>\n",
              "      <td>Facts</td>\n",
              "      <td>two criminal appeal preferred accused judgment...</td>\n",
              "    </tr>\n",
              "    <tr>\n",
              "      <th>1</th>\n",
              "      <td>d1_s2</td>\n",
              "      <td>Application no. 1295 of 2011 and 1296 of 2011 ...</td>\n",
              "      <td>Facts</td>\n",
              "      <td>application . passed learned single judge bomb...</td>\n",
              "    </tr>\n",
              "    <tr>\n",
              "      <th>2</th>\n",
              "      <td>d1_s3</td>\n",
              "      <td>The respondent no. 1 Shyam Vithalrao Devkatta,...</td>\n",
              "      <td>Facts</td>\n",
              "      <td>respondent . shyam vithalrao devkatta filed co...</td>\n",
              "    </tr>\n",
              "    <tr>\n",
              "      <th>3</th>\n",
              "      <td>d1_s4</td>\n",
              "      <td>Upon due verification process was issued by th...</td>\n",
              "      <td>Facts</td>\n",
              "      <td>upon due verification process issued learned m...</td>\n",
              "    </tr>\n",
              "    <tr>\n",
              "      <th>4</th>\n",
              "      <td>d1_s5</td>\n",
              "      <td>Of these accused, four approached the Bombay H...</td>\n",
              "      <td>Facts</td>\n",
              "      <td>accused four approached bombay high court way ...</td>\n",
              "    </tr>\n",
              "  </tbody>\n",
              "</table>\n",
              "</div>"
            ],
            "text/plain": [
              "      ID  ...                                          processed\n",
              "0  d1_s1  ...  two criminal appeal preferred accused judgment...\n",
              "1  d1_s2  ...  application . passed learned single judge bomb...\n",
              "2  d1_s3  ...  respondent . shyam vithalrao devkatta filed co...\n",
              "3  d1_s4  ...  upon due verification process issued learned m...\n",
              "4  d1_s5  ...  accused four approached bombay high court way ...\n",
              "\n",
              "[5 rows x 4 columns]"
            ]
          },
          "metadata": {},
          "execution_count": 129
        }
      ]
    },
    {
      "cell_type": "code",
      "metadata": {
        "id": "rEaMah2jF8Zy"
      },
      "source": [
        "y_preds = np.argmax(classifier_model.predict(test_file.processed), axis=1)"
      ],
      "execution_count": null,
      "outputs": []
    },
    {
      "cell_type": "code",
      "metadata": {
        "colab": {
          "base_uri": "https://localhost:8080/"
        },
        "id": "OH3LLhi3DO4z",
        "outputId": "93df042f-20fa-4159-d813-bac9ae6df3c0"
      },
      "source": [
        "y_preds"
      ],
      "execution_count": null,
      "outputs": [
        {
          "output_type": "execute_result",
          "data": {
            "text/plain": [
              "array([0, 0, 0, 0, 0, 1, 0, 0, 4, 4, 0, 0, 4, 0, 0, 0, 4, 3, 0, 0, 1, 1,\n",
              "       6, 2, 2, 2, 0, 2, 4, 0, 5, 5, 5, 5, 5, 5, 0, 4, 0, 4, 3, 3, 3, 4,\n",
              "       3, 5, 4, 4, 4, 3, 4, 4, 4, 4, 4, 3, 3, 3, 3, 3, 3, 3, 3, 3, 3, 2,\n",
              "       2, 3, 3, 3, 3, 3, 4, 3, 3, 4, 3, 3, 3, 3, 3, 3, 3, 3, 4, 3, 3, 3,\n",
              "       3, 4, 2, 4, 3, 3, 3, 3, 3, 3, 3, 3, 3, 3, 3, 3, 3, 3, 2, 4, 2, 4,\n",
              "       6, 6, 6, 0, 4, 5, 0, 4, 1, 1, 1, 0, 2, 4, 2, 2, 4, 2, 4, 2, 2, 2,\n",
              "       2, 4, 2, 2, 3, 3, 2, 2, 2, 2, 2, 3, 2, 2, 2, 2, 2, 4, 4, 0, 0, 6,\n",
              "       4, 0, 3, 3, 3, 0, 2, 0, 5, 3, 5, 5, 5, 5, 5, 5, 5, 5, 5, 5, 5, 5,\n",
              "       5, 5, 5, 5, 5, 5, 2, 4, 4, 0, 6, 0, 4, 4, 4, 4, 3, 4, 3, 4, 3, 4,\n",
              "       6, 0, 4, 4, 4, 0, 2, 0, 2, 4, 6, 6, 6, 0, 0, 0, 0, 0, 0, 0, 6, 0,\n",
              "       0, 0, 0, 0, 0, 0, 4, 0, 4, 0, 2, 0, 4, 3, 3, 4, 4, 4, 4, 4, 4, 3,\n",
              "       3, 6, 4, 5, 5, 5, 5, 0, 0, 5, 5, 1, 0, 4, 6, 6, 6, 6, 1, 0, 1, 1,\n",
              "       0, 1, 0, 0, 0, 3, 0, 4, 0, 0, 0, 4, 4, 0, 3, 0, 3, 0, 0, 0, 0, 0,\n",
              "       0, 0, 0, 0, 0, 5, 0, 4, 0, 0, 4, 4, 4, 0, 0, 4, 0, 4, 4, 4, 0, 0,\n",
              "       0, 0, 0, 3, 4, 0, 4, 3, 0, 0, 0, 0, 0, 4, 1, 4, 4, 4, 4, 0, 4, 2,\n",
              "       2, 4, 4, 1, 3, 4, 4, 6, 6, 4, 6, 6, 6, 0, 0, 4, 0, 0, 0, 3, 0, 3,\n",
              "       4, 0, 2, 3, 2, 4, 4, 1, 1, 4, 3, 1, 3, 1, 2, 2, 2, 2, 2, 2, 4, 1,\n",
              "       4, 0, 5, 4, 0, 4, 0, 2, 1, 4, 1, 3, 1, 4, 3, 3, 3, 5, 3, 3, 4, 4,\n",
              "       4, 4, 6, 4, 6, 0, 0, 3, 0, 2, 4, 1, 4, 6, 0, 0, 1, 4, 6, 3, 2, 2,\n",
              "       4, 1, 4, 4, 6, 6, 5, 4, 4, 4, 3, 5, 0, 4, 3, 4, 4, 3, 3, 6, 6, 6,\n",
              "       6, 4, 0, 0, 0, 6, 0, 2, 0, 4, 1, 2, 4, 2, 2, 1, 1, 1, 1, 0, 0, 4,\n",
              "       1, 4, 3, 0, 3, 1, 3, 1, 6, 1, 1, 6, 4, 4, 3, 1, 4, 1, 4, 6, 6, 4,\n",
              "       6, 6, 0, 0, 0, 0, 0, 1, 4, 0, 0, 1, 2, 2, 2, 3, 2, 2, 1, 4, 3, 4,\n",
              "       6, 6, 4, 4, 4, 4, 3, 3, 3, 2, 4, 3, 1, 1, 4, 2, 3, 3, 4, 4, 3, 3,\n",
              "       1, 4, 0, 3, 4, 4, 3, 2, 4, 3, 2, 4, 4, 4, 4, 3, 0, 3, 3, 3, 3, 6,\n",
              "       4, 4, 4, 4, 3, 3, 3, 3, 1, 2, 3, 1, 6, 6, 6, 0, 1, 4, 1, 0, 0, 4,\n",
              "       0, 0, 1, 5, 0, 3, 3, 4, 2, 4, 1, 2, 1, 3, 3, 3, 3, 3, 4, 4, 3, 5,\n",
              "       3, 3, 3, 4, 3, 5, 3, 4, 4, 3, 3, 3, 6, 0, 1, 5, 0, 5, 4, 4, 4, 4,\n",
              "       3, 3, 3, 3, 3, 3, 3, 3, 3, 1, 0, 4, 4, 6, 6, 6, 6, 6, 0, 0, 0, 0,\n",
              "       0, 0, 0, 0, 0, 1, 0, 0, 0, 4, 0, 0, 0, 4, 3, 0, 4, 0, 0, 0, 0, 0,\n",
              "       0, 0, 4, 4, 4, 0, 0, 3, 4, 1, 4, 2, 4, 4, 3, 4, 0, 0, 0, 4, 4, 4,\n",
              "       1, 3, 4, 4, 4, 3, 3, 3, 3, 3, 3, 0, 4, 6, 6])"
            ]
          },
          "metadata": {},
          "execution_count": 132
        }
      ]
    },
    {
      "cell_type": "code",
      "metadata": {
        "id": "WaVRJJ2oDV4-"
      },
      "source": [
        "test_file['pred-labels'] = y_preds"
      ],
      "execution_count": null,
      "outputs": []
    },
    {
      "cell_type": "code",
      "metadata": {
        "colab": {
          "base_uri": "https://localhost:8080/",
          "height": 204
        },
        "id": "d_Idl703DZQR",
        "outputId": "acaa6156-0105-403b-aeba-b97125bbda9b"
      },
      "source": [
        "test_file.head()"
      ],
      "execution_count": null,
      "outputs": [
        {
          "output_type": "execute_result",
          "data": {
            "text/html": [
              "<div>\n",
              "<style scoped>\n",
              "    .dataframe tbody tr th:only-of-type {\n",
              "        vertical-align: middle;\n",
              "    }\n",
              "\n",
              "    .dataframe tbody tr th {\n",
              "        vertical-align: top;\n",
              "    }\n",
              "\n",
              "    .dataframe thead th {\n",
              "        text-align: right;\n",
              "    }\n",
              "</style>\n",
              "<table border=\"1\" class=\"dataframe\">\n",
              "  <thead>\n",
              "    <tr style=\"text-align: right;\">\n",
              "      <th></th>\n",
              "      <th>ID</th>\n",
              "      <th>Text</th>\n",
              "      <th>labels</th>\n",
              "      <th>processed</th>\n",
              "      <th>pred-labels</th>\n",
              "    </tr>\n",
              "  </thead>\n",
              "  <tbody>\n",
              "    <tr>\n",
              "      <th>0</th>\n",
              "      <td>d1_s1</td>\n",
              "      <td>These two Criminal Appeals are preferred by th...</td>\n",
              "      <td>Facts</td>\n",
              "      <td>two criminal appeal preferred accused judgment...</td>\n",
              "      <td>0</td>\n",
              "    </tr>\n",
              "    <tr>\n",
              "      <th>1</th>\n",
              "      <td>d1_s2</td>\n",
              "      <td>Application no. 1295 of 2011 and 1296 of 2011 ...</td>\n",
              "      <td>Facts</td>\n",
              "      <td>application . passed learned single judge bomb...</td>\n",
              "      <td>0</td>\n",
              "    </tr>\n",
              "    <tr>\n",
              "      <th>2</th>\n",
              "      <td>d1_s3</td>\n",
              "      <td>The respondent no. 1 Shyam Vithalrao Devkatta,...</td>\n",
              "      <td>Facts</td>\n",
              "      <td>respondent . shyam vithalrao devkatta filed co...</td>\n",
              "      <td>0</td>\n",
              "    </tr>\n",
              "    <tr>\n",
              "      <th>3</th>\n",
              "      <td>d1_s4</td>\n",
              "      <td>Upon due verification process was issued by th...</td>\n",
              "      <td>Facts</td>\n",
              "      <td>upon due verification process issued learned m...</td>\n",
              "      <td>0</td>\n",
              "    </tr>\n",
              "    <tr>\n",
              "      <th>4</th>\n",
              "      <td>d1_s5</td>\n",
              "      <td>Of these accused, four approached the Bombay H...</td>\n",
              "      <td>Facts</td>\n",
              "      <td>accused four approached bombay high court way ...</td>\n",
              "      <td>0</td>\n",
              "    </tr>\n",
              "  </tbody>\n",
              "</table>\n",
              "</div>"
            ],
            "text/plain": [
              "      ID  ... pred-labels\n",
              "0  d1_s1  ...           0\n",
              "1  d1_s2  ...           0\n",
              "2  d1_s3  ...           0\n",
              "3  d1_s4  ...           0\n",
              "4  d1_s5  ...           0\n",
              "\n",
              "[5 rows x 5 columns]"
            ]
          },
          "metadata": {},
          "execution_count": 134
        }
      ]
    },
    {
      "cell_type": "code",
      "metadata": {
        "id": "t7oQxcOLDdnP"
      },
      "source": [
        "def num_to_text_labels(num):\n",
        "    text = event_types_dict_inverse[num]\n",
        "    return text\n",
        "\n",
        "test_file['text_labels'] = test_file['pred-labels'].apply(num_to_text_labels)"
      ],
      "execution_count": null,
      "outputs": []
    },
    {
      "cell_type": "code",
      "metadata": {
        "colab": {
          "base_uri": "https://localhost:8080/",
          "height": 419
        },
        "id": "cLzrjoCDDg4n",
        "outputId": "3469786c-0240-483e-bcfb-0280af38e547"
      },
      "source": [
        "test_file"
      ],
      "execution_count": null,
      "outputs": [
        {
          "output_type": "execute_result",
          "data": {
            "text/html": [
              "<div>\n",
              "<style scoped>\n",
              "    .dataframe tbody tr th:only-of-type {\n",
              "        vertical-align: middle;\n",
              "    }\n",
              "\n",
              "    .dataframe tbody tr th {\n",
              "        vertical-align: top;\n",
              "    }\n",
              "\n",
              "    .dataframe thead th {\n",
              "        text-align: right;\n",
              "    }\n",
              "</style>\n",
              "<table border=\"1\" class=\"dataframe\">\n",
              "  <thead>\n",
              "    <tr style=\"text-align: right;\">\n",
              "      <th></th>\n",
              "      <th>ID</th>\n",
              "      <th>Text</th>\n",
              "      <th>labels</th>\n",
              "      <th>processed</th>\n",
              "      <th>pred-labels</th>\n",
              "      <th>text_labels</th>\n",
              "    </tr>\n",
              "  </thead>\n",
              "  <tbody>\n",
              "    <tr>\n",
              "      <th>0</th>\n",
              "      <td>d1_s1</td>\n",
              "      <td>These two Criminal Appeals are preferred by th...</td>\n",
              "      <td>Facts</td>\n",
              "      <td>two criminal appeal preferred accused judgment...</td>\n",
              "      <td>0</td>\n",
              "      <td>Facts</td>\n",
              "    </tr>\n",
              "    <tr>\n",
              "      <th>1</th>\n",
              "      <td>d1_s2</td>\n",
              "      <td>Application no. 1295 of 2011 and 1296 of 2011 ...</td>\n",
              "      <td>Facts</td>\n",
              "      <td>application . passed learned single judge bomb...</td>\n",
              "      <td>0</td>\n",
              "      <td>Facts</td>\n",
              "    </tr>\n",
              "    <tr>\n",
              "      <th>2</th>\n",
              "      <td>d1_s3</td>\n",
              "      <td>The respondent no. 1 Shyam Vithalrao Devkatta,...</td>\n",
              "      <td>Facts</td>\n",
              "      <td>respondent . shyam vithalrao devkatta filed co...</td>\n",
              "      <td>0</td>\n",
              "      <td>Facts</td>\n",
              "    </tr>\n",
              "    <tr>\n",
              "      <th>3</th>\n",
              "      <td>d1_s4</td>\n",
              "      <td>Upon due verification process was issued by th...</td>\n",
              "      <td>Facts</td>\n",
              "      <td>upon due verification process issued learned m...</td>\n",
              "      <td>0</td>\n",
              "      <td>Facts</td>\n",
              "    </tr>\n",
              "    <tr>\n",
              "      <th>4</th>\n",
              "      <td>d1_s5</td>\n",
              "      <td>Of these accused, four approached the Bombay H...</td>\n",
              "      <td>Facts</td>\n",
              "      <td>accused four approached bombay high court way ...</td>\n",
              "      <td>0</td>\n",
              "      <td>Facts</td>\n",
              "    </tr>\n",
              "    <tr>\n",
              "      <th>...</th>\n",
              "      <td>...</td>\n",
              "      <td>...</td>\n",
              "      <td>...</td>\n",
              "      <td>...</td>\n",
              "      <td>...</td>\n",
              "      <td>...</td>\n",
              "    </tr>\n",
              "    <tr>\n",
              "      <th>692</th>\n",
              "      <td>d10_s60</td>\n",
              "      <td>Applying the above principles, it is clear fro...</td>\n",
              "      <td>Ratio of the decision</td>\n",
              "      <td>applying principle clear finding two court cir...</td>\n",
              "      <td>3</td>\n",
              "      <td>Precedent</td>\n",
              "    </tr>\n",
              "    <tr>\n",
              "      <th>693</th>\n",
              "      <td>d10_s61</td>\n",
              "      <td>Kalawati was last seen in the company of the a...</td>\n",
              "      <td>Ratio of the decision</td>\n",
              "      <td>kalawati last seen company appellant gher even...</td>\n",
              "      <td>0</td>\n",
              "      <td>Facts</td>\n",
              "    </tr>\n",
              "    <tr>\n",
              "      <th>694</th>\n",
              "      <td>d10_s62</td>\n",
              "      <td>After his arrest, the production, by the appel...</td>\n",
              "      <td>Ratio of the decision</td>\n",
              "      <td>arrest production appellant ornament worn kala...</td>\n",
              "      <td>4</td>\n",
              "      <td>Ratio of the decision</td>\n",
              "    </tr>\n",
              "    <tr>\n",
              "      <th>695</th>\n",
              "      <td>d10_s63</td>\n",
              "      <td>To conclude, the appellant has been rightly co...</td>\n",
              "      <td>Ruling by Present Court</td>\n",
              "      <td>conclude appellant rightly convicted sentenced...</td>\n",
              "      <td>6</td>\n",
              "      <td>Ruling by Present Court</td>\n",
              "    </tr>\n",
              "    <tr>\n",
              "      <th>696</th>\n",
              "      <td>d10_s64</td>\n",
              "      <td>Appeal Dismissed.</td>\n",
              "      <td>Ruling by Present Court</td>\n",
              "      <td>appeal dismissed .</td>\n",
              "      <td>6</td>\n",
              "      <td>Ruling by Present Court</td>\n",
              "    </tr>\n",
              "  </tbody>\n",
              "</table>\n",
              "<p>697 rows × 6 columns</p>\n",
              "</div>"
            ],
            "text/plain": [
              "          ID  ...              text_labels\n",
              "0      d1_s1  ...                    Facts\n",
              "1      d1_s2  ...                    Facts\n",
              "2      d1_s3  ...                    Facts\n",
              "3      d1_s4  ...                    Facts\n",
              "4      d1_s5  ...                    Facts\n",
              "..       ...  ...                      ...\n",
              "692  d10_s60  ...                Precedent\n",
              "693  d10_s61  ...                    Facts\n",
              "694  d10_s62  ...    Ratio of the decision\n",
              "695  d10_s63  ...  Ruling by Present Court\n",
              "696  d10_s64  ...  Ruling by Present Court\n",
              "\n",
              "[697 rows x 6 columns]"
            ]
          },
          "metadata": {},
          "execution_count": 136
        }
      ]
    },
    {
      "cell_type": "code",
      "metadata": {
        "colab": {
          "base_uri": "https://localhost:8080/",
          "height": 985
        },
        "id": "aOcHzlTyDkbQ",
        "outputId": "23fcc78a-ee56-4891-e00d-82aebc23240b"
      },
      "source": [
        "from sklearn.metrics import classification_report\n",
        "print(classification_report(test_file.labels,test_file.text_labels))\n",
        "\n",
        "import seaborn as sns\n",
        "from sklearn.metrics import confusion_matrix\n",
        "conf_mat = confusion_matrix(list(test_file.labels), list(test_file['text_labels']))\n",
        "fig, ax = plt.subplots(figsize=(10,10))\n",
        "sns.heatmap(conf_mat, annot=True, fmt='d',\n",
        "            xticklabels=set(test_file.labels), yticklabels=set(test_file.labels))\n",
        "plt.ylabel('Actual')\n",
        "plt.xlabel('Predicted')\n",
        "plt.title('BERT oversampled')\n",
        "plt.show()"
      ],
      "execution_count": null,
      "outputs": [
        {
          "output_type": "stream",
          "name": "stdout",
          "text": [
            "                         precision    recall  f1-score   support\n",
            "\n",
            "               Argument       0.66      0.77      0.71        56\n",
            "                  Facts       0.61      0.64      0.62       154\n",
            "              Precedent       0.35      0.66      0.46        79\n",
            "  Ratio of the decision       0.68      0.38      0.49       314\n",
            "  Ruling by Lower Court       0.22      0.48      0.30        25\n",
            "Ruling by Present Court       0.65      0.85      0.74        40\n",
            "                Statute       0.53      0.79      0.64        29\n",
            "\n",
            "               accuracy                           0.55       697\n",
            "              macro avg       0.53      0.65      0.57       697\n",
            "           weighted avg       0.60      0.55      0.55       697\n",
            "\n"
          ]
        },
        {
          "output_type": "display_data",
          "data": {
            "image/png": "[encoded data removed]",
            "text/plain": [
              "<Figure size 720x720 with 2 Axes>"
            ]
          },
          "metadata": {}
        }
      ]
    },
    {
      "cell_type": "code",
      "metadata": {
        "colab": {
          "base_uri": "https://localhost:8080/",
          "height": 606
        },
        "id": "voIe6cP9Dp70",
        "outputId": "bb96c078-3bdd-4cec-ce88-642853d905d0"
      },
      "source": [
        "run=[\"nit_agartala_nlp_team_1\"]*697\n",
        "test_file['run_id']=run\n",
        "test_file.rename(columns = {'ID':'docid_sentid', 'text-labels':'label'}, inplace = True)\n",
        "test_file"
      ],
      "execution_count": null,
      "outputs": [
        {
          "output_type": "execute_result",
          "data": {
            "text/html": [
              "<div>\n",
              "<style scoped>\n",
              "    .dataframe tbody tr th:only-of-type {\n",
              "        vertical-align: middle;\n",
              "    }\n",
              "\n",
              "    .dataframe tbody tr th {\n",
              "        vertical-align: top;\n",
              "    }\n",
              "\n",
              "    .dataframe thead th {\n",
              "        text-align: right;\n",
              "    }\n",
              "</style>\n",
              "<table border=\"1\" class=\"dataframe\">\n",
              "  <thead>\n",
              "    <tr style=\"text-align: right;\">\n",
              "      <th></th>\n",
              "      <th>docid_sentid</th>\n",
              "      <th>Text</th>\n",
              "      <th>labels</th>\n",
              "      <th>processed</th>\n",
              "      <th>pred-labels</th>\n",
              "      <th>text_labels</th>\n",
              "      <th>run_id</th>\n",
              "    </tr>\n",
              "  </thead>\n",
              "  <tbody>\n",
              "    <tr>\n",
              "      <th>0</th>\n",
              "      <td>d1_s1</td>\n",
              "      <td>These two Criminal Appeals are preferred by th...</td>\n",
              "      <td>Facts</td>\n",
              "      <td>two criminal appeal preferred accused judgment...</td>\n",
              "      <td>0</td>\n",
              "      <td>Facts</td>\n",
              "      <td>nit_agartala_nlp_team_1</td>\n",
              "    </tr>\n",
              "    <tr>\n",
              "      <th>1</th>\n",
              "      <td>d1_s2</td>\n",
              "      <td>Application no. 1295 of 2011 and 1296 of 2011 ...</td>\n",
              "      <td>Facts</td>\n",
              "      <td>application . passed learned single judge bomb...</td>\n",
              "      <td>0</td>\n",
              "      <td>Facts</td>\n",
              "      <td>nit_agartala_nlp_team_1</td>\n",
              "    </tr>\n",
              "    <tr>\n",
              "      <th>2</th>\n",
              "      <td>d1_s3</td>\n",
              "      <td>The respondent no. 1 Shyam Vithalrao Devkatta,...</td>\n",
              "      <td>Facts</td>\n",
              "      <td>respondent . shyam vithalrao devkatta filed co...</td>\n",
              "      <td>0</td>\n",
              "      <td>Facts</td>\n",
              "      <td>nit_agartala_nlp_team_1</td>\n",
              "    </tr>\n",
              "    <tr>\n",
              "      <th>3</th>\n",
              "      <td>d1_s4</td>\n",
              "      <td>Upon due verification process was issued by th...</td>\n",
              "      <td>Facts</td>\n",
              "      <td>upon due verification process issued learned m...</td>\n",
              "      <td>0</td>\n",
              "      <td>Facts</td>\n",
              "      <td>nit_agartala_nlp_team_1</td>\n",
              "    </tr>\n",
              "    <tr>\n",
              "      <th>4</th>\n",
              "      <td>d1_s5</td>\n",
              "      <td>Of these accused, four approached the Bombay H...</td>\n",
              "      <td>Facts</td>\n",
              "      <td>accused four approached bombay high court way ...</td>\n",
              "      <td>0</td>\n",
              "      <td>Facts</td>\n",
              "      <td>nit_agartala_nlp_team_1</td>\n",
              "    </tr>\n",
              "    <tr>\n",
              "      <th>...</th>\n",
              "      <td>...</td>\n",
              "      <td>...</td>\n",
              "      <td>...</td>\n",
              "      <td>...</td>\n",
              "      <td>...</td>\n",
              "      <td>...</td>\n",
              "      <td>...</td>\n",
              "    </tr>\n",
              "    <tr>\n",
              "      <th>692</th>\n",
              "      <td>d10_s60</td>\n",
              "      <td>Applying the above principles, it is clear fro...</td>\n",
              "      <td>Ratio of the decision</td>\n",
              "      <td>applying principle clear finding two court cir...</td>\n",
              "      <td>3</td>\n",
              "      <td>Precedent</td>\n",
              "      <td>nit_agartala_nlp_team_1</td>\n",
              "    </tr>\n",
              "    <tr>\n",
              "      <th>693</th>\n",
              "      <td>d10_s61</td>\n",
              "      <td>Kalawati was last seen in the company of the a...</td>\n",
              "      <td>Ratio of the decision</td>\n",
              "      <td>kalawati last seen company appellant gher even...</td>\n",
              "      <td>0</td>\n",
              "      <td>Facts</td>\n",
              "      <td>nit_agartala_nlp_team_1</td>\n",
              "    </tr>\n",
              "    <tr>\n",
              "      <th>694</th>\n",
              "      <td>d10_s62</td>\n",
              "      <td>After his arrest, the production, by the appel...</td>\n",
              "      <td>Ratio of the decision</td>\n",
              "      <td>arrest production appellant ornament worn kala...</td>\n",
              "      <td>4</td>\n",
              "      <td>Ratio of the decision</td>\n",
              "      <td>nit_agartala_nlp_team_1</td>\n",
              "    </tr>\n",
              "    <tr>\n",
              "      <th>695</th>\n",
              "      <td>d10_s63</td>\n",
              "      <td>To conclude, the appellant has been rightly co...</td>\n",
              "      <td>Ruling by Present Court</td>\n",
              "      <td>conclude appellant rightly convicted sentenced...</td>\n",
              "      <td>6</td>\n",
              "      <td>Ruling by Present Court</td>\n",
              "      <td>nit_agartala_nlp_team_1</td>\n",
              "    </tr>\n",
              "    <tr>\n",
              "      <th>696</th>\n",
              "      <td>d10_s64</td>\n",
              "      <td>Appeal Dismissed.</td>\n",
              "      <td>Ruling by Present Court</td>\n",
              "      <td>appeal dismissed .</td>\n",
              "      <td>6</td>\n",
              "      <td>Ruling by Present Court</td>\n",
              "      <td>nit_agartala_nlp_team_1</td>\n",
              "    </tr>\n",
              "  </tbody>\n",
              "</table>\n",
              "<p>697 rows × 7 columns</p>\n",
              "</div>"
            ],
            "text/plain": [
              "    docid_sentid  ...                   run_id\n",
              "0          d1_s1  ...  nit_agartala_nlp_team_1\n",
              "1          d1_s2  ...  nit_agartala_nlp_team_1\n",
              "2          d1_s3  ...  nit_agartala_nlp_team_1\n",
              "3          d1_s4  ...  nit_agartala_nlp_team_1\n",
              "4          d1_s5  ...  nit_agartala_nlp_team_1\n",
              "..           ...  ...                      ...\n",
              "692      d10_s60  ...  nit_agartala_nlp_team_1\n",
              "693      d10_s61  ...  nit_agartala_nlp_team_1\n",
              "694      d10_s62  ...  nit_agartala_nlp_team_1\n",
              "695      d10_s63  ...  nit_agartala_nlp_team_1\n",
              "696      d10_s64  ...  nit_agartala_nlp_team_1\n",
              "\n",
              "[697 rows x 7 columns]"
            ]
          },
          "metadata": {},
          "execution_count": 138
        }
      ]
    },
    {
      "cell_type": "code",
      "metadata": {
        "id": "QgK8-1_YX8hw"
      },
      "source": [
        "test_file = test_file.drop(['Text', 'labels', 'processed', 'pred-labels'], axis=1)"
      ],
      "execution_count": null,
      "outputs": []
    },
    {
      "cell_type": "code",
      "metadata": {
        "id": "BTKsalm4NtEm"
      },
      "source": [
        "test_file.to_csv('nit_agartala_nlp_team_1.tsv', sep='\\t', index=False)"
      ],
      "execution_count": null,
      "outputs": []
    },
    {
      "cell_type": "code",
      "metadata": {
        "id": "_LiIQNFlNxKl"
      },
      "source": [
        "trrr = pd.read_csv('nit_agartala_nlp_team_1.tsv', sep='\\t')"
      ],
      "execution_count": null,
      "outputs": []
    },
    {
      "cell_type": "code",
      "metadata": {
        "id": "bGwf67tnNzo1",
        "colab": {
          "base_uri": "https://localhost:8080/",
          "height": 204
        },
        "outputId": "e5551016-4be4-4cc8-a6d4-f7cc1732f67d"
      },
      "source": [
        "trrr.head()"
      ],
      "execution_count": null,
      "outputs": [
        {
          "output_type": "execute_result",
          "data": {
            "text/html": [
              "<div>\n",
              "<style scoped>\n",
              "    .dataframe tbody tr th:only-of-type {\n",
              "        vertical-align: middle;\n",
              "    }\n",
              "\n",
              "    .dataframe tbody tr th {\n",
              "        vertical-align: top;\n",
              "    }\n",
              "\n",
              "    .dataframe thead th {\n",
              "        text-align: right;\n",
              "    }\n",
              "</style>\n",
              "<table border=\"1\" class=\"dataframe\">\n",
              "  <thead>\n",
              "    <tr style=\"text-align: right;\">\n",
              "      <th></th>\n",
              "      <th>docid_sentid</th>\n",
              "      <th>text_labels</th>\n",
              "      <th>run_id</th>\n",
              "    </tr>\n",
              "  </thead>\n",
              "  <tbody>\n",
              "    <tr>\n",
              "      <th>0</th>\n",
              "      <td>d1_s1</td>\n",
              "      <td>Facts</td>\n",
              "      <td>nit_agartala_nlp_team_1</td>\n",
              "    </tr>\n",
              "    <tr>\n",
              "      <th>1</th>\n",
              "      <td>d1_s2</td>\n",
              "      <td>Facts</td>\n",
              "      <td>nit_agartala_nlp_team_1</td>\n",
              "    </tr>\n",
              "    <tr>\n",
              "      <th>2</th>\n",
              "      <td>d1_s3</td>\n",
              "      <td>Facts</td>\n",
              "      <td>nit_agartala_nlp_team_1</td>\n",
              "    </tr>\n",
              "    <tr>\n",
              "      <th>3</th>\n",
              "      <td>d1_s4</td>\n",
              "      <td>Facts</td>\n",
              "      <td>nit_agartala_nlp_team_1</td>\n",
              "    </tr>\n",
              "    <tr>\n",
              "      <th>4</th>\n",
              "      <td>d1_s5</td>\n",
              "      <td>Facts</td>\n",
              "      <td>nit_agartala_nlp_team_1</td>\n",
              "    </tr>\n",
              "  </tbody>\n",
              "</table>\n",
              "</div>"
            ],
            "text/plain": [
              "  docid_sentid text_labels                   run_id\n",
              "0        d1_s1       Facts  nit_agartala_nlp_team_1\n",
              "1        d1_s2       Facts  nit_agartala_nlp_team_1\n",
              "2        d1_s3       Facts  nit_agartala_nlp_team_1\n",
              "3        d1_s4       Facts  nit_agartala_nlp_team_1\n",
              "4        d1_s5       Facts  nit_agartala_nlp_team_1"
            ]
          },
          "metadata": {},
          "execution_count": 142
        }
      ]
    }
  ]
}