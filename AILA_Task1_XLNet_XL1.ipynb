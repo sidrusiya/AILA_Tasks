{
  "nbformat": 4,
  "nbformat_minor": 0,
  "metadata": {
    "colab": {
      "name": "AILA_Task1_XLNet_XL1.ipynb",
      "provenance": [],
      "collapsed_sections": [],
      "include_colab_link": true
    },
    "kernelspec": {
      "name": "python3",
      "display_name": "Python 3"
    },
    "language_info": {
      "name": "python"
    },
    "accelerator": "GPU",
    "widgets": {
      "application/vnd.jupyter.widget-state+json": {
        "fd39646e7e7247b1bf909cec8a77559f": {
          "model_module": "@jupyter-widgets/controls",
          "model_name": "HBoxModel",
          "model_module_version": "1.5.0",
          "state": {
            "_view_name": "HBoxView",
            "_dom_classes": [],
            "_model_name": "HBoxModel",
            "_view_module": "@jupyter-widgets/controls",
            "_model_module_version": "1.5.0",
            "_view_count": null,
            "_view_module_version": "1.5.0",
            "box_style": "",
            "layout": "IPY_MODEL_6913516a9b844e6bb124ae7f7c361ef8",
            "_model_module": "@jupyter-widgets/controls",
            "children": [
              "IPY_MODEL_0047d543bdfd432aa7d73c788270b49d",
              "IPY_MODEL_2b9eece1fd5c47869e332e0e6c7a6169",
              "IPY_MODEL_91d0b934baef4b248c4aee4fa3ba48b3"
            ]
          }
        },
        "6913516a9b844e6bb124ae7f7c361ef8": {
          "model_module": "@jupyter-widgets/base",
          "model_name": "LayoutModel",
          "model_module_version": "1.2.0",
          "state": {
            "_view_name": "LayoutView",
            "grid_template_rows": null,
            "right": null,
            "justify_content": null,
            "_view_module": "@jupyter-widgets/base",
            "overflow": null,
            "_model_module_version": "1.2.0",
            "_view_count": null,
            "flex_flow": null,
            "width": null,
            "min_width": null,
            "border": null,
            "align_items": null,
            "bottom": null,
            "_model_module": "@jupyter-widgets/base",
            "top": null,
            "grid_column": null,
            "overflow_y": null,
            "overflow_x": null,
            "grid_auto_flow": null,
            "grid_area": null,
            "grid_template_columns": null,
            "flex": null,
            "_model_name": "LayoutModel",
            "justify_items": null,
            "grid_row": null,
            "max_height": null,
            "align_content": null,
            "visibility": null,
            "align_self": null,
            "height": null,
            "min_height": null,
            "padding": null,
            "grid_auto_rows": null,
            "grid_gap": null,
            "max_width": null,
            "order": null,
            "_view_module_version": "1.2.0",
            "grid_template_areas": null,
            "object_position": null,
            "object_fit": null,
            "grid_auto_columns": null,
            "margin": null,
            "display": null,
            "left": null
          }
        },
        "0047d543bdfd432aa7d73c788270b49d": {
          "model_module": "@jupyter-widgets/controls",
          "model_name": "HTMLModel",
          "model_module_version": "1.5.0",
          "state": {
            "_view_name": "HTMLView",
            "style": "IPY_MODEL_cefd96ecfa62475eb478a6d9910b449e",
            "_dom_classes": [],
            "description": "",
            "_model_name": "HTMLModel",
            "placeholder": "​",
            "_view_module": "@jupyter-widgets/controls",
            "_model_module_version": "1.5.0",
            "value": "Downloading: 100%",
            "_view_count": null,
            "_view_module_version": "1.5.0",
            "description_tooltip": null,
            "_model_module": "@jupyter-widgets/controls",
            "layout": "IPY_MODEL_87c92b66c0594a659019d8fa85fff0cf"
          }
        },
        "2b9eece1fd5c47869e332e0e6c7a6169": {
          "model_module": "@jupyter-widgets/controls",
          "model_name": "FloatProgressModel",
          "model_module_version": "1.5.0",
          "state": {
            "_view_name": "ProgressView",
            "style": "IPY_MODEL_cb0302879557476bb0195ea6ab5a19cc",
            "_dom_classes": [],
            "description": "",
            "_model_name": "FloatProgressModel",
            "bar_style": "success",
            "max": 760,
            "_view_module": "@jupyter-widgets/controls",
            "_model_module_version": "1.5.0",
            "value": 760,
            "_view_count": null,
            "_view_module_version": "1.5.0",
            "orientation": "horizontal",
            "min": 0,
            "description_tooltip": null,
            "_model_module": "@jupyter-widgets/controls",
            "layout": "IPY_MODEL_da08723efe2f446bb45c890736fc3b03"
          }
        },
        "91d0b934baef4b248c4aee4fa3ba48b3": {
          "model_module": "@jupyter-widgets/controls",
          "model_name": "HTMLModel",
          "model_module_version": "1.5.0",
          "state": {
            "_view_name": "HTMLView",
            "style": "IPY_MODEL_c89d63f4ac744eb59af9a3865146168d",
            "_dom_classes": [],
            "description": "",
            "_model_name": "HTMLModel",
            "placeholder": "​",
            "_view_module": "@jupyter-widgets/controls",
            "_model_module_version": "1.5.0",
            "value": " 760/760 [00:00&lt;00:00, 21.5kB/s]",
            "_view_count": null,
            "_view_module_version": "1.5.0",
            "description_tooltip": null,
            "_model_module": "@jupyter-widgets/controls",
            "layout": "IPY_MODEL_73eae0fb54c04a988d7ceb5cecee607c"
          }
        },
        "cefd96ecfa62475eb478a6d9910b449e": {
          "model_module": "@jupyter-widgets/controls",
          "model_name": "DescriptionStyleModel",
          "model_module_version": "1.5.0",
          "state": {
            "_view_name": "StyleView",
            "_model_name": "DescriptionStyleModel",
            "description_width": "",
            "_view_module": "@jupyter-widgets/base",
            "_model_module_version": "1.5.0",
            "_view_count": null,
            "_view_module_version": "1.2.0",
            "_model_module": "@jupyter-widgets/controls"
          }
        },
        "87c92b66c0594a659019d8fa85fff0cf": {
          "model_module": "@jupyter-widgets/base",
          "model_name": "LayoutModel",
          "model_module_version": "1.2.0",
          "state": {
            "_view_name": "LayoutView",
            "grid_template_rows": null,
            "right": null,
            "justify_content": null,
            "_view_module": "@jupyter-widgets/base",
            "overflow": null,
            "_model_module_version": "1.2.0",
            "_view_count": null,
            "flex_flow": null,
            "width": null,
            "min_width": null,
            "border": null,
            "align_items": null,
            "bottom": null,
            "_model_module": "@jupyter-widgets/base",
            "top": null,
            "grid_column": null,
            "overflow_y": null,
            "overflow_x": null,
            "grid_auto_flow": null,
            "grid_area": null,
            "grid_template_columns": null,
            "flex": null,
            "_model_name": "LayoutModel",
            "justify_items": null,
            "grid_row": null,
            "max_height": null,
            "align_content": null,
            "visibility": null,
            "align_self": null,
            "height": null,
            "min_height": null,
            "padding": null,
            "grid_auto_rows": null,
            "grid_gap": null,
            "max_width": null,
            "order": null,
            "_view_module_version": "1.2.0",
            "grid_template_areas": null,
            "object_position": null,
            "object_fit": null,
            "grid_auto_columns": null,
            "margin": null,
            "display": null,
            "left": null
          }
        },
        "cb0302879557476bb0195ea6ab5a19cc": {
          "model_module": "@jupyter-widgets/controls",
          "model_name": "ProgressStyleModel",
          "model_module_version": "1.5.0",
          "state": {
            "_view_name": "StyleView",
            "_model_name": "ProgressStyleModel",
            "description_width": "",
            "_view_module": "@jupyter-widgets/base",
            "_model_module_version": "1.5.0",
            "_view_count": null,
            "_view_module_version": "1.2.0",
            "bar_color": null,
            "_model_module": "@jupyter-widgets/controls"
          }
        },
        "da08723efe2f446bb45c890736fc3b03": {
          "model_module": "@jupyter-widgets/base",
          "model_name": "LayoutModel",
          "model_module_version": "1.2.0",
          "state": {
            "_view_name": "LayoutView",
            "grid_template_rows": null,
            "right": null,
            "justify_content": null,
            "_view_module": "@jupyter-widgets/base",
            "overflow": null,
            "_model_module_version": "1.2.0",
            "_view_count": null,
            "flex_flow": null,
            "width": null,
            "min_width": null,
            "border": null,
            "align_items": null,
            "bottom": null,
            "_model_module": "@jupyter-widgets/base",
            "top": null,
            "grid_column": null,
            "overflow_y": null,
            "overflow_x": null,
            "grid_auto_flow": null,
            "grid_area": null,
            "grid_template_columns": null,
            "flex": null,
            "_model_name": "LayoutModel",
            "justify_items": null,
            "grid_row": null,
            "max_height": null,
            "align_content": null,
            "visibility": null,
            "align_self": null,
            "height": null,
            "min_height": null,
            "padding": null,
            "grid_auto_rows": null,
            "grid_gap": null,
            "max_width": null,
            "order": null,
            "_view_module_version": "1.2.0",
            "grid_template_areas": null,
            "object_position": null,
            "object_fit": null,
            "grid_auto_columns": null,
            "margin": null,
            "display": null,
            "left": null
          }
        },
        "c89d63f4ac744eb59af9a3865146168d": {
          "model_module": "@jupyter-widgets/controls",
          "model_name": "DescriptionStyleModel",
          "model_module_version": "1.5.0",
          "state": {
            "_view_name": "StyleView",
            "_model_name": "DescriptionStyleModel",
            "description_width": "",
            "_view_module": "@jupyter-widgets/base",
            "_model_module_version": "1.5.0",
            "_view_count": null,
            "_view_module_version": "1.2.0",
            "_model_module": "@jupyter-widgets/controls"
          }
        },
        "73eae0fb54c04a988d7ceb5cecee607c": {
          "model_module": "@jupyter-widgets/base",
          "model_name": "LayoutModel",
          "model_module_version": "1.2.0",
          "state": {
            "_view_name": "LayoutView",
            "grid_template_rows": null,
            "right": null,
            "justify_content": null,
            "_view_module": "@jupyter-widgets/base",
            "overflow": null,
            "_model_module_version": "1.2.0",
            "_view_count": null,
            "flex_flow": null,
            "width": null,
            "min_width": null,
            "border": null,
            "align_items": null,
            "bottom": null,
            "_model_module": "@jupyter-widgets/base",
            "top": null,
            "grid_column": null,
            "overflow_y": null,
            "overflow_x": null,
            "grid_auto_flow": null,
            "grid_area": null,
            "grid_template_columns": null,
            "flex": null,
            "_model_name": "LayoutModel",
            "justify_items": null,
            "grid_row": null,
            "max_height": null,
            "align_content": null,
            "visibility": null,
            "align_self": null,
            "height": null,
            "min_height": null,
            "padding": null,
            "grid_auto_rows": null,
            "grid_gap": null,
            "max_width": null,
            "order": null,
            "_view_module_version": "1.2.0",
            "grid_template_areas": null,
            "object_position": null,
            "object_fit": null,
            "grid_auto_columns": null,
            "margin": null,
            "display": null,
            "left": null
          }
        },
        "6fbbb47088b2411b8822450a781b909a": {
          "model_module": "@jupyter-widgets/controls",
          "model_name": "HBoxModel",
          "model_module_version": "1.5.0",
          "state": {
            "_view_name": "HBoxView",
            "_dom_classes": [],
            "_model_name": "HBoxModel",
            "_view_module": "@jupyter-widgets/controls",
            "_model_module_version": "1.5.0",
            "_view_count": null,
            "_view_module_version": "1.5.0",
            "box_style": "",
            "layout": "IPY_MODEL_da84aeb5e2e2458d9df0ef09208f29c0",
            "_model_module": "@jupyter-widgets/controls",
            "children": [
              "IPY_MODEL_abe5882c0e8c49be9ddee43d5cba2a02",
              "IPY_MODEL_2f08a725824746fe96164a05e512b6c3",
              "IPY_MODEL_11dd12a92988475aaf928624ef5081da"
            ]
          }
        },
        "da84aeb5e2e2458d9df0ef09208f29c0": {
          "model_module": "@jupyter-widgets/base",
          "model_name": "LayoutModel",
          "model_module_version": "1.2.0",
          "state": {
            "_view_name": "LayoutView",
            "grid_template_rows": null,
            "right": null,
            "justify_content": null,
            "_view_module": "@jupyter-widgets/base",
            "overflow": null,
            "_model_module_version": "1.2.0",
            "_view_count": null,
            "flex_flow": null,
            "width": null,
            "min_width": null,
            "border": null,
            "align_items": null,
            "bottom": null,
            "_model_module": "@jupyter-widgets/base",
            "top": null,
            "grid_column": null,
            "overflow_y": null,
            "overflow_x": null,
            "grid_auto_flow": null,
            "grid_area": null,
            "grid_template_columns": null,
            "flex": null,
            "_model_name": "LayoutModel",
            "justify_items": null,
            "grid_row": null,
            "max_height": null,
            "align_content": null,
            "visibility": null,
            "align_self": null,
            "height": null,
            "min_height": null,
            "padding": null,
            "grid_auto_rows": null,
            "grid_gap": null,
            "max_width": null,
            "order": null,
            "_view_module_version": "1.2.0",
            "grid_template_areas": null,
            "object_position": null,
            "object_fit": null,
            "grid_auto_columns": null,
            "margin": null,
            "display": null,
            "left": null
          }
        },
        "abe5882c0e8c49be9ddee43d5cba2a02": {
          "model_module": "@jupyter-widgets/controls",
          "model_name": "HTMLModel",
          "model_module_version": "1.5.0",
          "state": {
            "_view_name": "HTMLView",
            "style": "IPY_MODEL_11334806de514eb3ac5919808a57c7cd",
            "_dom_classes": [],
            "description": "",
            "_model_name": "HTMLModel",
            "placeholder": "​",
            "_view_module": "@jupyter-widgets/controls",
            "_model_module_version": "1.5.0",
            "value": "Downloading: 100%",
            "_view_count": null,
            "_view_module_version": "1.5.0",
            "description_tooltip": null,
            "_model_module": "@jupyter-widgets/controls",
            "layout": "IPY_MODEL_80a0bc9c49e640399b50e1714bc45a49"
          }
        },
        "2f08a725824746fe96164a05e512b6c3": {
          "model_module": "@jupyter-widgets/controls",
          "model_name": "FloatProgressModel",
          "model_module_version": "1.5.0",
          "state": {
            "_view_name": "ProgressView",
            "style": "IPY_MODEL_cab26ff13d434e07ac26672de78fd25a",
            "_dom_classes": [],
            "description": "",
            "_model_name": "FloatProgressModel",
            "bar_style": "success",
            "max": 798011,
            "_view_module": "@jupyter-widgets/controls",
            "_model_module_version": "1.5.0",
            "value": 798011,
            "_view_count": null,
            "_view_module_version": "1.5.0",
            "orientation": "horizontal",
            "min": 0,
            "description_tooltip": null,
            "_model_module": "@jupyter-widgets/controls",
            "layout": "IPY_MODEL_669561583cec427294a0c3611d5f2c41"
          }
        },
        "11dd12a92988475aaf928624ef5081da": {
          "model_module": "@jupyter-widgets/controls",
          "model_name": "HTMLModel",
          "model_module_version": "1.5.0",
          "state": {
            "_view_name": "HTMLView",
            "style": "IPY_MODEL_288dd0012c7e477da859d36361de9d46",
            "_dom_classes": [],
            "description": "",
            "_model_name": "HTMLModel",
            "placeholder": "​",
            "_view_module": "@jupyter-widgets/controls",
            "_model_module_version": "1.5.0",
            "value": " 779k/779k [00:00&lt;00:00, 970kB/s]",
            "_view_count": null,
            "_view_module_version": "1.5.0",
            "description_tooltip": null,
            "_model_module": "@jupyter-widgets/controls",
            "layout": "IPY_MODEL_020bd9304b62470487cdb74cdf691296"
          }
        },
        "11334806de514eb3ac5919808a57c7cd": {
          "model_module": "@jupyter-widgets/controls",
          "model_name": "DescriptionStyleModel",
          "model_module_version": "1.5.0",
          "state": {
            "_view_name": "StyleView",
            "_model_name": "DescriptionStyleModel",
            "description_width": "",
            "_view_module": "@jupyter-widgets/base",
            "_model_module_version": "1.5.0",
            "_view_count": null,
            "_view_module_version": "1.2.0",
            "_model_module": "@jupyter-widgets/controls"
          }
        },
        "80a0bc9c49e640399b50e1714bc45a49": {
          "model_module": "@jupyter-widgets/base",
          "model_name": "LayoutModel",
          "model_module_version": "1.2.0",
          "state": {
            "_view_name": "LayoutView",
            "grid_template_rows": null,
            "right": null,
            "justify_content": null,
            "_view_module": "@jupyter-widgets/base",
            "overflow": null,
            "_model_module_version": "1.2.0",
            "_view_count": null,
            "flex_flow": null,
            "width": null,
            "min_width": null,
            "border": null,
            "align_items": null,
            "bottom": null,
            "_model_module": "@jupyter-widgets/base",
            "top": null,
            "grid_column": null,
            "overflow_y": null,
            "overflow_x": null,
            "grid_auto_flow": null,
            "grid_area": null,
            "grid_template_columns": null,
            "flex": null,
            "_model_name": "LayoutModel",
            "justify_items": null,
            "grid_row": null,
            "max_height": null,
            "align_content": null,
            "visibility": null,
            "align_self": null,
            "height": null,
            "min_height": null,
            "padding": null,
            "grid_auto_rows": null,
            "grid_gap": null,
            "max_width": null,
            "order": null,
            "_view_module_version": "1.2.0",
            "grid_template_areas": null,
            "object_position": null,
            "object_fit": null,
            "grid_auto_columns": null,
            "margin": null,
            "display": null,
            "left": null
          }
        },
        "cab26ff13d434e07ac26672de78fd25a": {
          "model_module": "@jupyter-widgets/controls",
          "model_name": "ProgressStyleModel",
          "model_module_version": "1.5.0",
          "state": {
            "_view_name": "StyleView",
            "_model_name": "ProgressStyleModel",
            "description_width": "",
            "_view_module": "@jupyter-widgets/base",
            "_model_module_version": "1.5.0",
            "_view_count": null,
            "_view_module_version": "1.2.0",
            "bar_color": null,
            "_model_module": "@jupyter-widgets/controls"
          }
        },
        "669561583cec427294a0c3611d5f2c41": {
          "model_module": "@jupyter-widgets/base",
          "model_name": "LayoutModel",
          "model_module_version": "1.2.0",
          "state": {
            "_view_name": "LayoutView",
            "grid_template_rows": null,
            "right": null,
            "justify_content": null,
            "_view_module": "@jupyter-widgets/base",
            "overflow": null,
            "_model_module_version": "1.2.0",
            "_view_count": null,
            "flex_flow": null,
            "width": null,
            "min_width": null,
            "border": null,
            "align_items": null,
            "bottom": null,
            "_model_module": "@jupyter-widgets/base",
            "top": null,
            "grid_column": null,
            "overflow_y": null,
            "overflow_x": null,
            "grid_auto_flow": null,
            "grid_area": null,
            "grid_template_columns": null,
            "flex": null,
            "_model_name": "LayoutModel",
            "justify_items": null,
            "grid_row": null,
            "max_height": null,
            "align_content": null,
            "visibility": null,
            "align_self": null,
            "height": null,
            "min_height": null,
            "padding": null,
            "grid_auto_rows": null,
            "grid_gap": null,
            "max_width": null,
            "order": null,
            "_view_module_version": "1.2.0",
            "grid_template_areas": null,
            "object_position": null,
            "object_fit": null,
            "grid_auto_columns": null,
            "margin": null,
            "display": null,
            "left": null
          }
        },
        "288dd0012c7e477da859d36361de9d46": {
          "model_module": "@jupyter-widgets/controls",
          "model_name": "DescriptionStyleModel",
          "model_module_version": "1.5.0",
          "state": {
            "_view_name": "StyleView",
            "_model_name": "DescriptionStyleModel",
            "description_width": "",
            "_view_module": "@jupyter-widgets/base",
            "_model_module_version": "1.5.0",
            "_view_count": null,
            "_view_module_version": "1.2.0",
            "_model_module": "@jupyter-widgets/controls"
          }
        },
        "020bd9304b62470487cdb74cdf691296": {
          "model_module": "@jupyter-widgets/base",
          "model_name": "LayoutModel",
          "model_module_version": "1.2.0",
          "state": {
            "_view_name": "LayoutView",
            "grid_template_rows": null,
            "right": null,
            "justify_content": null,
            "_view_module": "@jupyter-widgets/base",
            "overflow": null,
            "_model_module_version": "1.2.0",
            "_view_count": null,
            "flex_flow": null,
            "width": null,
            "min_width": null,
            "border": null,
            "align_items": null,
            "bottom": null,
            "_model_module": "@jupyter-widgets/base",
            "top": null,
            "grid_column": null,
            "overflow_y": null,
            "overflow_x": null,
            "grid_auto_flow": null,
            "grid_area": null,
            "grid_template_columns": null,
            "flex": null,
            "_model_name": "LayoutModel",
            "justify_items": null,
            "grid_row": null,
            "max_height": null,
            "align_content": null,
            "visibility": null,
            "align_self": null,
            "height": null,
            "min_height": null,
            "padding": null,
            "grid_auto_rows": null,
            "grid_gap": null,
            "max_width": null,
            "order": null,
            "_view_module_version": "1.2.0",
            "grid_template_areas": null,
            "object_position": null,
            "object_fit": null,
            "grid_auto_columns": null,
            "margin": null,
            "display": null,
            "left": null
          }
        },
        "9b2d8fe9bc2c44408b77c2b66f536913": {
          "model_module": "@jupyter-widgets/controls",
          "model_name": "HBoxModel",
          "model_module_version": "1.5.0",
          "state": {
            "_view_name": "HBoxView",
            "_dom_classes": [],
            "_model_name": "HBoxModel",
            "_view_module": "@jupyter-widgets/controls",
            "_model_module_version": "1.5.0",
            "_view_count": null,
            "_view_module_version": "1.5.0",
            "box_style": "",
            "layout": "IPY_MODEL_ec0f5e7018fd4812bf4afdb41e128a66",
            "_model_module": "@jupyter-widgets/controls",
            "children": [
              "IPY_MODEL_274e56ccb14a4320a1d901e11c00a977",
              "IPY_MODEL_e5e9b18a9e844bc8b24adcbbfbf6de5a",
              "IPY_MODEL_1c11beaca9e4472e90b8373b3016160f"
            ]
          }
        },
        "ec0f5e7018fd4812bf4afdb41e128a66": {
          "model_module": "@jupyter-widgets/base",
          "model_name": "LayoutModel",
          "model_module_version": "1.2.0",
          "state": {
            "_view_name": "LayoutView",
            "grid_template_rows": null,
            "right": null,
            "justify_content": null,
            "_view_module": "@jupyter-widgets/base",
            "overflow": null,
            "_model_module_version": "1.2.0",
            "_view_count": null,
            "flex_flow": null,
            "width": null,
            "min_width": null,
            "border": null,
            "align_items": null,
            "bottom": null,
            "_model_module": "@jupyter-widgets/base",
            "top": null,
            "grid_column": null,
            "overflow_y": null,
            "overflow_x": null,
            "grid_auto_flow": null,
            "grid_area": null,
            "grid_template_columns": null,
            "flex": null,
            "_model_name": "LayoutModel",
            "justify_items": null,
            "grid_row": null,
            "max_height": null,
            "align_content": null,
            "visibility": null,
            "align_self": null,
            "height": null,
            "min_height": null,
            "padding": null,
            "grid_auto_rows": null,
            "grid_gap": null,
            "max_width": null,
            "order": null,
            "_view_module_version": "1.2.0",
            "grid_template_areas": null,
            "object_position": null,
            "object_fit": null,
            "grid_auto_columns": null,
            "margin": null,
            "display": null,
            "left": null
          }
        },
        "274e56ccb14a4320a1d901e11c00a977": {
          "model_module": "@jupyter-widgets/controls",
          "model_name": "HTMLModel",
          "model_module_version": "1.5.0",
          "state": {
            "_view_name": "HTMLView",
            "style": "IPY_MODEL_68f930a0764a4252966f70aa17614181",
            "_dom_classes": [],
            "description": "",
            "_model_name": "HTMLModel",
            "placeholder": "​",
            "_view_module": "@jupyter-widgets/controls",
            "_model_module_version": "1.5.0",
            "value": "Downloading: 100%",
            "_view_count": null,
            "_view_module_version": "1.5.0",
            "description_tooltip": null,
            "_model_module": "@jupyter-widgets/controls",
            "layout": "IPY_MODEL_369aafc061e54801bc548c827473cc6c"
          }
        },
        "e5e9b18a9e844bc8b24adcbbfbf6de5a": {
          "model_module": "@jupyter-widgets/controls",
          "model_name": "FloatProgressModel",
          "model_module_version": "1.5.0",
          "state": {
            "_view_name": "ProgressView",
            "style": "IPY_MODEL_f5ddfd0961fa46c0880b54d76f3cf99f",
            "_dom_classes": [],
            "description": "",
            "_model_name": "FloatProgressModel",
            "bar_style": "success",
            "max": 1382015,
            "_view_module": "@jupyter-widgets/controls",
            "_model_module_version": "1.5.0",
            "value": 1382015,
            "_view_count": null,
            "_view_module_version": "1.5.0",
            "orientation": "horizontal",
            "min": 0,
            "description_tooltip": null,
            "_model_module": "@jupyter-widgets/controls",
            "layout": "IPY_MODEL_84ff53a5705b4f2195088a224dac4535"
          }
        },
        "1c11beaca9e4472e90b8373b3016160f": {
          "model_module": "@jupyter-widgets/controls",
          "model_name": "HTMLModel",
          "model_module_version": "1.5.0",
          "state": {
            "_view_name": "HTMLView",
            "style": "IPY_MODEL_c114ab3e52a443adbe0109fc16467887",
            "_dom_classes": [],
            "description": "",
            "_model_name": "HTMLModel",
            "placeholder": "​",
            "_view_module": "@jupyter-widgets/controls",
            "_model_module_version": "1.5.0",
            "value": " 1.32M/1.32M [00:00&lt;00:00, 4.16MB/s]",
            "_view_count": null,
            "_view_module_version": "1.5.0",
            "description_tooltip": null,
            "_model_module": "@jupyter-widgets/controls",
            "layout": "IPY_MODEL_40da0395f05243529ef4166e8914d8f4"
          }
        },
        "68f930a0764a4252966f70aa17614181": {
          "model_module": "@jupyter-widgets/controls",
          "model_name": "DescriptionStyleModel",
          "model_module_version": "1.5.0",
          "state": {
            "_view_name": "StyleView",
            "_model_name": "DescriptionStyleModel",
            "description_width": "",
            "_view_module": "@jupyter-widgets/base",
            "_model_module_version": "1.5.0",
            "_view_count": null,
            "_view_module_version": "1.2.0",
            "_model_module": "@jupyter-widgets/controls"
          }
        },
        "369aafc061e54801bc548c827473cc6c": {
          "model_module": "@jupyter-widgets/base",
          "model_name": "LayoutModel",
          "model_module_version": "1.2.0",
          "state": {
            "_view_name": "LayoutView",
            "grid_template_rows": null,
            "right": null,
            "justify_content": null,
            "_view_module": "@jupyter-widgets/base",
            "overflow": null,
            "_model_module_version": "1.2.0",
            "_view_count": null,
            "flex_flow": null,
            "width": null,
            "min_width": null,
            "border": null,
            "align_items": null,
            "bottom": null,
            "_model_module": "@jupyter-widgets/base",
            "top": null,
            "grid_column": null,
            "overflow_y": null,
            "overflow_x": null,
            "grid_auto_flow": null,
            "grid_area": null,
            "grid_template_columns": null,
            "flex": null,
            "_model_name": "LayoutModel",
            "justify_items": null,
            "grid_row": null,
            "max_height": null,
            "align_content": null,
            "visibility": null,
            "align_self": null,
            "height": null,
            "min_height": null,
            "padding": null,
            "grid_auto_rows": null,
            "grid_gap": null,
            "max_width": null,
            "order": null,
            "_view_module_version": "1.2.0",
            "grid_template_areas": null,
            "object_position": null,
            "object_fit": null,
            "grid_auto_columns": null,
            "margin": null,
            "display": null,
            "left": null
          }
        },
        "f5ddfd0961fa46c0880b54d76f3cf99f": {
          "model_module": "@jupyter-widgets/controls",
          "model_name": "ProgressStyleModel",
          "model_module_version": "1.5.0",
          "state": {
            "_view_name": "StyleView",
            "_model_name": "ProgressStyleModel",
            "description_width": "",
            "_view_module": "@jupyter-widgets/base",
            "_model_module_version": "1.5.0",
            "_view_count": null,
            "_view_module_version": "1.2.0",
            "bar_color": null,
            "_model_module": "@jupyter-widgets/controls"
          }
        },
        "84ff53a5705b4f2195088a224dac4535": {
          "model_module": "@jupyter-widgets/base",
          "model_name": "LayoutModel",
          "model_module_version": "1.2.0",
          "state": {
            "_view_name": "LayoutView",
            "grid_template_rows": null,
            "right": null,
            "justify_content": null,
            "_view_module": "@jupyter-widgets/base",
            "overflow": null,
            "_model_module_version": "1.2.0",
            "_view_count": null,
            "flex_flow": null,
            "width": null,
            "min_width": null,
            "border": null,
            "align_items": null,
            "bottom": null,
            "_model_module": "@jupyter-widgets/base",
            "top": null,
            "grid_column": null,
            "overflow_y": null,
            "overflow_x": null,
            "grid_auto_flow": null,
            "grid_area": null,
            "grid_template_columns": null,
            "flex": null,
            "_model_name": "LayoutModel",
            "justify_items": null,
            "grid_row": null,
            "max_height": null,
            "align_content": null,
            "visibility": null,
            "align_self": null,
            "height": null,
            "min_height": null,
            "padding": null,
            "grid_auto_rows": null,
            "grid_gap": null,
            "max_width": null,
            "order": null,
            "_view_module_version": "1.2.0",
            "grid_template_areas": null,
            "object_position": null,
            "object_fit": null,
            "grid_auto_columns": null,
            "margin": null,
            "display": null,
            "left": null
          }
        },
        "c114ab3e52a443adbe0109fc16467887": {
          "model_module": "@jupyter-widgets/controls",
          "model_name": "DescriptionStyleModel",
          "model_module_version": "1.5.0",
          "state": {
            "_view_name": "StyleView",
            "_model_name": "DescriptionStyleModel",
            "description_width": "",
            "_view_module": "@jupyter-widgets/base",
            "_model_module_version": "1.5.0",
            "_view_count": null,
            "_view_module_version": "1.2.0",
            "_model_module": "@jupyter-widgets/controls"
          }
        },
        "40da0395f05243529ef4166e8914d8f4": {
          "model_module": "@jupyter-widgets/base",
          "model_name": "LayoutModel",
          "model_module_version": "1.2.0",
          "state": {
            "_view_name": "LayoutView",
            "grid_template_rows": null,
            "right": null,
            "justify_content": null,
            "_view_module": "@jupyter-widgets/base",
            "overflow": null,
            "_model_module_version": "1.2.0",
            "_view_count": null,
            "flex_flow": null,
            "width": null,
            "min_width": null,
            "border": null,
            "align_items": null,
            "bottom": null,
            "_model_module": "@jupyter-widgets/base",
            "top": null,
            "grid_column": null,
            "overflow_y": null,
            "overflow_x": null,
            "grid_auto_flow": null,
            "grid_area": null,
            "grid_template_columns": null,
            "flex": null,
            "_model_name": "LayoutModel",
            "justify_items": null,
            "grid_row": null,
            "max_height": null,
            "align_content": null,
            "visibility": null,
            "align_self": null,
            "height": null,
            "min_height": null,
            "padding": null,
            "grid_auto_rows": null,
            "grid_gap": null,
            "max_width": null,
            "order": null,
            "_view_module_version": "1.2.0",
            "grid_template_areas": null,
            "object_position": null,
            "object_fit": null,
            "grid_auto_columns": null,
            "margin": null,
            "display": null,
            "left": null
          }
        },
        "63db9707308e4327b0d9f328397ae7c7": {
          "model_module": "@jupyter-widgets/controls",
          "model_name": "HBoxModel",
          "model_module_version": "1.5.0",
          "state": {
            "_view_name": "HBoxView",
            "_dom_classes": [],
            "_model_name": "HBoxModel",
            "_view_module": "@jupyter-widgets/controls",
            "_model_module_version": "1.5.0",
            "_view_count": null,
            "_view_module_version": "1.5.0",
            "box_style": "",
            "layout": "IPY_MODEL_f46da387ca164e208e4b133f647a8184",
            "_model_module": "@jupyter-widgets/controls",
            "children": [
              "IPY_MODEL_19f714f1f48f4da6b9f9b014bff09f13",
              "IPY_MODEL_724b514f2f9d4780925fb2d7f2cb9e3c",
              "IPY_MODEL_ead2033a9466449d84571762bc1eae57"
            ]
          }
        },
        "f46da387ca164e208e4b133f647a8184": {
          "model_module": "@jupyter-widgets/base",
          "model_name": "LayoutModel",
          "model_module_version": "1.2.0",
          "state": {
            "_view_name": "LayoutView",
            "grid_template_rows": null,
            "right": null,
            "justify_content": null,
            "_view_module": "@jupyter-widgets/base",
            "overflow": null,
            "_model_module_version": "1.2.0",
            "_view_count": null,
            "flex_flow": null,
            "width": null,
            "min_width": null,
            "border": null,
            "align_items": null,
            "bottom": null,
            "_model_module": "@jupyter-widgets/base",
            "top": null,
            "grid_column": null,
            "overflow_y": null,
            "overflow_x": null,
            "grid_auto_flow": null,
            "grid_area": null,
            "grid_template_columns": null,
            "flex": null,
            "_model_name": "LayoutModel",
            "justify_items": null,
            "grid_row": null,
            "max_height": null,
            "align_content": null,
            "visibility": null,
            "align_self": null,
            "height": null,
            "min_height": null,
            "padding": null,
            "grid_auto_rows": null,
            "grid_gap": null,
            "max_width": null,
            "order": null,
            "_view_module_version": "1.2.0",
            "grid_template_areas": null,
            "object_position": null,
            "object_fit": null,
            "grid_auto_columns": null,
            "margin": null,
            "display": null,
            "left": null
          }
        },
        "19f714f1f48f4da6b9f9b014bff09f13": {
          "model_module": "@jupyter-widgets/controls",
          "model_name": "HTMLModel",
          "model_module_version": "1.5.0",
          "state": {
            "_view_name": "HTMLView",
            "style": "IPY_MODEL_9bda3ac8428c42f3bc681cc317a0d4d6",
            "_dom_classes": [],
            "description": "",
            "_model_name": "HTMLModel",
            "placeholder": "​",
            "_view_module": "@jupyter-widgets/controls",
            "_model_module_version": "1.5.0",
            "value": "Downloading: 100%",
            "_view_count": null,
            "_view_module_version": "1.5.0",
            "description_tooltip": null,
            "_model_module": "@jupyter-widgets/controls",
            "layout": "IPY_MODEL_eb31432a65e94abbb515fbeaefaa4745"
          }
        },
        "724b514f2f9d4780925fb2d7f2cb9e3c": {
          "model_module": "@jupyter-widgets/controls",
          "model_name": "FloatProgressModel",
          "model_module_version": "1.5.0",
          "state": {
            "_view_name": "ProgressView",
            "style": "IPY_MODEL_6d7e38bfa86d44e5b8dd73fc7ac1b0c9",
            "_dom_classes": [],
            "description": "",
            "_model_name": "FloatProgressModel",
            "bar_style": "success",
            "max": 565485600,
            "_view_module": "@jupyter-widgets/controls",
            "_model_module_version": "1.5.0",
            "value": 565485600,
            "_view_count": null,
            "_view_module_version": "1.5.0",
            "orientation": "horizontal",
            "min": 0,
            "description_tooltip": null,
            "_model_module": "@jupyter-widgets/controls",
            "layout": "IPY_MODEL_59a8b3415fac431eaccb542e09cf9525"
          }
        },
        "ead2033a9466449d84571762bc1eae57": {
          "model_module": "@jupyter-widgets/controls",
          "model_name": "HTMLModel",
          "model_module_version": "1.5.0",
          "state": {
            "_view_name": "HTMLView",
            "style": "IPY_MODEL_8ae223b7600f4ec081ba8b13e89fba2d",
            "_dom_classes": [],
            "description": "",
            "_model_name": "HTMLModel",
            "placeholder": "​",
            "_view_module": "@jupyter-widgets/controls",
            "_model_module_version": "1.5.0",
            "value": " 539M/539M [00:18&lt;00:00, 33.7MB/s]",
            "_view_count": null,
            "_view_module_version": "1.5.0",
            "description_tooltip": null,
            "_model_module": "@jupyter-widgets/controls",
            "layout": "IPY_MODEL_b6c1337dfb17417a909d12d3ed7c3f9f"
          }
        },
        "9bda3ac8428c42f3bc681cc317a0d4d6": {
          "model_module": "@jupyter-widgets/controls",
          "model_name": "DescriptionStyleModel",
          "model_module_version": "1.5.0",
          "state": {
            "_view_name": "StyleView",
            "_model_name": "DescriptionStyleModel",
            "description_width": "",
            "_view_module": "@jupyter-widgets/base",
            "_model_module_version": "1.5.0",
            "_view_count": null,
            "_view_module_version": "1.2.0",
            "_model_module": "@jupyter-widgets/controls"
          }
        },
        "eb31432a65e94abbb515fbeaefaa4745": {
          "model_module": "@jupyter-widgets/base",
          "model_name": "LayoutModel",
          "model_module_version": "1.2.0",
          "state": {
            "_view_name": "LayoutView",
            "grid_template_rows": null,
            "right": null,
            "justify_content": null,
            "_view_module": "@jupyter-widgets/base",
            "overflow": null,
            "_model_module_version": "1.2.0",
            "_view_count": null,
            "flex_flow": null,
            "width": null,
            "min_width": null,
            "border": null,
            "align_items": null,
            "bottom": null,
            "_model_module": "@jupyter-widgets/base",
            "top": null,
            "grid_column": null,
            "overflow_y": null,
            "overflow_x": null,
            "grid_auto_flow": null,
            "grid_area": null,
            "grid_template_columns": null,
            "flex": null,
            "_model_name": "LayoutModel",
            "justify_items": null,
            "grid_row": null,
            "max_height": null,
            "align_content": null,
            "visibility": null,
            "align_self": null,
            "height": null,
            "min_height": null,
            "padding": null,
            "grid_auto_rows": null,
            "grid_gap": null,
            "max_width": null,
            "order": null,
            "_view_module_version": "1.2.0",
            "grid_template_areas": null,
            "object_position": null,
            "object_fit": null,
            "grid_auto_columns": null,
            "margin": null,
            "display": null,
            "left": null
          }
        },
        "6d7e38bfa86d44e5b8dd73fc7ac1b0c9": {
          "model_module": "@jupyter-widgets/controls",
          "model_name": "ProgressStyleModel",
          "model_module_version": "1.5.0",
          "state": {
            "_view_name": "StyleView",
            "_model_name": "ProgressStyleModel",
            "description_width": "",
            "_view_module": "@jupyter-widgets/base",
            "_model_module_version": "1.5.0",
            "_view_count": null,
            "_view_module_version": "1.2.0",
            "bar_color": null,
            "_model_module": "@jupyter-widgets/controls"
          }
        },
        "59a8b3415fac431eaccb542e09cf9525": {
          "model_module": "@jupyter-widgets/base",
          "model_name": "LayoutModel",
          "model_module_version": "1.2.0",
          "state": {
            "_view_name": "LayoutView",
            "grid_template_rows": null,
            "right": null,
            "justify_content": null,
            "_view_module": "@jupyter-widgets/base",
            "overflow": null,
            "_model_module_version": "1.2.0",
            "_view_count": null,
            "flex_flow": null,
            "width": null,
            "min_width": null,
            "border": null,
            "align_items": null,
            "bottom": null,
            "_model_module": "@jupyter-widgets/base",
            "top": null,
            "grid_column": null,
            "overflow_y": null,
            "overflow_x": null,
            "grid_auto_flow": null,
            "grid_area": null,
            "grid_template_columns": null,
            "flex": null,
            "_model_name": "LayoutModel",
            "justify_items": null,
            "grid_row": null,
            "max_height": null,
            "align_content": null,
            "visibility": null,
            "align_self": null,
            "height": null,
            "min_height": null,
            "padding": null,
            "grid_auto_rows": null,
            "grid_gap": null,
            "max_width": null,
            "order": null,
            "_view_module_version": "1.2.0",
            "grid_template_areas": null,
            "object_position": null,
            "object_fit": null,
            "grid_auto_columns": null,
            "margin": null,
            "display": null,
            "left": null
          }
        },
        "8ae223b7600f4ec081ba8b13e89fba2d": {
          "model_module": "@jupyter-widgets/controls",
          "model_name": "DescriptionStyleModel",
          "model_module_version": "1.5.0",
          "state": {
            "_view_name": "StyleView",
            "_model_name": "DescriptionStyleModel",
            "description_width": "",
            "_view_module": "@jupyter-widgets/base",
            "_model_module_version": "1.5.0",
            "_view_count": null,
            "_view_module_version": "1.2.0",
            "_model_module": "@jupyter-widgets/controls"
          }
        },
        "b6c1337dfb17417a909d12d3ed7c3f9f": {
          "model_module": "@jupyter-widgets/base",
          "model_name": "LayoutModel",
          "model_module_version": "1.2.0",
          "state": {
            "_view_name": "LayoutView",
            "grid_template_rows": null,
            "right": null,
            "justify_content": null,
            "_view_module": "@jupyter-widgets/base",
            "overflow": null,
            "_model_module_version": "1.2.0",
            "_view_count": null,
            "flex_flow": null,
            "width": null,
            "min_width": null,
            "border": null,
            "align_items": null,
            "bottom": null,
            "_model_module": "@jupyter-widgets/base",
            "top": null,
            "grid_column": null,
            "overflow_y": null,
            "overflow_x": null,
            "grid_auto_flow": null,
            "grid_area": null,
            "grid_template_columns": null,
            "flex": null,
            "_model_name": "LayoutModel",
            "justify_items": null,
            "grid_row": null,
            "max_height": null,
            "align_content": null,
            "visibility": null,
            "align_self": null,
            "height": null,
            "min_height": null,
            "padding": null,
            "grid_auto_rows": null,
            "grid_gap": null,
            "max_width": null,
            "order": null,
            "_view_module_version": "1.2.0",
            "grid_template_areas": null,
            "object_position": null,
            "object_fit": null,
            "grid_auto_columns": null,
            "margin": null,
            "display": null,
            "left": null
          }
        }
      }
    }
  },
  "cells": [
    {
      "cell_type": "markdown",
      "metadata": {
        "id": "view-in-github",
        "colab_type": "text"
      },
      "source": [
        "<a href=\"https://colab.research.google.com/github/sidrusiya/AILA_Tasks/blob/main/AILA_Task1_XLNet_XL1.ipynb\" target=\"_parent\"><img src=\"https://colab.research.google.com/assets/colab-badge.svg\" alt=\"Open In Colab\"/></a>"
      ]
    },
    {
      "cell_type": "markdown",
      "metadata": {
        "id": "gc3rb0poratx"
      },
      "source": [
        "# **Import Dataset and Dependencies**"
      ]
    },
    {
      "cell_type": "code",
      "metadata": {
        "id": "l9bMs1iiqEQ9",
        "colab": {
          "base_uri": "https://localhost:8080/"
        },
        "outputId": "4aeb9246-755c-4514-cbd2-17002000de97"
      },
      "source": [
        "import numpy as np\n",
        "import pandas as pd\n",
        "import os\n",
        "import nltk\n",
        "import re\n",
        "import seaborn as sns\n",
        "import gensim\n",
        "nltk.download('all')"
      ],
      "execution_count": 1,
      "outputs": [
        {
          "output_type": "stream",
          "name": "stdout",
          "text": [
            "[nltk_data] Downloading collection 'all'\n",
            "[nltk_data]    | \n",
            "[nltk_data]    | Downloading package abc to /root/nltk_data...\n",
            "[nltk_data]    |   Unzipping corpora/abc.zip.\n",
            "[nltk_data]    | Downloading package alpino to /root/nltk_data...\n",
            "[nltk_data]    |   Unzipping corpora/alpino.zip.\n",
            "[nltk_data]    | Downloading package biocreative_ppi to\n",
            "[nltk_data]    |     /root/nltk_data...\n",
            "[nltk_data]    |   Unzipping corpora/biocreative_ppi.zip.\n",
            "[nltk_data]    | Downloading package brown to /root/nltk_data...\n",
            "[nltk_data]    |   Unzipping corpora/brown.zip.\n",
            "[nltk_data]    | Downloading package brown_tei to /root/nltk_data...\n",
            "[nltk_data]    |   Unzipping corpora/brown_tei.zip.\n",
            "[nltk_data]    | Downloading package cess_cat to /root/nltk_data...\n",
            "[nltk_data]    |   Unzipping corpora/cess_cat.zip.\n",
            "[nltk_data]    | Downloading package cess_esp to /root/nltk_data...\n",
            "[nltk_data]    |   Unzipping corpora/cess_esp.zip.\n",
            "[nltk_data]    | Downloading package chat80 to /root/nltk_data...\n",
            "[nltk_data]    |   Unzipping corpora/chat80.zip.\n",
            "[nltk_data]    | Downloading package city_database to\n",
            "[nltk_data]    |     /root/nltk_data...\n",
            "[nltk_data]    |   Unzipping corpora/city_database.zip.\n",
            "[nltk_data]    | Downloading package cmudict to /root/nltk_data...\n",
            "[nltk_data]    |   Unzipping corpora/cmudict.zip.\n",
            "[nltk_data]    | Downloading package comparative_sentences to\n",
            "[nltk_data]    |     /root/nltk_data...\n",
            "[nltk_data]    |   Unzipping corpora/comparative_sentences.zip.\n",
            "[nltk_data]    | Downloading package comtrans to /root/nltk_data...\n",
            "[nltk_data]    | Downloading package conll2000 to /root/nltk_data...\n",
            "[nltk_data]    |   Unzipping corpora/conll2000.zip.\n",
            "[nltk_data]    | Downloading package conll2002 to /root/nltk_data...\n",
            "[nltk_data]    |   Unzipping corpora/conll2002.zip.\n",
            "[nltk_data]    | Downloading package conll2007 to /root/nltk_data...\n",
            "[nltk_data]    | Downloading package crubadan to /root/nltk_data...\n",
            "[nltk_data]    |   Unzipping corpora/crubadan.zip.\n",
            "[nltk_data]    | Downloading package dependency_treebank to\n",
            "[nltk_data]    |     /root/nltk_data...\n",
            "[nltk_data]    |   Unzipping corpora/dependency_treebank.zip.\n",
            "[nltk_data]    | Downloading package dolch to /root/nltk_data...\n",
            "[nltk_data]    |   Unzipping corpora/dolch.zip.\n",
            "[nltk_data]    | Downloading package europarl_raw to\n",
            "[nltk_data]    |     /root/nltk_data...\n",
            "[nltk_data]    |   Unzipping corpora/europarl_raw.zip.\n",
            "[nltk_data]    | Downloading package floresta to /root/nltk_data...\n",
            "[nltk_data]    |   Unzipping corpora/floresta.zip.\n",
            "[nltk_data]    | Downloading package framenet_v15 to\n",
            "[nltk_data]    |     /root/nltk_data...\n",
            "[nltk_data]    |   Unzipping corpora/framenet_v15.zip.\n",
            "[nltk_data]    | Downloading package framenet_v17 to\n",
            "[nltk_data]    |     /root/nltk_data...\n",
            "[nltk_data]    |   Unzipping corpora/framenet_v17.zip.\n",
            "[nltk_data]    | Downloading package gazetteers to /root/nltk_data...\n",
            "[nltk_data]    |   Unzipping corpora/gazetteers.zip.\n",
            "[nltk_data]    | Downloading package genesis to /root/nltk_data...\n",
            "[nltk_data]    |   Unzipping corpora/genesis.zip.\n",
            "[nltk_data]    | Downloading package gutenberg to /root/nltk_data...\n",
            "[nltk_data]    |   Unzipping corpora/gutenberg.zip.\n",
            "[nltk_data]    | Downloading package ieer to /root/nltk_data...\n",
            "[nltk_data]    |   Unzipping corpora/ieer.zip.\n",
            "[nltk_data]    | Downloading package inaugural to /root/nltk_data...\n",
            "[nltk_data]    |   Unzipping corpora/inaugural.zip.\n",
            "[nltk_data]    | [Errno 21] Is a directory:\n",
            "[nltk_data]    |     '/root/nltk_data/corpora/1789-Washington.txt'\n"
          ]
        },
        {
          "output_type": "execute_result",
          "data": {
            "text/plain": [
              "False"
            ]
          },
          "metadata": {},
          "execution_count": 1
        }
      ]
    },
    {
      "cell_type": "code",
      "metadata": {
        "id": "EESroL50qqOO",
        "colab": {
          "base_uri": "https://localhost:8080/"
        },
        "outputId": "b2be2c0c-ff39-4b0c-e947-e5bb42964c9d"
      },
      "source": [
        "import tensorflow as tf\n",
        "from tensorflow.keras.preprocessing.text import Tokenizer\n",
        "from tensorflow.keras.layers import Embedding, Dense, Dropout, Bidirectional, LSTM\n",
        "from tensorflow.keras.preprocessing.sequence import pad_sequences\n",
        "from tensorflow.keras.utils import to_categorical\n",
        "from google.colab import drive\n",
        "from nltk import WordNetLemmatizer\n",
        "from nltk.corpus import stopwords\n",
        "import matplotlib.pyplot as plt\n",
        "!pip3 install tensorflow_text\n",
        "import tensorflow_text\n",
        "!pip install -q tf-models-official\n",
        "!pip install -q -U tensorflow-text\n",
        "from tensorflow_text.tools.wordpiece_vocab import bert_vocab_from_dataset as bert_vocab\n",
        "import tensorflow_hub as hub\n",
        "import tensorflow_text as tf_text"
      ],
      "execution_count": 2,
      "outputs": [
        {
          "output_type": "stream",
          "name": "stdout",
          "text": [
            "Collecting tensorflow_text\n",
            "  Downloading tensorflow_text-2.7.3-cp37-cp37m-manylinux2010_x86_64.whl (4.9 MB)\n",
            "\u001b[K     |████████████████████████████████| 4.9 MB 5.3 MB/s \n",
            "\u001b[?25hRequirement already satisfied: tensorflow<2.8,>=2.7.0 in /usr/local/lib/python3.7/dist-packages (from tensorflow_text) (2.7.0)\n",
            "Requirement already satisfied: tensorflow-hub>=0.8.0 in /usr/local/lib/python3.7/dist-packages (from tensorflow_text) (0.12.0)\n",
            "Requirement already satisfied: typing-extensions>=3.6.6 in /usr/local/lib/python3.7/dist-packages (from tensorflow<2.8,>=2.7.0->tensorflow_text) (3.10.0.2)\n",
            "Requirement already satisfied: tensorflow-io-gcs-filesystem>=0.21.0 in /usr/local/lib/python3.7/dist-packages (from tensorflow<2.8,>=2.7.0->tensorflow_text) (0.22.0)\n",
            "Requirement already satisfied: gast<0.5.0,>=0.2.1 in /usr/local/lib/python3.7/dist-packages (from tensorflow<2.8,>=2.7.0->tensorflow_text) (0.4.0)\n",
            "Requirement already satisfied: opt-einsum>=2.3.2 in /usr/local/lib/python3.7/dist-packages (from tensorflow<2.8,>=2.7.0->tensorflow_text) (3.3.0)\n",
            "Requirement already satisfied: numpy>=1.14.5 in /usr/local/lib/python3.7/dist-packages (from tensorflow<2.8,>=2.7.0->tensorflow_text) (1.19.5)\n",
            "Requirement already satisfied: tensorflow-estimator<2.8,~=2.7.0rc0 in /usr/local/lib/python3.7/dist-packages (from tensorflow<2.8,>=2.7.0->tensorflow_text) (2.7.0)\n",
            "Requirement already satisfied: wrapt>=1.11.0 in /usr/local/lib/python3.7/dist-packages (from tensorflow<2.8,>=2.7.0->tensorflow_text) (1.13.3)\n",
            "Requirement already satisfied: h5py>=2.9.0 in /usr/local/lib/python3.7/dist-packages (from tensorflow<2.8,>=2.7.0->tensorflow_text) (3.1.0)\n",
            "Requirement already satisfied: protobuf>=3.9.2 in /usr/local/lib/python3.7/dist-packages (from tensorflow<2.8,>=2.7.0->tensorflow_text) (3.17.3)\n",
            "Requirement already satisfied: wheel<1.0,>=0.32.0 in /usr/local/lib/python3.7/dist-packages (from tensorflow<2.8,>=2.7.0->tensorflow_text) (0.37.0)\n",
            "Requirement already satisfied: absl-py>=0.4.0 in /usr/local/lib/python3.7/dist-packages (from tensorflow<2.8,>=2.7.0->tensorflow_text) (0.12.0)\n",
            "Requirement already satisfied: astunparse>=1.6.0 in /usr/local/lib/python3.7/dist-packages (from tensorflow<2.8,>=2.7.0->tensorflow_text) (1.6.3)\n",
            "Requirement already satisfied: grpcio<2.0,>=1.24.3 in /usr/local/lib/python3.7/dist-packages (from tensorflow<2.8,>=2.7.0->tensorflow_text) (1.42.0)\n",
            "Requirement already satisfied: termcolor>=1.1.0 in /usr/local/lib/python3.7/dist-packages (from tensorflow<2.8,>=2.7.0->tensorflow_text) (1.1.0)\n",
            "Requirement already satisfied: tensorboard~=2.6 in /usr/local/lib/python3.7/dist-packages (from tensorflow<2.8,>=2.7.0->tensorflow_text) (2.7.0)\n",
            "Requirement already satisfied: flatbuffers<3.0,>=1.12 in /usr/local/lib/python3.7/dist-packages (from tensorflow<2.8,>=2.7.0->tensorflow_text) (2.0)\n",
            "Requirement already satisfied: keras-preprocessing>=1.1.1 in /usr/local/lib/python3.7/dist-packages (from tensorflow<2.8,>=2.7.0->tensorflow_text) (1.1.2)\n",
            "Requirement already satisfied: six>=1.12.0 in /usr/local/lib/python3.7/dist-packages (from tensorflow<2.8,>=2.7.0->tensorflow_text) (1.15.0)\n",
            "Requirement already satisfied: keras<2.8,>=2.7.0rc0 in /usr/local/lib/python3.7/dist-packages (from tensorflow<2.8,>=2.7.0->tensorflow_text) (2.7.0)\n",
            "Requirement already satisfied: libclang>=9.0.1 in /usr/local/lib/python3.7/dist-packages (from tensorflow<2.8,>=2.7.0->tensorflow_text) (12.0.0)\n",
            "Requirement already satisfied: google-pasta>=0.1.1 in /usr/local/lib/python3.7/dist-packages (from tensorflow<2.8,>=2.7.0->tensorflow_text) (0.2.0)\n",
            "Requirement already satisfied: cached-property in /usr/local/lib/python3.7/dist-packages (from h5py>=2.9.0->tensorflow<2.8,>=2.7.0->tensorflow_text) (1.5.2)\n",
            "Requirement already satisfied: tensorboard-plugin-wit>=1.6.0 in /usr/local/lib/python3.7/dist-packages (from tensorboard~=2.6->tensorflow<2.8,>=2.7.0->tensorflow_text) (1.8.0)\n",
            "Requirement already satisfied: setuptools>=41.0.0 in /usr/local/lib/python3.7/dist-packages (from tensorboard~=2.6->tensorflow<2.8,>=2.7.0->tensorflow_text) (57.4.0)\n",
            "Requirement already satisfied: requests<3,>=2.21.0 in /usr/local/lib/python3.7/dist-packages (from tensorboard~=2.6->tensorflow<2.8,>=2.7.0->tensorflow_text) (2.23.0)\n",
            "Requirement already satisfied: google-auth-oauthlib<0.5,>=0.4.1 in /usr/local/lib/python3.7/dist-packages (from tensorboard~=2.6->tensorflow<2.8,>=2.7.0->tensorflow_text) (0.4.6)\n",
            "Requirement already satisfied: tensorboard-data-server<0.7.0,>=0.6.0 in /usr/local/lib/python3.7/dist-packages (from tensorboard~=2.6->tensorflow<2.8,>=2.7.0->tensorflow_text) (0.6.1)\n",
            "Requirement already satisfied: google-auth<3,>=1.6.3 in /usr/local/lib/python3.7/dist-packages (from tensorboard~=2.6->tensorflow<2.8,>=2.7.0->tensorflow_text) (1.35.0)\n",
            "Requirement already satisfied: markdown>=2.6.8 in /usr/local/lib/python3.7/dist-packages (from tensorboard~=2.6->tensorflow<2.8,>=2.7.0->tensorflow_text) (3.3.6)\n",
            "Requirement already satisfied: werkzeug>=0.11.15 in /usr/local/lib/python3.7/dist-packages (from tensorboard~=2.6->tensorflow<2.8,>=2.7.0->tensorflow_text) (1.0.1)\n",
            "Requirement already satisfied: cachetools<5.0,>=2.0.0 in /usr/local/lib/python3.7/dist-packages (from google-auth<3,>=1.6.3->tensorboard~=2.6->tensorflow<2.8,>=2.7.0->tensorflow_text) (4.2.4)\n",
            "Requirement already satisfied: pyasn1-modules>=0.2.1 in /usr/local/lib/python3.7/dist-packages (from google-auth<3,>=1.6.3->tensorboard~=2.6->tensorflow<2.8,>=2.7.0->tensorflow_text) (0.2.8)\n",
            "Requirement already satisfied: rsa<5,>=3.1.4 in /usr/local/lib/python3.7/dist-packages (from google-auth<3,>=1.6.3->tensorboard~=2.6->tensorflow<2.8,>=2.7.0->tensorflow_text) (4.8)\n",
            "Requirement already satisfied: requests-oauthlib>=0.7.0 in /usr/local/lib/python3.7/dist-packages (from google-auth-oauthlib<0.5,>=0.4.1->tensorboard~=2.6->tensorflow<2.8,>=2.7.0->tensorflow_text) (1.3.0)\n",
            "Requirement already satisfied: importlib-metadata>=4.4 in /usr/local/lib/python3.7/dist-packages (from markdown>=2.6.8->tensorboard~=2.6->tensorflow<2.8,>=2.7.0->tensorflow_text) (4.8.2)\n",
            "Requirement already satisfied: zipp>=0.5 in /usr/local/lib/python3.7/dist-packages (from importlib-metadata>=4.4->markdown>=2.6.8->tensorboard~=2.6->tensorflow<2.8,>=2.7.0->tensorflow_text) (3.6.0)\n",
            "Requirement already satisfied: pyasn1<0.5.0,>=0.4.6 in /usr/local/lib/python3.7/dist-packages (from pyasn1-modules>=0.2.1->google-auth<3,>=1.6.3->tensorboard~=2.6->tensorflow<2.8,>=2.7.0->tensorflow_text) (0.4.8)\n",
            "Requirement already satisfied: idna<3,>=2.5 in /usr/local/lib/python3.7/dist-packages (from requests<3,>=2.21.0->tensorboard~=2.6->tensorflow<2.8,>=2.7.0->tensorflow_text) (2.10)\n",
            "Requirement already satisfied: urllib3!=1.25.0,!=1.25.1,<1.26,>=1.21.1 in /usr/local/lib/python3.7/dist-packages (from requests<3,>=2.21.0->tensorboard~=2.6->tensorflow<2.8,>=2.7.0->tensorflow_text) (1.24.3)\n",
            "Requirement already satisfied: chardet<4,>=3.0.2 in /usr/local/lib/python3.7/dist-packages (from requests<3,>=2.21.0->tensorboard~=2.6->tensorflow<2.8,>=2.7.0->tensorflow_text) (3.0.4)\n",
            "Requirement already satisfied: certifi>=2017.4.17 in /usr/local/lib/python3.7/dist-packages (from requests<3,>=2.21.0->tensorboard~=2.6->tensorflow<2.8,>=2.7.0->tensorflow_text) (2021.10.8)\n",
            "Requirement already satisfied: oauthlib>=3.0.0 in /usr/local/lib/python3.7/dist-packages (from requests-oauthlib>=0.7.0->google-auth-oauthlib<0.5,>=0.4.1->tensorboard~=2.6->tensorflow<2.8,>=2.7.0->tensorflow_text) (3.1.1)\n",
            "Installing collected packages: tensorflow-text\n",
            "Successfully installed tensorflow-text-2.7.3\n",
            "\u001b[K     |████████████████████████████████| 1.8 MB 5.2 MB/s \n",
            "\u001b[K     |████████████████████████████████| 1.1 MB 38.6 MB/s \n",
            "\u001b[K     |████████████████████████████████| 352 kB 46.6 MB/s \n",
            "\u001b[K     |████████████████████████████████| 99 kB 8.4 MB/s \n",
            "\u001b[K     |████████████████████████████████| 1.2 MB 36.5 MB/s \n",
            "\u001b[K     |████████████████████████████████| 43 kB 1.9 MB/s \n",
            "\u001b[K     |████████████████████████████████| 213 kB 45.8 MB/s \n",
            "\u001b[K     |████████████████████████████████| 596 kB 48.1 MB/s \n",
            "\u001b[K     |████████████████████████████████| 47.6 MB 110 kB/s \n",
            "\u001b[K     |████████████████████████████████| 90 kB 7.2 MB/s \n",
            "\u001b[?25h  Building wheel for py-cpuinfo (setup.py) ... \u001b[?25l\u001b[?25hdone\n",
            "  Building wheel for seqeval (setup.py) ... \u001b[?25l\u001b[?25hdone\n"
          ]
        }
      ]
    },
    {
      "cell_type": "code",
      "metadata": {
        "id": "kcEXgRb0qsy0",
        "colab": {
          "base_uri": "https://localhost:8080/"
        },
        "outputId": "9c8febb1-9514-45be-9007-bd1245f7fb94"
      },
      "source": [
        "drive.mount('/content/drive')\n",
        "PATH = '/content/drive/MyDrive/Task1/'\n",
        "list_dir = os.listdir(PATH)\n",
        "text = []\n",
        "labels = []\n",
        "for file in list_dir:\n",
        "    file_path = PATH + file\n",
        "    with open(file_path, 'r') as f:\n",
        "        for line in f:\n",
        "            line = line.split(sep='\\t')\n",
        "            text.append(line[0])\n",
        "            labels.append(line[1][:-1])\n",
        "\n",
        "data = {'Text': text, \"labels\": labels}\n",
        "dataset1 = pd.DataFrame(data=data)"
      ],
      "execution_count": 3,
      "outputs": [
        {
          "output_type": "stream",
          "name": "stdout",
          "text": [
            "Mounted at /content/drive\n"
          ]
        }
      ]
    },
    {
      "cell_type": "code",
      "metadata": {
        "id": "m8IV4bIxkQVu",
        "colab": {
          "base_uri": "https://localhost:8080/",
          "height": 206
        },
        "outputId": "3f56982f-6b74-454f-ac04-0967d1b66a98"
      },
      "source": [
        "dataset1.head()"
      ],
      "execution_count": 4,
      "outputs": [
        {
          "output_type": "execute_result",
          "data": {
            "text/html": [
              "<div>\n",
              "<style scoped>\n",
              "    .dataframe tbody tr th:only-of-type {\n",
              "        vertical-align: middle;\n",
              "    }\n",
              "\n",
              "    .dataframe tbody tr th {\n",
              "        vertical-align: top;\n",
              "    }\n",
              "\n",
              "    .dataframe thead th {\n",
              "        text-align: right;\n",
              "    }\n",
              "</style>\n",
              "<table border=\"1\" class=\"dataframe\">\n",
              "  <thead>\n",
              "    <tr style=\"text-align: right;\">\n",
              "      <th></th>\n",
              "      <th>Text</th>\n",
              "      <th>labels</th>\n",
              "    </tr>\n",
              "  </thead>\n",
              "  <tbody>\n",
              "    <tr>\n",
              "      <th>0</th>\n",
              "      <td>The appellant who was arraigned as Accused 2 w...</td>\n",
              "      <td>Facts</td>\n",
              "    </tr>\n",
              "    <tr>\n",
              "      <th>1</th>\n",
              "      <td>The allegations against the accused, inter ali...</td>\n",
              "      <td>Facts</td>\n",
              "    </tr>\n",
              "    <tr>\n",
              "      <th>2</th>\n",
              "      <td>Bindula Devi was married to Accused 1 Jaipraks...</td>\n",
              "      <td>Facts</td>\n",
              "    </tr>\n",
              "    <tr>\n",
              "      <th>3</th>\n",
              "      <td>The appellant and Accused 3 Shakun Devo Yadav ...</td>\n",
              "      <td>Facts</td>\n",
              "    </tr>\n",
              "    <tr>\n",
              "      <th>4</th>\n",
              "      <td>Accused 4 Dani Dutta Yadav is their father and...</td>\n",
              "      <td>Facts</td>\n",
              "    </tr>\n",
              "  </tbody>\n",
              "</table>\n",
              "</div>"
            ],
            "text/plain": [
              "                                                Text labels\n",
              "0  The appellant who was arraigned as Accused 2 w...  Facts\n",
              "1  The allegations against the accused, inter ali...  Facts\n",
              "2  Bindula Devi was married to Accused 1 Jaipraks...  Facts\n",
              "3  The appellant and Accused 3 Shakun Devo Yadav ...  Facts\n",
              "4  Accused 4 Dani Dutta Yadav is their father and...  Facts"
            ]
          },
          "metadata": {},
          "execution_count": 4
        }
      ]
    },
    {
      "cell_type": "code",
      "metadata": {
        "id": "40t5fU4hk6un",
        "colab": {
          "base_uri": "https://localhost:8080/"
        },
        "outputId": "bd7f8820-3b70-4fb7-d1ec-3e6c062a3391"
      },
      "source": [
        "dataset1.shape"
      ],
      "execution_count": 5,
      "outputs": [
        {
          "output_type": "execute_result",
          "data": {
            "text/plain": [
              "(11285, 2)"
            ]
          },
          "metadata": {},
          "execution_count": 5
        }
      ]
    },
    {
      "cell_type": "markdown",
      "metadata": {
        "id": "rxqoej62rrFU"
      },
      "source": [
        "# **Data Preprocessing**"
      ]
    },
    {
      "cell_type": "code",
      "metadata": {
        "id": "xybqUDN_q3IL",
        "colab": {
          "base_uri": "https://localhost:8080/"
        },
        "outputId": "61d9cce0-3d41-4d71-c7e9-ef7177302ae3"
      },
      "source": [
        "dataset1.labels.value_counts()"
      ],
      "execution_count": 6,
      "outputs": [
        {
          "output_type": "execute_result",
          "data": {
            "text/plain": [
              "Ratio of the decision      4211\n",
              "Facts                      2622\n",
              "Precedent                  1787\n",
              "Argument                    939\n",
              "Statute                     902\n",
              "Ruling by Lower Court       483\n",
              "Ruling by Present Court     341\n",
              "Name: labels, dtype: int64"
            ]
          },
          "metadata": {},
          "execution_count": 6
        }
      ]
    },
    {
      "cell_type": "code",
      "metadata": {
        "id": "plnKSMyoq-zF",
        "colab": {
          "base_uri": "https://localhost:8080/"
        },
        "outputId": "8861562d-4734-4e09-ef74-27bf6a688009"
      },
      "source": [
        "event_types_dict = {}\n",
        "for num, name in enumerate(list(dataset1['labels'].unique())):\n",
        "    event_types_dict[name] = num\n",
        "    # print(name, \" : \", num)\n",
        "\n",
        "event_types_dict\n",
        "\n",
        "event_types_dict_inverse = {k:v for v,k in event_types_dict.items()}\n",
        "print(event_types_dict)\n",
        "print( event_types_dict_inverse)"
      ],
      "execution_count": 7,
      "outputs": [
        {
          "output_type": "stream",
          "name": "stdout",
          "text": [
            "{'Facts': 0, 'Ruling by Lower Court': 1, 'Argument': 2, 'Precedent': 3, 'Ratio of the decision': 4, 'Statute': 5, 'Ruling by Present Court': 6}\n",
            "{0: 'Facts', 1: 'Ruling by Lower Court', 2: 'Argument', 3: 'Precedent', 4: 'Ratio of the decision', 5: 'Statute', 6: 'Ruling by Present Court'}\n"
          ]
        }
      ]
    },
    {
      "cell_type": "code",
      "metadata": {
        "id": "HJ9M9AX3rFJf",
        "colab": {
          "base_uri": "https://localhost:8080/",
          "height": 441
        },
        "outputId": "87674dd5-a07e-43f5-a216-71ff831bc91b"
      },
      "source": [
        "def text_to_numerical_category(name):\n",
        "    num = event_types_dict[name]\n",
        "    return num\n",
        "\n",
        "print(text_to_numerical_category('Facts'))\n",
        "dataset1['num_labels'] = dataset1['labels'].apply(text_to_numerical_category)\n",
        "dataset1"
      ],
      "execution_count": 8,
      "outputs": [
        {
          "output_type": "stream",
          "name": "stdout",
          "text": [
            "0\n"
          ]
        },
        {
          "output_type": "execute_result",
          "data": {
            "text/html": [
              "<div>\n",
              "<style scoped>\n",
              "    .dataframe tbody tr th:only-of-type {\n",
              "        vertical-align: middle;\n",
              "    }\n",
              "\n",
              "    .dataframe tbody tr th {\n",
              "        vertical-align: top;\n",
              "    }\n",
              "\n",
              "    .dataframe thead th {\n",
              "        text-align: right;\n",
              "    }\n",
              "</style>\n",
              "<table border=\"1\" class=\"dataframe\">\n",
              "  <thead>\n",
              "    <tr style=\"text-align: right;\">\n",
              "      <th></th>\n",
              "      <th>Text</th>\n",
              "      <th>labels</th>\n",
              "      <th>num_labels</th>\n",
              "    </tr>\n",
              "  </thead>\n",
              "  <tbody>\n",
              "    <tr>\n",
              "      <th>0</th>\n",
              "      <td>The appellant who was arraigned as Accused 2 w...</td>\n",
              "      <td>Facts</td>\n",
              "      <td>0</td>\n",
              "    </tr>\n",
              "    <tr>\n",
              "      <th>1</th>\n",
              "      <td>The allegations against the accused, inter ali...</td>\n",
              "      <td>Facts</td>\n",
              "      <td>0</td>\n",
              "    </tr>\n",
              "    <tr>\n",
              "      <th>2</th>\n",
              "      <td>Bindula Devi was married to Accused 1 Jaipraks...</td>\n",
              "      <td>Facts</td>\n",
              "      <td>0</td>\n",
              "    </tr>\n",
              "    <tr>\n",
              "      <th>3</th>\n",
              "      <td>The appellant and Accused 3 Shakun Devo Yadav ...</td>\n",
              "      <td>Facts</td>\n",
              "      <td>0</td>\n",
              "    </tr>\n",
              "    <tr>\n",
              "      <th>4</th>\n",
              "      <td>Accused 4 Dani Dutta Yadav is their father and...</td>\n",
              "      <td>Facts</td>\n",
              "      <td>0</td>\n",
              "    </tr>\n",
              "    <tr>\n",
              "      <th>...</th>\n",
              "      <td>...</td>\n",
              "      <td>...</td>\n",
              "      <td>...</td>\n",
              "    </tr>\n",
              "    <tr>\n",
              "      <th>11280</th>\n",
              "      <td>Suffice it to state that the appellant,as a fa...</td>\n",
              "      <td>Ratio of the decision</td>\n",
              "      <td>4</td>\n",
              "    </tr>\n",
              "    <tr>\n",
              "      <th>11281</th>\n",
              "      <td>The High Court,in our view,declined,for good r...</td>\n",
              "      <td>Ratio of the decision</td>\n",
              "      <td>4</td>\n",
              "    </tr>\n",
              "    <tr>\n",
              "      <th>11282</th>\n",
              "      <td>We are also not persuaded to take a different ...</td>\n",
              "      <td>Ratio of the decision</td>\n",
              "      <td>4</td>\n",
              "    </tr>\n",
              "    <tr>\n",
              "      <th>11283</th>\n",
              "      <td>In these circumstances,we are of the view that...</td>\n",
              "      <td>Ratio of the decision</td>\n",
              "      <td>4</td>\n",
              "    </tr>\n",
              "    <tr>\n",
              "      <th>11284</th>\n",
              "      <td>The appeal is accordingly dismissed but,in the...</td>\n",
              "      <td>Ruling by Present Court</td>\n",
              "      <td>6</td>\n",
              "    </tr>\n",
              "  </tbody>\n",
              "</table>\n",
              "<p>11285 rows × 3 columns</p>\n",
              "</div>"
            ],
            "text/plain": [
              "                                                    Text  ... num_labels\n",
              "0      The appellant who was arraigned as Accused 2 w...  ...          0\n",
              "1      The allegations against the accused, inter ali...  ...          0\n",
              "2      Bindula Devi was married to Accused 1 Jaipraks...  ...          0\n",
              "3      The appellant and Accused 3 Shakun Devo Yadav ...  ...          0\n",
              "4      Accused 4 Dani Dutta Yadav is their father and...  ...          0\n",
              "...                                                  ...  ...        ...\n",
              "11280  Suffice it to state that the appellant,as a fa...  ...          4\n",
              "11281  The High Court,in our view,declined,for good r...  ...          4\n",
              "11282  We are also not persuaded to take a different ...  ...          4\n",
              "11283  In these circumstances,we are of the view that...  ...          4\n",
              "11284  The appeal is accordingly dismissed but,in the...  ...          6\n",
              "\n",
              "[11285 rows x 3 columns]"
            ]
          },
          "metadata": {},
          "execution_count": 8
        }
      ]
    },
    {
      "cell_type": "markdown",
      "metadata": {
        "id": "eyDduPyerWUz"
      },
      "source": [
        "# **Lowering the characters and removing the stopwords**"
      ]
    },
    {
      "cell_type": "code",
      "metadata": {
        "id": "izDPWXUAIZgV"
      },
      "source": [
        "# Remove Excess [Size:: ] from EoS\n",
        "def remove_size(text):\n",
        "\tresult = re.search(\"\\[size\", text)\n",
        "\tif result is not None:\n",
        "\t\ttext = text[:result.start()]\n",
        "\treturn text.strip()\n",
        "\n",
        "months = ['january', 'jan', 'feb', 'mar', 'apr', 'aug', 'sept', 'oct', 'nov', 'dec', 'feburary', 'february', 'march', 'april', 'may', 'june', 'july', 'august', 'september', 'october', 'november', 'december', 'on']\n",
        "def remove_months(text):\n",
        "    text = text.split()\n",
        "    text = [word for word in text if word.lower() not in set(months)]\n",
        "    text = ' '.join(text)\n",
        "    return text\n",
        "\n",
        "def remove_nums(text):\n",
        "    result = re.sub(r'[0-9+]', '', text)\n",
        "    return result\n",
        "\n",
        "def remove_comma(text):\n",
        "    result = re.sub(r',', '', text)\n",
        "    return result"
      ],
      "execution_count": 9,
      "outputs": []
    },
    {
      "cell_type": "code",
      "metadata": {
        "id": "lU-VV2iNrK0j",
        "colab": {
          "base_uri": "https://localhost:8080/"
        },
        "outputId": "b05cf31c-9190-410e-b05d-b92cfe9943d8"
      },
      "source": [
        "nltk.download('stopwords')\n",
        "import sys\n",
        "text = []\n",
        "lem_text = []\n",
        "for i in dataset1.index:\n",
        "    dataset1['Text'][i] = remove_size(dataset1['Text'][i])\n",
        "    dataset1['Text'][i] = remove_months(dataset1['Text'][i])\n",
        "    dataset1['Text'][i] = remove_nums(dataset1['Text'][i])\n",
        "    dataset1['Text'][i] = remove_comma(dataset1['Text'][i])\n",
        "    temp = dataset1['Text'][i].lower().split()\n",
        "    clean = [word for word in temp if word not in stopwords.words('english')]\n",
        "    clean = \" \".join(clean)\n",
        "    text.append(clean)\n",
        "    lem_text.append(clean)"
      ],
      "execution_count": 10,
      "outputs": [
        {
          "output_type": "stream",
          "name": "stdout",
          "text": [
            "[nltk_data] Downloading package stopwords to /root/nltk_data...\n",
            "[nltk_data]   Unzipping corpora/stopwords.zip.\n"
          ]
        },
        {
          "output_type": "stream",
          "name": "stderr",
          "text": [
            "/usr/local/lib/python3.7/dist-packages/ipykernel_launcher.py:6: SettingWithCopyWarning: \n",
            "A value is trying to be set on a copy of a slice from a DataFrame\n",
            "\n",
            "See the caveats in the documentation: https://pandas.pydata.org/pandas-docs/stable/user_guide/indexing.html#returning-a-view-versus-a-copy\n",
            "  \n",
            "/usr/local/lib/python3.7/dist-packages/ipykernel_launcher.py:7: SettingWithCopyWarning: \n",
            "A value is trying to be set on a copy of a slice from a DataFrame\n",
            "\n",
            "See the caveats in the documentation: https://pandas.pydata.org/pandas-docs/stable/user_guide/indexing.html#returning-a-view-versus-a-copy\n",
            "  import sys\n",
            "/usr/local/lib/python3.7/dist-packages/ipykernel_launcher.py:8: SettingWithCopyWarning: \n",
            "A value is trying to be set on a copy of a slice from a DataFrame\n",
            "\n",
            "See the caveats in the documentation: https://pandas.pydata.org/pandas-docs/stable/user_guide/indexing.html#returning-a-view-versus-a-copy\n",
            "  \n",
            "/usr/local/lib/python3.7/dist-packages/ipykernel_launcher.py:9: SettingWithCopyWarning: \n",
            "A value is trying to be set on a copy of a slice from a DataFrame\n",
            "\n",
            "See the caveats in the documentation: https://pandas.pydata.org/pandas-docs/stable/user_guide/indexing.html#returning-a-view-versus-a-copy\n",
            "  if __name__ == '__main__':\n"
          ]
        }
      ]
    },
    {
      "cell_type": "markdown",
      "metadata": {
        "id": "Fd6l-ILcsJKb"
      },
      "source": [
        "# **Tokenization**"
      ]
    },
    {
      "cell_type": "code",
      "metadata": {
        "id": "2B_g-rQfsHy8"
      },
      "source": [
        "for i in range(len(text)):\n",
        "    text[i] = text[i].split()"
      ],
      "execution_count": 11,
      "outputs": []
    },
    {
      "cell_type": "code",
      "metadata": {
        "id": "7WuK2FEvsQw6"
      },
      "source": [
        "for i in range(len(lem_text)):\n",
        "    lem_text[i] = lem_text[i].split()"
      ],
      "execution_count": 12,
      "outputs": []
    },
    {
      "cell_type": "markdown",
      "metadata": {
        "id": "-d5TrMM-sVvB"
      },
      "source": [
        "# **Stemmation**"
      ]
    },
    {
      "cell_type": "code",
      "metadata": {
        "id": "9dbJ8EeZsbD_"
      },
      "source": [
        "from nltk import PorterStemmer\n",
        "st = PorterStemmer()\n",
        "for i in range(len(text)):\n",
        "    text[i] = [st.stem(word) for word in text[i]]"
      ],
      "execution_count": 13,
      "outputs": []
    },
    {
      "cell_type": "markdown",
      "metadata": {
        "id": "iVVsRMjQsjCf"
      },
      "source": [
        "# **Lemmatization**"
      ]
    },
    {
      "cell_type": "code",
      "metadata": {
        "id": "IQWtrDggsmVs",
        "colab": {
          "base_uri": "https://localhost:8080/"
        },
        "outputId": "f3664fcd-cdc0-473c-d7c7-e8a17be711cb"
      },
      "source": [
        "from nltk.stem import WordNetLemmatizer\n",
        "nltk.download('wordnet') \n",
        "lemmatizer = WordNetLemmatizer()\n",
        "\n",
        "for i in range(len(lem_text)):\n",
        "    lem_text[i] = [lemmatizer.lemmatize(word) for word in lem_text[i]]"
      ],
      "execution_count": 14,
      "outputs": [
        {
          "output_type": "stream",
          "name": "stdout",
          "text": [
            "[nltk_data] Downloading package wordnet to /root/nltk_data...\n",
            "[nltk_data]   Unzipping corpora/wordnet.zip.\n"
          ]
        }
      ]
    },
    {
      "cell_type": "markdown",
      "metadata": {
        "id": "ZfvxZNSRsvab"
      },
      "source": [
        "# **Recombining Tokens**"
      ]
    },
    {
      "cell_type": "code",
      "metadata": {
        "id": "JhjhKymPs0tE",
        "colab": {
          "base_uri": "https://localhost:8080/",
          "height": 35
        },
        "outputId": "6f6e1995-5d12-45bc-f000-75fe0fa0c1af"
      },
      "source": [
        "for i in range(len(text)):\n",
        "    text[i] = \" \".join(text[i])\n",
        "\n",
        "text[0]"
      ],
      "execution_count": 15,
      "outputs": [
        {
          "output_type": "execute_result",
          "data": {
            "application/vnd.google.colaboratory.intrinsic+json": {
              "type": "string"
            },
            "text/plain": [
              "'appel arraign accus tri along five accus offenc punish section read ss. ipc st addit session judg madhepura.'"
            ]
          },
          "metadata": {},
          "execution_count": 15
        }
      ]
    },
    {
      "cell_type": "code",
      "metadata": {
        "id": "4Zmn7N9Zs8wi",
        "colab": {
          "base_uri": "https://localhost:8080/",
          "height": 35
        },
        "outputId": "ad2bd3e5-6950-4dcc-e05d-7ca3225f8f91"
      },
      "source": [
        "for i in range(len(lem_text)):\n",
        "    lem_text[i] = \" \".join(lem_text[i])\n",
        "\n",
        "lem_text[0]"
      ],
      "execution_count": 16,
      "outputs": [
        {
          "output_type": "execute_result",
          "data": {
            "application/vnd.google.colaboratory.intrinsic+json": {
              "type": "string"
            },
            "text/plain": [
              "'appellant arraigned accused tried along five accused offence punishable section read ss. ipc st additional session judge madhepura.'"
            ]
          },
          "metadata": {},
          "execution_count": 16
        }
      ]
    },
    {
      "cell_type": "code",
      "metadata": {
        "id": "vl64OryBtD4M",
        "colab": {
          "base_uri": "https://localhost:8080/",
          "height": 545
        },
        "outputId": "fd3cd447-215f-44bb-d977-6b5ac25c35bb"
      },
      "source": [
        "dataset1['lem_text'] = np.array(lem_text)\n",
        "dataset1['stem_text'] = np.array(text)\n",
        "\n",
        "dataset1"
      ],
      "execution_count": 17,
      "outputs": [
        {
          "output_type": "execute_result",
          "data": {
            "text/html": [
              "<div>\n",
              "<style scoped>\n",
              "    .dataframe tbody tr th:only-of-type {\n",
              "        vertical-align: middle;\n",
              "    }\n",
              "\n",
              "    .dataframe tbody tr th {\n",
              "        vertical-align: top;\n",
              "    }\n",
              "\n",
              "    .dataframe thead th {\n",
              "        text-align: right;\n",
              "    }\n",
              "</style>\n",
              "<table border=\"1\" class=\"dataframe\">\n",
              "  <thead>\n",
              "    <tr style=\"text-align: right;\">\n",
              "      <th></th>\n",
              "      <th>Text</th>\n",
              "      <th>labels</th>\n",
              "      <th>num_labels</th>\n",
              "      <th>lem_text</th>\n",
              "      <th>stem_text</th>\n",
              "    </tr>\n",
              "  </thead>\n",
              "  <tbody>\n",
              "    <tr>\n",
              "      <th>0</th>\n",
              "      <td>The appellant who was arraigned as Accused  wa...</td>\n",
              "      <td>Facts</td>\n",
              "      <td>0</td>\n",
              "      <td>appellant arraigned accused tried along five a...</td>\n",
              "      <td>appel arraign accus tri along five accus offen...</td>\n",
              "    </tr>\n",
              "    <tr>\n",
              "      <th>1</th>\n",
              "      <td>The allegations against the accused inter alia...</td>\n",
              "      <td>Facts</td>\n",
              "      <td>0</td>\n",
              "      <td>allegation accused inter alia subjected one bi...</td>\n",
              "      <td>alleg accus inter alia subject one bindula dev...</td>\n",
              "    </tr>\n",
              "    <tr>\n",
              "      <th>2</th>\n",
              "      <td>Bindula Devi was married to Accused  Jaipraksh...</td>\n",
              "      <td>Facts</td>\n",
              "      <td>0</td>\n",
              "      <td>bindula devi married accused jaipraksh yadav.</td>\n",
              "      <td>bindula devi marri accus jaipraksh yadav.</td>\n",
              "    </tr>\n",
              "    <tr>\n",
              "      <th>3</th>\n",
              "      <td>The appellant and Accused  Shakun Devo Yadav a...</td>\n",
              "      <td>Facts</td>\n",
              "      <td>0</td>\n",
              "      <td>appellant accused shakun devo yadav brother ac...</td>\n",
              "      <td>appel accus shakun devo yadav brother accus ja...</td>\n",
              "    </tr>\n",
              "    <tr>\n",
              "      <th>4</th>\n",
              "      <td>Accused  Dani Dutta Yadav is their father and ...</td>\n",
              "      <td>Facts</td>\n",
              "      <td>0</td>\n",
              "      <td>accused dani dutta yadav father accused satya ...</td>\n",
              "      <td>accus dani dutta yadav father accus satya bham...</td>\n",
              "    </tr>\n",
              "    <tr>\n",
              "      <th>...</th>\n",
              "      <td>...</td>\n",
              "      <td>...</td>\n",
              "      <td>...</td>\n",
              "      <td>...</td>\n",
              "      <td>...</td>\n",
              "    </tr>\n",
              "    <tr>\n",
              "      <th>11280</th>\n",
              "      <td>Suffice it to state that the appellantas a fac...</td>\n",
              "      <td>Ratio of the decision</td>\n",
              "      <td>4</td>\n",
              "      <td>suffice state appellantas facthad used trade m...</td>\n",
              "      <td>suffic state appellanta facthad use trade mark...</td>\n",
              "    </tr>\n",
              "    <tr>\n",
              "      <th>11281</th>\n",
              "      <td>The High Courtin our viewdeclinedfor good reas...</td>\n",
              "      <td>Ratio of the decision</td>\n",
              "      <td>4</td>\n",
              "      <td>high courtin viewdeclinedfor good reasonsto re...</td>\n",
              "      <td>high courtin viewdeclinedfor good reasonsto re...</td>\n",
              "    </tr>\n",
              "    <tr>\n",
              "      <th>11282</th>\n",
              "      <td>We are also not persuaded to take a different ...</td>\n",
              "      <td>Ratio of the decision</td>\n",
              "      <td>4</td>\n",
              "      <td>also persuaded take different view high court</td>\n",
              "      <td>also persuad take differ view high court</td>\n",
              "    </tr>\n",
              "    <tr>\n",
              "      <th>11283</th>\n",
              "      <td>In these circumstanceswe are of the view that ...</td>\n",
              "      <td>Ratio of the decision</td>\n",
              "      <td>4</td>\n",
              "      <td>circumstanceswe view high court properly exerc...</td>\n",
              "      <td>circumstancesw view high court properli exerci...</td>\n",
              "    </tr>\n",
              "    <tr>\n",
              "      <th>11284</th>\n",
              "      <td>The appeal is accordingly dismissed butin the ...</td>\n",
              "      <td>Ruling by Present Court</td>\n",
              "      <td>6</td>\n",
              "      <td>appeal accordingly dismissed butin circumstanc...</td>\n",
              "      <td>appeal accordingli dismiss butin circumstances...</td>\n",
              "    </tr>\n",
              "  </tbody>\n",
              "</table>\n",
              "<p>11285 rows × 5 columns</p>\n",
              "</div>"
            ],
            "text/plain": [
              "                                                    Text  ...                                          stem_text\n",
              "0      The appellant who was arraigned as Accused  wa...  ...  appel arraign accus tri along five accus offen...\n",
              "1      The allegations against the accused inter alia...  ...  alleg accus inter alia subject one bindula dev...\n",
              "2      Bindula Devi was married to Accused  Jaipraksh...  ...          bindula devi marri accus jaipraksh yadav.\n",
              "3      The appellant and Accused  Shakun Devo Yadav a...  ...  appel accus shakun devo yadav brother accus ja...\n",
              "4      Accused  Dani Dutta Yadav is their father and ...  ...  accus dani dutta yadav father accus satya bham...\n",
              "...                                                  ...  ...                                                ...\n",
              "11280  Suffice it to state that the appellantas a fac...  ...  suffic state appellanta facthad use trade mark...\n",
              "11281  The High Courtin our viewdeclinedfor good reas...  ...  high courtin viewdeclinedfor good reasonsto re...\n",
              "11282  We are also not persuaded to take a different ...  ...           also persuad take differ view high court\n",
              "11283  In these circumstanceswe are of the view that ...  ...  circumstancesw view high court properli exerci...\n",
              "11284  The appeal is accordingly dismissed butin the ...  ...  appeal accordingli dismiss butin circumstances...\n",
              "\n",
              "[11285 rows x 5 columns]"
            ]
          },
          "metadata": {},
          "execution_count": 17
        }
      ]
    },
    {
      "cell_type": "code",
      "metadata": {
        "id": "D1m2LxFuukpJ",
        "colab": {
          "base_uri": "https://localhost:8080/"
        },
        "outputId": "57764cf9-468e-460d-8fcd-368ac135a40b"
      },
      "source": [
        "dataset1.labels.value_counts()"
      ],
      "execution_count": 18,
      "outputs": [
        {
          "output_type": "execute_result",
          "data": {
            "text/plain": [
              "Ratio of the decision      4211\n",
              "Facts                      2622\n",
              "Precedent                  1787\n",
              "Argument                    939\n",
              "Statute                     902\n",
              "Ruling by Lower Court       483\n",
              "Ruling by Present Court     341\n",
              "Name: labels, dtype: int64"
            ]
          },
          "metadata": {},
          "execution_count": 18
        }
      ]
    },
    {
      "cell_type": "code",
      "metadata": {
        "id": "JEvOfTfgu0kT",
        "colab": {
          "base_uri": "https://localhost:8080/"
        },
        "outputId": "5cd51ab1-9aff-4f96-e151-935a14613d33"
      },
      "source": [
        "dataset1.drop_duplicates(['lem_text']).labels.value_counts()"
      ],
      "execution_count": 19,
      "outputs": [
        {
          "output_type": "execute_result",
          "data": {
            "text/plain": [
              "Ratio of the decision      4146\n",
              "Facts                      2566\n",
              "Precedent                  1754\n",
              "Argument                    905\n",
              "Statute                     867\n",
              "Ruling by Lower Court       476\n",
              "Ruling by Present Court     276\n",
              "Name: labels, dtype: int64"
            ]
          },
          "metadata": {},
          "execution_count": 19
        }
      ]
    },
    {
      "cell_type": "markdown",
      "metadata": {
        "id": "wzJZvhZqvfdM"
      },
      "source": [
        "# **Handling Imbalanced Dataset**"
      ]
    },
    {
      "cell_type": "code",
      "metadata": {
        "id": "tDM_2IvxvkeU"
      },
      "source": [
        "from sklearn.utils import shuffle\n",
        "\n",
        "lemm = []\n",
        "labels = []\n",
        "THRESH_1 = 1500\n",
        "THRESH_2 = 500\n",
        "\n",
        "for group in dataset1.labels.unique():\n",
        "    if len(dataset1.groupby('labels').get_group(group).lem_text.unique()) > THRESH_1:\n",
        "        lemm += (list(shuffle(dataset1.groupby('labels').get_group(group).lem_text.unique())))\n",
        "        lemm += (list(shuffle(dataset1.groupby('labels').get_group(group).lem_text.unique())))\n",
        "        labels += ([group]*2*len(list(shuffle(dataset1.groupby('labels').get_group(group).lem_text.unique()))))\n",
        "\n",
        "    elif len(dataset1.groupby('labels').get_group(group).lem_text.unique()) > THRESH_2:\n",
        "        lemm += (list(shuffle(dataset1.groupby('labels').get_group(group).lem_text.unique())))\n",
        "        lemm += (list(shuffle(dataset1.groupby('labels').get_group(group).lem_text.unique())))\n",
        "        lemm += (list(shuffle(dataset1.groupby('labels').get_group(group).lem_text.unique())))\n",
        "        labels += ([group]*3*len(list(shuffle(dataset1.groupby('labels').get_group(group).lem_text.unique()))))\n",
        "    else:\n",
        "        lemm += (list(shuffle(dataset1.groupby('labels').get_group(group).lem_text.unique())))\n",
        "        lemm += (list(shuffle(dataset1.groupby('labels').get_group(group).lem_text.unique())))\n",
        "        lemm += (list(shuffle(dataset1.groupby('labels').get_group(group).lem_text.unique())))\n",
        "        lemm += (list(shuffle(dataset1.groupby('labels').get_group(group).lem_text.unique())))\n",
        "        lemm += (list(shuffle(dataset1.groupby('labels').get_group(group).lem_text.unique())))\n",
        "        labels += ([group]*5*len(list(shuffle(dataset1.groupby('labels').get_group(group).lem_text.unique()))))"
      ],
      "execution_count": 20,
      "outputs": []
    },
    {
      "cell_type": "code",
      "metadata": {
        "id": "axUZftrFyJzS",
        "colab": {
          "base_uri": "https://localhost:8080/"
        },
        "outputId": "52019599-c815-4ad3-8ec1-1a678f2f40c6"
      },
      "source": [
        "len(lemm)"
      ],
      "execution_count": 21,
      "outputs": [
        {
          "output_type": "execute_result",
          "data": {
            "text/plain": [
              "26198"
            ]
          },
          "metadata": {},
          "execution_count": 21
        }
      ]
    },
    {
      "cell_type": "code",
      "metadata": {
        "id": "ue2jXHsiyd7t"
      },
      "source": [
        "balanced_df = pd.DataFrame({'Text' : lemm, 'Labels': labels})"
      ],
      "execution_count": 22,
      "outputs": []
    },
    {
      "cell_type": "code",
      "metadata": {
        "id": "QNXt9KqsyoVB",
        "colab": {
          "base_uri": "https://localhost:8080/"
        },
        "outputId": "86b1ef99-08e2-4341-b5fd-fe21a6cfa4cf"
      },
      "source": [
        "balanced_df.Labels.value_counts()"
      ],
      "execution_count": 23,
      "outputs": [
        {
          "output_type": "execute_result",
          "data": {
            "text/plain": [
              "Ratio of the decision      8328\n",
              "Facts                      5164\n",
              "Precedent                  3528\n",
              "Argument                   2754\n",
              "Statute                    2619\n",
              "Ruling by Lower Court      2410\n",
              "Ruling by Present Court    1395\n",
              "Name: Labels, dtype: int64"
            ]
          },
          "metadata": {},
          "execution_count": 23
        }
      ]
    },
    {
      "cell_type": "code",
      "metadata": {
        "id": "FMTxKcdizkBj"
      },
      "source": [
        "balanced_df['NumLabel'] = balanced_df.Labels.apply(text_to_numerical_category)"
      ],
      "execution_count": 24,
      "outputs": []
    },
    {
      "cell_type": "code",
      "metadata": {
        "id": "IvRyfQvJz08q",
        "colab": {
          "base_uri": "https://localhost:8080/",
          "height": 206
        },
        "outputId": "46f83249-082b-476d-ad8a-3cedd6451bd1"
      },
      "source": [
        "balanced_df.head()"
      ],
      "execution_count": 25,
      "outputs": [
        {
          "output_type": "execute_result",
          "data": {
            "text/html": [
              "<div>\n",
              "<style scoped>\n",
              "    .dataframe tbody tr th:only-of-type {\n",
              "        vertical-align: middle;\n",
              "    }\n",
              "\n",
              "    .dataframe tbody tr th {\n",
              "        vertical-align: top;\n",
              "    }\n",
              "\n",
              "    .dataframe thead th {\n",
              "        text-align: right;\n",
              "    }\n",
              "</style>\n",
              "<table border=\"1\" class=\"dataframe\">\n",
              "  <thead>\n",
              "    <tr style=\"text-align: right;\">\n",
              "      <th></th>\n",
              "      <th>Text</th>\n",
              "      <th>Labels</th>\n",
              "      <th>NumLabel</th>\n",
              "    </tr>\n",
              "  </thead>\n",
              "  <tbody>\n",
              "    <tr>\n",
              "      <th>0</th>\n",
              "      <td>copy incorporation change name issued registra...</td>\n",
              "      <td>Facts</td>\n",
              "      <td>0</td>\n",
              "    </tr>\n",
              "    <tr>\n",
              "      <th>1</th>\n",
              "      <td>interest thereon also dismissal suit regard pr...</td>\n",
              "      <td>Facts</td>\n",
              "      <td>0</td>\n",
              "    </tr>\n",
              "    <tr>\n",
              "      <th>2</th>\n",
              "      <td>far accused concernednone prosecution witness ...</td>\n",
              "      <td>Facts</td>\n",
              "      <td>0</td>\n",
              "    </tr>\n",
              "    <tr>\n",
              "      <th>3</th>\n",
              "      <td>also writ petition filed w.p. no. wherein chal...</td>\n",
              "      <td>Facts</td>\n",
              "      <td>0</td>\n",
              "    </tr>\n",
              "    <tr>\n",
              "      <th>4</th>\n",
              "      <td>reached kolhua village found house accused empty.</td>\n",
              "      <td>Facts</td>\n",
              "      <td>0</td>\n",
              "    </tr>\n",
              "  </tbody>\n",
              "</table>\n",
              "</div>"
            ],
            "text/plain": [
              "                                                Text Labels  NumLabel\n",
              "0  copy incorporation change name issued registra...  Facts         0\n",
              "1  interest thereon also dismissal suit regard pr...  Facts         0\n",
              "2  far accused concernednone prosecution witness ...  Facts         0\n",
              "3  also writ petition filed w.p. no. wherein chal...  Facts         0\n",
              "4  reached kolhua village found house accused empty.  Facts         0"
            ]
          },
          "metadata": {},
          "execution_count": 25
        }
      ]
    },
    {
      "cell_type": "code",
      "metadata": {
        "id": "XDzTIiUEPY-o",
        "colab": {
          "base_uri": "https://localhost:8080/",
          "height": 366
        },
        "outputId": "489427ef-9c9f-43ad-b0bb-3303429959c0"
      },
      "source": [
        "sns.set_theme(style=\"darkgrid\")\n",
        "x = dataset1['labels'].value_counts()\n",
        "y = x.index\n",
        "plt.figure(figsize=(10, 5))\n",
        "g = sns.barplot(x=x, y=y)\n",
        "plt.title(\"Labels Frequency Distribution\", fontsize=20)\n",
        "plt.ylabel('Labels', fontsize= 20)\n",
        "plt.yticks(fontsize=11)\n",
        "plt.xlabel('Frequency', fontsize=20)\n",
        "plt.xticks(fontsize=10)\n",
        "plt.show()"
      ],
      "execution_count": 26,
      "outputs": [
        {
          "output_type": "display_data",
          "data": {
            "image/png": "[encoded data removed]",
            "text/plain": [
              "<Figure size 720x360 with 1 Axes>"
            ]
          },
          "metadata": {}
        }
      ]
    },
    {
      "cell_type": "code",
      "metadata": {
        "id": "dNsvKLU5QAv-",
        "colab": {
          "base_uri": "https://localhost:8080/",
          "height": 366
        },
        "outputId": "b7699af3-a9f4-4a9c-d43a-6dcda44d64bb"
      },
      "source": [
        "sns.set_theme(style=\"darkgrid\")\n",
        "x = balanced_df.Labels.value_counts()\n",
        "y = x.index\n",
        "plt.figure(figsize=(10, 5))\n",
        "g = sns.barplot(x=x, y=y)\n",
        "plt.title(\"Event Frequency Distribution [India]\", fontsize=20)\n",
        "plt.ylabel('Events', fontsize= 20)\n",
        "plt.yticks(fontsize=11)\n",
        "plt.xlabel('Frequency', fontsize=20)\n",
        "plt.xticks(fontsize=10)\n",
        "plt.show()"
      ],
      "execution_count": 27,
      "outputs": [
        {
          "output_type": "display_data",
          "data": {
            "image/png": "[encoded data removed]",
            "text/plain": [
              "<Figure size 720x360 with 1 Axes>"
            ]
          },
          "metadata": {}
        }
      ]
    },
    {
      "cell_type": "code",
      "metadata": {
        "id": "4I0j932fQTng",
        "colab": {
          "base_uri": "https://localhost:8080/",
          "height": 596
        },
        "outputId": "240e48d8-f834-4d68-bc63-d644aa335dd2"
      },
      "source": [
        "plt.figure(figsize=(30,10))\n",
        "plt.title('Percentage of Different Labels', fontsize=20)\n",
        "balanced_df.Labels.value_counts().plot(kind='pie', labels= balanced_df.Labels.unique(),\n",
        "                              wedgeprops=dict(width=.7), autopct='%1.0f%%', startangle= -20, \n",
        "                              textprops={'fontsize': 15})\n",
        "plt.legend(loc='upper left')\n",
        "plt.show()"
      ],
      "execution_count": 28,
      "outputs": [
        {
          "output_type": "display_data",
          "data": {
            "image/png": "[encoded data removed]",
            "text/plain": [
              "<Figure size 2160x720 with 1 Axes>"
            ]
          },
          "metadata": {}
        }
      ]
    },
    {
      "cell_type": "code",
      "metadata": {
        "id": "61JUkunEyxNk",
        "colab": {
          "base_uri": "https://localhost:8080/",
          "height": 596
        },
        "outputId": "fae9c2f8-944a-42cd-85ee-ef1edf1505a8"
      },
      "source": [
        "plt.figure(figsize=(30,10))\n",
        "plt.title('Percentage of Different Labels', fontsize=20)\n",
        "dataset1.labels.value_counts().plot(kind='pie', labels= dataset1.labels.unique(),\n",
        "                              wedgeprops=dict(width=.7), autopct='%1.0f%%', startangle= -20, \n",
        "                              textprops={'fontsize': 15})\n",
        "plt.legend(loc='upper left')\n",
        "plt.show()"
      ],
      "execution_count": 29,
      "outputs": [
        {
          "output_type": "display_data",
          "data": {
            "image/png": "[encoded data removed]",
            "text/plain": [
              "<Figure size 2160x720 with 1 Axes>"
            ]
          },
          "metadata": {}
        }
      ]
    },
    {
      "cell_type": "markdown",
      "metadata": {
        "id": "P4cm0JTfz3jf"
      },
      "source": [
        "# **XL-Net**"
      ]
    },
    {
      "cell_type": "code",
      "metadata": {
        "id": "h5aw-ofjI_-0"
      },
      "source": [
        "max_classes = len(balanced_df.Labels.unique())\n",
        "max_length = 128"
      ],
      "execution_count": 30,
      "outputs": []
    },
    {
      "cell_type": "code",
      "metadata": {
        "id": "xbZyNNEg0UK4",
        "colab": {
          "base_uri": "https://localhost:8080/",
          "height": 686,
          "referenced_widgets": [
            "fd39646e7e7247b1bf909cec8a77559f",
            "6913516a9b844e6bb124ae7f7c361ef8",
            "0047d543bdfd432aa7d73c788270b49d",
            "2b9eece1fd5c47869e332e0e6c7a6169",
            "91d0b934baef4b248c4aee4fa3ba48b3",
            "cefd96ecfa62475eb478a6d9910b449e",
            "87c92b66c0594a659019d8fa85fff0cf",
            "cb0302879557476bb0195ea6ab5a19cc",
            "da08723efe2f446bb45c890736fc3b03",
            "c89d63f4ac744eb59af9a3865146168d",
            "73eae0fb54c04a988d7ceb5cecee607c",
            "6fbbb47088b2411b8822450a781b909a",
            "da84aeb5e2e2458d9df0ef09208f29c0",
            "abe5882c0e8c49be9ddee43d5cba2a02",
            "2f08a725824746fe96164a05e512b6c3",
            "11dd12a92988475aaf928624ef5081da",
            "11334806de514eb3ac5919808a57c7cd",
            "80a0bc9c49e640399b50e1714bc45a49",
            "cab26ff13d434e07ac26672de78fd25a",
            "669561583cec427294a0c3611d5f2c41",
            "288dd0012c7e477da859d36361de9d46",
            "020bd9304b62470487cdb74cdf691296",
            "9b2d8fe9bc2c44408b77c2b66f536913",
            "ec0f5e7018fd4812bf4afdb41e128a66",
            "274e56ccb14a4320a1d901e11c00a977",
            "e5e9b18a9e844bc8b24adcbbfbf6de5a",
            "1c11beaca9e4472e90b8373b3016160f",
            "68f930a0764a4252966f70aa17614181",
            "369aafc061e54801bc548c827473cc6c",
            "f5ddfd0961fa46c0880b54d76f3cf99f",
            "84ff53a5705b4f2195088a224dac4535",
            "c114ab3e52a443adbe0109fc16467887",
            "40da0395f05243529ef4166e8914d8f4"
          ]
        },
        "outputId": "9bae831d-34f4-4b53-a271-265c3b82ad49"
      },
      "source": [
        "!pip3 install transformers\n",
        "!pip install sentencepiece\n",
        "from transformers import AutoTokenizer, TFXLNetModel\n",
        "\n",
        "# Same as before\n",
        "\n",
        "checkpoint = \"xlnet-base-cased\"\n",
        "tokenizer = AutoTokenizer.from_pretrained(checkpoint, max_length=max_length)"
      ],
      "execution_count": 31,
      "outputs": [
        {
          "output_type": "stream",
          "name": "stdout",
          "text": [
            "Collecting transformers\n",
            "  Downloading transformers-4.12.5-py3-none-any.whl (3.1 MB)\n",
            "\u001b[K     |████████████████████████████████| 3.1 MB 5.3 MB/s \n",
            "\u001b[?25hRequirement already satisfied: requests in /usr/local/lib/python3.7/dist-packages (from transformers) (2.23.0)\n",
            "Collecting huggingface-hub<1.0,>=0.1.0\n",
            "  Downloading huggingface_hub-0.2.1-py3-none-any.whl (61 kB)\n",
            "\u001b[K     |████████████████████████████████| 61 kB 457 kB/s \n",
            "\u001b[?25hCollecting sacremoses\n",
            "  Downloading sacremoses-0.0.46-py3-none-any.whl (895 kB)\n",
            "\u001b[K     |████████████████████████████████| 895 kB 49.8 MB/s \n",
            "\u001b[?25hRequirement already satisfied: packaging>=20.0 in /usr/local/lib/python3.7/dist-packages (from transformers) (21.3)\n",
            "Requirement already satisfied: filelock in /usr/local/lib/python3.7/dist-packages (from transformers) (3.4.0)\n",
            "Collecting tokenizers<0.11,>=0.10.1\n",
            "  Downloading tokenizers-0.10.3-cp37-cp37m-manylinux_2_5_x86_64.manylinux1_x86_64.manylinux_2_12_x86_64.manylinux2010_x86_64.whl (3.3 MB)\n",
            "\u001b[K     |████████████████████████████████| 3.3 MB 40.0 MB/s \n",
            "\u001b[?25hRequirement already satisfied: numpy>=1.17 in /usr/local/lib/python3.7/dist-packages (from transformers) (1.19.5)\n",
            "Requirement already satisfied: importlib-metadata in /usr/local/lib/python3.7/dist-packages (from transformers) (4.8.2)\n",
            "Requirement already satisfied: pyyaml>=5.1 in /usr/local/lib/python3.7/dist-packages (from transformers) (6.0)\n",
            "Requirement already satisfied: regex!=2019.12.17 in /usr/local/lib/python3.7/dist-packages (from transformers) (2019.12.20)\n",
            "Requirement already satisfied: tqdm>=4.27 in /usr/local/lib/python3.7/dist-packages (from transformers) (4.62.3)\n",
            "Requirement already satisfied: typing-extensions>=3.7.4.3 in /usr/local/lib/python3.7/dist-packages (from huggingface-hub<1.0,>=0.1.0->transformers) (3.10.0.2)\n",
            "Requirement already satisfied: pyparsing!=3.0.5,>=2.0.2 in /usr/local/lib/python3.7/dist-packages (from packaging>=20.0->transformers) (3.0.6)\n",
            "Requirement already satisfied: zipp>=0.5 in /usr/local/lib/python3.7/dist-packages (from importlib-metadata->transformers) (3.6.0)\n",
            "Requirement already satisfied: certifi>=2017.4.17 in /usr/local/lib/python3.7/dist-packages (from requests->transformers) (2021.10.8)\n",
            "Requirement already satisfied: urllib3!=1.25.0,!=1.25.1,<1.26,>=1.21.1 in /usr/local/lib/python3.7/dist-packages (from requests->transformers) (1.24.3)\n",
            "Requirement already satisfied: idna<3,>=2.5 in /usr/local/lib/python3.7/dist-packages (from requests->transformers) (2.10)\n",
            "Requirement already satisfied: chardet<4,>=3.0.2 in /usr/local/lib/python3.7/dist-packages (from requests->transformers) (3.0.4)\n",
            "Requirement already satisfied: click in /usr/local/lib/python3.7/dist-packages (from sacremoses->transformers) (7.1.2)\n",
            "Requirement already satisfied: six in /usr/local/lib/python3.7/dist-packages (from sacremoses->transformers) (1.15.0)\n",
            "Requirement already satisfied: joblib in /usr/local/lib/python3.7/dist-packages (from sacremoses->transformers) (1.1.0)\n",
            "Installing collected packages: tokenizers, sacremoses, huggingface-hub, transformers\n",
            "Successfully installed huggingface-hub-0.2.1 sacremoses-0.0.46 tokenizers-0.10.3 transformers-4.12.5\n",
            "Requirement already satisfied: sentencepiece in /usr/local/lib/python3.7/dist-packages (0.1.96)\n"
          ]
        },
        {
          "output_type": "display_data",
          "data": {
            "application/vnd.jupyter.widget-view+json": {
              "model_id": "fd39646e7e7247b1bf909cec8a77559f",
              "version_minor": 0,
              "version_major": 2
            },
            "text/plain": [
              "Downloading:   0%|          | 0.00/760 [00:00<?, ?B/s]"
            ]
          },
          "metadata": {}
        },
        {
          "output_type": "display_data",
          "data": {
            "application/vnd.jupyter.widget-view+json": {
              "model_id": "6fbbb47088b2411b8822450a781b909a",
              "version_minor": 0,
              "version_major": 2
            },
            "text/plain": [
              "Downloading:   0%|          | 0.00/779k [00:00<?, ?B/s]"
            ]
          },
          "metadata": {}
        },
        {
          "output_type": "display_data",
          "data": {
            "application/vnd.jupyter.widget-view+json": {
              "model_id": "9b2d8fe9bc2c44408b77c2b66f536913",
              "version_minor": 0,
              "version_major": 2
            },
            "text/plain": [
              "Downloading:   0%|          | 0.00/1.32M [00:00<?, ?B/s]"
            ]
          },
          "metadata": {}
        }
      ]
    },
    {
      "cell_type": "code",
      "metadata": {
        "id": "uaYRPQkL8edT"
      },
      "source": [
        "from tensorflow.keras.optimizers.schedules import PolynomialDecay\n",
        "\n",
        "EPOCHS = 3\n",
        "loss = tf.keras.losses.CategoricalCrossentropy(from_logits=False)\n",
        "batch_size = 64\n",
        "\n",
        "# num_train_steps =  len((balanced_df.NumLabel) // batch_size) * EPOCHS\n",
        "# lr_scheduler = PolynomialDecay(initial_learning_rate=5e-5,\n",
        "#                                end_learning_rate=0.,\n",
        "#                                decay_steps=num_train_steps\n",
        "#                                )\n",
        "\n",
        "from tensorflow.keras.optimizers import Adam\n",
        "opt = Adam(learning_rate=5e-5)"
      ],
      "execution_count": 32,
      "outputs": []
    },
    {
      "cell_type": "code",
      "metadata": {
        "id": "l1-xXR1r0k25"
      },
      "source": [
        "from sklearn.utils import shuffle\n",
        "from sklearn.model_selection import train_test_split\n",
        "result = shuffle(balanced_df)"
      ],
      "execution_count": 33,
      "outputs": []
    },
    {
      "cell_type": "code",
      "metadata": {
        "id": "w20j2gIf0ttd"
      },
      "source": [
        "X_train, X_test, Y_train, Y_test = train_test_split(result.Text, result.NumLabel, test_size = 0.1, random_state = 42, stratify =result.NumLabel)"
      ],
      "execution_count": 34,
      "outputs": []
    },
    {
      "cell_type": "code",
      "metadata": {
        "colab": {
          "base_uri": "https://localhost:8080/"
        },
        "id": "LvCDxzwPLpQd",
        "outputId": "86e42510-1a90-452d-e9ed-af4076e6f6bf"
      },
      "source": [
        "max_classes = len(balanced_df.Labels.unique())\n",
        "print(max_classes)"
      ],
      "execution_count": 35,
      "outputs": [
        {
          "output_type": "stream",
          "name": "stdout",
          "text": [
            "7\n"
          ]
        }
      ]
    },
    {
      "cell_type": "code",
      "metadata": {
        "colab": {
          "base_uri": "https://localhost:8080/"
        },
        "id": "lE1fmRenWdif",
        "outputId": "41c63898-a7f5-4aeb-bf10-994e85898b2d"
      },
      "source": [
        "%%time\n",
        "encoded_labels_train = to_categorical(Y_train, num_classes=max_classes)\n",
        "encoded_labels_test = to_categorical(Y_test, num_classes=max_classes)"
      ],
      "execution_count": 36,
      "outputs": [
        {
          "output_type": "stream",
          "name": "stdout",
          "text": [
            "CPU times: user 1.31 ms, sys: 52 µs, total: 1.36 ms\n",
            "Wall time: 1.42 ms\n"
          ]
        }
      ]
    },
    {
      "cell_type": "code",
      "metadata": {
        "id": "wZmlXr22XImi"
      },
      "source": [
        "def XLNet_encode(data,maximum_length) :\n",
        "  input_ids = []\n",
        "  attention_masks = []\n",
        "  \n",
        "\n",
        "  for i in tqdm(range(len(data))):\n",
        "      encoded = tokenizer.encode_plus(\n",
        "        \n",
        "        data[i],\n",
        "        add_special_tokens=True,\n",
        "        max_length=maximum_length,\n",
        "        pad_to_max_length=True,\n",
        "        return_attention_mask=True,\n",
        "        \n",
        "      )\n",
        "      \n",
        "      input_ids.append(encoded['input_ids'])\n",
        "      attention_masks.append(encoded['attention_mask'])\n",
        "  return np.array(input_ids),np.array(attention_masks)"
      ],
      "execution_count": 37,
      "outputs": []
    },
    {
      "cell_type": "code",
      "metadata": {
        "colab": {
          "base_uri": "https://localhost:8080/"
        },
        "id": "N3iM7LMIXc6M",
        "outputId": "1e330706-9608-4ab2-ea47-1bfdcc654d81"
      },
      "source": [
        "%%time\n",
        "# train_inputs,train_attention_masks = XLNet_encode(list(X_train), max_length)"
      ],
      "execution_count": 38,
      "outputs": [
        {
          "output_type": "stream",
          "name": "stdout",
          "text": [
            "CPU times: user 5 µs, sys: 0 ns, total: 5 µs\n",
            "Wall time: 22.2 µs\n"
          ]
        }
      ]
    },
    {
      "cell_type": "code",
      "metadata": {
        "id": "RSnwjcgQXjjh"
      },
      "source": [
        "def get_inputs(tweets, tokenizer, max_len=120):\n",
        "    \"\"\" Gets tensors from text using the tokenizer provided\"\"\"\n",
        "    inps = [tokenizer.encode_plus(t, max_length=max_len, pad_to_max_length=True, add_special_tokens=True) for t in tweets]\n",
        "    inp_tok = np.array([a['input_ids'] for a in inps])\n",
        "    ids = np.array([a['attention_mask'] for a in inps])\n",
        "    segments = np.array([a['token_type_ids'] for a in inps])\n",
        "    return inp_tok, ids, segments"
      ],
      "execution_count": 39,
      "outputs": []
    },
    {
      "cell_type": "code",
      "metadata": {
        "colab": {
          "base_uri": "https://localhost:8080/"
        },
        "id": "vkiqBjH8Xotc",
        "outputId": "3bd25609-5c13-4d66-9ce1-3365b87d0295"
      },
      "source": [
        "%%time\n",
        "train_inp_tok, train_attention_masks, segments = get_inputs(X_train, tokenizer)\n",
        "test_inp_tok, test_attention_masks, segments = get_inputs(X_test, tokenizer)"
      ],
      "execution_count": 40,
      "outputs": [
        {
          "output_type": "stream",
          "name": "stderr",
          "text": [
            "Truncation was not explicitly activated but `max_length` is provided a specific value, please use `truncation=True` to explicitly truncate examples to max length. Defaulting to 'longest_first' truncation strategy. If you encode pairs of sequences (GLUE-style) with the tokenizer you can select this strategy more precisely by providing a specific strategy to `truncation`.\n",
            "/usr/local/lib/python3.7/dist-packages/transformers/tokenization_utils_base.py:2218: FutureWarning: The `pad_to_max_length` argument is deprecated and will be removed in a future version, use `padding=True` or `padding='longest'` to pad to the longest sequence in the batch, or use `padding='max_length'` to pad to a max length. In this case, you can give a specific length with `max_length` (e.g. `max_length=45`) or leave max_length to None to pad to the maximal input size of the model (e.g. 512 for Bert).\n",
            "  FutureWarning,\n"
          ]
        },
        {
          "output_type": "stream",
          "name": "stdout",
          "text": [
            "CPU times: user 6.42 s, sys: 375 ms, total: 6.8 s\n",
            "Wall time: 6.79 s\n"
          ]
        }
      ]
    },
    {
      "cell_type": "code",
      "metadata": {
        "colab": {
          "base_uri": "https://localhost:8080/"
        },
        "id": "59OtAIRtYkXV",
        "outputId": "70dab8ef-788e-4d9a-a01f-1e4a19795a9a"
      },
      "source": [
        "print(train_inp_tok.shape, test_inp_tok.shape)"
      ],
      "execution_count": 41,
      "outputs": [
        {
          "output_type": "stream",
          "name": "stdout",
          "text": [
            "(23578, 120) (2620, 120)\n"
          ]
        }
      ]
    },
    {
      "cell_type": "code",
      "metadata": {
        "colab": {
          "base_uri": "https://localhost:8080/"
        },
        "id": "3IfY6yr0_4vv",
        "outputId": "44f188a8-dc15-476a-8b42-cb07732a198c"
      },
      "source": [
        "print(f'Number of Samples in Training Set : {len(X_train)} Number of Samples in Validation Set: {len(X_test)} ')"
      ],
      "execution_count": 42,
      "outputs": [
        {
          "output_type": "stream",
          "name": "stdout",
          "text": [
            "Number of Samples in Training Set : 23578 Number of Samples in Validation Set: 2620 \n"
          ]
        }
      ]
    },
    {
      "cell_type": "code",
      "metadata": {
        "colab": {
          "base_uri": "https://localhost:8080/"
        },
        "id": "xAAGSLhQZG5x",
        "outputId": "f2667d17-3bca-4ad8-d362-4d64a7411d65"
      },
      "source": [
        "from tensorflow.keras.callbacks import ModelCheckpoint, EarlyStopping\n",
        "!mkdir checkpoints\n",
        "\n",
        "MyCheckpoint = ModelCheckpoint('XLNet-base.h5',\n",
        "                               monitor = 'val_categorical_accuracy',\n",
        "                               verbose = 1,\n",
        "                               save_best_only = True,\n",
        "                               mode='auto',\n",
        "                               save_weights_only = True)\n",
        "\n",
        "MyEarlyStopping = EarlyStopping(patience =1,\n",
        "                                monitor='val_categorical_accuracy',\n",
        "                                restore_best_weights = True,\n",
        "                                verbose = 1)\n",
        "\n",
        "import os\n",
        "os.path.exists('/content/checkpoints')"
      ],
      "execution_count": 43,
      "outputs": [
        {
          "output_type": "execute_result",
          "data": {
            "text/plain": [
              "True"
            ]
          },
          "metadata": {},
          "execution_count": 43
        }
      ]
    },
    {
      "cell_type": "code",
      "metadata": {
        "colab": {
          "base_uri": "https://localhost:8080/"
        },
        "id": "JVUTtVPdZIih",
        "outputId": "2cca1c9a-f495-4795-f52a-6efbdba6807c"
      },
      "source": [
        "from sklearn.utils import class_weight\n",
        "class_weights_array = class_weight.compute_class_weight(class_weight = 'balanced'\n",
        "                                               ,classes = np.unique(balanced_df.NumLabel)\n",
        "                                               ,y = balanced_df.NumLabel)\n",
        "\n",
        "class_weights_array"
      ],
      "execution_count": 44,
      "outputs": [
        {
          "output_type": "execute_result",
          "data": {
            "text/plain": [
              "array([0.72474272, 1.5529342 , 1.3589584 , 1.06081957, 0.44939618,\n",
              "       1.4290078 , 2.6828469 ])"
            ]
          },
          "metadata": {},
          "execution_count": 44
        }
      ]
    },
    {
      "cell_type": "code",
      "metadata": {
        "colab": {
          "base_uri": "https://localhost:8080/"
        },
        "id": "shdXlNwbAbgV",
        "outputId": "1b15849f-f642-45e6-b36d-14ee574bcbfa"
      },
      "source": [
        "class_weights = {i : class_weights_array[i] for i in range(len(class_weights_array))}\n",
        "class_weights"
      ],
      "execution_count": 45,
      "outputs": [
        {
          "output_type": "execute_result",
          "data": {
            "text/plain": [
              "{0: 0.7247427243554276,\n",
              " 1: 1.5529342027267339,\n",
              " 2: 1.3589583981740845,\n",
              " 3: 1.0608195659216066,\n",
              " 4: 0.4493961849869631,\n",
              " 5: 1.4290078001418207,\n",
              " 6: 2.682846902201741}"
            ]
          },
          "metadata": {},
          "execution_count": 45
        }
      ]
    },
    {
      "cell_type": "code",
      "metadata": {
        "id": "3IMFQpFyAid1"
      },
      "source": [
        "# !pip install tensorflow_addons\n",
        "# import tensorflow_addons as tfa\n",
        "\n",
        "# macro_f1 = tfa.metrics.F1Score(num_classes=max_classes, average='macro')\n",
        "# micro_f1 = tfa.metrics.F1Score(num_classes=max_classes, average='micro')\n",
        "# weighted_f1 = tfa.metrics.F1Score(num_classes=max_classes, average='weighted')\n",
        "precision = tf.metrics.Precision()\n",
        "recall = tf.metrics.Recall()\n",
        "categorical_accuracry = tf.metrics.CategoricalAccuracy()\n",
        "\n",
        "class F1_metric(tf.keras.metrics.Metric):\n",
        "    def __init__(self, name='f1_score', **kwargs):\n",
        "        super().__init__(name=name, **kwargs)\n",
        "        # Initialize our metric by initializing the two metrics it's based on:\n",
        "        # Precision and Recall\n",
        "        self.precision = tf.keras.metrics.Precision()\n",
        "        self.recall = tf.keras.metrics.Recall()\n",
        "\n",
        "    def update_state(self, y_true, y_pred, sample_weight=None):\n",
        "        # Update our metric by updating the two metrics it's based on\n",
        "        self.precision.update_state(y_true, y_pred, sample_weight)\n",
        "        self.recall.update_state(y_true, y_pred, sample_weight)\n",
        "\n",
        "    def reset_state(self):\n",
        "        self.precision.reset_state()\n",
        "        self.recall.reset_state()\n",
        "\n",
        "    def result(self):\n",
        "        # To get the F1 result, we compute the harmonic mean of the current\n",
        "        # precision and recall\n",
        "        return 2 / ((1 / self.precision.result()) + (1 / self.recall.result())) \n",
        "\n",
        "F1Score = F1_metric()\n",
        "metrics = [categorical_accuracry, F1Score]"
      ],
      "execution_count": 46,
      "outputs": []
    },
    {
      "cell_type": "code",
      "metadata": {
        "id": "cC9qxMa3AlIH"
      },
      "source": [
        "def create_model(xlnet_model):\n",
        "  input_ids = tf.keras.Input(shape=(max_length,),dtype='int32')\n",
        "\n",
        "  attention_masks = tf.keras.Input(shape=(max_length,),dtype='int32')\n",
        "  \n",
        "#   output = xlnet_model([input_ids,attention_masks])\n",
        "  output = xlnet_model(input_ids)\n",
        "  output = output[0]\n",
        "  output = tf.squeeze(output[:, -1:, :], axis=1)\n",
        "  \n",
        "#   output = tf.keras.layers.Dense(128,activation='relu',)(output)\n",
        "#   output = tf.keras.layers.Dropout(0.2)(output)\n",
        "#   output = tf.keras.layers.BatchNormalization()(output)\n",
        "\n",
        "#   output = tf.keras.layers.Dense(64,activation='relu',)(output)\n",
        "#   output = tf.keras.layers.Dropout(0.2)(output)\n",
        "#   output = tf.keras.layers.BatchNormalization()(output)\n",
        "\n",
        "  output = tf.keras.layers.Dense(32,activation='relu')(output)\n",
        "  output = tf.keras.layers.Dropout(0.2)(output)\n",
        "  \n",
        "  output = tf.keras.layers.Dense(units=max_classes,activation='softmax')(output)\n",
        "  model = tf.keras.models.Model(inputs = input_ids,outputs = output)\n",
        "  model.compile(optimizer= opt,\n",
        "              loss= loss,\n",
        "              metrics = metrics)\n",
        "  return model"
      ],
      "execution_count": 47,
      "outputs": []
    },
    {
      "cell_type": "code",
      "metadata": {
        "id": "jR9v924eAsxE"
      },
      "source": [
        "def create_xlnet(mname):\n",
        "    \"\"\" Creates the model. It is composed of the XLNet main block and then\n",
        "    a classification head its added\n",
        "    \"\"\"\n",
        "    # Define token ids as inputs\n",
        "    word_inputs = tf.keras.Input(shape=(120,), name='word_inputs', dtype='int32')\n",
        "    attention_masks = tf.keras.Input(shape=(120,),dtype='int32')\n",
        "    # Call XLNet model\n",
        "    xlnet = TFXLNetModel.from_pretrained(mname)\n",
        "    xlnet_encodings = xlnet(word_inputs, attention_masks)[0]\n",
        "\n",
        "    # CLASSIFICATION HEAD \n",
        "    # Collect last step from last hidden state (CLS)\n",
        "    doc_encoding = tf.squeeze(xlnet_encodings[:, -1:, :], axis=1)\n",
        "    # Apply dropout for regularization\n",
        "    doc_encoding = tf.keras.layers.Dropout(.1)(doc_encoding)\n",
        "    # Final output \n",
        "    outputs = tf.keras.layers.Dense(units=max_classes,activation='softmax')(doc_encoding)\n",
        "\n",
        "    # Compile model\n",
        "    model = tf.keras.Model(inputs=[word_inputs, attention_masks], outputs=[outputs])\n",
        "    model.compile(optimizer= opt,\n",
        "              loss= loss,\n",
        "              metrics = metrics)\n",
        "\n",
        "    return model"
      ],
      "execution_count": 48,
      "outputs": []
    },
    {
      "cell_type": "code",
      "metadata": {
        "colab": {
          "base_uri": "https://localhost:8080/",
          "height": 972,
          "referenced_widgets": [
            "63db9707308e4327b0d9f328397ae7c7",
            "f46da387ca164e208e4b133f647a8184",
            "19f714f1f48f4da6b9f9b014bff09f13",
            "724b514f2f9d4780925fb2d7f2cb9e3c",
            "ead2033a9466449d84571762bc1eae57",
            "9bda3ac8428c42f3bc681cc317a0d4d6",
            "eb31432a65e94abbb515fbeaefaa4745",
            "6d7e38bfa86d44e5b8dd73fc7ac1b0c9",
            "59a8b3415fac431eaccb542e09cf9525",
            "8ae223b7600f4ec081ba8b13e89fba2d",
            "b6c1337dfb17417a909d12d3ed7c3f9f"
          ]
        },
        "id": "r3nAB4sfA34m",
        "outputId": "4da5ec42-67ad-49e2-93d9-ecc1487ccd55"
      },
      "source": [
        "from transformers import TFXLNetModel\n",
        "xlnet_model = TFXLNetModel.from_pretrained(checkpoint)\n",
        "# from transformers import TFAutoModelForSequenceClassification\n",
        "# model = TFAutoModelForSequenceClassification.from_pretrained(checkpoint, num_labels=max_classes)\n",
        "\n",
        "model = create_xlnet(checkpoint)\n",
        "# model.layers[2].trainable = False\n",
        "model.summary()"
      ],
      "execution_count": 49,
      "outputs": [
        {
          "output_type": "display_data",
          "data": {
            "application/vnd.jupyter.widget-view+json": {
              "model_id": "63db9707308e4327b0d9f328397ae7c7",
              "version_minor": 0,
              "version_major": 2
            },
            "text/plain": [
              "Downloading:   0%|          | 0.00/539M [00:00<?, ?B/s]"
            ]
          },
          "metadata": {}
        },
        {
          "output_type": "stream",
          "name": "stderr",
          "text": [
            "Some layers from the model checkpoint at xlnet-base-cased were not used when initializing TFXLNetModel: ['lm_loss']\n",
            "- This IS expected if you are initializing TFXLNetModel from the checkpoint of a model trained on another task or with another architecture (e.g. initializing a BertForSequenceClassification model from a BertForPreTraining model).\n",
            "- This IS NOT expected if you are initializing TFXLNetModel from the checkpoint of a model that you expect to be exactly identical (initializing a BertForSequenceClassification model from a BertForSequenceClassification model).\n",
            "All the layers of TFXLNetModel were initialized from the model checkpoint at xlnet-base-cased.\n",
            "If your task is similar to the task the model of the checkpoint was trained on, you can already use TFXLNetModel for predictions without further training.\n",
            "Some layers from the model checkpoint at xlnet-base-cased were not used when initializing TFXLNetModel: ['lm_loss']\n",
            "- This IS expected if you are initializing TFXLNetModel from the checkpoint of a model trained on another task or with another architecture (e.g. initializing a BertForSequenceClassification model from a BertForPreTraining model).\n",
            "- This IS NOT expected if you are initializing TFXLNetModel from the checkpoint of a model that you expect to be exactly identical (initializing a BertForSequenceClassification model from a BertForSequenceClassification model).\n",
            "All the layers of TFXLNetModel were initialized from the model checkpoint at xlnet-base-cased.\n",
            "If your task is similar to the task the model of the checkpoint was trained on, you can already use TFXLNetModel for predictions without further training.\n"
          ]
        },
        {
          "output_type": "stream",
          "name": "stdout",
          "text": [
            "Model: \"model\"\n",
            "__________________________________________________________________________________________________\n",
            " Layer (type)                   Output Shape         Param #     Connected to                     \n",
            "==================================================================================================\n",
            " word_inputs (InputLayer)       [(None, 120)]        0           []                               \n",
            "                                                                                                  \n",
            " input_1 (InputLayer)           [(None, 120)]        0           []                               \n",
            "                                                                                                  \n",
            " tfxl_net_model_1 (TFXLNetModel  TFXLNetModelOutput(  116718336  ['word_inputs[0][0]',            \n",
            " )                              last_hidden_state=(               'input_1[0][0]']                \n",
            "                                None, 120, 768),                                                  \n",
            "                                 mems=((120, None,                                                \n",
            "                                768),                                                             \n",
            "                                 (120, None, 768),                                                \n",
            "                                 (120, None, 768),                                                \n",
            "                                 (120, None, 768),                                                \n",
            "                                 (120, None, 768),                                                \n",
            "                                 (120, None, 768),                                                \n",
            "                                 (120, None, 768),                                                \n",
            "                                 (120, None, 768),                                                \n",
            "                                 (120, None, 768),                                                \n",
            "                                 (120, None, 768),                                                \n",
            "                                 (120, None, 768),                                                \n",
            "                                 (120, None, 768)),                                               \n",
            "                                 hidden_states=None                                               \n",
            "                                , attentions=None)                                                \n",
            "                                                                                                  \n",
            " tf.__operators__.getitem (Slic  (None, 1, 768)      0           ['tfxl_net_model_1[0][0]']       \n",
            " ingOpLambda)                                                                                     \n",
            "                                                                                                  \n",
            " tf.compat.v1.squeeze (TFOpLamb  (None, 768)         0           ['tf.__operators__.getitem[0][0]'\n",
            " da)                                                             ]                                \n",
            "                                                                                                  \n",
            " dropout_74 (Dropout)           (None, 768)          0           ['tf.compat.v1.squeeze[0][0]']   \n",
            "                                                                                                  \n",
            " dense (Dense)                  (None, 7)            5383        ['dropout_74[0][0]']             \n",
            "                                                                                                  \n",
            "==================================================================================================\n",
            "Total params: 116,723,719\n",
            "Trainable params: 116,723,719\n",
            "Non-trainable params: 0\n",
            "__________________________________________________________________________________________________\n"
          ]
        }
      ]
    },
    {
      "cell_type": "code",
      "metadata": {
        "colab": {
          "base_uri": "https://localhost:8080/"
        },
        "id": "vueoag2eA_um",
        "outputId": "e9816197-6b1e-4561-c062-d9b428f8d3b2"
      },
      "source": [
        "%%time\n",
        "history = model.fit([train_inp_tok, train_attention_masks], encoded_labels_train, \n",
        "                    validation_data=([test_inp_tok, test_attention_masks], encoded_labels_test),\n",
        "                    epochs = 3,\n",
        "                    batch_size = 32,    \n",
        "                    verbose = 1,\n",
        "                    class_weight=class_weights,\n",
        "                    callbacks = [MyCheckpoint, MyEarlyStopping]\n",
        "                    )"
      ],
      "execution_count": 50,
      "outputs": [
        {
          "output_type": "stream",
          "name": "stdout",
          "text": [
            "Epoch 1/3\n",
            "WARNING:tensorflow:Gradients do not exist for variables ['tfxl_net_model_1/transformer/mask_emb:0', 'tfxl_net_model_1/transformer/layer_._0/rel_attn/r_s_bias:0', 'tfxl_net_model_1/transformer/layer_._0/rel_attn/seg_embed:0', 'tfxl_net_model_1/transformer/layer_._1/rel_attn/r_s_bias:0', 'tfxl_net_model_1/transformer/layer_._1/rel_attn/seg_embed:0', 'tfxl_net_model_1/transformer/layer_._2/rel_attn/r_s_bias:0', 'tfxl_net_model_1/transformer/layer_._2/rel_attn/seg_embed:0', 'tfxl_net_model_1/transformer/layer_._3/rel_attn/r_s_bias:0', 'tfxl_net_model_1/transformer/layer_._3/rel_attn/seg_embed:0', 'tfxl_net_model_1/transformer/layer_._4/rel_attn/r_s_bias:0', 'tfxl_net_model_1/transformer/layer_._4/rel_attn/seg_embed:0', 'tfxl_net_model_1/transformer/layer_._5/rel_attn/r_s_bias:0', 'tfxl_net_model_1/transformer/layer_._5/rel_attn/seg_embed:0', 'tfxl_net_model_1/transformer/layer_._6/rel_attn/r_s_bias:0', 'tfxl_net_model_1/transformer/layer_._6/rel_attn/seg_embed:0', 'tfxl_net_model_1/transformer/layer_._7/rel_attn/r_s_bias:0', 'tfxl_net_model_1/transformer/layer_._7/rel_attn/seg_embed:0', 'tfxl_net_model_1/transformer/layer_._8/rel_attn/r_s_bias:0', 'tfxl_net_model_1/transformer/layer_._8/rel_attn/seg_embed:0', 'tfxl_net_model_1/transformer/layer_._9/rel_attn/r_s_bias:0', 'tfxl_net_model_1/transformer/layer_._9/rel_attn/seg_embed:0', 'tfxl_net_model_1/transformer/layer_._10/rel_attn/r_s_bias:0', 'tfxl_net_model_1/transformer/layer_._10/rel_attn/seg_embed:0', 'tfxl_net_model_1/transformer/layer_._11/rel_attn/r_s_bias:0', 'tfxl_net_model_1/transformer/layer_._11/rel_attn/seg_embed:0'] when minimizing the loss. If you're using `model.compile()`, did you forget to provide a `loss`argument?\n",
            "WARNING:tensorflow:Gradients do not exist for variables ['tfxl_net_model_1/transformer/mask_emb:0', 'tfxl_net_model_1/transformer/layer_._0/rel_attn/r_s_bias:0', 'tfxl_net_model_1/transformer/layer_._0/rel_attn/seg_embed:0', 'tfxl_net_model_1/transformer/layer_._1/rel_attn/r_s_bias:0', 'tfxl_net_model_1/transformer/layer_._1/rel_attn/seg_embed:0', 'tfxl_net_model_1/transformer/layer_._2/rel_attn/r_s_bias:0', 'tfxl_net_model_1/transformer/layer_._2/rel_attn/seg_embed:0', 'tfxl_net_model_1/transformer/layer_._3/rel_attn/r_s_bias:0', 'tfxl_net_model_1/transformer/layer_._3/rel_attn/seg_embed:0', 'tfxl_net_model_1/transformer/layer_._4/rel_attn/r_s_bias:0', 'tfxl_net_model_1/transformer/layer_._4/rel_attn/seg_embed:0', 'tfxl_net_model_1/transformer/layer_._5/rel_attn/r_s_bias:0', 'tfxl_net_model_1/transformer/layer_._5/rel_attn/seg_embed:0', 'tfxl_net_model_1/transformer/layer_._6/rel_attn/r_s_bias:0', 'tfxl_net_model_1/transformer/layer_._6/rel_attn/seg_embed:0', 'tfxl_net_model_1/transformer/layer_._7/rel_attn/r_s_bias:0', 'tfxl_net_model_1/transformer/layer_._7/rel_attn/seg_embed:0', 'tfxl_net_model_1/transformer/layer_._8/rel_attn/r_s_bias:0', 'tfxl_net_model_1/transformer/layer_._8/rel_attn/seg_embed:0', 'tfxl_net_model_1/transformer/layer_._9/rel_attn/r_s_bias:0', 'tfxl_net_model_1/transformer/layer_._9/rel_attn/seg_embed:0', 'tfxl_net_model_1/transformer/layer_._10/rel_attn/r_s_bias:0', 'tfxl_net_model_1/transformer/layer_._10/rel_attn/seg_embed:0', 'tfxl_net_model_1/transformer/layer_._11/rel_attn/r_s_bias:0', 'tfxl_net_model_1/transformer/layer_._11/rel_attn/seg_embed:0'] when minimizing the loss. If you're using `model.compile()`, did you forget to provide a `loss`argument?\n",
            "737/737 [==============================] - ETA: 0s - loss: 1.5222 - categorical_accuracy: 0.3918 - f1_score: 0.3049\n",
            "Epoch 00001: val_categorical_accuracy improved from -inf to 0.62137, saving model to XLNet-base.h5\n",
            "737/737 [==============================] - 1495s 2s/step - loss: 1.5222 - categorical_accuracy: 0.3918 - f1_score: 0.3049 - val_loss: 1.0538 - val_categorical_accuracy: 0.6214 - val_f1_score: 0.5807\n",
            "Epoch 2/3\n",
            "737/737 [==============================] - ETA: 0s - loss: 0.7981 - categorical_accuracy: 0.6298 - f1_score: 0.6046\n",
            "Epoch 00002: val_categorical_accuracy improved from 0.62137 to 0.66107, saving model to XLNet-base.h5\n",
            "737/737 [==============================] - 1473s 2s/step - loss: 0.7981 - categorical_accuracy: 0.6298 - f1_score: 0.6046 - val_loss: 0.9218 - val_categorical_accuracy: 0.6611 - val_f1_score: 0.6378\n",
            "Epoch 3/3\n",
            "737/737 [==============================] - ETA: 0s - loss: 0.4607 - categorical_accuracy: 0.7698 - f1_score: 0.7627\n",
            "Epoch 00003: val_categorical_accuracy improved from 0.66107 to 0.80611, saving model to XLNet-base.h5\n",
            "737/737 [==============================] - 1473s 2s/step - loss: 0.4607 - categorical_accuracy: 0.7698 - f1_score: 0.7627 - val_loss: 0.6234 - val_categorical_accuracy: 0.8061 - val_f1_score: 0.8084\n",
            "CPU times: user 21min 48s, sys: 11min 2s, total: 32min 51s\n",
            "Wall time: 1h 14min 40s\n"
          ]
        }
      ]
    },
    {
      "cell_type": "markdown",
      "metadata": {
        "id": "r3T5h9NH0Jm-"
      },
      "source": [
        "# **Testing**"
      ]
    },
    {
      "cell_type": "code",
      "metadata": {
        "colab": {
          "base_uri": "https://localhost:8080/"
        },
        "id": "R8iuHtVQCty9",
        "outputId": "60259f08-68f3-49d8-be4b-111f2563cadf"
      },
      "source": [
        "drive.mount('/content/drive')\n",
        "PATH = '/content/drive/MyDrive/Task1_Test/'\n",
        "list_dir = os.listdir(PATH)\n",
        "text = []\n",
        "labels = []\n",
        "sentid = []\n",
        "i=0\n",
        "for file in list_dir:\n",
        "    file_path = PATH + file\n",
        "    j=1\n",
        "    i=i+1\n",
        "    with open(file_path, 'r') as f:\n",
        "        for line in f:\n",
        "            line = line.split(sep='\\t')\n",
        "            text.append(line[0])\n",
        "            labels.append(line[1][:-1])\n",
        "            sentid.append(\"d\"+str(i)+\"_s\"+str(j))\n",
        "            j=j+1\n",
        "\n",
        "data = {'ID': sentid, 'Text': text, \"labels\": labels}\n",
        "test_file = pd.DataFrame(data=data)"
      ],
      "execution_count": 51,
      "outputs": [
        {
          "output_type": "stream",
          "name": "stdout",
          "text": [
            "Drive already mounted at /content/drive; to attempt to forcibly remount, call drive.mount(\"/content/drive\", force_remount=True).\n"
          ]
        }
      ]
    },
    {
      "cell_type": "code",
      "metadata": {
        "id": "_dCbKU7jE6Pc"
      },
      "source": [
        "# Remove Excess [Size:: ] from EoS\n",
        "def remove_size(text):\n",
        "\tresult = re.search(\"\\[size\", text)\n",
        "\tif result is not None:\n",
        "\t\ttext = text[:result.start()]\n",
        "\treturn text.strip()\n",
        "\n",
        "months = ['january', 'jan', 'feb', 'mar', 'apr', 'aug', 'sept', 'oct', 'nov', 'dec', 'feburary', 'february', 'march', 'april', 'may', 'june', 'july', 'august', 'september', 'october', 'november', 'december', 'on']\n",
        "def remove_months(text):\n",
        "    text = text.split()\n",
        "    text = [word for word in text if word.lower() not in set(months)]\n",
        "    text = ' '.join(text)\n",
        "    return text\n",
        "\n",
        "def remove_nums(text):\n",
        "    result = re.sub(r'[0-9+]', '', text)\n",
        "    return result\n",
        "\n",
        "def remove_comma(text):\n",
        "    result = re.sub(r',', '', text)\n",
        "    return result"
      ],
      "execution_count": 52,
      "outputs": []
    },
    {
      "cell_type": "code",
      "metadata": {
        "id": "MOcPvbqXFGnV"
      },
      "source": [
        "def text_cleaning(text):\n",
        "    text = remove_size(text)\n",
        "    text = remove_nums(text)\n",
        "    text = remove_months(text)\n",
        "    text = remove_comma(text)\n",
        "    return text.strip().lower()\n",
        "\n",
        "test_file['processed'] = test_file['Text'].apply(text_cleaning)"
      ],
      "execution_count": 53,
      "outputs": []
    },
    {
      "cell_type": "code",
      "metadata": {
        "id": "KTveXjE2Fepy",
        "colab": {
          "base_uri": "https://localhost:8080/",
          "height": 424
        },
        "outputId": "ac2f5000-0877-4021-d364-34b9a4b1ed6a"
      },
      "source": [
        "test_file"
      ],
      "execution_count": 54,
      "outputs": [
        {
          "output_type": "execute_result",
          "data": {
            "text/html": [
              "<div>\n",
              "<style scoped>\n",
              "    .dataframe tbody tr th:only-of-type {\n",
              "        vertical-align: middle;\n",
              "    }\n",
              "\n",
              "    .dataframe tbody tr th {\n",
              "        vertical-align: top;\n",
              "    }\n",
              "\n",
              "    .dataframe thead th {\n",
              "        text-align: right;\n",
              "    }\n",
              "</style>\n",
              "<table border=\"1\" class=\"dataframe\">\n",
              "  <thead>\n",
              "    <tr style=\"text-align: right;\">\n",
              "      <th></th>\n",
              "      <th>ID</th>\n",
              "      <th>Text</th>\n",
              "      <th>labels</th>\n",
              "      <th>processed</th>\n",
              "    </tr>\n",
              "  </thead>\n",
              "  <tbody>\n",
              "    <tr>\n",
              "      <th>0</th>\n",
              "      <td>d1_s1</td>\n",
              "      <td>These two Criminal Appeals are preferred by th...</td>\n",
              "      <td>Facts</td>\n",
              "      <td>these two criminal appeals are preferred by th...</td>\n",
              "    </tr>\n",
              "    <tr>\n",
              "      <th>1</th>\n",
              "      <td>d1_s2</td>\n",
              "      <td>Application no. 1295 of 2011 and 1296 of 2011 ...</td>\n",
              "      <td>Facts</td>\n",
              "      <td>application no. of and of passed by the learne...</td>\n",
              "    </tr>\n",
              "    <tr>\n",
              "      <th>2</th>\n",
              "      <td>d1_s3</td>\n",
              "      <td>The respondent no. 1 Shyam Vithalrao Devkatta,...</td>\n",
              "      <td>Facts</td>\n",
              "      <td>the respondent no. shyam vithalrao devkatta fi...</td>\n",
              "    </tr>\n",
              "    <tr>\n",
              "      <th>3</th>\n",
              "      <td>d1_s4</td>\n",
              "      <td>Upon due verification process was issued by th...</td>\n",
              "      <td>Facts</td>\n",
              "      <td>upon due verification process was issued by th...</td>\n",
              "    </tr>\n",
              "    <tr>\n",
              "      <th>4</th>\n",
              "      <td>d1_s5</td>\n",
              "      <td>Of these accused, four approached the Bombay H...</td>\n",
              "      <td>Facts</td>\n",
              "      <td>of these accused four approached the bombay hi...</td>\n",
              "    </tr>\n",
              "    <tr>\n",
              "      <th>...</th>\n",
              "      <td>...</td>\n",
              "      <td>...</td>\n",
              "      <td>...</td>\n",
              "      <td>...</td>\n",
              "    </tr>\n",
              "    <tr>\n",
              "      <th>692</th>\n",
              "      <td>d10_s60</td>\n",
              "      <td>Applying the above principles, it is clear fro...</td>\n",
              "      <td>Ratio of the decision</td>\n",
              "      <td>applying the above principles it is clear from...</td>\n",
              "    </tr>\n",
              "    <tr>\n",
              "      <th>693</th>\n",
              "      <td>d10_s61</td>\n",
              "      <td>Kalawati was last seen in the company of the a...</td>\n",
              "      <td>Ratio of the decision</td>\n",
              "      <td>kalawati was last seen in the company of the a...</td>\n",
              "    </tr>\n",
              "    <tr>\n",
              "      <th>694</th>\n",
              "      <td>d10_s62</td>\n",
              "      <td>After his arrest, the production, by the appel...</td>\n",
              "      <td>Ratio of the decision</td>\n",
              "      <td>after his arrest the production by the appella...</td>\n",
              "    </tr>\n",
              "    <tr>\n",
              "      <th>695</th>\n",
              "      <td>d10_s63</td>\n",
              "      <td>To conclude, the appellant has been rightly co...</td>\n",
              "      <td>Ruling by Present Court</td>\n",
              "      <td>to conclude the appellant has been rightly con...</td>\n",
              "    </tr>\n",
              "    <tr>\n",
              "      <th>696</th>\n",
              "      <td>d10_s64</td>\n",
              "      <td>Appeal Dismissed.</td>\n",
              "      <td>Ruling by Present Court</td>\n",
              "      <td>appeal dismissed.</td>\n",
              "    </tr>\n",
              "  </tbody>\n",
              "</table>\n",
              "<p>697 rows × 4 columns</p>\n",
              "</div>"
            ],
            "text/plain": [
              "          ID  ...                                          processed\n",
              "0      d1_s1  ...  these two criminal appeals are preferred by th...\n",
              "1      d1_s2  ...  application no. of and of passed by the learne...\n",
              "2      d1_s3  ...  the respondent no. shyam vithalrao devkatta fi...\n",
              "3      d1_s4  ...  upon due verification process was issued by th...\n",
              "4      d1_s5  ...  of these accused four approached the bombay hi...\n",
              "..       ...  ...                                                ...\n",
              "692  d10_s60  ...  applying the above principles it is clear from...\n",
              "693  d10_s61  ...  kalawati was last seen in the company of the a...\n",
              "694  d10_s62  ...  after his arrest the production by the appella...\n",
              "695  d10_s63  ...  to conclude the appellant has been rightly con...\n",
              "696  d10_s64  ...                                  appeal dismissed.\n",
              "\n",
              "[697 rows x 4 columns]"
            ]
          },
          "metadata": {},
          "execution_count": 54
        }
      ]
    },
    {
      "cell_type": "code",
      "metadata": {
        "id": "54PZGJbvFqYs",
        "colab": {
          "base_uri": "https://localhost:8080/"
        },
        "outputId": "1e05a7df-412c-404a-d3eb-8af478b93357"
      },
      "source": [
        "lemmatizer = WordNetLemmatizer()\n",
        "from nltk import word_tokenize, WordNetLemmatizer\n",
        "from nltk.corpus import stopwords\n",
        "nltk.download('punkt')\n",
        "nltk.download('stopwords')\n",
        "def lemmatizing_headlines(text):\n",
        "    tokens = word_tokenize(text.lower())\n",
        "    tokens = [lemmatizer.lemmatize(word) for word in tokens if word not in set(stopwords.words('english'))]\n",
        "    return ' '.join(tokens).strip()\n",
        "\n",
        "test_file['processed'] = test_file['processed'].apply(lemmatizing_headlines)"
      ],
      "execution_count": 55,
      "outputs": [
        {
          "output_type": "stream",
          "name": "stdout",
          "text": [
            "[nltk_data] Downloading package punkt to /root/nltk_data...\n",
            "[nltk_data]   Unzipping tokenizers/punkt.zip.\n",
            "[nltk_data] Downloading package stopwords to /root/nltk_data...\n",
            "[nltk_data]   Package stopwords is already up-to-date!\n"
          ]
        }
      ]
    },
    {
      "cell_type": "code",
      "metadata": {
        "id": "J6V3V84kF3Sq",
        "colab": {
          "base_uri": "https://localhost:8080/",
          "height": 206
        },
        "outputId": "b860d527-f59f-42fb-ca62-ad3c189709ad"
      },
      "source": [
        "test_file.head()"
      ],
      "execution_count": 56,
      "outputs": [
        {
          "output_type": "execute_result",
          "data": {
            "text/html": [
              "<div>\n",
              "<style scoped>\n",
              "    .dataframe tbody tr th:only-of-type {\n",
              "        vertical-align: middle;\n",
              "    }\n",
              "\n",
              "    .dataframe tbody tr th {\n",
              "        vertical-align: top;\n",
              "    }\n",
              "\n",
              "    .dataframe thead th {\n",
              "        text-align: right;\n",
              "    }\n",
              "</style>\n",
              "<table border=\"1\" class=\"dataframe\">\n",
              "  <thead>\n",
              "    <tr style=\"text-align: right;\">\n",
              "      <th></th>\n",
              "      <th>ID</th>\n",
              "      <th>Text</th>\n",
              "      <th>labels</th>\n",
              "      <th>processed</th>\n",
              "    </tr>\n",
              "  </thead>\n",
              "  <tbody>\n",
              "    <tr>\n",
              "      <th>0</th>\n",
              "      <td>d1_s1</td>\n",
              "      <td>These two Criminal Appeals are preferred by th...</td>\n",
              "      <td>Facts</td>\n",
              "      <td>two criminal appeal preferred accused judgment...</td>\n",
              "    </tr>\n",
              "    <tr>\n",
              "      <th>1</th>\n",
              "      <td>d1_s2</td>\n",
              "      <td>Application no. 1295 of 2011 and 1296 of 2011 ...</td>\n",
              "      <td>Facts</td>\n",
              "      <td>application . passed learned single judge bomb...</td>\n",
              "    </tr>\n",
              "    <tr>\n",
              "      <th>2</th>\n",
              "      <td>d1_s3</td>\n",
              "      <td>The respondent no. 1 Shyam Vithalrao Devkatta,...</td>\n",
              "      <td>Facts</td>\n",
              "      <td>respondent . shyam vithalrao devkatta filed co...</td>\n",
              "    </tr>\n",
              "    <tr>\n",
              "      <th>3</th>\n",
              "      <td>d1_s4</td>\n",
              "      <td>Upon due verification process was issued by th...</td>\n",
              "      <td>Facts</td>\n",
              "      <td>upon due verification process issued learned m...</td>\n",
              "    </tr>\n",
              "    <tr>\n",
              "      <th>4</th>\n",
              "      <td>d1_s5</td>\n",
              "      <td>Of these accused, four approached the Bombay H...</td>\n",
              "      <td>Facts</td>\n",
              "      <td>accused four approached bombay high court way ...</td>\n",
              "    </tr>\n",
              "  </tbody>\n",
              "</table>\n",
              "</div>"
            ],
            "text/plain": [
              "      ID  ...                                          processed\n",
              "0  d1_s1  ...  two criminal appeal preferred accused judgment...\n",
              "1  d1_s2  ...  application . passed learned single judge bomb...\n",
              "2  d1_s3  ...  respondent . shyam vithalrao devkatta filed co...\n",
              "3  d1_s4  ...  upon due verification process issued learned m...\n",
              "4  d1_s5  ...  accused four approached bombay high court way ...\n",
              "\n",
              "[5 rows x 4 columns]"
            ]
          },
          "metadata": {},
          "execution_count": 56
        }
      ]
    },
    {
      "cell_type": "code",
      "metadata": {
        "id": "rEaMah2jF8Zy",
        "colab": {
          "base_uri": "https://localhost:8080/"
        },
        "outputId": "655bf038-7c83-48fb-cd1b-bc5bc65c55fc"
      },
      "source": [
        "final_test_inputs, final_test_attention_masks, segments = get_inputs(test_file.processed, tokenizer)\n",
        "y_preds = np.argmax(model.predict([final_test_inputs, final_test_attention_masks]), axis=1)"
      ],
      "execution_count": 57,
      "outputs": [
        {
          "output_type": "stream",
          "name": "stderr",
          "text": [
            "/usr/local/lib/python3.7/dist-packages/transformers/tokenization_utils_base.py:2218: FutureWarning: The `pad_to_max_length` argument is deprecated and will be removed in a future version, use `padding=True` or `padding='longest'` to pad to the longest sequence in the batch, or use `padding='max_length'` to pad to a max length. In this case, you can give a specific length with `max_length` (e.g. `max_length=45`) or leave max_length to None to pad to the maximal input size of the model (e.g. 512 for Bert).\n",
            "  FutureWarning,\n"
          ]
        }
      ]
    },
    {
      "cell_type": "code",
      "metadata": {
        "colab": {
          "base_uri": "https://localhost:8080/"
        },
        "id": "OH3LLhi3DO4z",
        "outputId": "0556f18d-4016-44b3-e7e2-be0951364ee1"
      },
      "source": [
        "y_preds"
      ],
      "execution_count": 58,
      "outputs": [
        {
          "output_type": "execute_result",
          "data": {
            "text/plain": [
              "array([1, 1, 0, 0, 0, 1, 0, 0, 0, 4, 0, 3, 1, 0, 0, 0, 4, 1, 0, 1, 1, 1,\n",
              "       6, 2, 1, 2, 0, 2, 4, 0, 5, 5, 5, 5, 5, 5, 3, 4, 2, 4, 3, 1, 3, 3,\n",
              "       3, 1, 3, 4, 4, 4, 1, 4, 5, 4, 4, 1, 1, 3, 1, 3, 3, 4, 3, 3, 3, 1,\n",
              "       1, 4, 3, 3, 3, 3, 1, 3, 3, 1, 1, 3, 3, 1, 3, 4, 3, 1, 1, 3, 3, 1,\n",
              "       1, 1, 2, 5, 3, 5, 3, 1, 3, 3, 3, 3, 3, 5, 1, 3, 3, 3, 2, 1, 2, 4,\n",
              "       1, 0, 6, 0, 0, 0, 0, 0, 1, 0, 1, 1, 0, 4, 3, 0, 0, 2, 0, 2, 2, 2,\n",
              "       2, 2, 2, 2, 3, 2, 2, 2, 2, 2, 2, 3, 2, 3, 2, 2, 2, 4, 0, 0, 0, 0,\n",
              "       0, 0, 2, 0, 3, 0, 2, 1, 5, 6, 5, 5, 5, 5, 5, 5, 5, 5, 5, 5, 5, 5,\n",
              "       5, 5, 5, 5, 5, 5, 1, 4, 3, 0, 0, 4, 4, 4, 4, 4, 3, 4, 3, 4, 3, 3,\n",
              "       6, 0, 4, 2, 3, 0, 0, 1, 1, 4, 1, 0, 6, 0, 0, 0, 0, 0, 0, 0, 0, 0,\n",
              "       0, 0, 0, 0, 0, 0, 0, 0, 1, 1, 2, 2, 4, 3, 3, 0, 6, 0, 0, 3, 3, 3,\n",
              "       3, 4, 4, 5, 5, 5, 3, 1, 2, 5, 5, 1, 0, 4, 1, 6, 1, 6, 1, 0, 1, 0,\n",
              "       0, 1, 0, 0, 0, 3, 0, 4, 0, 0, 4, 1, 3, 0, 0, 0, 4, 1, 0, 0, 0, 0,\n",
              "       0, 0, 0, 0, 0, 0, 0, 4, 0, 0, 4, 3, 0, 0, 0, 4, 0, 1, 4, 4, 0, 0,\n",
              "       0, 0, 0, 0, 4, 0, 4, 3, 0, 0, 0, 4, 0, 4, 1, 3, 4, 0, 0, 0, 0, 2,\n",
              "       2, 4, 4, 1, 3, 2, 1, 6, 1, 1, 6, 6, 6, 0, 0, 1, 0, 0, 1, 3, 2, 1,\n",
              "       3, 0, 1, 4, 2, 1, 3, 1, 1, 0, 3, 1, 1, 1, 2, 2, 2, 2, 2, 2, 1, 1,\n",
              "       4, 0, 5, 4, 0, 3, 0, 4, 1, 4, 1, 1, 1, 3, 3, 3, 3, 3, 4, 4, 1, 3,\n",
              "       0, 4, 6, 4, 6, 0, 0, 3, 1, 2, 0, 1, 4, 0, 1, 0, 1, 1, 4, 2, 2, 2,\n",
              "       1, 4, 4, 1, 4, 1, 1, 4, 5, 1, 5, 1, 0, 4, 3, 4, 6, 3, 3, 1, 1, 6,\n",
              "       6, 1, 0, 0, 0, 0, 0, 0, 0, 4, 1, 0, 2, 2, 0, 1, 1, 1, 1, 0, 0, 3,\n",
              "       3, 3, 3, 1, 3, 1, 0, 1, 1, 1, 1, 4, 1, 1, 1, 1, 2, 1, 1, 1, 1, 3,\n",
              "       6, 6, 0, 0, 0, 0, 0, 1, 1, 0, 0, 1, 2, 2, 2, 1, 2, 2, 1, 4, 0, 0,\n",
              "       1, 1, 1, 3, 3, 4, 3, 3, 3, 3, 4, 3, 1, 3, 2, 2, 3, 3, 0, 0, 3, 4,\n",
              "       1, 1, 0, 3, 1, 1, 2, 2, 1, 3, 1, 1, 3, 3, 3, 3, 0, 3, 3, 4, 3, 1,\n",
              "       0, 4, 4, 4, 1, 3, 3, 3, 1, 3, 3, 1, 6, 6, 6, 0, 1, 4, 1, 4, 5, 4,\n",
              "       1, 1, 1, 4, 4, 1, 3, 3, 2, 4, 4, 2, 1, 3, 1, 3, 1, 3, 4, 1, 5, 5,\n",
              "       1, 1, 3, 3, 4, 5, 3, 3, 4, 3, 1, 1, 4, 1, 1, 4, 1, 5, 1, 1, 5, 1,\n",
              "       3, 3, 3, 1, 3, 3, 3, 3, 3, 1, 1, 1, 4, 6, 6, 1, 6, 1, 1, 0, 0, 0,\n",
              "       0, 0, 0, 0, 0, 0, 0, 0, 0, 0, 4, 2, 2, 4, 0, 0, 4, 3, 1, 0, 0, 0,\n",
              "       0, 0, 0, 0, 0, 0, 0, 0, 4, 1, 1, 2, 3, 1, 3, 0, 4, 0, 0, 0, 4, 0,\n",
              "       1, 3, 3, 4, 4, 3, 3, 3, 3, 3, 3, 0, 4, 6, 1])"
            ]
          },
          "metadata": {},
          "execution_count": 58
        }
      ]
    },
    {
      "cell_type": "code",
      "metadata": {
        "id": "WaVRJJ2oDV4-"
      },
      "source": [
        "test_file['pred-labels'] = y_preds"
      ],
      "execution_count": 59,
      "outputs": []
    },
    {
      "cell_type": "code",
      "metadata": {
        "colab": {
          "base_uri": "https://localhost:8080/",
          "height": 206
        },
        "id": "d_Idl703DZQR",
        "outputId": "188878be-6772-4c4e-a01d-2baa73ca6b1c"
      },
      "source": [
        "test_file.head()"
      ],
      "execution_count": 60,
      "outputs": [
        {
          "output_type": "execute_result",
          "data": {
            "text/html": [
              "<div>\n",
              "<style scoped>\n",
              "    .dataframe tbody tr th:only-of-type {\n",
              "        vertical-align: middle;\n",
              "    }\n",
              "\n",
              "    .dataframe tbody tr th {\n",
              "        vertical-align: top;\n",
              "    }\n",
              "\n",
              "    .dataframe thead th {\n",
              "        text-align: right;\n",
              "    }\n",
              "</style>\n",
              "<table border=\"1\" class=\"dataframe\">\n",
              "  <thead>\n",
              "    <tr style=\"text-align: right;\">\n",
              "      <th></th>\n",
              "      <th>ID</th>\n",
              "      <th>Text</th>\n",
              "      <th>labels</th>\n",
              "      <th>processed</th>\n",
              "      <th>pred-labels</th>\n",
              "    </tr>\n",
              "  </thead>\n",
              "  <tbody>\n",
              "    <tr>\n",
              "      <th>0</th>\n",
              "      <td>d1_s1</td>\n",
              "      <td>These two Criminal Appeals are preferred by th...</td>\n",
              "      <td>Facts</td>\n",
              "      <td>two criminal appeal preferred accused judgment...</td>\n",
              "      <td>1</td>\n",
              "    </tr>\n",
              "    <tr>\n",
              "      <th>1</th>\n",
              "      <td>d1_s2</td>\n",
              "      <td>Application no. 1295 of 2011 and 1296 of 2011 ...</td>\n",
              "      <td>Facts</td>\n",
              "      <td>application . passed learned single judge bomb...</td>\n",
              "      <td>1</td>\n",
              "    </tr>\n",
              "    <tr>\n",
              "      <th>2</th>\n",
              "      <td>d1_s3</td>\n",
              "      <td>The respondent no. 1 Shyam Vithalrao Devkatta,...</td>\n",
              "      <td>Facts</td>\n",
              "      <td>respondent . shyam vithalrao devkatta filed co...</td>\n",
              "      <td>0</td>\n",
              "    </tr>\n",
              "    <tr>\n",
              "      <th>3</th>\n",
              "      <td>d1_s4</td>\n",
              "      <td>Upon due verification process was issued by th...</td>\n",
              "      <td>Facts</td>\n",
              "      <td>upon due verification process issued learned m...</td>\n",
              "      <td>0</td>\n",
              "    </tr>\n",
              "    <tr>\n",
              "      <th>4</th>\n",
              "      <td>d1_s5</td>\n",
              "      <td>Of these accused, four approached the Bombay H...</td>\n",
              "      <td>Facts</td>\n",
              "      <td>accused four approached bombay high court way ...</td>\n",
              "      <td>0</td>\n",
              "    </tr>\n",
              "  </tbody>\n",
              "</table>\n",
              "</div>"
            ],
            "text/plain": [
              "      ID  ... pred-labels\n",
              "0  d1_s1  ...           1\n",
              "1  d1_s2  ...           1\n",
              "2  d1_s3  ...           0\n",
              "3  d1_s4  ...           0\n",
              "4  d1_s5  ...           0\n",
              "\n",
              "[5 rows x 5 columns]"
            ]
          },
          "metadata": {},
          "execution_count": 60
        }
      ]
    },
    {
      "cell_type": "code",
      "metadata": {
        "id": "t7oQxcOLDdnP"
      },
      "source": [
        "def num_to_text_labels(num):\n",
        "    text = event_types_dict_inverse[num]\n",
        "    return text\n",
        "\n",
        "test_file['text_labels'] = test_file['pred-labels'].apply(num_to_text_labels)"
      ],
      "execution_count": 61,
      "outputs": []
    },
    {
      "cell_type": "code",
      "metadata": {
        "colab": {
          "base_uri": "https://localhost:8080/",
          "height": 424
        },
        "id": "cLzrjoCDDg4n",
        "outputId": "553abbc6-01bb-45ec-d92c-397e0883b510"
      },
      "source": [
        "test_file"
      ],
      "execution_count": 62,
      "outputs": [
        {
          "output_type": "execute_result",
          "data": {
            "text/html": [
              "<div>\n",
              "<style scoped>\n",
              "    .dataframe tbody tr th:only-of-type {\n",
              "        vertical-align: middle;\n",
              "    }\n",
              "\n",
              "    .dataframe tbody tr th {\n",
              "        vertical-align: top;\n",
              "    }\n",
              "\n",
              "    .dataframe thead th {\n",
              "        text-align: right;\n",
              "    }\n",
              "</style>\n",
              "<table border=\"1\" class=\"dataframe\">\n",
              "  <thead>\n",
              "    <tr style=\"text-align: right;\">\n",
              "      <th></th>\n",
              "      <th>ID</th>\n",
              "      <th>Text</th>\n",
              "      <th>labels</th>\n",
              "      <th>processed</th>\n",
              "      <th>pred-labels</th>\n",
              "      <th>text_labels</th>\n",
              "    </tr>\n",
              "  </thead>\n",
              "  <tbody>\n",
              "    <tr>\n",
              "      <th>0</th>\n",
              "      <td>d1_s1</td>\n",
              "      <td>These two Criminal Appeals are preferred by th...</td>\n",
              "      <td>Facts</td>\n",
              "      <td>two criminal appeal preferred accused judgment...</td>\n",
              "      <td>1</td>\n",
              "      <td>Ruling by Lower Court</td>\n",
              "    </tr>\n",
              "    <tr>\n",
              "      <th>1</th>\n",
              "      <td>d1_s2</td>\n",
              "      <td>Application no. 1295 of 2011 and 1296 of 2011 ...</td>\n",
              "      <td>Facts</td>\n",
              "      <td>application . passed learned single judge bomb...</td>\n",
              "      <td>1</td>\n",
              "      <td>Ruling by Lower Court</td>\n",
              "    </tr>\n",
              "    <tr>\n",
              "      <th>2</th>\n",
              "      <td>d1_s3</td>\n",
              "      <td>The respondent no. 1 Shyam Vithalrao Devkatta,...</td>\n",
              "      <td>Facts</td>\n",
              "      <td>respondent . shyam vithalrao devkatta filed co...</td>\n",
              "      <td>0</td>\n",
              "      <td>Facts</td>\n",
              "    </tr>\n",
              "    <tr>\n",
              "      <th>3</th>\n",
              "      <td>d1_s4</td>\n",
              "      <td>Upon due verification process was issued by th...</td>\n",
              "      <td>Facts</td>\n",
              "      <td>upon due verification process issued learned m...</td>\n",
              "      <td>0</td>\n",
              "      <td>Facts</td>\n",
              "    </tr>\n",
              "    <tr>\n",
              "      <th>4</th>\n",
              "      <td>d1_s5</td>\n",
              "      <td>Of these accused, four approached the Bombay H...</td>\n",
              "      <td>Facts</td>\n",
              "      <td>accused four approached bombay high court way ...</td>\n",
              "      <td>0</td>\n",
              "      <td>Facts</td>\n",
              "    </tr>\n",
              "    <tr>\n",
              "      <th>...</th>\n",
              "      <td>...</td>\n",
              "      <td>...</td>\n",
              "      <td>...</td>\n",
              "      <td>...</td>\n",
              "      <td>...</td>\n",
              "      <td>...</td>\n",
              "    </tr>\n",
              "    <tr>\n",
              "      <th>692</th>\n",
              "      <td>d10_s60</td>\n",
              "      <td>Applying the above principles, it is clear fro...</td>\n",
              "      <td>Ratio of the decision</td>\n",
              "      <td>applying principle clear finding two court cir...</td>\n",
              "      <td>3</td>\n",
              "      <td>Precedent</td>\n",
              "    </tr>\n",
              "    <tr>\n",
              "      <th>693</th>\n",
              "      <td>d10_s61</td>\n",
              "      <td>Kalawati was last seen in the company of the a...</td>\n",
              "      <td>Ratio of the decision</td>\n",
              "      <td>kalawati last seen company appellant gher even...</td>\n",
              "      <td>0</td>\n",
              "      <td>Facts</td>\n",
              "    </tr>\n",
              "    <tr>\n",
              "      <th>694</th>\n",
              "      <td>d10_s62</td>\n",
              "      <td>After his arrest, the production, by the appel...</td>\n",
              "      <td>Ratio of the decision</td>\n",
              "      <td>arrest production appellant ornament worn kala...</td>\n",
              "      <td>4</td>\n",
              "      <td>Ratio of the decision</td>\n",
              "    </tr>\n",
              "    <tr>\n",
              "      <th>695</th>\n",
              "      <td>d10_s63</td>\n",
              "      <td>To conclude, the appellant has been rightly co...</td>\n",
              "      <td>Ruling by Present Court</td>\n",
              "      <td>conclude appellant rightly convicted sentenced...</td>\n",
              "      <td>6</td>\n",
              "      <td>Ruling by Present Court</td>\n",
              "    </tr>\n",
              "    <tr>\n",
              "      <th>696</th>\n",
              "      <td>d10_s64</td>\n",
              "      <td>Appeal Dismissed.</td>\n",
              "      <td>Ruling by Present Court</td>\n",
              "      <td>appeal dismissed .</td>\n",
              "      <td>1</td>\n",
              "      <td>Ruling by Lower Court</td>\n",
              "    </tr>\n",
              "  </tbody>\n",
              "</table>\n",
              "<p>697 rows × 6 columns</p>\n",
              "</div>"
            ],
            "text/plain": [
              "          ID  ...              text_labels\n",
              "0      d1_s1  ...    Ruling by Lower Court\n",
              "1      d1_s2  ...    Ruling by Lower Court\n",
              "2      d1_s3  ...                    Facts\n",
              "3      d1_s4  ...                    Facts\n",
              "4      d1_s5  ...                    Facts\n",
              "..       ...  ...                      ...\n",
              "692  d10_s60  ...                Precedent\n",
              "693  d10_s61  ...                    Facts\n",
              "694  d10_s62  ...    Ratio of the decision\n",
              "695  d10_s63  ...  Ruling by Present Court\n",
              "696  d10_s64  ...    Ruling by Lower Court\n",
              "\n",
              "[697 rows x 6 columns]"
            ]
          },
          "metadata": {},
          "execution_count": 62
        }
      ]
    },
    {
      "cell_type": "code",
      "metadata": {
        "colab": {
          "base_uri": "https://localhost:8080/",
          "height": 990
        },
        "id": "aOcHzlTyDkbQ",
        "outputId": "b91848a8-06fb-471b-8344-ab9ef06beb12"
      },
      "source": [
        "from sklearn.metrics import classification_report\n",
        "print(classification_report(test_file.labels,test_file.text_labels))\n",
        "\n",
        "import seaborn as sns\n",
        "from sklearn.metrics import confusion_matrix\n",
        "conf_mat = confusion_matrix(list(test_file.labels), list(test_file['text_labels']))\n",
        "fig, ax = plt.subplots(figsize=(10,10))\n",
        "sns.heatmap(conf_mat, annot=True, fmt='d',\n",
        "            xticklabels=set(test_file.labels), yticklabels=set(test_file.labels))\n",
        "plt.ylabel('Actual')\n",
        "plt.xlabel('Predicted')\n",
        "plt.title('BERT oversampled')\n",
        "plt.show()"
      ],
      "execution_count": 63,
      "outputs": [
        {
          "output_type": "stream",
          "name": "stdout",
          "text": [
            "                         precision    recall  f1-score   support\n",
            "\n",
            "               Argument       0.65      0.73      0.69        56\n",
            "                  Facts       0.57      0.66      0.61       154\n",
            "              Precedent       0.31      0.52      0.38        79\n",
            "  Ratio of the decision       0.75      0.23      0.35       314\n",
            "  Ruling by Lower Court       0.11      0.68      0.19        25\n",
            "Ruling by Present Court       0.81      0.53      0.64        40\n",
            "                Statute       0.53      0.79      0.64        29\n",
            "\n",
            "               accuracy                           0.45       697\n",
            "              macro avg       0.53      0.59      0.50       697\n",
            "           weighted avg       0.62      0.45      0.46       697\n",
            "\n"
          ]
        },
        {
          "output_type": "display_data",
          "data": {
            "image/png": "[encoded data removed]",
            "text/plain": [
              "<Figure size 720x720 with 2 Axes>"
            ]
          },
          "metadata": {}
        }
      ]
    },
    {
      "cell_type": "code",
      "metadata": {
        "colab": {
          "base_uri": "https://localhost:8080/",
          "height": 615
        },
        "id": "voIe6cP9Dp70",
        "outputId": "b3e70ae1-0db0-4cd3-91c7-4404a761e890"
      },
      "source": [
        "run=[\"nit_agartala_nlp_team_1\"]*697\n",
        "test_file['run_id']=run\n",
        "test_file.rename(columns = {'ID':'docid_sentid', 'text-labels':'label'}, inplace = True)\n",
        "test_file"
      ],
      "execution_count": 64,
      "outputs": [
        {
          "output_type": "execute_result",
          "data": {
            "text/html": [
              "<div>\n",
              "<style scoped>\n",
              "    .dataframe tbody tr th:only-of-type {\n",
              "        vertical-align: middle;\n",
              "    }\n",
              "\n",
              "    .dataframe tbody tr th {\n",
              "        vertical-align: top;\n",
              "    }\n",
              "\n",
              "    .dataframe thead th {\n",
              "        text-align: right;\n",
              "    }\n",
              "</style>\n",
              "<table border=\"1\" class=\"dataframe\">\n",
              "  <thead>\n",
              "    <tr style=\"text-align: right;\">\n",
              "      <th></th>\n",
              "      <th>docid_sentid</th>\n",
              "      <th>Text</th>\n",
              "      <th>labels</th>\n",
              "      <th>processed</th>\n",
              "      <th>pred-labels</th>\n",
              "      <th>text_labels</th>\n",
              "      <th>run_id</th>\n",
              "    </tr>\n",
              "  </thead>\n",
              "  <tbody>\n",
              "    <tr>\n",
              "      <th>0</th>\n",
              "      <td>d1_s1</td>\n",
              "      <td>These two Criminal Appeals are preferred by th...</td>\n",
              "      <td>Facts</td>\n",
              "      <td>two criminal appeal preferred accused judgment...</td>\n",
              "      <td>1</td>\n",
              "      <td>Ruling by Lower Court</td>\n",
              "      <td>nit_agartala_nlp_team_1</td>\n",
              "    </tr>\n",
              "    <tr>\n",
              "      <th>1</th>\n",
              "      <td>d1_s2</td>\n",
              "      <td>Application no. 1295 of 2011 and 1296 of 2011 ...</td>\n",
              "      <td>Facts</td>\n",
              "      <td>application . passed learned single judge bomb...</td>\n",
              "      <td>1</td>\n",
              "      <td>Ruling by Lower Court</td>\n",
              "      <td>nit_agartala_nlp_team_1</td>\n",
              "    </tr>\n",
              "    <tr>\n",
              "      <th>2</th>\n",
              "      <td>d1_s3</td>\n",
              "      <td>The respondent no. 1 Shyam Vithalrao Devkatta,...</td>\n",
              "      <td>Facts</td>\n",
              "      <td>respondent . shyam vithalrao devkatta filed co...</td>\n",
              "      <td>0</td>\n",
              "      <td>Facts</td>\n",
              "      <td>nit_agartala_nlp_team_1</td>\n",
              "    </tr>\n",
              "    <tr>\n",
              "      <th>3</th>\n",
              "      <td>d1_s4</td>\n",
              "      <td>Upon due verification process was issued by th...</td>\n",
              "      <td>Facts</td>\n",
              "      <td>upon due verification process issued learned m...</td>\n",
              "      <td>0</td>\n",
              "      <td>Facts</td>\n",
              "      <td>nit_agartala_nlp_team_1</td>\n",
              "    </tr>\n",
              "    <tr>\n",
              "      <th>4</th>\n",
              "      <td>d1_s5</td>\n",
              "      <td>Of these accused, four approached the Bombay H...</td>\n",
              "      <td>Facts</td>\n",
              "      <td>accused four approached bombay high court way ...</td>\n",
              "      <td>0</td>\n",
              "      <td>Facts</td>\n",
              "      <td>nit_agartala_nlp_team_1</td>\n",
              "    </tr>\n",
              "    <tr>\n",
              "      <th>...</th>\n",
              "      <td>...</td>\n",
              "      <td>...</td>\n",
              "      <td>...</td>\n",
              "      <td>...</td>\n",
              "      <td>...</td>\n",
              "      <td>...</td>\n",
              "      <td>...</td>\n",
              "    </tr>\n",
              "    <tr>\n",
              "      <th>692</th>\n",
              "      <td>d10_s60</td>\n",
              "      <td>Applying the above principles, it is clear fro...</td>\n",
              "      <td>Ratio of the decision</td>\n",
              "      <td>applying principle clear finding two court cir...</td>\n",
              "      <td>3</td>\n",
              "      <td>Precedent</td>\n",
              "      <td>nit_agartala_nlp_team_1</td>\n",
              "    </tr>\n",
              "    <tr>\n",
              "      <th>693</th>\n",
              "      <td>d10_s61</td>\n",
              "      <td>Kalawati was last seen in the company of the a...</td>\n",
              "      <td>Ratio of the decision</td>\n",
              "      <td>kalawati last seen company appellant gher even...</td>\n",
              "      <td>0</td>\n",
              "      <td>Facts</td>\n",
              "      <td>nit_agartala_nlp_team_1</td>\n",
              "    </tr>\n",
              "    <tr>\n",
              "      <th>694</th>\n",
              "      <td>d10_s62</td>\n",
              "      <td>After his arrest, the production, by the appel...</td>\n",
              "      <td>Ratio of the decision</td>\n",
              "      <td>arrest production appellant ornament worn kala...</td>\n",
              "      <td>4</td>\n",
              "      <td>Ratio of the decision</td>\n",
              "      <td>nit_agartala_nlp_team_1</td>\n",
              "    </tr>\n",
              "    <tr>\n",
              "      <th>695</th>\n",
              "      <td>d10_s63</td>\n",
              "      <td>To conclude, the appellant has been rightly co...</td>\n",
              "      <td>Ruling by Present Court</td>\n",
              "      <td>conclude appellant rightly convicted sentenced...</td>\n",
              "      <td>6</td>\n",
              "      <td>Ruling by Present Court</td>\n",
              "      <td>nit_agartala_nlp_team_1</td>\n",
              "    </tr>\n",
              "    <tr>\n",
              "      <th>696</th>\n",
              "      <td>d10_s64</td>\n",
              "      <td>Appeal Dismissed.</td>\n",
              "      <td>Ruling by Present Court</td>\n",
              "      <td>appeal dismissed .</td>\n",
              "      <td>1</td>\n",
              "      <td>Ruling by Lower Court</td>\n",
              "      <td>nit_agartala_nlp_team_1</td>\n",
              "    </tr>\n",
              "  </tbody>\n",
              "</table>\n",
              "<p>697 rows × 7 columns</p>\n",
              "</div>"
            ],
            "text/plain": [
              "    docid_sentid  ...                   run_id\n",
              "0          d1_s1  ...  nit_agartala_nlp_team_1\n",
              "1          d1_s2  ...  nit_agartala_nlp_team_1\n",
              "2          d1_s3  ...  nit_agartala_nlp_team_1\n",
              "3          d1_s4  ...  nit_agartala_nlp_team_1\n",
              "4          d1_s5  ...  nit_agartala_nlp_team_1\n",
              "..           ...  ...                      ...\n",
              "692      d10_s60  ...  nit_agartala_nlp_team_1\n",
              "693      d10_s61  ...  nit_agartala_nlp_team_1\n",
              "694      d10_s62  ...  nit_agartala_nlp_team_1\n",
              "695      d10_s63  ...  nit_agartala_nlp_team_1\n",
              "696      d10_s64  ...  nit_agartala_nlp_team_1\n",
              "\n",
              "[697 rows x 7 columns]"
            ]
          },
          "metadata": {},
          "execution_count": 64
        }
      ]
    },
    {
      "cell_type": "code",
      "metadata": {
        "id": "QgK8-1_YX8hw"
      },
      "source": [
        "test_file = test_file.drop(['Text', 'labels', 'processed', 'pred-labels'], axis=1)"
      ],
      "execution_count": 65,
      "outputs": []
    },
    {
      "cell_type": "code",
      "metadata": {
        "id": "BTKsalm4NtEm"
      },
      "source": [
        "test_file.to_csv('nit_agartala_nlp_team_1.tsv', sep='\\t', index=False)"
      ],
      "execution_count": 66,
      "outputs": []
    },
    {
      "cell_type": "code",
      "metadata": {
        "id": "_LiIQNFlNxKl"
      },
      "source": [
        "trrr = pd.read_csv('nit_agartala_nlp_team_1.tsv', sep='\\t')"
      ],
      "execution_count": 67,
      "outputs": []
    },
    {
      "cell_type": "code",
      "metadata": {
        "id": "bGwf67tnNzo1",
        "colab": {
          "base_uri": "https://localhost:8080/",
          "height": 206
        },
        "outputId": "b2b83752-a8bc-414a-fce4-4783abdc461c"
      },
      "source": [
        "trrr.head()"
      ],
      "execution_count": 68,
      "outputs": [
        {
          "output_type": "execute_result",
          "data": {
            "text/html": [
              "<div>\n",
              "<style scoped>\n",
              "    .dataframe tbody tr th:only-of-type {\n",
              "        vertical-align: middle;\n",
              "    }\n",
              "\n",
              "    .dataframe tbody tr th {\n",
              "        vertical-align: top;\n",
              "    }\n",
              "\n",
              "    .dataframe thead th {\n",
              "        text-align: right;\n",
              "    }\n",
              "</style>\n",
              "<table border=\"1\" class=\"dataframe\">\n",
              "  <thead>\n",
              "    <tr style=\"text-align: right;\">\n",
              "      <th></th>\n",
              "      <th>docid_sentid</th>\n",
              "      <th>text_labels</th>\n",
              "      <th>run_id</th>\n",
              "    </tr>\n",
              "  </thead>\n",
              "  <tbody>\n",
              "    <tr>\n",
              "      <th>0</th>\n",
              "      <td>d1_s1</td>\n",
              "      <td>Ruling by Lower Court</td>\n",
              "      <td>nit_agartala_nlp_team_1</td>\n",
              "    </tr>\n",
              "    <tr>\n",
              "      <th>1</th>\n",
              "      <td>d1_s2</td>\n",
              "      <td>Ruling by Lower Court</td>\n",
              "      <td>nit_agartala_nlp_team_1</td>\n",
              "    </tr>\n",
              "    <tr>\n",
              "      <th>2</th>\n",
              "      <td>d1_s3</td>\n",
              "      <td>Facts</td>\n",
              "      <td>nit_agartala_nlp_team_1</td>\n",
              "    </tr>\n",
              "    <tr>\n",
              "      <th>3</th>\n",
              "      <td>d1_s4</td>\n",
              "      <td>Facts</td>\n",
              "      <td>nit_agartala_nlp_team_1</td>\n",
              "    </tr>\n",
              "    <tr>\n",
              "      <th>4</th>\n",
              "      <td>d1_s5</td>\n",
              "      <td>Facts</td>\n",
              "      <td>nit_agartala_nlp_team_1</td>\n",
              "    </tr>\n",
              "  </tbody>\n",
              "</table>\n",
              "</div>"
            ],
            "text/plain": [
              "  docid_sentid            text_labels                   run_id\n",
              "0        d1_s1  Ruling by Lower Court  nit_agartala_nlp_team_1\n",
              "1        d1_s2  Ruling by Lower Court  nit_agartala_nlp_team_1\n",
              "2        d1_s3                  Facts  nit_agartala_nlp_team_1\n",
              "3        d1_s4                  Facts  nit_agartala_nlp_team_1\n",
              "4        d1_s5                  Facts  nit_agartala_nlp_team_1"
            ]
          },
          "metadata": {},
          "execution_count": 68
        }
      ]
    }
  ]
}