{
  "nbformat": 4,
  "nbformat_minor": 0,
  "metadata": {
    "colab": {
      "name": "Task1_Roberta_R3.ipynb",
      "provenance": [],
      "collapsed_sections": [],
      "include_colab_link": true
    },
    "kernelspec": {
      "name": "python3",
      "display_name": "Python 3"
    },
    "language_info": {
      "name": "python"
    },
    "accelerator": "GPU",
    "widgets": {
      "application/vnd.jupyter.widget-state+json": {
        "a34afcaa85e84dfa85a8e1b72d21fe5e": {
          "model_module": "@jupyter-widgets/controls",
          "model_name": "HBoxModel",
          "model_module_version": "1.5.0",
          "state": {
            "_view_name": "HBoxView",
            "_dom_classes": [],
            "_model_name": "HBoxModel",
            "_view_module": "@jupyter-widgets/controls",
            "_model_module_version": "1.5.0",
            "_view_count": null,
            "_view_module_version": "1.5.0",
            "box_style": "",
            "layout": "IPY_MODEL_86924b9f177047a9bf5db0f028fa40f8",
            "_model_module": "@jupyter-widgets/controls",
            "children": [
              "IPY_MODEL_95065e0b4f0446e7aca9a2afb4e8dac4",
              "IPY_MODEL_c4a2a299509d4082a1d2e13178e7e18d",
              "IPY_MODEL_c946fea58a744a8da22f8fce91991837"
            ]
          }
        },
        "86924b9f177047a9bf5db0f028fa40f8": {
          "model_module": "@jupyter-widgets/base",
          "model_name": "LayoutModel",
          "model_module_version": "1.2.0",
          "state": {
            "_view_name": "LayoutView",
            "grid_template_rows": null,
            "right": null,
            "justify_content": null,
            "_view_module": "@jupyter-widgets/base",
            "overflow": null,
            "_model_module_version": "1.2.0",
            "_view_count": null,
            "flex_flow": null,
            "width": null,
            "min_width": null,
            "border": null,
            "align_items": null,
            "bottom": null,
            "_model_module": "@jupyter-widgets/base",
            "top": null,
            "grid_column": null,
            "overflow_y": null,
            "overflow_x": null,
            "grid_auto_flow": null,
            "grid_area": null,
            "grid_template_columns": null,
            "flex": null,
            "_model_name": "LayoutModel",
            "justify_items": null,
            "grid_row": null,
            "max_height": null,
            "align_content": null,
            "visibility": null,
            "align_self": null,
            "height": null,
            "min_height": null,
            "padding": null,
            "grid_auto_rows": null,
            "grid_gap": null,
            "max_width": null,
            "order": null,
            "_view_module_version": "1.2.0",
            "grid_template_areas": null,
            "object_position": null,
            "object_fit": null,
            "grid_auto_columns": null,
            "margin": null,
            "display": null,
            "left": null
          }
        },
        "95065e0b4f0446e7aca9a2afb4e8dac4": {
          "model_module": "@jupyter-widgets/controls",
          "model_name": "HTMLModel",
          "model_module_version": "1.5.0",
          "state": {
            "_view_name": "HTMLView",
            "style": "IPY_MODEL_4e6a18b146024d9ca0605d859cc21b92",
            "_dom_classes": [],
            "description": "",
            "_model_name": "HTMLModel",
            "placeholder": "​",
            "_view_module": "@jupyter-widgets/controls",
            "_model_module_version": "1.5.0",
            "value": "Downloading: 100%",
            "_view_count": null,
            "_view_module_version": "1.5.0",
            "description_tooltip": null,
            "_model_module": "@jupyter-widgets/controls",
            "layout": "IPY_MODEL_890e247047114837b4ef7f1de5f834f5"
          }
        },
        "c4a2a299509d4082a1d2e13178e7e18d": {
          "model_module": "@jupyter-widgets/controls",
          "model_name": "FloatProgressModel",
          "model_module_version": "1.5.0",
          "state": {
            "_view_name": "ProgressView",
            "style": "IPY_MODEL_aac65ee87020470b8e6f9cbacf5640d3",
            "_dom_classes": [],
            "description": "",
            "_model_name": "FloatProgressModel",
            "bar_style": "success",
            "max": 898823,
            "_view_module": "@jupyter-widgets/controls",
            "_model_module_version": "1.5.0",
            "value": 898823,
            "_view_count": null,
            "_view_module_version": "1.5.0",
            "orientation": "horizontal",
            "min": 0,
            "description_tooltip": null,
            "_model_module": "@jupyter-widgets/controls",
            "layout": "IPY_MODEL_c1b8eda9e2f14c04bdfdf0ff64be5519"
          }
        },
        "c946fea58a744a8da22f8fce91991837": {
          "model_module": "@jupyter-widgets/controls",
          "model_name": "HTMLModel",
          "model_module_version": "1.5.0",
          "state": {
            "_view_name": "HTMLView",
            "style": "IPY_MODEL_bcbdf264170e42e6ab9c9e468ca567b5",
            "_dom_classes": [],
            "description": "",
            "_model_name": "HTMLModel",
            "placeholder": "​",
            "_view_module": "@jupyter-widgets/controls",
            "_model_module_version": "1.5.0",
            "value": " 878k/878k [00:00&lt;00:00, 1.26MB/s]",
            "_view_count": null,
            "_view_module_version": "1.5.0",
            "description_tooltip": null,
            "_model_module": "@jupyter-widgets/controls",
            "layout": "IPY_MODEL_01cdd22aba224a329487378fa62b2f25"
          }
        },
        "4e6a18b146024d9ca0605d859cc21b92": {
          "model_module": "@jupyter-widgets/controls",
          "model_name": "DescriptionStyleModel",
          "model_module_version": "1.5.0",
          "state": {
            "_view_name": "StyleView",
            "_model_name": "DescriptionStyleModel",
            "description_width": "",
            "_view_module": "@jupyter-widgets/base",
            "_model_module_version": "1.5.0",
            "_view_count": null,
            "_view_module_version": "1.2.0",
            "_model_module": "@jupyter-widgets/controls"
          }
        },
        "890e247047114837b4ef7f1de5f834f5": {
          "model_module": "@jupyter-widgets/base",
          "model_name": "LayoutModel",
          "model_module_version": "1.2.0",
          "state": {
            "_view_name": "LayoutView",
            "grid_template_rows": null,
            "right": null,
            "justify_content": null,
            "_view_module": "@jupyter-widgets/base",
            "overflow": null,
            "_model_module_version": "1.2.0",
            "_view_count": null,
            "flex_flow": null,
            "width": null,
            "min_width": null,
            "border": null,
            "align_items": null,
            "bottom": null,
            "_model_module": "@jupyter-widgets/base",
            "top": null,
            "grid_column": null,
            "overflow_y": null,
            "overflow_x": null,
            "grid_auto_flow": null,
            "grid_area": null,
            "grid_template_columns": null,
            "flex": null,
            "_model_name": "LayoutModel",
            "justify_items": null,
            "grid_row": null,
            "max_height": null,
            "align_content": null,
            "visibility": null,
            "align_self": null,
            "height": null,
            "min_height": null,
            "padding": null,
            "grid_auto_rows": null,
            "grid_gap": null,
            "max_width": null,
            "order": null,
            "_view_module_version": "1.2.0",
            "grid_template_areas": null,
            "object_position": null,
            "object_fit": null,
            "grid_auto_columns": null,
            "margin": null,
            "display": null,
            "left": null
          }
        },
        "aac65ee87020470b8e6f9cbacf5640d3": {
          "model_module": "@jupyter-widgets/controls",
          "model_name": "ProgressStyleModel",
          "model_module_version": "1.5.0",
          "state": {
            "_view_name": "StyleView",
            "_model_name": "ProgressStyleModel",
            "description_width": "",
            "_view_module": "@jupyter-widgets/base",
            "_model_module_version": "1.5.0",
            "_view_count": null,
            "_view_module_version": "1.2.0",
            "bar_color": null,
            "_model_module": "@jupyter-widgets/controls"
          }
        },
        "c1b8eda9e2f14c04bdfdf0ff64be5519": {
          "model_module": "@jupyter-widgets/base",
          "model_name": "LayoutModel",
          "model_module_version": "1.2.0",
          "state": {
            "_view_name": "LayoutView",
            "grid_template_rows": null,
            "right": null,
            "justify_content": null,
            "_view_module": "@jupyter-widgets/base",
            "overflow": null,
            "_model_module_version": "1.2.0",
            "_view_count": null,
            "flex_flow": null,
            "width": null,
            "min_width": null,
            "border": null,
            "align_items": null,
            "bottom": null,
            "_model_module": "@jupyter-widgets/base",
            "top": null,
            "grid_column": null,
            "overflow_y": null,
            "overflow_x": null,
            "grid_auto_flow": null,
            "grid_area": null,
            "grid_template_columns": null,
            "flex": null,
            "_model_name": "LayoutModel",
            "justify_items": null,
            "grid_row": null,
            "max_height": null,
            "align_content": null,
            "visibility": null,
            "align_self": null,
            "height": null,
            "min_height": null,
            "padding": null,
            "grid_auto_rows": null,
            "grid_gap": null,
            "max_width": null,
            "order": null,
            "_view_module_version": "1.2.0",
            "grid_template_areas": null,
            "object_position": null,
            "object_fit": null,
            "grid_auto_columns": null,
            "margin": null,
            "display": null,
            "left": null
          }
        },
        "bcbdf264170e42e6ab9c9e468ca567b5": {
          "model_module": "@jupyter-widgets/controls",
          "model_name": "DescriptionStyleModel",
          "model_module_version": "1.5.0",
          "state": {
            "_view_name": "StyleView",
            "_model_name": "DescriptionStyleModel",
            "description_width": "",
            "_view_module": "@jupyter-widgets/base",
            "_model_module_version": "1.5.0",
            "_view_count": null,
            "_view_module_version": "1.2.0",
            "_model_module": "@jupyter-widgets/controls"
          }
        },
        "01cdd22aba224a329487378fa62b2f25": {
          "model_module": "@jupyter-widgets/base",
          "model_name": "LayoutModel",
          "model_module_version": "1.2.0",
          "state": {
            "_view_name": "LayoutView",
            "grid_template_rows": null,
            "right": null,
            "justify_content": null,
            "_view_module": "@jupyter-widgets/base",
            "overflow": null,
            "_model_module_version": "1.2.0",
            "_view_count": null,
            "flex_flow": null,
            "width": null,
            "min_width": null,
            "border": null,
            "align_items": null,
            "bottom": null,
            "_model_module": "@jupyter-widgets/base",
            "top": null,
            "grid_column": null,
            "overflow_y": null,
            "overflow_x": null,
            "grid_auto_flow": null,
            "grid_area": null,
            "grid_template_columns": null,
            "flex": null,
            "_model_name": "LayoutModel",
            "justify_items": null,
            "grid_row": null,
            "max_height": null,
            "align_content": null,
            "visibility": null,
            "align_self": null,
            "height": null,
            "min_height": null,
            "padding": null,
            "grid_auto_rows": null,
            "grid_gap": null,
            "max_width": null,
            "order": null,
            "_view_module_version": "1.2.0",
            "grid_template_areas": null,
            "object_position": null,
            "object_fit": null,
            "grid_auto_columns": null,
            "margin": null,
            "display": null,
            "left": null
          }
        },
        "332c2ead4e8e49f195c817b37c85d429": {
          "model_module": "@jupyter-widgets/controls",
          "model_name": "HBoxModel",
          "model_module_version": "1.5.0",
          "state": {
            "_view_name": "HBoxView",
            "_dom_classes": [],
            "_model_name": "HBoxModel",
            "_view_module": "@jupyter-widgets/controls",
            "_model_module_version": "1.5.0",
            "_view_count": null,
            "_view_module_version": "1.5.0",
            "box_style": "",
            "layout": "IPY_MODEL_1b2919074410426f9c631dec7b7af048",
            "_model_module": "@jupyter-widgets/controls",
            "children": [
              "IPY_MODEL_aac7b72cdb3a438aa77c2dc61a4689a3",
              "IPY_MODEL_b6a0d2c400bc462eb689a199fd139003",
              "IPY_MODEL_d1c53e2668484d2ea55a5387b5a95da6"
            ]
          }
        },
        "1b2919074410426f9c631dec7b7af048": {
          "model_module": "@jupyter-widgets/base",
          "model_name": "LayoutModel",
          "model_module_version": "1.2.0",
          "state": {
            "_view_name": "LayoutView",
            "grid_template_rows": null,
            "right": null,
            "justify_content": null,
            "_view_module": "@jupyter-widgets/base",
            "overflow": null,
            "_model_module_version": "1.2.0",
            "_view_count": null,
            "flex_flow": null,
            "width": null,
            "min_width": null,
            "border": null,
            "align_items": null,
            "bottom": null,
            "_model_module": "@jupyter-widgets/base",
            "top": null,
            "grid_column": null,
            "overflow_y": null,
            "overflow_x": null,
            "grid_auto_flow": null,
            "grid_area": null,
            "grid_template_columns": null,
            "flex": null,
            "_model_name": "LayoutModel",
            "justify_items": null,
            "grid_row": null,
            "max_height": null,
            "align_content": null,
            "visibility": null,
            "align_self": null,
            "height": null,
            "min_height": null,
            "padding": null,
            "grid_auto_rows": null,
            "grid_gap": null,
            "max_width": null,
            "order": null,
            "_view_module_version": "1.2.0",
            "grid_template_areas": null,
            "object_position": null,
            "object_fit": null,
            "grid_auto_columns": null,
            "margin": null,
            "display": null,
            "left": null
          }
        },
        "aac7b72cdb3a438aa77c2dc61a4689a3": {
          "model_module": "@jupyter-widgets/controls",
          "model_name": "HTMLModel",
          "model_module_version": "1.5.0",
          "state": {
            "_view_name": "HTMLView",
            "style": "IPY_MODEL_cd64aeebe1574585aaec664eb377814e",
            "_dom_classes": [],
            "description": "",
            "_model_name": "HTMLModel",
            "placeholder": "​",
            "_view_module": "@jupyter-widgets/controls",
            "_model_module_version": "1.5.0",
            "value": "Downloading: 100%",
            "_view_count": null,
            "_view_module_version": "1.5.0",
            "description_tooltip": null,
            "_model_module": "@jupyter-widgets/controls",
            "layout": "IPY_MODEL_2983c0a6fb7b43d889941be58127464c"
          }
        },
        "b6a0d2c400bc462eb689a199fd139003": {
          "model_module": "@jupyter-widgets/controls",
          "model_name": "FloatProgressModel",
          "model_module_version": "1.5.0",
          "state": {
            "_view_name": "ProgressView",
            "style": "IPY_MODEL_daddea44c93e4a70afcaa938d354fa64",
            "_dom_classes": [],
            "description": "",
            "_model_name": "FloatProgressModel",
            "bar_style": "success",
            "max": 456318,
            "_view_module": "@jupyter-widgets/controls",
            "_model_module_version": "1.5.0",
            "value": 456318,
            "_view_count": null,
            "_view_module_version": "1.5.0",
            "orientation": "horizontal",
            "min": 0,
            "description_tooltip": null,
            "_model_module": "@jupyter-widgets/controls",
            "layout": "IPY_MODEL_ed121f3e3c5947d5b26a8c804e9d8571"
          }
        },
        "d1c53e2668484d2ea55a5387b5a95da6": {
          "model_module": "@jupyter-widgets/controls",
          "model_name": "HTMLModel",
          "model_module_version": "1.5.0",
          "state": {
            "_view_name": "HTMLView",
            "style": "IPY_MODEL_52f88ef88afb488182494b080f395531",
            "_dom_classes": [],
            "description": "",
            "_model_name": "HTMLModel",
            "placeholder": "​",
            "_view_module": "@jupyter-widgets/controls",
            "_model_module_version": "1.5.0",
            "value": " 446k/446k [00:00&lt;00:00, 1.31MB/s]",
            "_view_count": null,
            "_view_module_version": "1.5.0",
            "description_tooltip": null,
            "_model_module": "@jupyter-widgets/controls",
            "layout": "IPY_MODEL_38f40b512d524ef7aa3a580d2401ca17"
          }
        },
        "cd64aeebe1574585aaec664eb377814e": {
          "model_module": "@jupyter-widgets/controls",
          "model_name": "DescriptionStyleModel",
          "model_module_version": "1.5.0",
          "state": {
            "_view_name": "StyleView",
            "_model_name": "DescriptionStyleModel",
            "description_width": "",
            "_view_module": "@jupyter-widgets/base",
            "_model_module_version": "1.5.0",
            "_view_count": null,
            "_view_module_version": "1.2.0",
            "_model_module": "@jupyter-widgets/controls"
          }
        },
        "2983c0a6fb7b43d889941be58127464c": {
          "model_module": "@jupyter-widgets/base",
          "model_name": "LayoutModel",
          "model_module_version": "1.2.0",
          "state": {
            "_view_name": "LayoutView",
            "grid_template_rows": null,
            "right": null,
            "justify_content": null,
            "_view_module": "@jupyter-widgets/base",
            "overflow": null,
            "_model_module_version": "1.2.0",
            "_view_count": null,
            "flex_flow": null,
            "width": null,
            "min_width": null,
            "border": null,
            "align_items": null,
            "bottom": null,
            "_model_module": "@jupyter-widgets/base",
            "top": null,
            "grid_column": null,
            "overflow_y": null,
            "overflow_x": null,
            "grid_auto_flow": null,
            "grid_area": null,
            "grid_template_columns": null,
            "flex": null,
            "_model_name": "LayoutModel",
            "justify_items": null,
            "grid_row": null,
            "max_height": null,
            "align_content": null,
            "visibility": null,
            "align_self": null,
            "height": null,
            "min_height": null,
            "padding": null,
            "grid_auto_rows": null,
            "grid_gap": null,
            "max_width": null,
            "order": null,
            "_view_module_version": "1.2.0",
            "grid_template_areas": null,
            "object_position": null,
            "object_fit": null,
            "grid_auto_columns": null,
            "margin": null,
            "display": null,
            "left": null
          }
        },
        "daddea44c93e4a70afcaa938d354fa64": {
          "model_module": "@jupyter-widgets/controls",
          "model_name": "ProgressStyleModel",
          "model_module_version": "1.5.0",
          "state": {
            "_view_name": "StyleView",
            "_model_name": "ProgressStyleModel",
            "description_width": "",
            "_view_module": "@jupyter-widgets/base",
            "_model_module_version": "1.5.0",
            "_view_count": null,
            "_view_module_version": "1.2.0",
            "bar_color": null,
            "_model_module": "@jupyter-widgets/controls"
          }
        },
        "ed121f3e3c5947d5b26a8c804e9d8571": {
          "model_module": "@jupyter-widgets/base",
          "model_name": "LayoutModel",
          "model_module_version": "1.2.0",
          "state": {
            "_view_name": "LayoutView",
            "grid_template_rows": null,
            "right": null,
            "justify_content": null,
            "_view_module": "@jupyter-widgets/base",
            "overflow": null,
            "_model_module_version": "1.2.0",
            "_view_count": null,
            "flex_flow": null,
            "width": null,
            "min_width": null,
            "border": null,
            "align_items": null,
            "bottom": null,
            "_model_module": "@jupyter-widgets/base",
            "top": null,
            "grid_column": null,
            "overflow_y": null,
            "overflow_x": null,
            "grid_auto_flow": null,
            "grid_area": null,
            "grid_template_columns": null,
            "flex": null,
            "_model_name": "LayoutModel",
            "justify_items": null,
            "grid_row": null,
            "max_height": null,
            "align_content": null,
            "visibility": null,
            "align_self": null,
            "height": null,
            "min_height": null,
            "padding": null,
            "grid_auto_rows": null,
            "grid_gap": null,
            "max_width": null,
            "order": null,
            "_view_module_version": "1.2.0",
            "grid_template_areas": null,
            "object_position": null,
            "object_fit": null,
            "grid_auto_columns": null,
            "margin": null,
            "display": null,
            "left": null
          }
        },
        "52f88ef88afb488182494b080f395531": {
          "model_module": "@jupyter-widgets/controls",
          "model_name": "DescriptionStyleModel",
          "model_module_version": "1.5.0",
          "state": {
            "_view_name": "StyleView",
            "_model_name": "DescriptionStyleModel",
            "description_width": "",
            "_view_module": "@jupyter-widgets/base",
            "_model_module_version": "1.5.0",
            "_view_count": null,
            "_view_module_version": "1.2.0",
            "_model_module": "@jupyter-widgets/controls"
          }
        },
        "38f40b512d524ef7aa3a580d2401ca17": {
          "model_module": "@jupyter-widgets/base",
          "model_name": "LayoutModel",
          "model_module_version": "1.2.0",
          "state": {
            "_view_name": "LayoutView",
            "grid_template_rows": null,
            "right": null,
            "justify_content": null,
            "_view_module": "@jupyter-widgets/base",
            "overflow": null,
            "_model_module_version": "1.2.0",
            "_view_count": null,
            "flex_flow": null,
            "width": null,
            "min_width": null,
            "border": null,
            "align_items": null,
            "bottom": null,
            "_model_module": "@jupyter-widgets/base",
            "top": null,
            "grid_column": null,
            "overflow_y": null,
            "overflow_x": null,
            "grid_auto_flow": null,
            "grid_area": null,
            "grid_template_columns": null,
            "flex": null,
            "_model_name": "LayoutModel",
            "justify_items": null,
            "grid_row": null,
            "max_height": null,
            "align_content": null,
            "visibility": null,
            "align_self": null,
            "height": null,
            "min_height": null,
            "padding": null,
            "grid_auto_rows": null,
            "grid_gap": null,
            "max_width": null,
            "order": null,
            "_view_module_version": "1.2.0",
            "grid_template_areas": null,
            "object_position": null,
            "object_fit": null,
            "grid_auto_columns": null,
            "margin": null,
            "display": null,
            "left": null
          }
        },
        "6bebef9a42b64e2ab77d1fd820a8774b": {
          "model_module": "@jupyter-widgets/controls",
          "model_name": "HBoxModel",
          "model_module_version": "1.5.0",
          "state": {
            "_view_name": "HBoxView",
            "_dom_classes": [],
            "_model_name": "HBoxModel",
            "_view_module": "@jupyter-widgets/controls",
            "_model_module_version": "1.5.0",
            "_view_count": null,
            "_view_module_version": "1.5.0",
            "box_style": "",
            "layout": "IPY_MODEL_da29df46f1114af8afddf32ef0064970",
            "_model_module": "@jupyter-widgets/controls",
            "children": [
              "IPY_MODEL_689517b6a92a49269be5c8f058ceed13",
              "IPY_MODEL_04e12efc04aa483791864af5e6d877dc",
              "IPY_MODEL_94a8007c23d6478ea6cc06472a1e8186"
            ]
          }
        },
        "da29df46f1114af8afddf32ef0064970": {
          "model_module": "@jupyter-widgets/base",
          "model_name": "LayoutModel",
          "model_module_version": "1.2.0",
          "state": {
            "_view_name": "LayoutView",
            "grid_template_rows": null,
            "right": null,
            "justify_content": null,
            "_view_module": "@jupyter-widgets/base",
            "overflow": null,
            "_model_module_version": "1.2.0",
            "_view_count": null,
            "flex_flow": null,
            "width": null,
            "min_width": null,
            "border": null,
            "align_items": null,
            "bottom": null,
            "_model_module": "@jupyter-widgets/base",
            "top": null,
            "grid_column": null,
            "overflow_y": null,
            "overflow_x": null,
            "grid_auto_flow": null,
            "grid_area": null,
            "grid_template_columns": null,
            "flex": null,
            "_model_name": "LayoutModel",
            "justify_items": null,
            "grid_row": null,
            "max_height": null,
            "align_content": null,
            "visibility": null,
            "align_self": null,
            "height": null,
            "min_height": null,
            "padding": null,
            "grid_auto_rows": null,
            "grid_gap": null,
            "max_width": null,
            "order": null,
            "_view_module_version": "1.2.0",
            "grid_template_areas": null,
            "object_position": null,
            "object_fit": null,
            "grid_auto_columns": null,
            "margin": null,
            "display": null,
            "left": null
          }
        },
        "689517b6a92a49269be5c8f058ceed13": {
          "model_module": "@jupyter-widgets/controls",
          "model_name": "HTMLModel",
          "model_module_version": "1.5.0",
          "state": {
            "_view_name": "HTMLView",
            "style": "IPY_MODEL_d5285fa1978c4b8ca2e0a946f06f76d0",
            "_dom_classes": [],
            "description": "",
            "_model_name": "HTMLModel",
            "placeholder": "​",
            "_view_module": "@jupyter-widgets/controls",
            "_model_module_version": "1.5.0",
            "value": "Downloading: 100%",
            "_view_count": null,
            "_view_module_version": "1.5.0",
            "description_tooltip": null,
            "_model_module": "@jupyter-widgets/controls",
            "layout": "IPY_MODEL_b0a316d70df144de987fa8440d1b8cac"
          }
        },
        "04e12efc04aa483791864af5e6d877dc": {
          "model_module": "@jupyter-widgets/controls",
          "model_name": "FloatProgressModel",
          "model_module_version": "1.5.0",
          "state": {
            "_view_name": "ProgressView",
            "style": "IPY_MODEL_33ce5ad56aa748c288a5c15f97a82817",
            "_dom_classes": [],
            "description": "",
            "_model_name": "FloatProgressModel",
            "bar_style": "success",
            "max": 1355863,
            "_view_module": "@jupyter-widgets/controls",
            "_model_module_version": "1.5.0",
            "value": 1355863,
            "_view_count": null,
            "_view_module_version": "1.5.0",
            "orientation": "horizontal",
            "min": 0,
            "description_tooltip": null,
            "_model_module": "@jupyter-widgets/controls",
            "layout": "IPY_MODEL_017349fab6a446b0956740f765a8cbc6"
          }
        },
        "94a8007c23d6478ea6cc06472a1e8186": {
          "model_module": "@jupyter-widgets/controls",
          "model_name": "HTMLModel",
          "model_module_version": "1.5.0",
          "state": {
            "_view_name": "HTMLView",
            "style": "IPY_MODEL_bcc7d4264fee465794a9eaf05b67b6c9",
            "_dom_classes": [],
            "description": "",
            "_model_name": "HTMLModel",
            "placeholder": "​",
            "_view_module": "@jupyter-widgets/controls",
            "_model_module_version": "1.5.0",
            "value": " 1.29M/1.29M [00:00&lt;00:00, 7.05MB/s]",
            "_view_count": null,
            "_view_module_version": "1.5.0",
            "description_tooltip": null,
            "_model_module": "@jupyter-widgets/controls",
            "layout": "IPY_MODEL_d860b707f03049f9808a7b077004dab1"
          }
        },
        "d5285fa1978c4b8ca2e0a946f06f76d0": {
          "model_module": "@jupyter-widgets/controls",
          "model_name": "DescriptionStyleModel",
          "model_module_version": "1.5.0",
          "state": {
            "_view_name": "StyleView",
            "_model_name": "DescriptionStyleModel",
            "description_width": "",
            "_view_module": "@jupyter-widgets/base",
            "_model_module_version": "1.5.0",
            "_view_count": null,
            "_view_module_version": "1.2.0",
            "_model_module": "@jupyter-widgets/controls"
          }
        },
        "b0a316d70df144de987fa8440d1b8cac": {
          "model_module": "@jupyter-widgets/base",
          "model_name": "LayoutModel",
          "model_module_version": "1.2.0",
          "state": {
            "_view_name": "LayoutView",
            "grid_template_rows": null,
            "right": null,
            "justify_content": null,
            "_view_module": "@jupyter-widgets/base",
            "overflow": null,
            "_model_module_version": "1.2.0",
            "_view_count": null,
            "flex_flow": null,
            "width": null,
            "min_width": null,
            "border": null,
            "align_items": null,
            "bottom": null,
            "_model_module": "@jupyter-widgets/base",
            "top": null,
            "grid_column": null,
            "overflow_y": null,
            "overflow_x": null,
            "grid_auto_flow": null,
            "grid_area": null,
            "grid_template_columns": null,
            "flex": null,
            "_model_name": "LayoutModel",
            "justify_items": null,
            "grid_row": null,
            "max_height": null,
            "align_content": null,
            "visibility": null,
            "align_self": null,
            "height": null,
            "min_height": null,
            "padding": null,
            "grid_auto_rows": null,
            "grid_gap": null,
            "max_width": null,
            "order": null,
            "_view_module_version": "1.2.0",
            "grid_template_areas": null,
            "object_position": null,
            "object_fit": null,
            "grid_auto_columns": null,
            "margin": null,
            "display": null,
            "left": null
          }
        },
        "33ce5ad56aa748c288a5c15f97a82817": {
          "model_module": "@jupyter-widgets/controls",
          "model_name": "ProgressStyleModel",
          "model_module_version": "1.5.0",
          "state": {
            "_view_name": "StyleView",
            "_model_name": "ProgressStyleModel",
            "description_width": "",
            "_view_module": "@jupyter-widgets/base",
            "_model_module_version": "1.5.0",
            "_view_count": null,
            "_view_module_version": "1.2.0",
            "bar_color": null,
            "_model_module": "@jupyter-widgets/controls"
          }
        },
        "017349fab6a446b0956740f765a8cbc6": {
          "model_module": "@jupyter-widgets/base",
          "model_name": "LayoutModel",
          "model_module_version": "1.2.0",
          "state": {
            "_view_name": "LayoutView",
            "grid_template_rows": null,
            "right": null,
            "justify_content": null,
            "_view_module": "@jupyter-widgets/base",
            "overflow": null,
            "_model_module_version": "1.2.0",
            "_view_count": null,
            "flex_flow": null,
            "width": null,
            "min_width": null,
            "border": null,
            "align_items": null,
            "bottom": null,
            "_model_module": "@jupyter-widgets/base",
            "top": null,
            "grid_column": null,
            "overflow_y": null,
            "overflow_x": null,
            "grid_auto_flow": null,
            "grid_area": null,
            "grid_template_columns": null,
            "flex": null,
            "_model_name": "LayoutModel",
            "justify_items": null,
            "grid_row": null,
            "max_height": null,
            "align_content": null,
            "visibility": null,
            "align_self": null,
            "height": null,
            "min_height": null,
            "padding": null,
            "grid_auto_rows": null,
            "grid_gap": null,
            "max_width": null,
            "order": null,
            "_view_module_version": "1.2.0",
            "grid_template_areas": null,
            "object_position": null,
            "object_fit": null,
            "grid_auto_columns": null,
            "margin": null,
            "display": null,
            "left": null
          }
        },
        "bcc7d4264fee465794a9eaf05b67b6c9": {
          "model_module": "@jupyter-widgets/controls",
          "model_name": "DescriptionStyleModel",
          "model_module_version": "1.5.0",
          "state": {
            "_view_name": "StyleView",
            "_model_name": "DescriptionStyleModel",
            "description_width": "",
            "_view_module": "@jupyter-widgets/base",
            "_model_module_version": "1.5.0",
            "_view_count": null,
            "_view_module_version": "1.2.0",
            "_model_module": "@jupyter-widgets/controls"
          }
        },
        "d860b707f03049f9808a7b077004dab1": {
          "model_module": "@jupyter-widgets/base",
          "model_name": "LayoutModel",
          "model_module_version": "1.2.0",
          "state": {
            "_view_name": "LayoutView",
            "grid_template_rows": null,
            "right": null,
            "justify_content": null,
            "_view_module": "@jupyter-widgets/base",
            "overflow": null,
            "_model_module_version": "1.2.0",
            "_view_count": null,
            "flex_flow": null,
            "width": null,
            "min_width": null,
            "border": null,
            "align_items": null,
            "bottom": null,
            "_model_module": "@jupyter-widgets/base",
            "top": null,
            "grid_column": null,
            "overflow_y": null,
            "overflow_x": null,
            "grid_auto_flow": null,
            "grid_area": null,
            "grid_template_columns": null,
            "flex": null,
            "_model_name": "LayoutModel",
            "justify_items": null,
            "grid_row": null,
            "max_height": null,
            "align_content": null,
            "visibility": null,
            "align_self": null,
            "height": null,
            "min_height": null,
            "padding": null,
            "grid_auto_rows": null,
            "grid_gap": null,
            "max_width": null,
            "order": null,
            "_view_module_version": "1.2.0",
            "grid_template_areas": null,
            "object_position": null,
            "object_fit": null,
            "grid_auto_columns": null,
            "margin": null,
            "display": null,
            "left": null
          }
        },
        "177449a3767e4838a5310e43d18d00ba": {
          "model_module": "@jupyter-widgets/controls",
          "model_name": "HBoxModel",
          "model_module_version": "1.5.0",
          "state": {
            "_view_name": "HBoxView",
            "_dom_classes": [],
            "_model_name": "HBoxModel",
            "_view_module": "@jupyter-widgets/controls",
            "_model_module_version": "1.5.0",
            "_view_count": null,
            "_view_module_version": "1.5.0",
            "box_style": "",
            "layout": "IPY_MODEL_d42cb0d50dbd4bb9abeed63dd9176720",
            "_model_module": "@jupyter-widgets/controls",
            "children": [
              "IPY_MODEL_8a2c38c6aac44dfca1b097240670a2b4",
              "IPY_MODEL_c9316aa1a1704c57b3e7481eab62b1d2",
              "IPY_MODEL_d104499c00c04153b24e6ec4d20ad6e3"
            ]
          }
        },
        "d42cb0d50dbd4bb9abeed63dd9176720": {
          "model_module": "@jupyter-widgets/base",
          "model_name": "LayoutModel",
          "model_module_version": "1.2.0",
          "state": {
            "_view_name": "LayoutView",
            "grid_template_rows": null,
            "right": null,
            "justify_content": null,
            "_view_module": "@jupyter-widgets/base",
            "overflow": null,
            "_model_module_version": "1.2.0",
            "_view_count": null,
            "flex_flow": null,
            "width": null,
            "min_width": null,
            "border": null,
            "align_items": null,
            "bottom": null,
            "_model_module": "@jupyter-widgets/base",
            "top": null,
            "grid_column": null,
            "overflow_y": null,
            "overflow_x": null,
            "grid_auto_flow": null,
            "grid_area": null,
            "grid_template_columns": null,
            "flex": null,
            "_model_name": "LayoutModel",
            "justify_items": null,
            "grid_row": null,
            "max_height": null,
            "align_content": null,
            "visibility": null,
            "align_self": null,
            "height": null,
            "min_height": null,
            "padding": null,
            "grid_auto_rows": null,
            "grid_gap": null,
            "max_width": null,
            "order": null,
            "_view_module_version": "1.2.0",
            "grid_template_areas": null,
            "object_position": null,
            "object_fit": null,
            "grid_auto_columns": null,
            "margin": null,
            "display": null,
            "left": null
          }
        },
        "8a2c38c6aac44dfca1b097240670a2b4": {
          "model_module": "@jupyter-widgets/controls",
          "model_name": "HTMLModel",
          "model_module_version": "1.5.0",
          "state": {
            "_view_name": "HTMLView",
            "style": "IPY_MODEL_5f4f21d52dd74108857b6970e5b7adc4",
            "_dom_classes": [],
            "description": "",
            "_model_name": "HTMLModel",
            "placeholder": "​",
            "_view_module": "@jupyter-widgets/controls",
            "_model_module_version": "1.5.0",
            "value": "Downloading: 100%",
            "_view_count": null,
            "_view_module_version": "1.5.0",
            "description_tooltip": null,
            "_model_module": "@jupyter-widgets/controls",
            "layout": "IPY_MODEL_c99bae905143412fa297e0249e5a202e"
          }
        },
        "c9316aa1a1704c57b3e7481eab62b1d2": {
          "model_module": "@jupyter-widgets/controls",
          "model_name": "FloatProgressModel",
          "model_module_version": "1.5.0",
          "state": {
            "_view_name": "ProgressView",
            "style": "IPY_MODEL_5d7922089ab746cdbad07cdb230c0646",
            "_dom_classes": [],
            "description": "",
            "_model_name": "FloatProgressModel",
            "bar_style": "success",
            "max": 481,
            "_view_module": "@jupyter-widgets/controls",
            "_model_module_version": "1.5.0",
            "value": 481,
            "_view_count": null,
            "_view_module_version": "1.5.0",
            "orientation": "horizontal",
            "min": 0,
            "description_tooltip": null,
            "_model_module": "@jupyter-widgets/controls",
            "layout": "IPY_MODEL_fb3cebe4d9c646978fff9f65b291c96c"
          }
        },
        "d104499c00c04153b24e6ec4d20ad6e3": {
          "model_module": "@jupyter-widgets/controls",
          "model_name": "HTMLModel",
          "model_module_version": "1.5.0",
          "state": {
            "_view_name": "HTMLView",
            "style": "IPY_MODEL_fbcfc699f57640a7bf37be801ed5a806",
            "_dom_classes": [],
            "description": "",
            "_model_name": "HTMLModel",
            "placeholder": "​",
            "_view_module": "@jupyter-widgets/controls",
            "_model_module_version": "1.5.0",
            "value": " 481/481 [00:00&lt;00:00, 11.0kB/s]",
            "_view_count": null,
            "_view_module_version": "1.5.0",
            "description_tooltip": null,
            "_model_module": "@jupyter-widgets/controls",
            "layout": "IPY_MODEL_e5526b3d51304a61b3633933fe83894a"
          }
        },
        "5f4f21d52dd74108857b6970e5b7adc4": {
          "model_module": "@jupyter-widgets/controls",
          "model_name": "DescriptionStyleModel",
          "model_module_version": "1.5.0",
          "state": {
            "_view_name": "StyleView",
            "_model_name": "DescriptionStyleModel",
            "description_width": "",
            "_view_module": "@jupyter-widgets/base",
            "_model_module_version": "1.5.0",
            "_view_count": null,
            "_view_module_version": "1.2.0",
            "_model_module": "@jupyter-widgets/controls"
          }
        },
        "c99bae905143412fa297e0249e5a202e": {
          "model_module": "@jupyter-widgets/base",
          "model_name": "LayoutModel",
          "model_module_version": "1.2.0",
          "state": {
            "_view_name": "LayoutView",
            "grid_template_rows": null,
            "right": null,
            "justify_content": null,
            "_view_module": "@jupyter-widgets/base",
            "overflow": null,
            "_model_module_version": "1.2.0",
            "_view_count": null,
            "flex_flow": null,
            "width": null,
            "min_width": null,
            "border": null,
            "align_items": null,
            "bottom": null,
            "_model_module": "@jupyter-widgets/base",
            "top": null,
            "grid_column": null,
            "overflow_y": null,
            "overflow_x": null,
            "grid_auto_flow": null,
            "grid_area": null,
            "grid_template_columns": null,
            "flex": null,
            "_model_name": "LayoutModel",
            "justify_items": null,
            "grid_row": null,
            "max_height": null,
            "align_content": null,
            "visibility": null,
            "align_self": null,
            "height": null,
            "min_height": null,
            "padding": null,
            "grid_auto_rows": null,
            "grid_gap": null,
            "max_width": null,
            "order": null,
            "_view_module_version": "1.2.0",
            "grid_template_areas": null,
            "object_position": null,
            "object_fit": null,
            "grid_auto_columns": null,
            "margin": null,
            "display": null,
            "left": null
          }
        },
        "5d7922089ab746cdbad07cdb230c0646": {
          "model_module": "@jupyter-widgets/controls",
          "model_name": "ProgressStyleModel",
          "model_module_version": "1.5.0",
          "state": {
            "_view_name": "StyleView",
            "_model_name": "ProgressStyleModel",
            "description_width": "",
            "_view_module": "@jupyter-widgets/base",
            "_model_module_version": "1.5.0",
            "_view_count": null,
            "_view_module_version": "1.2.0",
            "bar_color": null,
            "_model_module": "@jupyter-widgets/controls"
          }
        },
        "fb3cebe4d9c646978fff9f65b291c96c": {
          "model_module": "@jupyter-widgets/base",
          "model_name": "LayoutModel",
          "model_module_version": "1.2.0",
          "state": {
            "_view_name": "LayoutView",
            "grid_template_rows": null,
            "right": null,
            "justify_content": null,
            "_view_module": "@jupyter-widgets/base",
            "overflow": null,
            "_model_module_version": "1.2.0",
            "_view_count": null,
            "flex_flow": null,
            "width": null,
            "min_width": null,
            "border": null,
            "align_items": null,
            "bottom": null,
            "_model_module": "@jupyter-widgets/base",
            "top": null,
            "grid_column": null,
            "overflow_y": null,
            "overflow_x": null,
            "grid_auto_flow": null,
            "grid_area": null,
            "grid_template_columns": null,
            "flex": null,
            "_model_name": "LayoutModel",
            "justify_items": null,
            "grid_row": null,
            "max_height": null,
            "align_content": null,
            "visibility": null,
            "align_self": null,
            "height": null,
            "min_height": null,
            "padding": null,
            "grid_auto_rows": null,
            "grid_gap": null,
            "max_width": null,
            "order": null,
            "_view_module_version": "1.2.0",
            "grid_template_areas": null,
            "object_position": null,
            "object_fit": null,
            "grid_auto_columns": null,
            "margin": null,
            "display": null,
            "left": null
          }
        },
        "fbcfc699f57640a7bf37be801ed5a806": {
          "model_module": "@jupyter-widgets/controls",
          "model_name": "DescriptionStyleModel",
          "model_module_version": "1.5.0",
          "state": {
            "_view_name": "StyleView",
            "_model_name": "DescriptionStyleModel",
            "description_width": "",
            "_view_module": "@jupyter-widgets/base",
            "_model_module_version": "1.5.0",
            "_view_count": null,
            "_view_module_version": "1.2.0",
            "_model_module": "@jupyter-widgets/controls"
          }
        },
        "e5526b3d51304a61b3633933fe83894a": {
          "model_module": "@jupyter-widgets/base",
          "model_name": "LayoutModel",
          "model_module_version": "1.2.0",
          "state": {
            "_view_name": "LayoutView",
            "grid_template_rows": null,
            "right": null,
            "justify_content": null,
            "_view_module": "@jupyter-widgets/base",
            "overflow": null,
            "_model_module_version": "1.2.0",
            "_view_count": null,
            "flex_flow": null,
            "width": null,
            "min_width": null,
            "border": null,
            "align_items": null,
            "bottom": null,
            "_model_module": "@jupyter-widgets/base",
            "top": null,
            "grid_column": null,
            "overflow_y": null,
            "overflow_x": null,
            "grid_auto_flow": null,
            "grid_area": null,
            "grid_template_columns": null,
            "flex": null,
            "_model_name": "LayoutModel",
            "justify_items": null,
            "grid_row": null,
            "max_height": null,
            "align_content": null,
            "visibility": null,
            "align_self": null,
            "height": null,
            "min_height": null,
            "padding": null,
            "grid_auto_rows": null,
            "grid_gap": null,
            "max_width": null,
            "order": null,
            "_view_module_version": "1.2.0",
            "grid_template_areas": null,
            "object_position": null,
            "object_fit": null,
            "grid_auto_columns": null,
            "margin": null,
            "display": null,
            "left": null
          }
        },
        "78d217b46552447fa72a7afa934b7d7f": {
          "model_module": "@jupyter-widgets/controls",
          "model_name": "HBoxModel",
          "model_module_version": "1.5.0",
          "state": {
            "_view_name": "HBoxView",
            "_dom_classes": [],
            "_model_name": "HBoxModel",
            "_view_module": "@jupyter-widgets/controls",
            "_model_module_version": "1.5.0",
            "_view_count": null,
            "_view_module_version": "1.5.0",
            "box_style": "",
            "layout": "IPY_MODEL_420a26fdb149478d9a10b099e7bc87b4",
            "_model_module": "@jupyter-widgets/controls",
            "children": [
              "IPY_MODEL_694e7c8aca1d4eceb2346955d2bbf962",
              "IPY_MODEL_55b628149ad94c3d82ef1a2ab709c11e",
              "IPY_MODEL_b1d2f058f6ed48eab5e0c7d698843d28"
            ]
          }
        },
        "420a26fdb149478d9a10b099e7bc87b4": {
          "model_module": "@jupyter-widgets/base",
          "model_name": "LayoutModel",
          "model_module_version": "1.2.0",
          "state": {
            "_view_name": "LayoutView",
            "grid_template_rows": null,
            "right": null,
            "justify_content": null,
            "_view_module": "@jupyter-widgets/base",
            "overflow": null,
            "_model_module_version": "1.2.0",
            "_view_count": null,
            "flex_flow": null,
            "width": null,
            "min_width": null,
            "border": null,
            "align_items": null,
            "bottom": null,
            "_model_module": "@jupyter-widgets/base",
            "top": null,
            "grid_column": null,
            "overflow_y": null,
            "overflow_x": null,
            "grid_auto_flow": null,
            "grid_area": null,
            "grid_template_columns": null,
            "flex": null,
            "_model_name": "LayoutModel",
            "justify_items": null,
            "grid_row": null,
            "max_height": null,
            "align_content": null,
            "visibility": null,
            "align_self": null,
            "height": null,
            "min_height": null,
            "padding": null,
            "grid_auto_rows": null,
            "grid_gap": null,
            "max_width": null,
            "order": null,
            "_view_module_version": "1.2.0",
            "grid_template_areas": null,
            "object_position": null,
            "object_fit": null,
            "grid_auto_columns": null,
            "margin": null,
            "display": null,
            "left": null
          }
        },
        "694e7c8aca1d4eceb2346955d2bbf962": {
          "model_module": "@jupyter-widgets/controls",
          "model_name": "HTMLModel",
          "model_module_version": "1.5.0",
          "state": {
            "_view_name": "HTMLView",
            "style": "IPY_MODEL_c655c89cecb941508fbaf41aeab3f9f9",
            "_dom_classes": [],
            "description": "",
            "_model_name": "HTMLModel",
            "placeholder": "​",
            "_view_module": "@jupyter-widgets/controls",
            "_model_module_version": "1.5.0",
            "value": "Downloading: 100%",
            "_view_count": null,
            "_view_module_version": "1.5.0",
            "description_tooltip": null,
            "_model_module": "@jupyter-widgets/controls",
            "layout": "IPY_MODEL_60deeafaba2e469b8b419a6c02cce6ab"
          }
        },
        "55b628149ad94c3d82ef1a2ab709c11e": {
          "model_module": "@jupyter-widgets/controls",
          "model_name": "FloatProgressModel",
          "model_module_version": "1.5.0",
          "state": {
            "_view_name": "ProgressView",
            "style": "IPY_MODEL_4a0419647b4d458c83434dc251069447",
            "_dom_classes": [],
            "description": "",
            "_model_name": "FloatProgressModel",
            "bar_style": "success",
            "max": 657434796,
            "_view_module": "@jupyter-widgets/controls",
            "_model_module_version": "1.5.0",
            "value": 657434796,
            "_view_count": null,
            "_view_module_version": "1.5.0",
            "orientation": "horizontal",
            "min": 0,
            "description_tooltip": null,
            "_model_module": "@jupyter-widgets/controls",
            "layout": "IPY_MODEL_2774b096e4864b7d93befc478074bd16"
          }
        },
        "b1d2f058f6ed48eab5e0c7d698843d28": {
          "model_module": "@jupyter-widgets/controls",
          "model_name": "HTMLModel",
          "model_module_version": "1.5.0",
          "state": {
            "_view_name": "HTMLView",
            "style": "IPY_MODEL_c7d7650a6d3748a6996c1cf7b2af6de4",
            "_dom_classes": [],
            "description": "",
            "_model_name": "HTMLModel",
            "placeholder": "​",
            "_view_module": "@jupyter-widgets/controls",
            "_model_module_version": "1.5.0",
            "value": " 627M/627M [00:20&lt;00:00, 31.8MB/s]",
            "_view_count": null,
            "_view_module_version": "1.5.0",
            "description_tooltip": null,
            "_model_module": "@jupyter-widgets/controls",
            "layout": "IPY_MODEL_67aa1ec0fc104bf99e3e2bb13a03146f"
          }
        },
        "c655c89cecb941508fbaf41aeab3f9f9": {
          "model_module": "@jupyter-widgets/controls",
          "model_name": "DescriptionStyleModel",
          "model_module_version": "1.5.0",
          "state": {
            "_view_name": "StyleView",
            "_model_name": "DescriptionStyleModel",
            "description_width": "",
            "_view_module": "@jupyter-widgets/base",
            "_model_module_version": "1.5.0",
            "_view_count": null,
            "_view_module_version": "1.2.0",
            "_model_module": "@jupyter-widgets/controls"
          }
        },
        "60deeafaba2e469b8b419a6c02cce6ab": {
          "model_module": "@jupyter-widgets/base",
          "model_name": "LayoutModel",
          "model_module_version": "1.2.0",
          "state": {
            "_view_name": "LayoutView",
            "grid_template_rows": null,
            "right": null,
            "justify_content": null,
            "_view_module": "@jupyter-widgets/base",
            "overflow": null,
            "_model_module_version": "1.2.0",
            "_view_count": null,
            "flex_flow": null,
            "width": null,
            "min_width": null,
            "border": null,
            "align_items": null,
            "bottom": null,
            "_model_module": "@jupyter-widgets/base",
            "top": null,
            "grid_column": null,
            "overflow_y": null,
            "overflow_x": null,
            "grid_auto_flow": null,
            "grid_area": null,
            "grid_template_columns": null,
            "flex": null,
            "_model_name": "LayoutModel",
            "justify_items": null,
            "grid_row": null,
            "max_height": null,
            "align_content": null,
            "visibility": null,
            "align_self": null,
            "height": null,
            "min_height": null,
            "padding": null,
            "grid_auto_rows": null,
            "grid_gap": null,
            "max_width": null,
            "order": null,
            "_view_module_version": "1.2.0",
            "grid_template_areas": null,
            "object_position": null,
            "object_fit": null,
            "grid_auto_columns": null,
            "margin": null,
            "display": null,
            "left": null
          }
        },
        "4a0419647b4d458c83434dc251069447": {
          "model_module": "@jupyter-widgets/controls",
          "model_name": "ProgressStyleModel",
          "model_module_version": "1.5.0",
          "state": {
            "_view_name": "StyleView",
            "_model_name": "ProgressStyleModel",
            "description_width": "",
            "_view_module": "@jupyter-widgets/base",
            "_model_module_version": "1.5.0",
            "_view_count": null,
            "_view_module_version": "1.2.0",
            "bar_color": null,
            "_model_module": "@jupyter-widgets/controls"
          }
        },
        "2774b096e4864b7d93befc478074bd16": {
          "model_module": "@jupyter-widgets/base",
          "model_name": "LayoutModel",
          "model_module_version": "1.2.0",
          "state": {
            "_view_name": "LayoutView",
            "grid_template_rows": null,
            "right": null,
            "justify_content": null,
            "_view_module": "@jupyter-widgets/base",
            "overflow": null,
            "_model_module_version": "1.2.0",
            "_view_count": null,
            "flex_flow": null,
            "width": null,
            "min_width": null,
            "border": null,
            "align_items": null,
            "bottom": null,
            "_model_module": "@jupyter-widgets/base",
            "top": null,
            "grid_column": null,
            "overflow_y": null,
            "overflow_x": null,
            "grid_auto_flow": null,
            "grid_area": null,
            "grid_template_columns": null,
            "flex": null,
            "_model_name": "LayoutModel",
            "justify_items": null,
            "grid_row": null,
            "max_height": null,
            "align_content": null,
            "visibility": null,
            "align_self": null,
            "height": null,
            "min_height": null,
            "padding": null,
            "grid_auto_rows": null,
            "grid_gap": null,
            "max_width": null,
            "order": null,
            "_view_module_version": "1.2.0",
            "grid_template_areas": null,
            "object_position": null,
            "object_fit": null,
            "grid_auto_columns": null,
            "margin": null,
            "display": null,
            "left": null
          }
        },
        "c7d7650a6d3748a6996c1cf7b2af6de4": {
          "model_module": "@jupyter-widgets/controls",
          "model_name": "DescriptionStyleModel",
          "model_module_version": "1.5.0",
          "state": {
            "_view_name": "StyleView",
            "_model_name": "DescriptionStyleModel",
            "description_width": "",
            "_view_module": "@jupyter-widgets/base",
            "_model_module_version": "1.5.0",
            "_view_count": null,
            "_view_module_version": "1.2.0",
            "_model_module": "@jupyter-widgets/controls"
          }
        },
        "67aa1ec0fc104bf99e3e2bb13a03146f": {
          "model_module": "@jupyter-widgets/base",
          "model_name": "LayoutModel",
          "model_module_version": "1.2.0",
          "state": {
            "_view_name": "LayoutView",
            "grid_template_rows": null,
            "right": null,
            "justify_content": null,
            "_view_module": "@jupyter-widgets/base",
            "overflow": null,
            "_model_module_version": "1.2.0",
            "_view_count": null,
            "flex_flow": null,
            "width": null,
            "min_width": null,
            "border": null,
            "align_items": null,
            "bottom": null,
            "_model_module": "@jupyter-widgets/base",
            "top": null,
            "grid_column": null,
            "overflow_y": null,
            "overflow_x": null,
            "grid_auto_flow": null,
            "grid_area": null,
            "grid_template_columns": null,
            "flex": null,
            "_model_name": "LayoutModel",
            "justify_items": null,
            "grid_row": null,
            "max_height": null,
            "align_content": null,
            "visibility": null,
            "align_self": null,
            "height": null,
            "min_height": null,
            "padding": null,
            "grid_auto_rows": null,
            "grid_gap": null,
            "max_width": null,
            "order": null,
            "_view_module_version": "1.2.0",
            "grid_template_areas": null,
            "object_position": null,
            "object_fit": null,
            "grid_auto_columns": null,
            "margin": null,
            "display": null,
            "left": null
          }
        }
      }
    }
  },
  "cells": [
    {
      "cell_type": "markdown",
      "metadata": {
        "id": "view-in-github",
        "colab_type": "text"
      },
      "source": [
        "<a href=\"https://colab.research.google.com/github/sidrusiya/AILA_Tasks/blob/main/Task1_Roberta_R3.ipynb\" target=\"_parent\"><img src=\"https://colab.research.google.com/assets/colab-badge.svg\" alt=\"Open In Colab\"/></a>"
      ]
    },
    {
      "cell_type": "code",
      "metadata": {
        "colab": {
          "base_uri": "https://localhost:8080/"
        },
        "id": "OVjerOukeTJU",
        "outputId": "94b0a7f7-1731-4139-b7ab-f0ded9eecbb9"
      },
      "source": [
        "gpu_info = !nvidia-smi\n",
        "gpu_info = '\\n'.join(gpu_info)\n",
        "if gpu_info.find('failed') >= 0:\n",
        "  print('Not connected to a GPU')\n",
        "else:\n",
        "  print(gpu_info)"
      ],
      "execution_count": null,
      "outputs": [
        {
          "output_type": "stream",
          "name": "stdout",
          "text": [
            "Sun Nov 14 11:11:46 2021       \n",
            "+-----------------------------------------------------------------------------+\n",
            "| NVIDIA-SMI 495.44       Driver Version: 460.32.03    CUDA Version: 11.2     |\n",
            "|-------------------------------+----------------------+----------------------+\n",
            "| GPU  Name        Persistence-M| Bus-Id        Disp.A | Volatile Uncorr. ECC |\n",
            "| Fan  Temp  Perf  Pwr:Usage/Cap|         Memory-Usage | GPU-Util  Compute M. |\n",
            "|                               |                      |               MIG M. |\n",
            "|===============================+======================+======================|\n",
            "|   0  Tesla K80           Off  | 00000000:00:04.0 Off |                    0 |\n",
            "| N/A   38C    P8    27W / 149W |      0MiB / 11441MiB |      0%      Default |\n",
            "|                               |                      |                  N/A |\n",
            "+-------------------------------+----------------------+----------------------+\n",
            "                                                                               \n",
            "+-----------------------------------------------------------------------------+\n",
            "| Processes:                                                                  |\n",
            "|  GPU   GI   CI        PID   Type   Process name                  GPU Memory |\n",
            "|        ID   ID                                                   Usage      |\n",
            "|=============================================================================|\n",
            "|  No running processes found                                                 |\n",
            "+-----------------------------------------------------------------------------+\n"
          ]
        }
      ]
    },
    {
      "cell_type": "code",
      "metadata": {
        "id": "ZZeVqxepeiri"
      },
      "source": [
        "import pandas as pd\n",
        "import numpy as np\n",
        "import tensorflow as tf\n",
        "from tensorflow.keras.preprocessing.text import Tokenizer\n",
        "from tensorflow.keras.layers import Embedding, Dense, Dropout, Bidirectional, LSTM\n",
        "from tensorflow.keras.preprocessing.sequence import pad_sequences\n",
        "from tensorflow.keras.utils import to_categorical\n",
        "from google.colab import drive\n",
        "# from textaugment import Wordnet, EDA, word2vec, Translate\n",
        "# from nltk import WordNetLemmatizer\n",
        "# from nltk.corpus import stopwords\n",
        "import gensim\n",
        "import re\n",
        "import matplotlib.pyplot as plt\n",
        "import seaborn as sns\n",
        "# !pip3 install tensorflow_text\n",
        "# import tensorflow_text\n",
        "# !pip install -q tf-models-official\n",
        "# !pip install -q -U tensorflow-text\n",
        "# from tensorflow_text.tools.wordpiece_vocab import bert_vocab_from_dataset as bert_vocab\n",
        "# import tensorflow_hub as hub\n",
        "# import tensorflow_text as tf_text\n",
        "from tqdm import tqdm"
      ],
      "execution_count": null,
      "outputs": []
    },
    {
      "cell_type": "code",
      "metadata": {
        "colab": {
          "base_uri": "https://localhost:8080/"
        },
        "id": "yawEbxNDe6m3",
        "outputId": "e080cbd3-eb8c-422f-e3fe-e256c54c98ec"
      },
      "source": [
        "!pip3 install transformers"
      ],
      "execution_count": null,
      "outputs": [
        {
          "output_type": "stream",
          "name": "stdout",
          "text": [
            "Collecting transformers\n",
            "  Downloading transformers-4.12.3-py3-none-any.whl (3.1 MB)\n",
            "\u001b[K     |████████████████████████████████| 3.1 MB 5.4 MB/s \n",
            "\u001b[?25hCollecting huggingface-hub<1.0,>=0.1.0\n",
            "  Downloading huggingface_hub-0.1.2-py3-none-any.whl (59 kB)\n",
            "\u001b[K     |████████████████████████████████| 59 kB 6.4 MB/s \n",
            "\u001b[?25hCollecting sacremoses\n",
            "  Downloading sacremoses-0.0.46-py3-none-any.whl (895 kB)\n",
            "\u001b[K     |████████████████████████████████| 895 kB 43.8 MB/s \n",
            "\u001b[?25hRequirement already satisfied: importlib-metadata in /usr/local/lib/python3.7/dist-packages (from transformers) (4.8.2)\n",
            "Collecting tokenizers<0.11,>=0.10.1\n",
            "  Downloading tokenizers-0.10.3-cp37-cp37m-manylinux_2_5_x86_64.manylinux1_x86_64.manylinux_2_12_x86_64.manylinux2010_x86_64.whl (3.3 MB)\n",
            "\u001b[K     |████████████████████████████████| 3.3 MB 36.1 MB/s \n",
            "\u001b[?25hRequirement already satisfied: tqdm>=4.27 in /usr/local/lib/python3.7/dist-packages (from transformers) (4.62.3)\n",
            "Requirement already satisfied: regex!=2019.12.17 in /usr/local/lib/python3.7/dist-packages (from transformers) (2019.12.20)\n",
            "Requirement already satisfied: requests in /usr/local/lib/python3.7/dist-packages (from transformers) (2.23.0)\n",
            "Requirement already satisfied: packaging>=20.0 in /usr/local/lib/python3.7/dist-packages (from transformers) (21.2)\n",
            "Requirement already satisfied: filelock in /usr/local/lib/python3.7/dist-packages (from transformers) (3.3.2)\n",
            "Collecting pyyaml>=5.1\n",
            "  Downloading PyYAML-6.0-cp37-cp37m-manylinux_2_5_x86_64.manylinux1_x86_64.manylinux_2_12_x86_64.manylinux2010_x86_64.whl (596 kB)\n",
            "\u001b[K     |████████████████████████████████| 596 kB 46.0 MB/s \n",
            "\u001b[?25hRequirement already satisfied: numpy>=1.17 in /usr/local/lib/python3.7/dist-packages (from transformers) (1.19.5)\n",
            "Requirement already satisfied: typing-extensions>=3.7.4.3 in /usr/local/lib/python3.7/dist-packages (from huggingface-hub<1.0,>=0.1.0->transformers) (3.10.0.2)\n",
            "Requirement already satisfied: pyparsing<3,>=2.0.2 in /usr/local/lib/python3.7/dist-packages (from packaging>=20.0->transformers) (2.4.7)\n",
            "Requirement already satisfied: zipp>=0.5 in /usr/local/lib/python3.7/dist-packages (from importlib-metadata->transformers) (3.6.0)\n",
            "Requirement already satisfied: chardet<4,>=3.0.2 in /usr/local/lib/python3.7/dist-packages (from requests->transformers) (3.0.4)\n",
            "Requirement already satisfied: idna<3,>=2.5 in /usr/local/lib/python3.7/dist-packages (from requests->transformers) (2.10)\n",
            "Requirement already satisfied: certifi>=2017.4.17 in /usr/local/lib/python3.7/dist-packages (from requests->transformers) (2021.10.8)\n",
            "Requirement already satisfied: urllib3!=1.25.0,!=1.25.1,<1.26,>=1.21.1 in /usr/local/lib/python3.7/dist-packages (from requests->transformers) (1.24.3)\n",
            "Requirement already satisfied: six in /usr/local/lib/python3.7/dist-packages (from sacremoses->transformers) (1.15.0)\n",
            "Requirement already satisfied: joblib in /usr/local/lib/python3.7/dist-packages (from sacremoses->transformers) (1.1.0)\n",
            "Requirement already satisfied: click in /usr/local/lib/python3.7/dist-packages (from sacremoses->transformers) (7.1.2)\n",
            "Installing collected packages: pyyaml, tokenizers, sacremoses, huggingface-hub, transformers\n",
            "  Attempting uninstall: pyyaml\n",
            "    Found existing installation: PyYAML 3.13\n",
            "    Uninstalling PyYAML-3.13:\n",
            "      Successfully uninstalled PyYAML-3.13\n",
            "Successfully installed huggingface-hub-0.1.2 pyyaml-6.0 sacremoses-0.0.46 tokenizers-0.10.3 transformers-4.12.3\n"
          ]
        }
      ]
    },
    {
      "cell_type": "code",
      "metadata": {
        "id": "SMGLc5uEe-eW",
        "colab": {
          "base_uri": "https://localhost:8080/"
        },
        "outputId": "54e94d88-ed07-4bdc-f061-50f06011e92a"
      },
      "source": [
        "import os\n",
        "drive.mount('/content/drive')\n",
        "PATH = '/content/drive/MyDrive/Task1/'\n",
        "list_dir = os.listdir(PATH)\n",
        "text = []\n",
        "labels = []\n",
        "for file in list_dir:\n",
        "    file_path = PATH + file\n",
        "    with open(file_path, 'r') as f:\n",
        "        for line in f:\n",
        "            line = line.split(sep='\\t')\n",
        "            text.append(line[0])\n",
        "            labels.append(line[1][:-1])\n",
        "\n",
        "data = {'Text': text, \"labels\": labels}\n",
        "dataset1 = pd.DataFrame(data=data)"
      ],
      "execution_count": null,
      "outputs": [
        {
          "output_type": "stream",
          "name": "stdout",
          "text": [
            "Mounted at /content/drive\n"
          ]
        }
      ]
    },
    {
      "cell_type": "code",
      "metadata": {
        "id": "HKqLC9rbfHR5",
        "colab": {
          "base_uri": "https://localhost:8080/",
          "height": 204
        },
        "outputId": "d49833f8-69aa-4208-f45b-1fbdd80c027e"
      },
      "source": [
        "dataset1.head()"
      ],
      "execution_count": null,
      "outputs": [
        {
          "output_type": "execute_result",
          "data": {
            "text/html": [
              "<div>\n",
              "<style scoped>\n",
              "    .dataframe tbody tr th:only-of-type {\n",
              "        vertical-align: middle;\n",
              "    }\n",
              "\n",
              "    .dataframe tbody tr th {\n",
              "        vertical-align: top;\n",
              "    }\n",
              "\n",
              "    .dataframe thead th {\n",
              "        text-align: right;\n",
              "    }\n",
              "</style>\n",
              "<table border=\"1\" class=\"dataframe\">\n",
              "  <thead>\n",
              "    <tr style=\"text-align: right;\">\n",
              "      <th></th>\n",
              "      <th>Text</th>\n",
              "      <th>labels</th>\n",
              "    </tr>\n",
              "  </thead>\n",
              "  <tbody>\n",
              "    <tr>\n",
              "      <th>0</th>\n",
              "      <td>The appellant who was arraigned as Accused 2 w...</td>\n",
              "      <td>Facts</td>\n",
              "    </tr>\n",
              "    <tr>\n",
              "      <th>1</th>\n",
              "      <td>The allegations against the accused, inter ali...</td>\n",
              "      <td>Facts</td>\n",
              "    </tr>\n",
              "    <tr>\n",
              "      <th>2</th>\n",
              "      <td>Bindula Devi was married to Accused 1 Jaipraks...</td>\n",
              "      <td>Facts</td>\n",
              "    </tr>\n",
              "    <tr>\n",
              "      <th>3</th>\n",
              "      <td>The appellant and Accused 3 Shakun Devo Yadav ...</td>\n",
              "      <td>Facts</td>\n",
              "    </tr>\n",
              "    <tr>\n",
              "      <th>4</th>\n",
              "      <td>Accused 4 Dani Dutta Yadav is their father and...</td>\n",
              "      <td>Facts</td>\n",
              "    </tr>\n",
              "  </tbody>\n",
              "</table>\n",
              "</div>"
            ],
            "text/plain": [
              "                                                Text labels\n",
              "0  The appellant who was arraigned as Accused 2 w...  Facts\n",
              "1  The allegations against the accused, inter ali...  Facts\n",
              "2  Bindula Devi was married to Accused 1 Jaipraks...  Facts\n",
              "3  The appellant and Accused 3 Shakun Devo Yadav ...  Facts\n",
              "4  Accused 4 Dani Dutta Yadav is their father and...  Facts"
            ]
          },
          "metadata": {},
          "execution_count": 6
        }
      ]
    },
    {
      "cell_type": "code",
      "metadata": {
        "id": "pm141Gvjfdxl",
        "colab": {
          "base_uri": "https://localhost:8080/"
        },
        "outputId": "b4703bac-f61e-46ac-9fb3-b6243a8e953b"
      },
      "source": [
        "dataset1.shape"
      ],
      "execution_count": null,
      "outputs": [
        {
          "output_type": "execute_result",
          "data": {
            "text/plain": [
              "(11285, 2)"
            ]
          },
          "metadata": {},
          "execution_count": 7
        }
      ]
    },
    {
      "cell_type": "code",
      "metadata": {
        "id": "FmMX9v8nfhIs",
        "colab": {
          "base_uri": "https://localhost:8080/"
        },
        "outputId": "5282e251-877e-490d-bd37-5c82fd9a5b85"
      },
      "source": [
        "dataset1.labels.value_counts()"
      ],
      "execution_count": null,
      "outputs": [
        {
          "output_type": "execute_result",
          "data": {
            "text/plain": [
              "Ratio of the decision      4211\n",
              "Facts                      2622\n",
              "Precedent                  1787\n",
              "Argument                    939\n",
              "Statute                     902\n",
              "Ruling by Lower Court       483\n",
              "Ruling by Present Court     341\n",
              "Name: labels, dtype: int64"
            ]
          },
          "metadata": {},
          "execution_count": 8
        }
      ]
    },
    {
      "cell_type": "code",
      "metadata": {
        "id": "TKtBciFMflwa",
        "colab": {
          "base_uri": "https://localhost:8080/"
        },
        "outputId": "80de0410-4b0d-4841-ee01-76761b1cca26"
      },
      "source": [
        "event_types_dict = {}\n",
        "for num, name in enumerate(list(dataset1['labels'].unique())):\n",
        "    event_types_dict[name] = num\n",
        "    # print(name, \" : \", num)\n",
        "\n",
        "event_types_dict\n",
        "\n",
        "event_types_dict_inverse = {k:v for v,k in event_types_dict.items()}\n",
        "print(event_types_dict)\n",
        "print( event_types_dict_inverse)"
      ],
      "execution_count": null,
      "outputs": [
        {
          "output_type": "stream",
          "name": "stdout",
          "text": [
            "{'Facts': 0, 'Ruling by Lower Court': 1, 'Argument': 2, 'Precedent': 3, 'Ratio of the decision': 4, 'Statute': 5, 'Ruling by Present Court': 6}\n",
            "{0: 'Facts', 1: 'Ruling by Lower Court', 2: 'Argument', 3: 'Precedent', 4: 'Ratio of the decision', 5: 'Statute', 6: 'Ruling by Present Court'}\n"
          ]
        }
      ]
    },
    {
      "cell_type": "code",
      "metadata": {
        "id": "QZHoyBnRfpV2",
        "colab": {
          "base_uri": "https://localhost:8080/",
          "height": 436
        },
        "outputId": "86519bdc-f0b2-47a5-eaa1-0eea542d4ced"
      },
      "source": [
        "def text_to_numerical_category(name):\n",
        "    num = event_types_dict[name]\n",
        "    return num\n",
        "\n",
        "print(text_to_numerical_category('Facts'))\n",
        "dataset1['num_labels'] = dataset1['labels'].apply(text_to_numerical_category)\n",
        "dataset1"
      ],
      "execution_count": null,
      "outputs": [
        {
          "output_type": "stream",
          "name": "stdout",
          "text": [
            "0\n"
          ]
        },
        {
          "output_type": "execute_result",
          "data": {
            "text/html": [
              "<div>\n",
              "<style scoped>\n",
              "    .dataframe tbody tr th:only-of-type {\n",
              "        vertical-align: middle;\n",
              "    }\n",
              "\n",
              "    .dataframe tbody tr th {\n",
              "        vertical-align: top;\n",
              "    }\n",
              "\n",
              "    .dataframe thead th {\n",
              "        text-align: right;\n",
              "    }\n",
              "</style>\n",
              "<table border=\"1\" class=\"dataframe\">\n",
              "  <thead>\n",
              "    <tr style=\"text-align: right;\">\n",
              "      <th></th>\n",
              "      <th>Text</th>\n",
              "      <th>labels</th>\n",
              "      <th>num_labels</th>\n",
              "    </tr>\n",
              "  </thead>\n",
              "  <tbody>\n",
              "    <tr>\n",
              "      <th>0</th>\n",
              "      <td>The appellant who was arraigned as Accused 2 w...</td>\n",
              "      <td>Facts</td>\n",
              "      <td>0</td>\n",
              "    </tr>\n",
              "    <tr>\n",
              "      <th>1</th>\n",
              "      <td>The allegations against the accused, inter ali...</td>\n",
              "      <td>Facts</td>\n",
              "      <td>0</td>\n",
              "    </tr>\n",
              "    <tr>\n",
              "      <th>2</th>\n",
              "      <td>Bindula Devi was married to Accused 1 Jaipraks...</td>\n",
              "      <td>Facts</td>\n",
              "      <td>0</td>\n",
              "    </tr>\n",
              "    <tr>\n",
              "      <th>3</th>\n",
              "      <td>The appellant and Accused 3 Shakun Devo Yadav ...</td>\n",
              "      <td>Facts</td>\n",
              "      <td>0</td>\n",
              "    </tr>\n",
              "    <tr>\n",
              "      <th>4</th>\n",
              "      <td>Accused 4 Dani Dutta Yadav is their father and...</td>\n",
              "      <td>Facts</td>\n",
              "      <td>0</td>\n",
              "    </tr>\n",
              "    <tr>\n",
              "      <th>...</th>\n",
              "      <td>...</td>\n",
              "      <td>...</td>\n",
              "      <td>...</td>\n",
              "    </tr>\n",
              "    <tr>\n",
              "      <th>11280</th>\n",
              "      <td>Suffice it to state that the appellant,as a fa...</td>\n",
              "      <td>Ratio of the decision</td>\n",
              "      <td>4</td>\n",
              "    </tr>\n",
              "    <tr>\n",
              "      <th>11281</th>\n",
              "      <td>The High Court,in our view,declined,for good r...</td>\n",
              "      <td>Ratio of the decision</td>\n",
              "      <td>4</td>\n",
              "    </tr>\n",
              "    <tr>\n",
              "      <th>11282</th>\n",
              "      <td>We are also not persuaded to take a different ...</td>\n",
              "      <td>Ratio of the decision</td>\n",
              "      <td>4</td>\n",
              "    </tr>\n",
              "    <tr>\n",
              "      <th>11283</th>\n",
              "      <td>In these circumstances,we are of the view that...</td>\n",
              "      <td>Ratio of the decision</td>\n",
              "      <td>4</td>\n",
              "    </tr>\n",
              "    <tr>\n",
              "      <th>11284</th>\n",
              "      <td>The appeal is accordingly dismissed but,in the...</td>\n",
              "      <td>Ruling by Present Court</td>\n",
              "      <td>6</td>\n",
              "    </tr>\n",
              "  </tbody>\n",
              "</table>\n",
              "<p>11285 rows × 3 columns</p>\n",
              "</div>"
            ],
            "text/plain": [
              "                                                    Text  ... num_labels\n",
              "0      The appellant who was arraigned as Accused 2 w...  ...          0\n",
              "1      The allegations against the accused, inter ali...  ...          0\n",
              "2      Bindula Devi was married to Accused 1 Jaipraks...  ...          0\n",
              "3      The appellant and Accused 3 Shakun Devo Yadav ...  ...          0\n",
              "4      Accused 4 Dani Dutta Yadav is their father and...  ...          0\n",
              "...                                                  ...  ...        ...\n",
              "11280  Suffice it to state that the appellant,as a fa...  ...          4\n",
              "11281  The High Court,in our view,declined,for good r...  ...          4\n",
              "11282  We are also not persuaded to take a different ...  ...          4\n",
              "11283  In these circumstances,we are of the view that...  ...          4\n",
              "11284  The appeal is accordingly dismissed but,in the...  ...          6\n",
              "\n",
              "[11285 rows x 3 columns]"
            ]
          },
          "metadata": {},
          "execution_count": 10
        }
      ]
    },
    {
      "cell_type": "code",
      "metadata": {
        "id": "ypUMfBgCfs5b"
      },
      "source": [
        "# Remove Excess [Size:: ] from EoS\n",
        "def remove_size(text):\n",
        "\tresult = re.search(\"\\[size\", text)\n",
        "\tif result is not None:\n",
        "\t\ttext = text[:result.start()]\n",
        "\treturn text.strip()\n",
        "\n",
        "months = ['january', 'jan', 'feb', 'mar', 'apr', 'aug', 'sept', 'oct', 'nov', 'dec', 'feburary', 'february', 'march', 'april', 'may', 'june', 'july', 'august', 'september', 'october', 'november', 'december', 'on']\n",
        "def remove_months(text):\n",
        "    text = text.split()\n",
        "    text = [word for word in text if word.lower() not in set(months)]\n",
        "    text = ' '.join(text)\n",
        "    return text\n",
        "\n",
        "def remove_nums(text):\n",
        "    result = re.sub(r'[0-9+]', '', text)\n",
        "    return result\n",
        "\n",
        "def remove_comma(text):\n",
        "    result = re.sub(r',', '', text)\n",
        "    return result"
      ],
      "execution_count": null,
      "outputs": []
    },
    {
      "cell_type": "code",
      "metadata": {
        "id": "X6_Wsu6Gf5wu",
        "colab": {
          "base_uri": "https://localhost:8080/"
        },
        "outputId": "bf0c2060-adf4-4feb-818a-013fe634bf21"
      },
      "source": [
        "import sys\n",
        "import nltk\n",
        "nltk.download('stopwords')\n",
        "from nltk.corpus import stopwords\n",
        "text = []\n",
        "lem_text = []\n",
        "for i in dataset1.index:\n",
        "    dataset1['Text'][i] = remove_size(dataset1['Text'][i])\n",
        "    dataset1['Text'][i] = remove_months(dataset1['Text'][i])\n",
        "    dataset1['Text'][i] = remove_nums(dataset1['Text'][i])\n",
        "    dataset1['Text'][i] = remove_comma(dataset1['Text'][i])\n",
        "    temp = dataset1['Text'][i].lower().split()\n",
        "    clean = [word for word in temp if word not in stopwords.words('english')]\n",
        "    clean = \" \".join(clean)\n",
        "    text.append(clean)\n",
        "    lem_text.append(clean)"
      ],
      "execution_count": null,
      "outputs": [
        {
          "output_type": "stream",
          "name": "stdout",
          "text": [
            "[nltk_data] Downloading package stopwords to /root/nltk_data...\n",
            "[nltk_data]   Unzipping corpora/stopwords.zip.\n"
          ]
        },
        {
          "output_type": "stream",
          "name": "stderr",
          "text": [
            "/usr/local/lib/python3.7/dist-packages/ipykernel_launcher.py:8: SettingWithCopyWarning: \n",
            "A value is trying to be set on a copy of a slice from a DataFrame\n",
            "\n",
            "See the caveats in the documentation: https://pandas.pydata.org/pandas-docs/stable/user_guide/indexing.html#returning-a-view-versus-a-copy\n",
            "  \n",
            "/usr/local/lib/python3.7/dist-packages/ipykernel_launcher.py:9: SettingWithCopyWarning: \n",
            "A value is trying to be set on a copy of a slice from a DataFrame\n",
            "\n",
            "See the caveats in the documentation: https://pandas.pydata.org/pandas-docs/stable/user_guide/indexing.html#returning-a-view-versus-a-copy\n",
            "  if __name__ == '__main__':\n",
            "/usr/local/lib/python3.7/dist-packages/ipykernel_launcher.py:10: SettingWithCopyWarning: \n",
            "A value is trying to be set on a copy of a slice from a DataFrame\n",
            "\n",
            "See the caveats in the documentation: https://pandas.pydata.org/pandas-docs/stable/user_guide/indexing.html#returning-a-view-versus-a-copy\n",
            "  # Remove the CWD from sys.path while we load stuff.\n",
            "/usr/local/lib/python3.7/dist-packages/ipykernel_launcher.py:11: SettingWithCopyWarning: \n",
            "A value is trying to be set on a copy of a slice from a DataFrame\n",
            "\n",
            "See the caveats in the documentation: https://pandas.pydata.org/pandas-docs/stable/user_guide/indexing.html#returning-a-view-versus-a-copy\n",
            "  # This is added back by InteractiveShellApp.init_path()\n"
          ]
        }
      ]
    },
    {
      "cell_type": "code",
      "metadata": {
        "id": "2rl1i4B1gXdi"
      },
      "source": [
        "for i in range(len(text)):\n",
        "    text[i] = text[i].split()"
      ],
      "execution_count": null,
      "outputs": []
    },
    {
      "cell_type": "code",
      "metadata": {
        "id": "U7syYoX8gZHK"
      },
      "source": [
        "for i in range(len(lem_text)):\n",
        "    lem_text[i] = lem_text[i].split()"
      ],
      "execution_count": null,
      "outputs": []
    },
    {
      "cell_type": "code",
      "metadata": {
        "id": "xhbQ2loWgcCw"
      },
      "source": [
        "from nltk import PorterStemmer\n",
        "st = PorterStemmer()\n",
        "for i in range(len(text)):\n",
        "    text[i] = [st.stem(word) for word in text[i]]"
      ],
      "execution_count": null,
      "outputs": []
    },
    {
      "cell_type": "code",
      "metadata": {
        "id": "J2JKzHiVgfrW",
        "colab": {
          "base_uri": "https://localhost:8080/"
        },
        "outputId": "a0b0982b-b100-410a-a97d-2449d3987e69"
      },
      "source": [
        "from nltk.stem import WordNetLemmatizer\n",
        "nltk.download('wordnet')\n",
        "lemmatizer = WordNetLemmatizer()\n",
        "\n",
        "for i in range(len(lem_text)):\n",
        "    lem_text[i] = [lemmatizer.lemmatize(word) for word in lem_text[i]]"
      ],
      "execution_count": null,
      "outputs": [
        {
          "output_type": "stream",
          "name": "stdout",
          "text": [
            "[nltk_data] Downloading package wordnet to /root/nltk_data...\n",
            "[nltk_data]   Unzipping corpora/wordnet.zip.\n"
          ]
        }
      ]
    },
    {
      "cell_type": "code",
      "metadata": {
        "id": "XXYIi9H0gyEj",
        "colab": {
          "base_uri": "https://localhost:8080/",
          "height": 35
        },
        "outputId": "78518b7f-42f5-44b3-f7db-78d15e3e1e44"
      },
      "source": [
        "for i in range(len(text)):\n",
        "    text[i] = \" \".join(text[i])\n",
        "\n",
        "text[0]"
      ],
      "execution_count": null,
      "outputs": [
        {
          "output_type": "execute_result",
          "data": {
            "application/vnd.google.colaboratory.intrinsic+json": {
              "type": "string"
            },
            "text/plain": [
              "'appel arraign accus tri along five accus offenc punish section read ss. ipc st addit session judg madhepura.'"
            ]
          },
          "metadata": {},
          "execution_count": 17
        }
      ]
    },
    {
      "cell_type": "code",
      "metadata": {
        "id": "3ifhru7_g7BI",
        "colab": {
          "base_uri": "https://localhost:8080/",
          "height": 35
        },
        "outputId": "95b6115d-9072-45d1-c8ff-a745ad35e191"
      },
      "source": [
        "for i in range(len(lem_text)):\n",
        "    lem_text[i] = \" \".join(lem_text[i])\n",
        "\n",
        "lem_text[0]"
      ],
      "execution_count": null,
      "outputs": [
        {
          "output_type": "execute_result",
          "data": {
            "application/vnd.google.colaboratory.intrinsic+json": {
              "type": "string"
            },
            "text/plain": [
              "'appellant arraigned accused tried along five accused offence punishable section read ss. ipc st additional session judge madhepura.'"
            ]
          },
          "metadata": {},
          "execution_count": 18
        }
      ]
    },
    {
      "cell_type": "code",
      "metadata": {
        "id": "i7BABOnWg9Oi",
        "colab": {
          "base_uri": "https://localhost:8080/",
          "height": 538
        },
        "outputId": "d00a14a2-73cd-40db-d21c-ff64c1ba57b0"
      },
      "source": [
        "dataset1['lem_text'] = np.array(lem_text)\n",
        "dataset1['stem_text'] = np.array(text)\n",
        "\n",
        "dataset1"
      ],
      "execution_count": null,
      "outputs": [
        {
          "output_type": "execute_result",
          "data": {
            "text/html": [
              "<div>\n",
              "<style scoped>\n",
              "    .dataframe tbody tr th:only-of-type {\n",
              "        vertical-align: middle;\n",
              "    }\n",
              "\n",
              "    .dataframe tbody tr th {\n",
              "        vertical-align: top;\n",
              "    }\n",
              "\n",
              "    .dataframe thead th {\n",
              "        text-align: right;\n",
              "    }\n",
              "</style>\n",
              "<table border=\"1\" class=\"dataframe\">\n",
              "  <thead>\n",
              "    <tr style=\"text-align: right;\">\n",
              "      <th></th>\n",
              "      <th>Text</th>\n",
              "      <th>labels</th>\n",
              "      <th>num_labels</th>\n",
              "      <th>lem_text</th>\n",
              "      <th>stem_text</th>\n",
              "    </tr>\n",
              "  </thead>\n",
              "  <tbody>\n",
              "    <tr>\n",
              "      <th>0</th>\n",
              "      <td>The appellant who was arraigned as Accused  wa...</td>\n",
              "      <td>Facts</td>\n",
              "      <td>0</td>\n",
              "      <td>appellant arraigned accused tried along five a...</td>\n",
              "      <td>appel arraign accus tri along five accus offen...</td>\n",
              "    </tr>\n",
              "    <tr>\n",
              "      <th>1</th>\n",
              "      <td>The allegations against the accused inter alia...</td>\n",
              "      <td>Facts</td>\n",
              "      <td>0</td>\n",
              "      <td>allegation accused inter alia subjected one bi...</td>\n",
              "      <td>alleg accus inter alia subject one bindula dev...</td>\n",
              "    </tr>\n",
              "    <tr>\n",
              "      <th>2</th>\n",
              "      <td>Bindula Devi was married to Accused  Jaipraksh...</td>\n",
              "      <td>Facts</td>\n",
              "      <td>0</td>\n",
              "      <td>bindula devi married accused jaipraksh yadav.</td>\n",
              "      <td>bindula devi marri accus jaipraksh yadav.</td>\n",
              "    </tr>\n",
              "    <tr>\n",
              "      <th>3</th>\n",
              "      <td>The appellant and Accused  Shakun Devo Yadav a...</td>\n",
              "      <td>Facts</td>\n",
              "      <td>0</td>\n",
              "      <td>appellant accused shakun devo yadav brother ac...</td>\n",
              "      <td>appel accus shakun devo yadav brother accus ja...</td>\n",
              "    </tr>\n",
              "    <tr>\n",
              "      <th>4</th>\n",
              "      <td>Accused  Dani Dutta Yadav is their father and ...</td>\n",
              "      <td>Facts</td>\n",
              "      <td>0</td>\n",
              "      <td>accused dani dutta yadav father accused satya ...</td>\n",
              "      <td>accus dani dutta yadav father accus satya bham...</td>\n",
              "    </tr>\n",
              "    <tr>\n",
              "      <th>...</th>\n",
              "      <td>...</td>\n",
              "      <td>...</td>\n",
              "      <td>...</td>\n",
              "      <td>...</td>\n",
              "      <td>...</td>\n",
              "    </tr>\n",
              "    <tr>\n",
              "      <th>11280</th>\n",
              "      <td>Suffice it to state that the appellantas a fac...</td>\n",
              "      <td>Ratio of the decision</td>\n",
              "      <td>4</td>\n",
              "      <td>suffice state appellantas facthad used trade m...</td>\n",
              "      <td>suffic state appellanta facthad use trade mark...</td>\n",
              "    </tr>\n",
              "    <tr>\n",
              "      <th>11281</th>\n",
              "      <td>The High Courtin our viewdeclinedfor good reas...</td>\n",
              "      <td>Ratio of the decision</td>\n",
              "      <td>4</td>\n",
              "      <td>high courtin viewdeclinedfor good reasonsto re...</td>\n",
              "      <td>high courtin viewdeclinedfor good reasonsto re...</td>\n",
              "    </tr>\n",
              "    <tr>\n",
              "      <th>11282</th>\n",
              "      <td>We are also not persuaded to take a different ...</td>\n",
              "      <td>Ratio of the decision</td>\n",
              "      <td>4</td>\n",
              "      <td>also persuaded take different view high court</td>\n",
              "      <td>also persuad take differ view high court</td>\n",
              "    </tr>\n",
              "    <tr>\n",
              "      <th>11283</th>\n",
              "      <td>In these circumstanceswe are of the view that ...</td>\n",
              "      <td>Ratio of the decision</td>\n",
              "      <td>4</td>\n",
              "      <td>circumstanceswe view high court properly exerc...</td>\n",
              "      <td>circumstancesw view high court properli exerci...</td>\n",
              "    </tr>\n",
              "    <tr>\n",
              "      <th>11284</th>\n",
              "      <td>The appeal is accordingly dismissed butin the ...</td>\n",
              "      <td>Ruling by Present Court</td>\n",
              "      <td>6</td>\n",
              "      <td>appeal accordingly dismissed butin circumstanc...</td>\n",
              "      <td>appeal accordingli dismiss butin circumstances...</td>\n",
              "    </tr>\n",
              "  </tbody>\n",
              "</table>\n",
              "<p>11285 rows × 5 columns</p>\n",
              "</div>"
            ],
            "text/plain": [
              "                                                    Text  ...                                          stem_text\n",
              "0      The appellant who was arraigned as Accused  wa...  ...  appel arraign accus tri along five accus offen...\n",
              "1      The allegations against the accused inter alia...  ...  alleg accus inter alia subject one bindula dev...\n",
              "2      Bindula Devi was married to Accused  Jaipraksh...  ...          bindula devi marri accus jaipraksh yadav.\n",
              "3      The appellant and Accused  Shakun Devo Yadav a...  ...  appel accus shakun devo yadav brother accus ja...\n",
              "4      Accused  Dani Dutta Yadav is their father and ...  ...  accus dani dutta yadav father accus satya bham...\n",
              "...                                                  ...  ...                                                ...\n",
              "11280  Suffice it to state that the appellantas a fac...  ...  suffic state appellanta facthad use trade mark...\n",
              "11281  The High Courtin our viewdeclinedfor good reas...  ...  high courtin viewdeclinedfor good reasonsto re...\n",
              "11282  We are also not persuaded to take a different ...  ...           also persuad take differ view high court\n",
              "11283  In these circumstanceswe are of the view that ...  ...  circumstancesw view high court properli exerci...\n",
              "11284  The appeal is accordingly dismissed butin the ...  ...  appeal accordingli dismiss butin circumstances...\n",
              "\n",
              "[11285 rows x 5 columns]"
            ]
          },
          "metadata": {},
          "execution_count": 19
        }
      ]
    },
    {
      "cell_type": "code",
      "metadata": {
        "id": "JFWqrHSWhBTW",
        "colab": {
          "base_uri": "https://localhost:8080/"
        },
        "outputId": "b4b4931f-18ae-4e92-d92e-6063db05988f"
      },
      "source": [
        "dataset1.labels.value_counts()"
      ],
      "execution_count": null,
      "outputs": [
        {
          "output_type": "execute_result",
          "data": {
            "text/plain": [
              "Ratio of the decision      4211\n",
              "Facts                      2622\n",
              "Precedent                  1787\n",
              "Argument                    939\n",
              "Statute                     902\n",
              "Ruling by Lower Court       483\n",
              "Ruling by Present Court     341\n",
              "Name: labels, dtype: int64"
            ]
          },
          "metadata": {},
          "execution_count": 20
        }
      ]
    },
    {
      "cell_type": "code",
      "metadata": {
        "id": "3c64-dinhFkp",
        "colab": {
          "base_uri": "https://localhost:8080/"
        },
        "outputId": "14022099-a6bf-49b0-ef8b-6f5cc9b458b3"
      },
      "source": [
        "dataset1.drop_duplicates(['lem_text']).labels.value_counts()"
      ],
      "execution_count": null,
      "outputs": [
        {
          "output_type": "execute_result",
          "data": {
            "text/plain": [
              "Ratio of the decision      4146\n",
              "Facts                      2566\n",
              "Precedent                  1754\n",
              "Argument                    905\n",
              "Statute                     867\n",
              "Ruling by Lower Court       476\n",
              "Ruling by Present Court     276\n",
              "Name: labels, dtype: int64"
            ]
          },
          "metadata": {},
          "execution_count": 21
        }
      ]
    },
    {
      "cell_type": "code",
      "metadata": {
        "id": "0-HOZ6jYhLyL"
      },
      "source": [
        "from sklearn.utils import shuffle\n",
        "\n",
        "lemm = []\n",
        "labels = []\n",
        "THRESH_1 = 1500\n",
        "THRESH_2 = 500\n",
        "\n",
        "for group in dataset1.labels.unique():\n",
        "    if len(dataset1.groupby('labels').get_group(group).lem_text.unique()) > THRESH_1:\n",
        "        lemm += (list(shuffle(dataset1.groupby('labels').get_group(group).lem_text.unique())))\n",
        "        lemm += (list(shuffle(dataset1.groupby('labels').get_group(group).lem_text.unique())))\n",
        "        labels += ([group]*2*len(list(shuffle(dataset1.groupby('labels').get_group(group).lem_text.unique()))))\n",
        "\n",
        "    elif len(dataset1.groupby('labels').get_group(group).lem_text.unique()) > THRESH_2:\n",
        "        lemm += (list(shuffle(dataset1.groupby('labels').get_group(group).lem_text.unique())))\n",
        "        lemm += (list(shuffle(dataset1.groupby('labels').get_group(group).lem_text.unique())))\n",
        "        lemm += (list(shuffle(dataset1.groupby('labels').get_group(group).lem_text.unique())))\n",
        "        lemm += (list(shuffle(dataset1.groupby('labels').get_group(group).lem_text.unique())))\n",
        "        labels += ([group]*4*len(list(shuffle(dataset1.groupby('labels').get_group(group).lem_text.unique()))))\n",
        "    else:\n",
        "        lemm += (list(shuffle(dataset1.groupby('labels').get_group(group).lem_text.unique())))\n",
        "        lemm += (list(shuffle(dataset1.groupby('labels').get_group(group).lem_text.unique())))\n",
        "        lemm += (list(shuffle(dataset1.groupby('labels').get_group(group).lem_text.unique())))\n",
        "        lemm += (list(shuffle(dataset1.groupby('labels').get_group(group).lem_text.unique())))\n",
        "        lemm += (list(shuffle(dataset1.groupby('labels').get_group(group).lem_text.unique())))\n",
        "        lemm += (list(shuffle(dataset1.groupby('labels').get_group(group).lem_text.unique())))\n",
        "        labels += ([group]*6*len(list(shuffle(dataset1.groupby('labels').get_group(group).lem_text.unique()))))"
      ],
      "execution_count": null,
      "outputs": []
    },
    {
      "cell_type": "code",
      "metadata": {
        "id": "y2D04BrjhTnn"
      },
      "source": [
        "balanced_df = pd.DataFrame({'Text' : lemm, 'Labels': labels})"
      ],
      "execution_count": null,
      "outputs": []
    },
    {
      "cell_type": "code",
      "metadata": {
        "id": "4mqN-noUhXYm",
        "colab": {
          "base_uri": "https://localhost:8080/"
        },
        "outputId": "32c0c551-c52a-4e7d-acc2-5db0ac345b6f"
      },
      "source": [
        "balanced_df.Labels.value_counts()"
      ],
      "execution_count": null,
      "outputs": [
        {
          "output_type": "execute_result",
          "data": {
            "text/plain": [
              "Ratio of the decision      8328\n",
              "Facts                      5164\n",
              "Argument                   3672\n",
              "Precedent                  3528\n",
              "Statute                    3492\n",
              "Ruling by Lower Court      2892\n",
              "Ruling by Present Court    1674\n",
              "Name: Labels, dtype: int64"
            ]
          },
          "metadata": {},
          "execution_count": 24
        }
      ]
    },
    {
      "cell_type": "code",
      "metadata": {
        "id": "bmIIIFOAhcUk"
      },
      "source": [
        "balanced_df['NumLabel'] = balanced_df.Labels.apply(text_to_numerical_category)"
      ],
      "execution_count": null,
      "outputs": []
    },
    {
      "cell_type": "code",
      "metadata": {
        "id": "6FwvWHHwhda6",
        "colab": {
          "base_uri": "https://localhost:8080/",
          "height": 204
        },
        "outputId": "7cd29c62-4a99-4fb7-c620-e090077950ac"
      },
      "source": [
        "balanced_df.head()"
      ],
      "execution_count": null,
      "outputs": [
        {
          "output_type": "execute_result",
          "data": {
            "text/html": [
              "<div>\n",
              "<style scoped>\n",
              "    .dataframe tbody tr th:only-of-type {\n",
              "        vertical-align: middle;\n",
              "    }\n",
              "\n",
              "    .dataframe tbody tr th {\n",
              "        vertical-align: top;\n",
              "    }\n",
              "\n",
              "    .dataframe thead th {\n",
              "        text-align: right;\n",
              "    }\n",
              "</style>\n",
              "<table border=\"1\" class=\"dataframe\">\n",
              "  <thead>\n",
              "    <tr style=\"text-align: right;\">\n",
              "      <th></th>\n",
              "      <th>Text</th>\n",
              "      <th>Labels</th>\n",
              "      <th>NumLabel</th>\n",
              "    </tr>\n",
              "  </thead>\n",
              "  <tbody>\n",
              "    <tr>\n",
              "      <th>0</th>\n",
              "      <td>valued r</td>\n",
              "      <td>Facts</td>\n",
              "      <td>0</td>\n",
              "    </tr>\n",
              "    <tr>\n",
              "      <th>1</th>\n",
              "      <td>one mr</td>\n",
              "      <td>Facts</td>\n",
              "      <td>0</td>\n",
              "    </tr>\n",
              "    <tr>\n",
              "      <th>2</th>\n",
              "      <td>) multiple abraded contusion back</td>\n",
              "      <td>Facts</td>\n",
              "      <td>0</td>\n",
              "    </tr>\n",
              "    <tr>\n",
              "      <th>3</th>\n",
              "      <td>compliance order xxxix rule cpc within three day</td>\n",
              "      <td>Facts</td>\n",
              "      <td>0</td>\n",
              "    </tr>\n",
              "    <tr>\n",
              "      <th>4</th>\n",
              "      <td>clothes person blood seminal stain</td>\n",
              "      <td>Facts</td>\n",
              "      <td>0</td>\n",
              "    </tr>\n",
              "  </tbody>\n",
              "</table>\n",
              "</div>"
            ],
            "text/plain": [
              "                                               Text Labels  NumLabel\n",
              "0                                          valued r  Facts         0\n",
              "1                                            one mr  Facts         0\n",
              "2                 ) multiple abraded contusion back  Facts         0\n",
              "3  compliance order xxxix rule cpc within three day  Facts         0\n",
              "4                clothes person blood seminal stain  Facts         0"
            ]
          },
          "metadata": {},
          "execution_count": 26
        }
      ]
    },
    {
      "cell_type": "code",
      "metadata": {
        "id": "R9pnu-EEhgRZ",
        "colab": {
          "base_uri": "https://localhost:8080/",
          "height": 366
        },
        "outputId": "a1b64134-675c-4407-9fbb-3331cd433cd4"
      },
      "source": [
        "sns.set_theme(style=\"darkgrid\")\n",
        "x = dataset1['labels'].value_counts()\n",
        "y = x.index\n",
        "plt.figure(figsize=(10, 5))\n",
        "g = sns.barplot(x=x, y=y)\n",
        "plt.title(\"Labels Frequency Distribution\", fontsize=20)\n",
        "plt.ylabel('Labels', fontsize= 20)\n",
        "plt.yticks(fontsize=11)\n",
        "plt.xlabel('Frequency', fontsize=20)\n",
        "plt.xticks(fontsize=10)\n",
        "plt.show()"
      ],
      "execution_count": null,
      "outputs": [
        {
          "output_type": "display_data",
          "data": {
            "image/png": "[encoded data removed]",
            "text/plain": [
              "<Figure size 720x360 with 1 Axes>"
            ]
          },
          "metadata": {}
        }
      ]
    },
    {
      "cell_type": "code",
      "metadata": {
        "id": "XjEiTckIhjmU",
        "colab": {
          "base_uri": "https://localhost:8080/",
          "height": 366
        },
        "outputId": "06975922-5ee0-4f69-e466-d2063a61b3ec"
      },
      "source": [
        "sns.set_theme(style=\"darkgrid\")\n",
        "x = balanced_df.Labels.value_counts()\n",
        "y = x.index\n",
        "plt.figure(figsize=(10, 5))\n",
        "g = sns.barplot(x=x, y=y)\n",
        "plt.title(\"Event Frequency Distribution [India]\", fontsize=20)\n",
        "plt.ylabel('Events', fontsize= 20)\n",
        "plt.yticks(fontsize=11)\n",
        "plt.xlabel('Frequency', fontsize=20)\n",
        "plt.xticks(fontsize=10)\n",
        "plt.show()"
      ],
      "execution_count": null,
      "outputs": [
        {
          "output_type": "display_data",
          "data": {
            "image/png": "[encoded data removed]",
            "text/plain": [
              "<Figure size 720x360 with 1 Axes>"
            ]
          },
          "metadata": {}
        }
      ]
    },
    {
      "cell_type": "code",
      "metadata": {
        "id": "5v2UIsfkhnws",
        "colab": {
          "base_uri": "https://localhost:8080/",
          "height": 596
        },
        "outputId": "a27c8540-6fd9-44a6-f9cf-e84b6e719508"
      },
      "source": [
        "plt.figure(figsize=(30,10))\n",
        "plt.title('Percentage of Different Labels', fontsize=20)\n",
        "balanced_df.Labels.value_counts().plot(kind='pie', labels= balanced_df.Labels.unique(),\n",
        "                              wedgeprops=dict(width=.7), autopct='%1.0f%%', startangle= -20, \n",
        "                              textprops={'fontsize': 15})\n",
        "plt.legend(loc='upper left')\n",
        "plt.show()"
      ],
      "execution_count": null,
      "outputs": [
        {
          "output_type": "display_data",
          "data": {
            "image/png": "[encoded data removed]",
            "text/plain": [
              "<Figure size 2160x720 with 1 Axes>"
            ]
          },
          "metadata": {}
        }
      ]
    },
    {
      "cell_type": "code",
      "metadata": {
        "id": "n21JkTlLhtk0",
        "colab": {
          "base_uri": "https://localhost:8080/",
          "height": 596
        },
        "outputId": "f1b48af3-b00b-4926-e13d-175ea3a8ca89"
      },
      "source": [
        "plt.figure(figsize=(30,10))\n",
        "plt.title('Percentage of Different Labels', fontsize=20)\n",
        "dataset1.labels.value_counts().plot(kind='pie', labels= dataset1.labels.unique(),\n",
        "                              wedgeprops=dict(width=.7), autopct='%1.0f%%', startangle= -20, \n",
        "                              textprops={'fontsize': 15})\n",
        "plt.legend(loc='upper left')\n",
        "plt.show()"
      ],
      "execution_count": null,
      "outputs": [
        {
          "output_type": "display_data",
          "data": {
            "image/png": "[encoded data removed]",
            "text/plain": [
              "<Figure size 2160x720 with 1 Axes>"
            ]
          },
          "metadata": {}
        }
      ]
    },
    {
      "cell_type": "code",
      "metadata": {
        "id": "cTIr01d5hvwk"
      },
      "source": [
        "max_classes = len(balanced_df.Labels.unique())\n",
        "max_length=128"
      ],
      "execution_count": null,
      "outputs": []
    },
    {
      "cell_type": "code",
      "metadata": {
        "id": "DZ1ZnpqEhzU3",
        "colab": {
          "base_uri": "https://localhost:8080/",
          "height": 145,
          "referenced_widgets": [
            "a34afcaa85e84dfa85a8e1b72d21fe5e",
            "86924b9f177047a9bf5db0f028fa40f8",
            "95065e0b4f0446e7aca9a2afb4e8dac4",
            "c4a2a299509d4082a1d2e13178e7e18d",
            "c946fea58a744a8da22f8fce91991837",
            "4e6a18b146024d9ca0605d859cc21b92",
            "890e247047114837b4ef7f1de5f834f5",
            "aac65ee87020470b8e6f9cbacf5640d3",
            "c1b8eda9e2f14c04bdfdf0ff64be5519",
            "bcbdf264170e42e6ab9c9e468ca567b5",
            "01cdd22aba224a329487378fa62b2f25",
            "332c2ead4e8e49f195c817b37c85d429",
            "1b2919074410426f9c631dec7b7af048",
            "aac7b72cdb3a438aa77c2dc61a4689a3",
            "b6a0d2c400bc462eb689a199fd139003",
            "d1c53e2668484d2ea55a5387b5a95da6",
            "cd64aeebe1574585aaec664eb377814e",
            "2983c0a6fb7b43d889941be58127464c",
            "daddea44c93e4a70afcaa938d354fa64",
            "ed121f3e3c5947d5b26a8c804e9d8571",
            "52f88ef88afb488182494b080f395531",
            "38f40b512d524ef7aa3a580d2401ca17",
            "6bebef9a42b64e2ab77d1fd820a8774b",
            "da29df46f1114af8afddf32ef0064970",
            "689517b6a92a49269be5c8f058ceed13",
            "04e12efc04aa483791864af5e6d877dc",
            "94a8007c23d6478ea6cc06472a1e8186",
            "d5285fa1978c4b8ca2e0a946f06f76d0",
            "b0a316d70df144de987fa8440d1b8cac",
            "33ce5ad56aa748c288a5c15f97a82817",
            "017349fab6a446b0956740f765a8cbc6",
            "bcc7d4264fee465794a9eaf05b67b6c9",
            "d860b707f03049f9808a7b077004dab1",
            "177449a3767e4838a5310e43d18d00ba",
            "d42cb0d50dbd4bb9abeed63dd9176720",
            "8a2c38c6aac44dfca1b097240670a2b4",
            "c9316aa1a1704c57b3e7481eab62b1d2",
            "d104499c00c04153b24e6ec4d20ad6e3",
            "5f4f21d52dd74108857b6970e5b7adc4",
            "c99bae905143412fa297e0249e5a202e",
            "5d7922089ab746cdbad07cdb230c0646",
            "fb3cebe4d9c646978fff9f65b291c96c",
            "fbcfc699f57640a7bf37be801ed5a806",
            "e5526b3d51304a61b3633933fe83894a"
          ]
        },
        "outputId": "7e98cca4-2505-448e-eea5-3923ed1ce22c"
      },
      "source": [
        "from transformers import RobertaTokenizer, TFRobertaForSequenceClassification\n",
        "\n",
        "# Same as before\n",
        "checkpoint = \"roberta-base\"\n",
        "tokenizer = RobertaTokenizer.from_pretrained(checkpoint, max_length=max_length)"
      ],
      "execution_count": null,
      "outputs": [
        {
          "output_type": "display_data",
          "data": {
            "application/vnd.jupyter.widget-view+json": {
              "model_id": "a34afcaa85e84dfa85a8e1b72d21fe5e",
              "version_minor": 0,
              "version_major": 2
            },
            "text/plain": [
              "Downloading:   0%|          | 0.00/878k [00:00<?, ?B/s]"
            ]
          },
          "metadata": {}
        },
        {
          "output_type": "display_data",
          "data": {
            "application/vnd.jupyter.widget-view+json": {
              "model_id": "332c2ead4e8e49f195c817b37c85d429",
              "version_minor": 0,
              "version_major": 2
            },
            "text/plain": [
              "Downloading:   0%|          | 0.00/446k [00:00<?, ?B/s]"
            ]
          },
          "metadata": {}
        },
        {
          "output_type": "display_data",
          "data": {
            "application/vnd.jupyter.widget-view+json": {
              "model_id": "6bebef9a42b64e2ab77d1fd820a8774b",
              "version_minor": 0,
              "version_major": 2
            },
            "text/plain": [
              "Downloading:   0%|          | 0.00/1.29M [00:00<?, ?B/s]"
            ]
          },
          "metadata": {}
        },
        {
          "output_type": "display_data",
          "data": {
            "application/vnd.jupyter.widget-view+json": {
              "model_id": "177449a3767e4838a5310e43d18d00ba",
              "version_minor": 0,
              "version_major": 2
            },
            "text/plain": [
              "Downloading:   0%|          | 0.00/481 [00:00<?, ?B/s]"
            ]
          },
          "metadata": {}
        }
      ]
    },
    {
      "cell_type": "code",
      "metadata": {
        "id": "IfpNBqJWiNpL"
      },
      "source": [
        "from tensorflow.keras.optimizers.schedules import PolynomialDecay\n",
        "\n",
        "EPOCHS = 5\n",
        "loss = tf.keras.losses.CategoricalCrossentropy(from_logits=False)\n",
        "batch_size = 32\n",
        "\n",
        "# num_train_steps =  len((balanced_df.NumLabel) // batch_size) * EPOCHS\n",
        "# lr_scheduler = PolynomialDecay(initial_learning_rate=5e-5,\n",
        "#                                end_learning_rate=0.,\n",
        "#                                decay_steps=num_train_steps\n",
        "#                                )\n",
        "\n",
        "from tensorflow.keras.optimizers import Adam\n",
        "opt = Adam(learning_rate=5e-5)"
      ],
      "execution_count": null,
      "outputs": []
    },
    {
      "cell_type": "code",
      "metadata": {
        "id": "Adz7XhzWiXtU"
      },
      "source": [
        "from sklearn.utils import shuffle\n",
        "from sklearn.model_selection import train_test_split\n",
        "result_df = shuffle(balanced_df)"
      ],
      "execution_count": null,
      "outputs": []
    },
    {
      "cell_type": "code",
      "metadata": {
        "id": "_h9noAX0icRf",
        "colab": {
          "base_uri": "https://localhost:8080/",
          "height": 419
        },
        "outputId": "97c3e7a2-2b60-46ff-ada6-1be2a968ff96"
      },
      "source": [
        "result_df"
      ],
      "execution_count": null,
      "outputs": [
        {
          "output_type": "execute_result",
          "data": {
            "text/html": [
              "<div>\n",
              "<style scoped>\n",
              "    .dataframe tbody tr th:only-of-type {\n",
              "        vertical-align: middle;\n",
              "    }\n",
              "\n",
              "    .dataframe tbody tr th {\n",
              "        vertical-align: top;\n",
              "    }\n",
              "\n",
              "    .dataframe thead th {\n",
              "        text-align: right;\n",
              "    }\n",
              "</style>\n",
              "<table border=\"1\" class=\"dataframe\">\n",
              "  <thead>\n",
              "    <tr style=\"text-align: right;\">\n",
              "      <th></th>\n",
              "      <th>Text</th>\n",
              "      <th>Labels</th>\n",
              "      <th>NumLabel</th>\n",
              "    </tr>\n",
              "  </thead>\n",
              "  <tbody>\n",
              "    <tr>\n",
              "      <th>1982</th>\n",
              "      <td>similarlyout % seat filled management accordan...</td>\n",
              "      <td>Facts</td>\n",
              "      <td>0</td>\n",
              "    </tr>\n",
              "    <tr>\n",
              "      <th>22086</th>\n",
              "      <td>carefully considered contention urged behalf p...</td>\n",
              "      <td>Ratio of the decision</td>\n",
              "      <td>4</td>\n",
              "    </tr>\n",
              "    <tr>\n",
              "      <th>7780</th>\n",
              "      <td>high court reversed acquittal convicted sectio...</td>\n",
              "      <td>Ruling by Lower Court</td>\n",
              "      <td>1</td>\n",
              "    </tr>\n",
              "    <tr>\n",
              "      <th>26734</th>\n",
              "      <td>sub-s.() s. act specifically excludes applicab...</td>\n",
              "      <td>Statute</td>\n",
              "      <td>5</td>\n",
              "    </tr>\n",
              "    <tr>\n",
              "      <th>1132</th>\n",
              "      <td>appellant a-a- a- thereafter assaulted bajrang...</td>\n",
              "      <td>Facts</td>\n",
              "      <td>0</td>\n",
              "    </tr>\n",
              "    <tr>\n",
              "      <th>...</th>\n",
              "      <td>...</td>\n",
              "      <td>...</td>\n",
              "      <td>...</td>\n",
              "    </tr>\n",
              "    <tr>\n",
              "      <th>19008</th>\n",
              "      <td>admittedlyno agreement signed party</td>\n",
              "      <td>Ratio of the decision</td>\n",
              "      <td>4</td>\n",
              "    </tr>\n",
              "    <tr>\n",
              "      <th>7422</th>\n",
              "      <td>made clear paragraph</td>\n",
              "      <td>Ruling by Lower Court</td>\n",
              "      <td>1</td>\n",
              "    </tr>\n",
              "    <tr>\n",
              "      <th>25028</th>\n",
              "      <td>provision relied u state government according ...</td>\n",
              "      <td>Statute</td>\n",
              "      <td>5</td>\n",
              "    </tr>\n",
              "    <tr>\n",
              "      <th>20146</th>\n",
              "      <td>far krishtappa yellapa pujar &amp; ors.vs</td>\n",
              "      <td>Ratio of the decision</td>\n",
              "      <td>4</td>\n",
              "    </tr>\n",
              "    <tr>\n",
              "      <th>17058</th>\n",
              "      <td>s. act empowers appropriate authority make one...</td>\n",
              "      <td>Ratio of the decision</td>\n",
              "      <td>4</td>\n",
              "    </tr>\n",
              "  </tbody>\n",
              "</table>\n",
              "<p>28750 rows × 3 columns</p>\n",
              "</div>"
            ],
            "text/plain": [
              "                                                    Text  ... NumLabel\n",
              "1982   similarlyout % seat filled management accordan...  ...        0\n",
              "22086  carefully considered contention urged behalf p...  ...        4\n",
              "7780   high court reversed acquittal convicted sectio...  ...        1\n",
              "26734  sub-s.() s. act specifically excludes applicab...  ...        5\n",
              "1132   appellant a-a- a- thereafter assaulted bajrang...  ...        0\n",
              "...                                                  ...  ...      ...\n",
              "19008                admittedlyno agreement signed party  ...        4\n",
              "7422                                made clear paragraph  ...        1\n",
              "25028  provision relied u state government according ...  ...        5\n",
              "20146              far krishtappa yellapa pujar & ors.vs  ...        4\n",
              "17058  s. act empowers appropriate authority make one...  ...        4\n",
              "\n",
              "[28750 rows x 3 columns]"
            ]
          },
          "metadata": {},
          "execution_count": 35
        }
      ]
    },
    {
      "cell_type": "code",
      "metadata": {
        "id": "7JZwSCGTiknD"
      },
      "source": [
        "X_train, X_test, Y_train, Y_test = train_test_split(result_df.Text, result_df.NumLabel, test_size = 0.1, random_state = 42, stratify =result_df.NumLabel)"
      ],
      "execution_count": null,
      "outputs": []
    },
    {
      "cell_type": "code",
      "metadata": {
        "id": "0CS9dduhinD-",
        "colab": {
          "base_uri": "https://localhost:8080/"
        },
        "outputId": "c996b7ec-e926-4b1e-b1f1-5cc0ae9e4e81"
      },
      "source": [
        "max_classes = len(balanced_df.Labels.unique())\n",
        "print(max_classes)"
      ],
      "execution_count": null,
      "outputs": [
        {
          "output_type": "stream",
          "name": "stdout",
          "text": [
            "7\n"
          ]
        }
      ]
    },
    {
      "cell_type": "code",
      "metadata": {
        "id": "NQrpQvxMiqwx",
        "colab": {
          "base_uri": "https://localhost:8080/"
        },
        "outputId": "40a6cfd9-6cff-4f2b-8c8a-7fb959b8b1cd"
      },
      "source": [
        "%%time\n",
        "encoded_labels_train = to_categorical(Y_train, num_classes=max_classes)\n",
        "encoded_labels_test = to_categorical(Y_test, num_classes=max_classes)"
      ],
      "execution_count": null,
      "outputs": [
        {
          "output_type": "stream",
          "name": "stdout",
          "text": [
            "CPU times: user 2.13 ms, sys: 13 µs, total: 2.15 ms\n",
            "Wall time: 1.67 ms\n"
          ]
        }
      ]
    },
    {
      "cell_type": "code",
      "metadata": {
        "id": "9Jcd7kPoiuSi"
      },
      "source": [
        "def roberta_encode(data,maximum_length) :\n",
        "  input_ids = []\n",
        "  attention_masks = []\n",
        "  \n",
        "\n",
        "  for i in tqdm(range(len(data))):\n",
        "      encoded = tokenizer.encode_plus(\n",
        "        \n",
        "        data[i],\n",
        "        add_special_tokens=True,\n",
        "        max_length=maximum_length,\n",
        "        pad_to_max_length=True,\n",
        "        \n",
        "        return_attention_mask=True,\n",
        "        \n",
        "      )\n",
        "      \n",
        "      input_ids.append(encoded['input_ids'])\n",
        "      attention_masks.append(encoded['attention_mask'])\n",
        "  return np.array(input_ids),np.array(attention_masks)"
      ],
      "execution_count": null,
      "outputs": []
    },
    {
      "cell_type": "code",
      "metadata": {
        "id": "1r3BdhXli4Q_",
        "colab": {
          "base_uri": "https://localhost:8080/"
        },
        "outputId": "7964f23c-1b86-4b02-b10f-fb5038c73221"
      },
      "source": [
        "%%time\n",
        "train_inputs,train_attention_masks = roberta_encode(list(X_train), max_length)"
      ],
      "execution_count": null,
      "outputs": [
        {
          "output_type": "stream",
          "name": "stderr",
          "text": [
            "  0%|          | 0/25875 [00:00<?, ?it/s]Truncation was not explicitly activated but `max_length` is provided a specific value, please use `truncation=True` to explicitly truncate examples to max length. Defaulting to 'longest_first' truncation strategy. If you encode pairs of sequences (GLUE-style) with the tokenizer you can select this strategy more precisely by providing a specific strategy to `truncation`.\n",
            "/usr/local/lib/python3.7/dist-packages/transformers/tokenization_utils_base.py:2218: FutureWarning: The `pad_to_max_length` argument is deprecated and will be removed in a future version, use `padding=True` or `padding='longest'` to pad to the longest sequence in the batch, or use `padding='max_length'` to pad to a max length. In this case, you can give a specific length with `max_length` (e.g. `max_length=45`) or leave max_length to None to pad to the maximal input size of the model (e.g. 512 for Bert).\n",
            "  FutureWarning,\n",
            "100%|██████████| 25875/25875 [00:10<00:00, 2358.05it/s]\n"
          ]
        },
        {
          "output_type": "stream",
          "name": "stdout",
          "text": [
            "CPU times: user 11.2 s, sys: 301 ms, total: 11.5 s\n",
            "Wall time: 11.6 s\n"
          ]
        }
      ]
    },
    {
      "cell_type": "code",
      "metadata": {
        "id": "ZBN9nBici-gA",
        "colab": {
          "base_uri": "https://localhost:8080/"
        },
        "outputId": "f5ee190a-1b8e-4526-bef9-705a1ecc02e7"
      },
      "source": [
        "test_inputs,test_attention_masks = roberta_encode(list(X_test), max_length)"
      ],
      "execution_count": null,
      "outputs": [
        {
          "output_type": "stream",
          "name": "stderr",
          "text": [
            "  0%|          | 0/2875 [00:00<?, ?it/s]/usr/local/lib/python3.7/dist-packages/transformers/tokenization_utils_base.py:2218: FutureWarning: The `pad_to_max_length` argument is deprecated and will be removed in a future version, use `padding=True` or `padding='longest'` to pad to the longest sequence in the batch, or use `padding='max_length'` to pad to a max length. In this case, you can give a specific length with `max_length` (e.g. `max_length=45`) or leave max_length to None to pad to the maximal input size of the model (e.g. 512 for Bert).\n",
            "  FutureWarning,\n",
            "100%|██████████| 2875/2875 [00:01<00:00, 2814.96it/s]\n"
          ]
        }
      ]
    },
    {
      "cell_type": "code",
      "metadata": {
        "id": "3AWG4KfYjAsO",
        "colab": {
          "base_uri": "https://localhost:8080/"
        },
        "outputId": "7c0ad282-dc64-4ac5-8a16-5a60a601e15f"
      },
      "source": [
        "print(f'Number of Samples in Training Set : {len(X_train)} Number of Samples in Validation Set: {len(X_test)} ')"
      ],
      "execution_count": null,
      "outputs": [
        {
          "output_type": "stream",
          "name": "stdout",
          "text": [
            "Number of Samples in Training Set : 25875 Number of Samples in Validation Set: 2875 \n"
          ]
        }
      ]
    },
    {
      "cell_type": "code",
      "metadata": {
        "id": "PZGM_HVBjFmB"
      },
      "source": [
        "from tensorflow.keras.callbacks import ModelCheckpoint, EarlyStopping\n",
        "!mkdir checkpoints\n",
        "filepath = \"RoBERT-lemm-{epoch:02d}.h5\"\n",
        "MyCheckpoint = ModelCheckpoint(filepath,\n",
        "                               monitor = 'val_categorical_accuracy',\n",
        "                               verbose = 1,\n",
        "                               save_best_only = True,\n",
        "                               mode='auto',\n",
        "                               save_weights_only = True)\n",
        "\n",
        "MyEarlyStopping = EarlyStopping(patience =1,\n",
        "                                monitor='val_categorical_accuracy',\n",
        "                                restore_best_weights = True,\n",
        "                                verbose = 1)\n",
        "\n",
        "ModelSaver = ModelCheckpoint(filepath, monitor='val_acc', verbose=1, save_best_only=False, mode='max')"
      ],
      "execution_count": null,
      "outputs": []
    },
    {
      "cell_type": "code",
      "metadata": {
        "id": "zhBZzN3cjL1a",
        "colab": {
          "base_uri": "https://localhost:8080/"
        },
        "outputId": "36c9c88e-55cf-4b2d-c786-0031451aa533"
      },
      "source": [
        "from sklearn.utils import class_weight\n",
        "class_weights_array = class_weight.compute_class_weight('balanced'\n",
        "                                               ,np.unique(balanced_df.NumLabel)\n",
        "                                               ,balanced_df.NumLabel)\n",
        "\n",
        "class_weights_array"
      ],
      "execution_count": null,
      "outputs": [
        {
          "output_type": "execute_result",
          "data": {
            "text/plain": [
              "array([0.79534137, 1.42017388, 1.11850296, 1.16415614, 0.49317277,\n",
              "       1.17615775, 2.45349036])"
            ]
          },
          "metadata": {},
          "execution_count": 44
        }
      ]
    },
    {
      "cell_type": "code",
      "metadata": {
        "id": "bY-HwFW3jRI2",
        "colab": {
          "base_uri": "https://localhost:8080/"
        },
        "outputId": "ad327016-35f1-4145-ee0e-c38ef9d6a221"
      },
      "source": [
        "class_weights = {i : class_weights_array[i] for i in range(len(class_weights_array))}\n",
        "class_weights"
      ],
      "execution_count": null,
      "outputs": [
        {
          "output_type": "execute_result",
          "data": {
            "text/plain": [
              "{0: 0.7953413743498948,\n",
              " 1: 1.4201738786801028,\n",
              " 2: 1.118502956738251,\n",
              " 3: 1.1641561386459345,\n",
              " 4: 0.49317277343213944,\n",
              " 5: 1.1761577483226968,\n",
              " 6: 2.4534903567161632}"
            ]
          },
          "metadata": {},
          "execution_count": 45
        }
      ]
    },
    {
      "cell_type": "code",
      "metadata": {
        "id": "P_Rh-PIkjYrH"
      },
      "source": [
        "# !pip install tensorflow_addons\n",
        "# import tensorflow_addons as tfa\n",
        "\n",
        "# macro_f1 = tfa.metrics.F1Score(num_classes=max_classes, average='macro')\n",
        "# micro_f1 = tfa.metrics.F1Score(num_classes=max_classes, average='micro')\n",
        "# weighted_f1 = tfa.metrics.F1Score(num_classes=max_classes, average='weighted')\n",
        "precision = tf.metrics.Precision()\n",
        "recall = tf.metrics.Recall()\n",
        "categorical_accuracry = tf.metrics.CategoricalAccuracy()\n",
        "\n",
        "class F1_metric(tf.keras.metrics.Metric):\n",
        "    def __init__(self, name='f1_score', **kwargs):\n",
        "        super().__init__(name=name, **kwargs)\n",
        "        # Initialize our metric by initializing the two metrics it's based on:\n",
        "        # Precision and Recall\n",
        "        self.precision = tf.keras.metrics.Precision()\n",
        "        self.recall = tf.keras.metrics.Recall()\n",
        "\n",
        "    def update_state(self, y_true, y_pred, sample_weight=None):\n",
        "        # Update our metric by updating the two metrics it's based on\n",
        "        self.precision.update_state(y_true, y_pred, sample_weight)\n",
        "        self.recall.update_state(y_true, y_pred, sample_weight)\n",
        "\n",
        "    def reset_state(self):\n",
        "        self.precision.reset_state()\n",
        "        self.recall.reset_state()\n",
        "\n",
        "    def result(self):\n",
        "        # To get the F1 result, we compute the harmonic mean of the current\n",
        "        # precision and recall\n",
        "        return 2 / ((1 / self.precision.result()) + (1 / self.recall.result())) \n",
        "\n",
        "F1Score = F1_metric()\n",
        "metrics = [categorical_accuracry, F1Score]\n"
      ],
      "execution_count": null,
      "outputs": []
    },
    {
      "cell_type": "code",
      "metadata": {
        "id": "-1uHklDPjba6"
      },
      "source": [
        "def create_model(roberta_model):\n",
        "  input_ids = tf.keras.Input(shape=(max_length,),dtype='int32')\n",
        "  attention_masks = tf.keras.Input(shape=(max_length,),dtype='int32')\n",
        "  \n",
        "  output = roberta_model([input_ids,attention_masks])\n",
        "  output = output[1]\n",
        "  \n",
        "#   output = tf.keras.layers.Dense(128,activation='relu',)(output)\n",
        "#   output = tf.keras.layers.Dropout(0.2)(output)\n",
        "#   output = tf.keras.layers.BatchNormalization()(output)\n",
        "\n",
        "#   output = tf.keras.layers.Dense(64,activation='relu',)(output)\n",
        "#   output = tf.keras.layers.Dropout(0.2)(output)\n",
        "#   output = tf.keras.layers.BatchNormalization()(output)\n",
        "\n",
        "  output = tf.keras.layers.Dense(32,activation='relu')(output)\n",
        "  output = tf.keras.layers.Dropout(0.2)(output)\n",
        "  \n",
        "  output = tf.keras.layers.Dense(units=max_classes,activation='softmax')(output)\n",
        "  model = tf.keras.models.Model(inputs = [input_ids,attention_masks],outputs = output)\n",
        "  model.compile(optimizer= opt,\n",
        "              loss= loss,\n",
        "              metrics = metrics)\n",
        "  return model"
      ],
      "execution_count": null,
      "outputs": []
    },
    {
      "cell_type": "code",
      "metadata": {
        "id": "hwkIbmRNjhtJ",
        "colab": {
          "base_uri": "https://localhost:8080/",
          "height": 698,
          "referenced_widgets": [
            "78d217b46552447fa72a7afa934b7d7f",
            "420a26fdb149478d9a10b099e7bc87b4",
            "694e7c8aca1d4eceb2346955d2bbf962",
            "55b628149ad94c3d82ef1a2ab709c11e",
            "b1d2f058f6ed48eab5e0c7d698843d28",
            "c655c89cecb941508fbaf41aeab3f9f9",
            "60deeafaba2e469b8b419a6c02cce6ab",
            "4a0419647b4d458c83434dc251069447",
            "2774b096e4864b7d93befc478074bd16",
            "c7d7650a6d3748a6996c1cf7b2af6de4",
            "67aa1ec0fc104bf99e3e2bb13a03146f"
          ]
        },
        "outputId": "3b4aeb28-256b-47c8-cf25-4a8a472ed3db"
      },
      "source": [
        "from transformers import TFRobertaModel\n",
        "roberta_model = TFRobertaModel.from_pretrained('roberta-base')\n",
        "\n",
        "model = create_model(roberta_model)\n",
        "model.summary()"
      ],
      "execution_count": null,
      "outputs": [
        {
          "output_type": "display_data",
          "data": {
            "application/vnd.jupyter.widget-view+json": {
              "model_id": "78d217b46552447fa72a7afa934b7d7f",
              "version_minor": 0,
              "version_major": 2
            },
            "text/plain": [
              "Downloading:   0%|          | 0.00/627M [00:00<?, ?B/s]"
            ]
          },
          "metadata": {}
        },
        {
          "output_type": "stream",
          "name": "stderr",
          "text": [
            "Some layers from the model checkpoint at roberta-base were not used when initializing TFRobertaModel: ['lm_head']\n",
            "- This IS expected if you are initializing TFRobertaModel from the checkpoint of a model trained on another task or with another architecture (e.g. initializing a BertForSequenceClassification model from a BertForPreTraining model).\n",
            "- This IS NOT expected if you are initializing TFRobertaModel from the checkpoint of a model that you expect to be exactly identical (initializing a BertForSequenceClassification model from a BertForSequenceClassification model).\n",
            "All the layers of TFRobertaModel were initialized from the model checkpoint at roberta-base.\n",
            "If your task is similar to the task the model of the checkpoint was trained on, you can already use TFRobertaModel for predictions without further training.\n"
          ]
        },
        {
          "output_type": "stream",
          "name": "stdout",
          "text": [
            "Model: \"model\"\n",
            "__________________________________________________________________________________________________\n",
            " Layer (type)                   Output Shape         Param #     Connected to                     \n",
            "==================================================================================================\n",
            " input_1 (InputLayer)           [(None, 128)]        0           []                               \n",
            "                                                                                                  \n",
            " input_2 (InputLayer)           [(None, 128)]        0           []                               \n",
            "                                                                                                  \n",
            " tf_roberta_model (TFRobertaMod  TFBaseModelOutputWi  124645632  ['input_1[0][0]',                \n",
            " el)                            thPoolingAndCrossAt               'input_2[0][0]']                \n",
            "                                tentions(last_hidde                                               \n",
            "                                n_state=(None, 128,                                               \n",
            "                                 768),                                                            \n",
            "                                 pooler_output=(Non                                               \n",
            "                                e, 768),                                                          \n",
            "                                 past_key_values=No                                               \n",
            "                                ne, hidden_states=N                                               \n",
            "                                one, attentions=Non                                               \n",
            "                                e, cross_attentions                                               \n",
            "                                =None)                                                            \n",
            "                                                                                                  \n",
            " dense (Dense)                  (None, 32)           24608       ['tf_roberta_model[0][1]']       \n",
            "                                                                                                  \n",
            " dropout_37 (Dropout)           (None, 32)           0           ['dense[0][0]']                  \n",
            "                                                                                                  \n",
            " dense_1 (Dense)                (None, 7)            231         ['dropout_37[0][0]']             \n",
            "                                                                                                  \n",
            "==================================================================================================\n",
            "Total params: 124,670,471\n",
            "Trainable params: 124,670,471\n",
            "Non-trainable params: 0\n",
            "__________________________________________________________________________________________________\n"
          ]
        }
      ]
    },
    {
      "cell_type": "code",
      "metadata": {
        "id": "ydqlDd6ejlmD",
        "colab": {
          "base_uri": "https://localhost:8080/"
        },
        "outputId": "6886c5e2-87ca-40fb-a52a-9ff58848509f"
      },
      "source": [
        "%%time\n",
        "history = model.fit([train_inputs,train_attention_masks], encoded_labels_train, \n",
        "                    validation_data=([test_inputs, test_attention_masks], encoded_labels_test),\n",
        "                    epochs = EPOCHS,\n",
        "                    batch_size = 32,\n",
        "                    verbose = 1,\n",
        "                    class_weight=class_weights,\n",
        "                    callbacks = [MyCheckpoint, MyEarlyStopping]\n",
        "                    )"
      ],
      "execution_count": null,
      "outputs": [
        {
          "output_type": "stream",
          "name": "stdout",
          "text": [
            "Epoch 1/5\n",
            "809/809 [==============================] - ETA: 0s - loss: 1.4342 - categorical_accuracy: 0.4331 - f1_score: 0.3083\n",
            "Epoch 00001: val_categorical_accuracy improved from -inf to 0.59826, saving model to RoBERT-lemm-01.h5\n",
            "809/809 [==============================] - 1233s 2s/step - loss: 1.4342 - categorical_accuracy: 0.4331 - f1_score: 0.3083 - val_loss: 1.1399 - val_categorical_accuracy: 0.5983 - val_f1_score: 0.4997\n",
            "Epoch 2/5\n",
            "809/809 [==============================] - ETA: 0s - loss: 0.8866 - categorical_accuracy: 0.6263 - f1_score: 0.5793\n",
            "Epoch 00002: val_categorical_accuracy improved from 0.59826 to 0.71930, saving model to RoBERT-lemm-02.h5\n",
            "809/809 [==============================] - 1209s 1s/step - loss: 0.8866 - categorical_accuracy: 0.6263 - f1_score: 0.5793 - val_loss: 0.8044 - val_categorical_accuracy: 0.7193 - val_f1_score: 0.6945\n",
            "Epoch 3/5\n",
            "809/809 [==============================] - ETA: 0s - loss: 0.5984 - categorical_accuracy: 0.7394 - f1_score: 0.7226\n",
            "Epoch 00003: val_categorical_accuracy improved from 0.71930 to 0.78713, saving model to RoBERT-lemm-03.h5\n",
            "809/809 [==============================] - 1209s 1s/step - loss: 0.5984 - categorical_accuracy: 0.7394 - f1_score: 0.7226 - val_loss: 0.5835 - val_categorical_accuracy: 0.7871 - val_f1_score: 0.7858\n",
            "Epoch 4/5\n",
            "809/809 [==============================] - ETA: 0s - loss: 0.3947 - categorical_accuracy: 0.8222 - f1_score: 0.8160\n",
            "Epoch 00004: val_categorical_accuracy improved from 0.78713 to 0.83165, saving model to RoBERT-lemm-04.h5\n",
            "809/809 [==============================] - 1209s 1s/step - loss: 0.3947 - categorical_accuracy: 0.8222 - f1_score: 0.8160 - val_loss: 0.5307 - val_categorical_accuracy: 0.8317 - val_f1_score: 0.8318\n",
            "Epoch 5/5\n",
            "809/809 [==============================] - ETA: 0s - loss: 0.3031 - categorical_accuracy: 0.8679 - f1_score: 0.8660\n",
            "Epoch 00005: val_categorical_accuracy improved from 0.83165 to 0.89217, saving model to RoBERT-lemm-05.h5\n",
            "809/809 [==============================] - 1209s 1s/step - loss: 0.3031 - categorical_accuracy: 0.8679 - f1_score: 0.8660 - val_loss: 0.3649 - val_categorical_accuracy: 0.8922 - val_f1_score: 0.8924\n",
            "CPU times: user 32min 35s, sys: 12min 17s, total: 44min 52s\n",
            "Wall time: 1h 41min 10s\n"
          ]
        }
      ]
    },
    {
      "cell_type": "code",
      "metadata": {
        "id": "m44YCdQ5CUxa",
        "colab": {
          "base_uri": "https://localhost:8080/",
          "height": 821
        },
        "outputId": "df0e314e-08c9-41c7-81e2-4019f135472d"
      },
      "source": [
        "import matplotlib.pyplot as plt \n",
        "def plot_graphs(history, string):\n",
        "    plt.plot(history.history[string])\n",
        "    plt.plot(history.history['val_'+string])\n",
        "    plt.xlabel(\"Epochs\")\n",
        "    plt.ylabel(string)\n",
        "    plt.legend([string, 'val_'+string])\n",
        "    plt.show()\n",
        "\n",
        "plot_graphs(history, \"categorical_accuracy\")\n",
        "plot_graphs(history, \"f1_score\")\n",
        "plot_graphs(history, 'loss')"
      ],
      "execution_count": null,
      "outputs": [
        {
          "output_type": "display_data",
          "data": {
            "image/png": "[encoded data removed]",
            "text/plain": [
              "<Figure size 432x288 with 1 Axes>"
            ]
          },
          "metadata": {}
        },
        {
          "output_type": "display_data",
          "data": {
            "image/png": "[encoded data removed]",
            "text/plain": [
              "<Figure size 432x288 with 1 Axes>"
            ]
          },
          "metadata": {}
        },
        {
          "output_type": "display_data",
          "data": {
            "image/png": "[encoded data removed]",
            "text/plain": [
              "<Figure size 432x288 with 1 Axes>"
            ]
          },
          "metadata": {}
        }
      ]
    },
    {
      "cell_type": "code",
      "metadata": {
        "id": "-C-7q9q1Cddw",
        "colab": {
          "base_uri": "https://localhost:8080/"
        },
        "outputId": "db7b7820-e680-4dcf-9c12-e131789079b1"
      },
      "source": [
        "drive.mount('/content/drive')\n",
        "PATH = '/content/drive/MyDrive/Task1_Test/'\n",
        "list_dir = os.listdir(PATH)\n",
        "text = []\n",
        "labels = []\n",
        "sentid = []\n",
        "i=0\n",
        "for file in list_dir:\n",
        "    file_path = PATH + file\n",
        "    j=1\n",
        "    i=i+1\n",
        "    with open(file_path, 'r') as f:\n",
        "        for line in f:\n",
        "            line = line.split(sep='\\t')\n",
        "            text.append(line[0])\n",
        "            labels.append(line[1][:-1])\n",
        "            sentid.append(\"d\"+str(i)+\"_s\"+str(j))\n",
        "            j=j+1\n",
        "\n",
        "data = {'ID': sentid, 'Text': text, \"labels\": labels}\n",
        "test_file = pd.DataFrame(data=data)"
      ],
      "execution_count": null,
      "outputs": [
        {
          "output_type": "stream",
          "name": "stdout",
          "text": [
            "Drive already mounted at /content/drive; to attempt to forcibly remount, call drive.mount(\"/content/drive\", force_remount=True).\n"
          ]
        }
      ]
    },
    {
      "cell_type": "code",
      "metadata": {
        "id": "CpSgKDXWCxkD"
      },
      "source": [
        " # Remove Excess [Size:: ] from EoS\n",
        "def remove_size(text):\n",
        "\tresult = re.search(\"\\[size\", text)\n",
        "\tif result is not None:\n",
        "\t\ttext = text[:result.start()]\n",
        "\treturn text.strip()\n",
        "\n",
        "months = ['january', 'jan', 'feb', 'mar', 'apr', 'aug', 'sept', 'oct', 'nov', 'dec', 'feburary', 'february', 'march', 'april', 'may', 'june', 'july', 'august', 'september', 'october', 'november', 'december', 'on']\n",
        "def remove_months(text):\n",
        "    text = text.split()\n",
        "    text = [word for word in text if word.lower() not in set(months)]\n",
        "    text = ' '.join(text)\n",
        "    return text\n",
        "\n",
        "def remove_nums(text):\n",
        "    result = re.sub(r'[0-9+]', '', text)\n",
        "    return result\n",
        "\n",
        "def remove_comma(text):\n",
        "    result = re.sub(r',', '', text)\n",
        "    return result"
      ],
      "execution_count": null,
      "outputs": []
    },
    {
      "cell_type": "code",
      "metadata": {
        "id": "3hUpcmt_C10Q"
      },
      "source": [
        "def text_cleaning(text):\n",
        "    text = remove_size(text)\n",
        "    text = remove_nums(text)\n",
        "    text = remove_months(text)\n",
        "    text = remove_comma(text)\n",
        "    return text.strip().lower()\n",
        "\n",
        "test_file['processed'] = test_file['Text'].apply(text_cleaning)"
      ],
      "execution_count": null,
      "outputs": []
    },
    {
      "cell_type": "code",
      "metadata": {
        "id": "MrPc9P1AC5tZ",
        "colab": {
          "base_uri": "https://localhost:8080/",
          "height": 204
        },
        "outputId": "c450e760-0020-4d19-8ad3-ad1efdeb0353"
      },
      "source": [
        "test_file.head()"
      ],
      "execution_count": null,
      "outputs": [
        {
          "output_type": "execute_result",
          "data": {
            "text/html": [
              "<div>\n",
              "<style scoped>\n",
              "    .dataframe tbody tr th:only-of-type {\n",
              "        vertical-align: middle;\n",
              "    }\n",
              "\n",
              "    .dataframe tbody tr th {\n",
              "        vertical-align: top;\n",
              "    }\n",
              "\n",
              "    .dataframe thead th {\n",
              "        text-align: right;\n",
              "    }\n",
              "</style>\n",
              "<table border=\"1\" class=\"dataframe\">\n",
              "  <thead>\n",
              "    <tr style=\"text-align: right;\">\n",
              "      <th></th>\n",
              "      <th>ID</th>\n",
              "      <th>Text</th>\n",
              "      <th>labels</th>\n",
              "      <th>processed</th>\n",
              "    </tr>\n",
              "  </thead>\n",
              "  <tbody>\n",
              "    <tr>\n",
              "      <th>0</th>\n",
              "      <td>d1_s1</td>\n",
              "      <td>These two Criminal Appeals are preferred by th...</td>\n",
              "      <td>Facts</td>\n",
              "      <td>these two criminal appeals are preferred by th...</td>\n",
              "    </tr>\n",
              "    <tr>\n",
              "      <th>1</th>\n",
              "      <td>d1_s2</td>\n",
              "      <td>Application no. 1295 of 2011 and 1296 of 2011 ...</td>\n",
              "      <td>Facts</td>\n",
              "      <td>application no. of and of passed by the learne...</td>\n",
              "    </tr>\n",
              "    <tr>\n",
              "      <th>2</th>\n",
              "      <td>d1_s3</td>\n",
              "      <td>The respondent no. 1 Shyam Vithalrao Devkatta,...</td>\n",
              "      <td>Facts</td>\n",
              "      <td>the respondent no. shyam vithalrao devkatta fi...</td>\n",
              "    </tr>\n",
              "    <tr>\n",
              "      <th>3</th>\n",
              "      <td>d1_s4</td>\n",
              "      <td>Upon due verification process was issued by th...</td>\n",
              "      <td>Facts</td>\n",
              "      <td>upon due verification process was issued by th...</td>\n",
              "    </tr>\n",
              "    <tr>\n",
              "      <th>4</th>\n",
              "      <td>d1_s5</td>\n",
              "      <td>Of these accused, four approached the Bombay H...</td>\n",
              "      <td>Facts</td>\n",
              "      <td>of these accused four approached the bombay hi...</td>\n",
              "    </tr>\n",
              "  </tbody>\n",
              "</table>\n",
              "</div>"
            ],
            "text/plain": [
              "      ID  ...                                          processed\n",
              "0  d1_s1  ...  these two criminal appeals are preferred by th...\n",
              "1  d1_s2  ...  application no. of and of passed by the learne...\n",
              "2  d1_s3  ...  the respondent no. shyam vithalrao devkatta fi...\n",
              "3  d1_s4  ...  upon due verification process was issued by th...\n",
              "4  d1_s5  ...  of these accused four approached the bombay hi...\n",
              "\n",
              "[5 rows x 4 columns]"
            ]
          },
          "metadata": {},
          "execution_count": 54
        }
      ]
    },
    {
      "cell_type": "code",
      "metadata": {
        "id": "A_4zsQQhDBVg",
        "colab": {
          "base_uri": "https://localhost:8080/"
        },
        "outputId": "623f4e12-f472-4db9-eb41-42b6bb4f2f78"
      },
      "source": [
        "lemmatizer = WordNetLemmatizer()\n",
        "import nltk\n",
        "nltk.download('punkt')\n",
        "from nltk import word_tokenize, WordNetLemmatizer\n",
        "from nltk.corpus import stopwords\n",
        "nltk.download('stopwords')\n",
        "def lemmatizing_headlines(text):\n",
        "    tokens = word_tokenize(text.lower())\n",
        "    tokens = [lemmatizer.lemmatize(word) for word in tokens if word not in set(stopwords.words('english'))]\n",
        "    return ' '.join(tokens).strip()\n",
        "\n",
        "test_file['processed'] = test_file['processed'].apply(lemmatizing_headlines)"
      ],
      "execution_count": null,
      "outputs": [
        {
          "output_type": "stream",
          "name": "stdout",
          "text": [
            "[nltk_data] Downloading package punkt to /root/nltk_data...\n",
            "[nltk_data]   Unzipping tokenizers/punkt.zip.\n",
            "[nltk_data] Downloading package stopwords to /root/nltk_data...\n",
            "[nltk_data]   Package stopwords is already up-to-date!\n"
          ]
        }
      ]
    },
    {
      "cell_type": "code",
      "metadata": {
        "id": "ongXffNVDRUn",
        "colab": {
          "base_uri": "https://localhost:8080/",
          "height": 419
        },
        "outputId": "977c80b2-2934-4c7b-c3d3-6657ebc2e861"
      },
      "source": [
        "test_file"
      ],
      "execution_count": null,
      "outputs": [
        {
          "output_type": "execute_result",
          "data": {
            "text/html": [
              "<div>\n",
              "<style scoped>\n",
              "    .dataframe tbody tr th:only-of-type {\n",
              "        vertical-align: middle;\n",
              "    }\n",
              "\n",
              "    .dataframe tbody tr th {\n",
              "        vertical-align: top;\n",
              "    }\n",
              "\n",
              "    .dataframe thead th {\n",
              "        text-align: right;\n",
              "    }\n",
              "</style>\n",
              "<table border=\"1\" class=\"dataframe\">\n",
              "  <thead>\n",
              "    <tr style=\"text-align: right;\">\n",
              "      <th></th>\n",
              "      <th>ID</th>\n",
              "      <th>Text</th>\n",
              "      <th>labels</th>\n",
              "      <th>processed</th>\n",
              "    </tr>\n",
              "  </thead>\n",
              "  <tbody>\n",
              "    <tr>\n",
              "      <th>0</th>\n",
              "      <td>d1_s1</td>\n",
              "      <td>These two Criminal Appeals are preferred by th...</td>\n",
              "      <td>Facts</td>\n",
              "      <td>two criminal appeal preferred accused judgment...</td>\n",
              "    </tr>\n",
              "    <tr>\n",
              "      <th>1</th>\n",
              "      <td>d1_s2</td>\n",
              "      <td>Application no. 1295 of 2011 and 1296 of 2011 ...</td>\n",
              "      <td>Facts</td>\n",
              "      <td>application . passed learned single judge bomb...</td>\n",
              "    </tr>\n",
              "    <tr>\n",
              "      <th>2</th>\n",
              "      <td>d1_s3</td>\n",
              "      <td>The respondent no. 1 Shyam Vithalrao Devkatta,...</td>\n",
              "      <td>Facts</td>\n",
              "      <td>respondent . shyam vithalrao devkatta filed co...</td>\n",
              "    </tr>\n",
              "    <tr>\n",
              "      <th>3</th>\n",
              "      <td>d1_s4</td>\n",
              "      <td>Upon due verification process was issued by th...</td>\n",
              "      <td>Facts</td>\n",
              "      <td>upon due verification process issued learned m...</td>\n",
              "    </tr>\n",
              "    <tr>\n",
              "      <th>4</th>\n",
              "      <td>d1_s5</td>\n",
              "      <td>Of these accused, four approached the Bombay H...</td>\n",
              "      <td>Facts</td>\n",
              "      <td>accused four approached bombay high court way ...</td>\n",
              "    </tr>\n",
              "    <tr>\n",
              "      <th>...</th>\n",
              "      <td>...</td>\n",
              "      <td>...</td>\n",
              "      <td>...</td>\n",
              "      <td>...</td>\n",
              "    </tr>\n",
              "    <tr>\n",
              "      <th>692</th>\n",
              "      <td>d10_s60</td>\n",
              "      <td>Applying the above principles, it is clear fro...</td>\n",
              "      <td>Ratio of the decision</td>\n",
              "      <td>applying principle clear finding two court cir...</td>\n",
              "    </tr>\n",
              "    <tr>\n",
              "      <th>693</th>\n",
              "      <td>d10_s61</td>\n",
              "      <td>Kalawati was last seen in the company of the a...</td>\n",
              "      <td>Ratio of the decision</td>\n",
              "      <td>kalawati last seen company appellant gher even...</td>\n",
              "    </tr>\n",
              "    <tr>\n",
              "      <th>694</th>\n",
              "      <td>d10_s62</td>\n",
              "      <td>After his arrest, the production, by the appel...</td>\n",
              "      <td>Ratio of the decision</td>\n",
              "      <td>arrest production appellant ornament worn kala...</td>\n",
              "    </tr>\n",
              "    <tr>\n",
              "      <th>695</th>\n",
              "      <td>d10_s63</td>\n",
              "      <td>To conclude, the appellant has been rightly co...</td>\n",
              "      <td>Ruling by Present Court</td>\n",
              "      <td>conclude appellant rightly convicted sentenced...</td>\n",
              "    </tr>\n",
              "    <tr>\n",
              "      <th>696</th>\n",
              "      <td>d10_s64</td>\n",
              "      <td>Appeal Dismissed.</td>\n",
              "      <td>Ruling by Present Court</td>\n",
              "      <td>appeal dismissed .</td>\n",
              "    </tr>\n",
              "  </tbody>\n",
              "</table>\n",
              "<p>697 rows × 4 columns</p>\n",
              "</div>"
            ],
            "text/plain": [
              "          ID  ...                                          processed\n",
              "0      d1_s1  ...  two criminal appeal preferred accused judgment...\n",
              "1      d1_s2  ...  application . passed learned single judge bomb...\n",
              "2      d1_s3  ...  respondent . shyam vithalrao devkatta filed co...\n",
              "3      d1_s4  ...  upon due verification process issued learned m...\n",
              "4      d1_s5  ...  accused four approached bombay high court way ...\n",
              "..       ...  ...                                                ...\n",
              "692  d10_s60  ...  applying principle clear finding two court cir...\n",
              "693  d10_s61  ...  kalawati last seen company appellant gher even...\n",
              "694  d10_s62  ...  arrest production appellant ornament worn kala...\n",
              "695  d10_s63  ...  conclude appellant rightly convicted sentenced...\n",
              "696  d10_s64  ...                                 appeal dismissed .\n",
              "\n",
              "[697 rows x 4 columns]"
            ]
          },
          "metadata": {},
          "execution_count": 56
        }
      ]
    },
    {
      "cell_type": "code",
      "metadata": {
        "id": "LdWjFtkAD2Ki",
        "colab": {
          "base_uri": "https://localhost:8080/",
          "height": 1000
        },
        "outputId": "890c7790-39c9-4fac-aaeb-6a62aa4d4a4b"
      },
      "source": [
        "model.load_weights('./RoBERT-lemm-01.h5')\n",
        "final_test_inputs, final_test_attention_masks = roberta_encode(list(test_file.processed), max_length)\n",
        "y_preds = np.argmax(model.predict([final_test_inputs, final_test_attention_masks]), axis=1)\n",
        "\n",
        "test_file['pred-labels-cleaned-e1'] = y_preds\n",
        "def num_to_text_labels(num):\n",
        "    text = event_types_dict_inverse[num]\n",
        "    return text\n",
        "\n",
        "print(y_preds)\n",
        "test_file['pred-labels-cleaned-e1'] = test_file['pred-labels-cleaned-e1'].apply(num_to_text_labels)\n",
        "\n",
        "\n",
        "from sklearn.metrics import classification_report\n",
        "\n",
        "print(classification_report(y_true= list(test_file.labels), y_pred= list(test_file['pred-labels-cleaned-e1'])))\n",
        "\n",
        "import seaborn as sns\n",
        "from sklearn.metrics import confusion_matrix\n",
        "conf_mat = confusion_matrix(list(test_file.labels), list(test_file['pred-labels-cleaned-e1']))\n",
        "fig, ax = plt.subplots(figsize=(10,10))\n",
        "sns.heatmap(conf_mat, annot=True, fmt='d',\n",
        "            xticklabels=set(test_file.labels), yticklabels=set(test_file.labels))\n",
        "plt.ylabel('Actual')\n",
        "plt.xlabel('Predicted')\n",
        "plt.title('RoBERTa-resampled-lemm-CLEANED-e1')\n",
        "plt.show()"
      ],
      "execution_count": null,
      "outputs": [
        {
          "output_type": "stream",
          "name": "stderr",
          "text": [
            "  0%|          | 0/697 [00:00<?, ?it/s]/usr/local/lib/python3.7/dist-packages/transformers/tokenization_utils_base.py:2218: FutureWarning: The `pad_to_max_length` argument is deprecated and will be removed in a future version, use `padding=True` or `padding='longest'` to pad to the longest sequence in the batch, or use `padding='max_length'` to pad to a max length. In this case, you can give a specific length with `max_length` (e.g. `max_length=45`) or leave max_length to None to pad to the maximal input size of the model (e.g. 512 for Bert).\n",
            "  FutureWarning,\n",
            "100%|██████████| 697/697 [00:00<00:00, 2318.75it/s]\n"
          ]
        },
        {
          "output_type": "stream",
          "name": "stdout",
          "text": [
            "[1 0 0 1 0 1 0 0 4 4 0 3 4 0 0 0 2 1 5 1 1 1 6 2 2 2 0 2 4 4 5 5 5 5 5 0 0\n",
            " 4 4 4 3 3 3 3 3 3 3 4 4 3 4 4 3 4 4 4 6 3 1 4 3 3 3 3 1 4 2 3 3 3 3 3 4 3\n",
            " 3 4 3 3 3 1 3 3 1 1 0 3 3 3 1 1 2 5 3 4 3 1 3 3 3 3 3 3 1 3 3 2 2 6 2 4 6\n",
            " 6 6 0 0 0 0 0 1 0 0 0 2 4 2 2 0 2 0 2 2 2 2 2 2 2 3 2 2 2 2 2 2 3 2 4 2 2\n",
            " 2 4 0 0 0 0 0 0 2 0 4 2 2 0 5 6 5 5 5 5 5 5 5 5 5 5 5 5 3 5 5 5 5 3 2 6 3\n",
            " 0 0 3 3 4 6 4 6 4 3 6 6 4 1 0 4 4 3 0 2 0 0 4 6 6 6 0 0 0 0 0 1 0 0 0 0 0\n",
            " 0 0 0 0 0 0 3 1 2 4 4 3 2 4 4 3 1 4 3 3 3 6 4 5 5 5 3 3 2 0 5 5 4 3 0 6 6\n",
            " 6 1 0 1 0 0 1 6 4 0 0 4 2 0 0 4 1 1 0 0 0 0 0 0 0 0 0 0 0 0 0 0 0 0 0 4 0\n",
            " 4 4 0 0 0 4 0 4 4 6 0 0 0 0 0 0 4 0 4 0 0 0 0 0 0 0 1 4 0 0 4 0 0 2 2 4 0\n",
            " 1 3 4 1 6 6 6 1 6 6 0 0 0 0 0 1 3 1 0 2 0 2 4 4 3 4 1 1 4 3 1 1 1 2 2 2 0\n",
            " 2 2 1 1 1 0 5 4 0 3 0 4 1 4 1 4 1 4 3 3 3 3 2 4 2 4 4 4 6 6 6 0 0 2 0 2 6\n",
            " 1 3 0 1 0 0 2 0 3 2 2 4 4 0 3 0 6 4 6 5 3 5 4 0 4 4 4 6 3 3 4 6 6 6 4 0 0\n",
            " 0 0 0 0 0 4 0 2 0 2 0 1 1 1 1 0 0 3 6 3 3 0 4 0 0 4 0 4 0 4 3 4 6 6 2 6 4\n",
            " 6 6 4 6 6 0 0 0 0 0 1 1 0 0 1 2 2 2 0 2 2 1 6 0 0 6 6 4 3 4 3 3 3 3 2 4 3\n",
            " 1 3 6 2 3 3 4 6 4 4 1 4 4 3 2 4 2 2 1 3 2 4 3 4 1 1 0 3 3 2 3 6 0 4 4 6 3\n",
            " 1 3 3 1 2 4 6 6 6 6 0 1 4 1 4 0 0 4 1 1 6 0 6 3 3 2 0 4 2 1 3 1 3 1 4 4 4\n",
            " 5 5 6 4 3 2 4 3 6 4 4 6 4 1 4 4 0 5 4 4 3 0 3 0 3 3 3 3 3 3 3 3 3 0 0 0 0\n",
            " 6 6 6 6 1 1 4 0 0 0 0 0 0 0 0 4 0 0 0 2 2 2 4 0 0 2 1 0 0 0 0 0 0 0 0 4 0\n",
            " 4 0 0 1 4 2 1 2 4 2 0 2 0 0 0 4 1 6 4 4 2 3 3 3 3 1 3 0 4 6 6]\n",
            "                         precision    recall  f1-score   support\n",
            "\n",
            "               Argument       0.52      0.79      0.63        56\n",
            "                  Facts       0.54      0.68      0.60       154\n",
            "              Precedent       0.36      0.53      0.43        79\n",
            "  Ratio of the decision       0.74      0.29      0.42       314\n",
            "  Ruling by Lower Court       0.23      0.68      0.34        25\n",
            "Ruling by Present Court       0.51      0.85      0.64        40\n",
            "                Statute       0.60      0.72      0.66        29\n",
            "\n",
            "               accuracy                           0.51       697\n",
            "              macro avg       0.50      0.65      0.53       697\n",
            "           weighted avg       0.60      0.51      0.50       697\n",
            "\n"
          ]
        },
        {
          "output_type": "display_data",
          "data": {
            "image/png": "[encoded data removed]",
            "text/plain": [
              "<Figure size 720x720 with 2 Axes>"
            ]
          },
          "metadata": {}
        }
      ]
    },
    {
      "cell_type": "code",
      "metadata": {
        "id": "kYTvetgUEkAR",
        "colab": {
          "base_uri": "https://localhost:8080/",
          "height": 1000
        },
        "outputId": "296c9a24-d062-41c4-e4f3-d2921d04d352"
      },
      "source": [
        "model.load_weights('./RoBERT-lemm-02.h5')\n",
        "final_test_inputs, final_test_attention_masks = roberta_encode(list(test_file.processed), max_length)\n",
        "y_preds = np.argmax(model.predict([final_test_inputs, final_test_attention_masks]), axis=1)\n",
        "\n",
        "test_file['pred-labels-cleaned-e2'] = y_preds\n",
        "def num_to_text_labels(num):\n",
        "    text = event_types_dict_inverse[num]\n",
        "    return text\n",
        "\n",
        "print(y_preds)\n",
        "test_file['pred-labels-cleaned-e2'] = test_file['pred-labels-cleaned-e2'].apply(num_to_text_labels)\n",
        "\n",
        "\n",
        "from sklearn.metrics import classification_report\n",
        "\n",
        "print(classification_report(y_true= list(test_file.labels), y_pred= list(test_file['pred-labels-cleaned-e2'])))\n",
        "\n",
        "import seaborn as sns\n",
        "from sklearn.metrics import confusion_matrix\n",
        "conf_mat = confusion_matrix(list(test_file.labels), list(test_file['pred-labels-cleaned-e2']))\n",
        "fig, ax = plt.subplots(figsize=(10,10))\n",
        "sns.heatmap(conf_mat, annot=True, fmt='d',\n",
        "            xticklabels=set(test_file.labels), yticklabels=set(test_file.labels))\n",
        "plt.ylabel('Actual')\n",
        "plt.xlabel('Predicted')\n",
        "plt.title('RoBERTa-resampled-lemm-CLEANED-e2')\n",
        "plt.show()"
      ],
      "execution_count": null,
      "outputs": [
        {
          "output_type": "stream",
          "name": "stderr",
          "text": [
            "  0%|          | 0/697 [00:00<?, ?it/s]/usr/local/lib/python3.7/dist-packages/transformers/tokenization_utils_base.py:2218: FutureWarning: The `pad_to_max_length` argument is deprecated and will be removed in a future version, use `padding=True` or `padding='longest'` to pad to the longest sequence in the batch, or use `padding='max_length'` to pad to a max length. In this case, you can give a specific length with `max_length` (e.g. `max_length=45`) or leave max_length to None to pad to the maximal input size of the model (e.g. 512 for Bert).\n",
            "  FutureWarning,\n",
            "100%|██████████| 697/697 [00:00<00:00, 2806.13it/s]\n"
          ]
        },
        {
          "output_type": "stream",
          "name": "stdout",
          "text": [
            "[1 5 2 1 0 1 0 0 4 4 0 4 4 0 0 0 4 1 5 1 1 1 4 2 2 2 0 2 4 4 5 5 5 5 5 5 0\n",
            " 4 4 3 3 3 3 4 3 5 5 5 4 4 4 3 3 3 4 4 4 1 3 3 3 3 3 3 1 4 4 4 3 3 3 3 4 3\n",
            " 1 4 3 3 1 1 3 3 1 1 3 3 3 3 1 1 2 5 4 4 3 1 3 3 3 3 3 3 1 3 3 4 2 4 2 4 6\n",
            " 6 6 0 5 0 0 0 1 0 0 5 2 3 5 2 0 2 0 2 2 2 2 2 2 2 3 2 2 2 2 2 2 3 2 0 2 2\n",
            " 2 4 5 0 0 0 0 0 2 0 4 0 2 0 5 6 5 5 5 5 5 5 5 5 5 5 5 5 5 5 5 5 5 5 0 4 4\n",
            " 1 2 3 0 4 4 4 0 4 3 4 3 4 1 0 4 0 3 0 2 0 4 4 6 6 6 6 0 0 0 0 0 0 0 0 0 0\n",
            " 0 0 0 0 0 0 0 1 2 4 4 3 2 0 4 0 0 4 4 3 3 4 4 5 5 5 3 2 2 5 5 5 0 4 6 6 5\n",
            " 6 1 0 1 0 0 1 0 0 0 5 2 2 0 0 4 1 1 4 0 0 0 2 0 0 0 0 5 0 0 0 0 5 0 0 4 0\n",
            " 4 4 0 0 0 4 0 4 4 4 0 0 0 0 0 0 4 0 4 0 0 0 0 0 0 0 1 4 0 0 4 0 0 2 2 4 0\n",
            " 1 3 3 4 6 6 6 1 6 6 0 0 5 0 0 1 3 0 0 4 0 2 5 4 4 4 1 4 4 4 1 1 0 2 4 2 0\n",
            " 2 2 1 1 0 0 5 4 0 3 1 4 1 4 1 4 1 4 3 3 3 3 2 4 2 4 0 4 6 6 6 0 0 5 0 2 6\n",
            " 0 4 0 0 0 0 4 0 3 2 2 4 4 4 1 4 4 4 4 5 1 5 4 0 4 4 4 4 3 3 4 6 6 6 4 0 0\n",
            " 0 0 0 0 0 4 0 2 0 2 0 1 1 1 0 0 5 4 4 4 3 5 4 0 1 4 0 4 4 4 1 1 1 4 2 6 4\n",
            " 6 4 4 6 6 0 0 0 0 0 0 4 0 6 1 2 2 2 0 2 2 1 4 3 6 6 6 4 4 4 3 3 3 3 2 4 3\n",
            " 1 4 6 2 3 3 4 0 1 4 1 4 0 3 4 4 2 2 4 3 2 4 4 4 1 1 0 3 3 2 3 6 0 3 4 4 3\n",
            " 3 3 3 6 2 4 6 6 6 6 0 0 4 0 4 5 4 4 0 1 5 0 4 3 4 2 0 4 2 1 4 1 1 3 4 4 4\n",
            " 5 5 0 4 5 4 4 5 4 4 4 1 5 1 4 0 0 5 4 4 4 0 3 0 3 3 4 3 3 3 3 3 3 0 5 6 4\n",
            " 1 6 6 6 0 0 5 0 0 0 0 0 0 0 4 0 0 0 0 2 2 0 4 0 0 4 3 5 0 0 0 0 0 4 0 4 0\n",
            " 0 0 4 1 4 2 4 4 4 0 4 0 0 0 4 4 4 6 4 3 4 3 3 3 3 4 3 0 0 6 6]\n",
            "                         precision    recall  f1-score   support\n",
            "\n",
            "               Argument       0.58      0.73      0.65        56\n",
            "                  Facts       0.53      0.66      0.59       154\n",
            "              Precedent       0.40      0.48      0.44        79\n",
            "  Ratio of the decision       0.71      0.38      0.49       314\n",
            "  Ruling by Lower Court       0.17      0.44      0.25        25\n",
            "Ruling by Present Court       0.69      0.78      0.73        40\n",
            "                Statute       0.39      0.86      0.54        29\n",
            "\n",
            "               accuracy                           0.53       697\n",
            "              macro avg       0.50      0.62      0.53       697\n",
            "           weighted avg       0.59      0.53      0.53       697\n",
            "\n"
          ]
        },
        {
          "output_type": "display_data",
          "data": {
            "image/png": "[encoded data removed]",
            "text/plain": [
              "<Figure size 720x720 with 2 Axes>"
            ]
          },
          "metadata": {}
        }
      ]
    },
    {
      "cell_type": "code",
      "metadata": {
        "colab": {
          "base_uri": "https://localhost:8080/",
          "height": 1000
        },
        "id": "BceFzRiszW3h",
        "outputId": "df2b1869-1843-420e-fd5b-201b413be3be"
      },
      "source": [
        "model.load_weights('./RoBERT-lemm-02.h5')\n",
        "final_test_inputs, final_test_attention_masks = roberta_encode(list(test_file.processed), max_length)\n",
        "y_preds = np.argmax(model.predict([final_test_inputs, final_test_attention_masks]), axis=1)\n",
        "\n",
        "test_file['pred-labels-cleaned-e2'] = y_preds\n",
        "def num_to_text_labels(num):\n",
        "    text = event_types_dict_inverse[num]\n",
        "    return text\n",
        "\n",
        "print(y_preds)\n",
        "test_file['pred-labels-cleaned-e2'] = test_file['pred-labels-cleaned-e2'].apply(num_to_text_labels)\n",
        "\n",
        "\n",
        "from sklearn.metrics import classification_report\n",
        "\n",
        "print(classification_report(y_true= list(test_file.labels), y_pred= list(test_file['pred-labels-cleaned-e2'])))\n",
        "\n",
        "import seaborn as sns\n",
        "from sklearn.metrics import confusion_matrix\n",
        "conf_mat = confusion_matrix(list(test_file.labels), list(test_file['pred-labels-cleaned-e2']))\n",
        "fig, ax = plt.subplots(figsize=(10,10))\n",
        "sns.heatmap(conf_mat, annot=True, fmt='d',\n",
        "            xticklabels=set(test_file.labels), yticklabels=set(test_file.labels))\n",
        "plt.ylabel('Actual')\n",
        "plt.xlabel('Predicted')\n",
        "plt.title('RoBERTa-resampled-lemm-CLEANED-e2')\n",
        "plt.show()"
      ],
      "execution_count": null,
      "outputs": [
        {
          "output_type": "stream",
          "name": "stderr",
          "text": [
            "  0%|          | 0/697 [00:00<?, ?it/s]/usr/local/lib/python3.7/dist-packages/transformers/tokenization_utils_base.py:2218: FutureWarning: The `pad_to_max_length` argument is deprecated and will be removed in a future version, use `padding=True` or `padding='longest'` to pad to the longest sequence in the batch, or use `padding='max_length'` to pad to a max length. In this case, you can give a specific length with `max_length` (e.g. `max_length=45`) or leave max_length to None to pad to the maximal input size of the model (e.g. 512 for Bert).\n",
            "  FutureWarning,\n",
            "100%|██████████| 697/697 [00:00<00:00, 2765.90it/s]\n"
          ]
        },
        {
          "output_type": "stream",
          "name": "stdout",
          "text": [
            "[1 5 2 1 0 1 0 0 4 4 0 4 4 0 0 0 4 1 5 1 1 1 4 2 2 2 0 2 4 4 5 5 5 5 5 5 0\n",
            " 4 4 3 3 3 3 4 3 5 5 5 4 4 4 3 3 3 4 4 4 1 3 3 3 3 3 3 1 4 4 4 3 3 3 3 4 3\n",
            " 1 4 3 3 1 1 3 3 1 1 3 3 3 3 1 1 2 5 4 4 3 1 3 3 3 3 3 3 1 3 3 4 2 4 2 4 6\n",
            " 6 6 0 5 0 0 0 1 0 0 5 2 3 5 2 0 2 0 2 2 2 2 2 2 2 3 2 2 2 2 2 2 3 2 0 2 2\n",
            " 2 4 5 0 0 0 0 0 2 0 4 0 2 0 5 6 5 5 5 5 5 5 5 5 5 5 5 5 5 5 5 5 5 5 0 4 4\n",
            " 1 2 3 0 4 4 4 0 4 3 4 3 4 1 0 4 0 3 0 2 0 4 4 6 6 6 6 0 0 0 0 0 0 0 0 0 0\n",
            " 0 0 0 0 0 0 0 1 2 4 4 3 2 0 4 0 0 4 4 3 3 4 4 5 5 5 3 2 2 5 5 5 0 4 6 6 5\n",
            " 6 1 0 1 0 0 1 0 0 0 5 2 2 0 0 4 1 1 4 0 0 0 2 0 0 0 0 5 0 0 0 0 5 0 0 4 0\n",
            " 4 4 0 0 0 4 0 4 4 4 0 0 0 0 0 0 4 0 4 0 0 0 0 0 0 0 1 4 0 0 4 0 0 2 2 4 0\n",
            " 1 3 3 4 6 6 6 1 6 6 0 0 5 0 0 1 3 0 0 4 0 2 5 4 4 4 1 4 4 4 1 1 0 2 4 2 0\n",
            " 2 2 1 1 0 0 5 4 0 3 1 4 1 4 1 4 1 4 3 3 3 3 2 4 2 4 0 4 6 6 6 0 0 5 0 2 6\n",
            " 0 4 0 0 0 0 4 0 3 2 2 4 4 4 1 4 4 4 4 5 1 5 4 0 4 4 4 4 3 3 4 6 6 6 4 0 0\n",
            " 0 0 0 0 0 4 0 2 0 2 0 1 1 1 0 0 5 4 4 4 3 5 4 0 1 4 0 4 4 4 1 1 1 4 2 6 4\n",
            " 6 4 4 6 6 0 0 0 0 0 0 4 0 6 1 2 2 2 0 2 2 1 4 3 6 6 6 4 4 4 3 3 3 3 2 4 3\n",
            " 1 4 6 2 3 3 4 0 1 4 1 4 0 3 4 4 2 2 4 3 2 4 4 4 1 1 0 3 3 2 3 6 0 3 4 4 3\n",
            " 3 3 3 6 2 4 6 6 6 6 0 0 4 0 4 5 4 4 0 1 5 0 4 3 4 2 0 4 2 1 4 1 1 3 4 4 4\n",
            " 5 5 0 4 5 4 4 5 4 4 4 1 5 1 4 0 0 5 4 4 4 0 3 0 3 3 4 3 3 3 3 3 3 0 5 6 4\n",
            " 1 6 6 6 0 0 5 0 0 0 0 0 0 0 4 0 0 0 0 2 2 0 4 0 0 4 3 5 0 0 0 0 0 4 0 4 0\n",
            " 0 0 4 1 4 2 4 4 4 0 4 0 0 0 4 4 4 6 4 3 4 3 3 3 3 4 3 0 0 6 6]\n",
            "                         precision    recall  f1-score   support\n",
            "\n",
            "               Argument       0.58      0.73      0.65        56\n",
            "                  Facts       0.53      0.66      0.59       154\n",
            "              Precedent       0.40      0.48      0.44        79\n",
            "  Ratio of the decision       0.71      0.38      0.49       314\n",
            "  Ruling by Lower Court       0.17      0.44      0.25        25\n",
            "Ruling by Present Court       0.69      0.78      0.73        40\n",
            "                Statute       0.39      0.86      0.54        29\n",
            "\n",
            "               accuracy                           0.53       697\n",
            "              macro avg       0.50      0.62      0.53       697\n",
            "           weighted avg       0.59      0.53      0.53       697\n",
            "\n"
          ]
        },
        {
          "output_type": "display_data",
          "data": {
            "image/png": "[encoded data removed]",
            "text/plain": [
              "<Figure size 720x720 with 2 Axes>"
            ]
          },
          "metadata": {}
        }
      ]
    },
    {
      "cell_type": "code",
      "metadata": {
        "colab": {
          "base_uri": "https://localhost:8080/",
          "height": 1000
        },
        "id": "FeB4Qz_OjIHN",
        "outputId": "5185af64-3610-4023-a363-ee8b7247924a"
      },
      "source": [
        "model.load_weights('./RoBERT-lemm-03.h5')\n",
        "final_test_inputs, final_test_attention_masks = roberta_encode(list(test_file.processed), max_length)\n",
        "y_preds = np.argmax(model.predict([final_test_inputs, final_test_attention_masks]), axis=1)\n",
        "\n",
        "test_file['pred-labels-cleaned-e2'] = y_preds\n",
        "def num_to_text_labels(num):\n",
        "    text = event_types_dict_inverse[num]\n",
        "    return text\n",
        "\n",
        "print(y_preds)\n",
        "test_file['pred-labels-cleaned-e2'] = test_file['pred-labels-cleaned-e2'].apply(num_to_text_labels)\n",
        "\n",
        "\n",
        "from sklearn.metrics import classification_report\n",
        "\n",
        "print(classification_report(y_true= list(test_file.labels), y_pred= list(test_file['pred-labels-cleaned-e2'])))\n",
        "\n",
        "import seaborn as sns\n",
        "from sklearn.metrics import confusion_matrix\n",
        "conf_mat = confusion_matrix(list(test_file.labels), list(test_file['pred-labels-cleaned-e2']))\n",
        "fig, ax = plt.subplots(figsize=(10,10))\n",
        "sns.heatmap(conf_mat, annot=True, fmt='d',\n",
        "            xticklabels=set(test_file.labels), yticklabels=set(test_file.labels))\n",
        "plt.ylabel('Actual')\n",
        "plt.xlabel('Predicted')\n",
        "plt.title('RoBERTa-resampled-lemm-CLEANED-e2')\n",
        "plt.show()"
      ],
      "execution_count": null,
      "outputs": [
        {
          "output_type": "stream",
          "name": "stderr",
          "text": [
            "  0%|          | 0/697 [00:00<?, ?it/s]/usr/local/lib/python3.7/dist-packages/transformers/tokenization_utils_base.py:2218: FutureWarning: The `pad_to_max_length` argument is deprecated and will be removed in a future version, use `padding=True` or `padding='longest'` to pad to the longest sequence in the batch, or use `padding='max_length'` to pad to a max length. In this case, you can give a specific length with `max_length` (e.g. `max_length=45`) or leave max_length to None to pad to the maximal input size of the model (e.g. 512 for Bert).\n",
            "  FutureWarning,\n",
            "100%|██████████| 697/697 [00:00<00:00, 2578.82it/s]\n"
          ]
        },
        {
          "output_type": "stream",
          "name": "stdout",
          "text": [
            "[1 0 0 1 0 1 4 0 4 4 4 3 4 0 0 0 4 0 4 1 4 1 4 2 3 2 0 2 4 4 3 5 5 5 5 0 4\n",
            " 3 4 3 3 3 3 3 3 3 3 3 4 3 4 4 4 4 4 3 3 3 3 3 3 3 3 3 3 5 4 4 3 3 3 3 4 3\n",
            " 3 4 3 3 3 1 3 3 0 3 3 3 3 3 3 4 5 5 3 3 3 3 3 4 3 3 3 3 1 3 3 3 2 4 2 4 6\n",
            " 1 6 0 5 0 0 0 1 0 0 1 2 4 3 2 4 2 4 2 2 2 2 2 2 2 3 2 2 2 2 2 3 3 2 3 2 2\n",
            " 2 4 5 0 0 0 0 3 3 4 3 0 2 0 5 6 3 5 5 5 5 3 5 5 5 5 3 4 3 5 5 3 5 4 4 3 3\n",
            " 5 2 4 4 4 4 4 3 4 3 3 3 4 3 4 4 4 3 0 2 0 4 4 6 0 6 0 0 0 0 0 0 0 0 0 0 0\n",
            " 0 0 0 0 0 0 4 0 2 4 4 3 3 3 4 4 3 4 4 3 3 3 4 5 4 5 4 3 4 5 5 4 4 4 4 6 6\n",
            " 6 1 3 1 1 0 1 4 0 0 3 4 4 0 3 4 4 0 4 3 0 4 3 0 2 0 0 5 0 0 0 0 3 0 4 4 0\n",
            " 4 2 4 0 0 4 4 4 4 4 4 4 0 0 0 0 4 4 4 0 0 0 0 0 4 4 0 3 4 0 4 0 4 2 2 4 4\n",
            " 4 3 4 4 6 6 6 4 6 6 0 0 5 0 0 3 1 3 3 4 0 4 3 4 4 4 1 4 4 3 1 1 1 2 2 2 2\n",
            " 2 2 4 0 3 1 5 3 0 3 1 4 1 4 1 4 4 4 3 3 4 3 4 4 2 4 0 4 6 3 6 0 0 4 4 2 4\n",
            " 0 4 0 1 0 0 4 4 3 2 2 2 4 4 4 4 4 4 4 5 3 3 4 0 4 3 4 4 3 3 4 6 6 6 4 0 0\n",
            " 0 0 0 0 0 4 0 0 0 2 0 1 1 1 1 4 5 4 4 4 3 4 3 0 4 4 1 4 4 4 3 3 2 3 2 4 4\n",
            " 6 0 4 6 6 0 3 0 0 0 1 4 0 1 1 2 2 2 0 2 2 1 4 3 0 1 6 4 4 4 3 3 3 3 2 4 3\n",
            " 1 4 4 2 3 3 4 0 3 4 4 1 3 3 4 3 4 2 4 3 2 4 3 4 3 1 3 3 3 4 3 4 0 4 4 4 3\n",
            " 3 3 3 1 2 4 1 6 6 6 0 1 4 1 4 5 5 4 3 1 3 4 3 2 4 2 5 4 2 1 3 3 4 3 4 4 4\n",
            " 5 5 4 4 3 4 4 5 4 4 4 3 3 1 4 4 4 5 5 5 4 4 3 5 3 3 3 3 3 3 3 3 3 4 3 4 4\n",
            " 1 6 3 6 1 0 3 0 0 0 0 0 0 0 4 4 4 0 4 4 4 4 4 4 0 4 3 3 3 0 0 0 0 4 4 4 0\n",
            " 4 4 4 4 4 2 4 4 4 2 4 2 0 4 4 4 1 4 4 4 4 1 3 3 3 3 4 0 4 6 6]\n",
            "                         precision    recall  f1-score   support\n",
            "\n",
            "               Argument       0.66      0.73      0.69        56\n",
            "                  Facts       0.62      0.52      0.57       154\n",
            "              Precedent       0.30      0.62      0.40        79\n",
            "  Ratio of the decision       0.65      0.46      0.54       314\n",
            "  Ruling by Lower Court       0.25      0.48      0.33        25\n",
            "Ruling by Present Court       0.93      0.68      0.78        40\n",
            "                Statute       0.41      0.59      0.49        29\n",
            "\n",
            "               accuracy                           0.53       697\n",
            "              macro avg       0.55      0.58      0.54       697\n",
            "           weighted avg       0.60      0.53      0.55       697\n",
            "\n"
          ]
        },
        {
          "output_type": "display_data",
          "data": {
            "image/png": "[encoded data removed]",
            "text/plain": [
              "<Figure size 720x720 with 2 Axes>"
            ]
          },
          "metadata": {}
        }
      ]
    },
    {
      "cell_type": "code",
      "metadata": {
        "colab": {
          "base_uri": "https://localhost:8080/",
          "height": 1000
        },
        "id": "DCn_KJetjPQX",
        "outputId": "0f68a787-6075-40a2-ea98-940391be750b"
      },
      "source": [
        "model.load_weights('./RoBERT-lemm-04.h5')\n",
        "final_test_inputs, final_test_attention_masks = roberta_encode(list(test_file.processed), max_length)\n",
        "y_preds = np.argmax(model.predict([final_test_inputs, final_test_attention_masks]), axis=1)\n",
        "\n",
        "test_file['pred-labels-cleaned-e2'] = y_preds\n",
        "def num_to_text_labels(num):\n",
        "    text = event_types_dict_inverse[num]\n",
        "    return text\n",
        "\n",
        "print(y_preds)\n",
        "test_file['pred-labels-cleaned-e2'] = test_file['pred-labels-cleaned-e2'].apply(num_to_text_labels)\n",
        "\n",
        "\n",
        "from sklearn.metrics import classification_report\n",
        "\n",
        "print(classification_report(y_true= list(test_file.labels), y_pred= list(test_file['pred-labels-cleaned-e2'])))\n",
        "\n",
        "import seaborn as sns\n",
        "from sklearn.metrics import confusion_matrix\n",
        "conf_mat = confusion_matrix(list(test_file.labels), list(test_file['pred-labels-cleaned-e2']))\n",
        "fig, ax = plt.subplots(figsize=(10,10))\n",
        "sns.heatmap(conf_mat, annot=True, fmt='d',\n",
        "            xticklabels=set(test_file.labels), yticklabels=set(test_file.labels))\n",
        "plt.ylabel('Actual')\n",
        "plt.xlabel('Predicted')\n",
        "plt.title('RoBERTa-resampled-lemm-CLEANED-e2')\n",
        "plt.show()"
      ],
      "execution_count": null,
      "outputs": [
        {
          "output_type": "stream",
          "name": "stderr",
          "text": [
            "  0%|          | 0/697 [00:00<?, ?it/s]/usr/local/lib/python3.7/dist-packages/transformers/tokenization_utils_base.py:2218: FutureWarning: The `pad_to_max_length` argument is deprecated and will be removed in a future version, use `padding=True` or `padding='longest'` to pad to the longest sequence in the batch, or use `padding='max_length'` to pad to a max length. In this case, you can give a specific length with `max_length` (e.g. `max_length=45`) or leave max_length to None to pad to the maximal input size of the model (e.g. 512 for Bert).\n",
            "  FutureWarning,\n",
            "100%|██████████| 697/697 [00:00<00:00, 2784.14it/s]\n"
          ]
        },
        {
          "output_type": "stream",
          "name": "stdout",
          "text": [
            "[0 0 3 3 0 0 0 0 0 0 0 3 4 0 0 0 4 0 3 3 3 4 0 2 2 2 0 2 4 3 3 5 5 5 5 5 3\n",
            " 4 3 3 3 3 3 4 3 3 3 1 4 4 4 3 3 3 4 3 3 3 3 3 3 3 3 3 3 4 2 4 3 3 3 3 4 3\n",
            " 3 3 3 3 3 3 3 3 0 3 0 3 3 3 3 3 2 5 3 4 3 3 3 4 3 3 3 3 1 3 3 3 2 4 2 4 6\n",
            " 6 6 0 5 0 0 4 1 0 0 5 2 4 0 2 4 2 4 2 2 2 2 2 2 2 3 2 2 2 2 2 2 3 2 3 2 2\n",
            " 2 4 5 0 0 0 4 3 4 2 3 0 2 3 5 6 5 5 5 5 5 5 5 5 5 5 5 5 5 5 5 5 5 2 4 4 4\n",
            " 3 2 3 3 3 2 4 4 4 3 3 3 4 3 0 4 2 4 0 2 4 4 4 6 0 6 0 0 0 0 0 0 0 0 0 0 0\n",
            " 0 0 0 0 0 2 0 3 2 2 4 3 2 4 0 0 4 0 4 3 4 4 4 5 5 5 5 4 2 5 5 5 4 3 4 6 6\n",
            " 6 1 0 1 0 0 1 0 0 0 0 0 0 0 0 0 0 0 0 4 0 4 0 0 0 0 4 5 0 0 0 0 0 0 4 4 0\n",
            " 4 2 4 0 0 4 4 4 4 0 4 0 0 4 0 0 4 0 4 0 0 0 0 4 4 4 0 4 4 0 4 0 0 2 2 4 0\n",
            " 0 3 4 4 6 6 6 0 6 6 0 0 3 0 0 3 3 3 3 3 4 3 4 4 4 4 3 0 4 3 1 1 6 2 3 2 2\n",
            " 2 2 4 0 3 0 5 4 0 3 0 0 1 4 3 3 0 3 4 3 4 3 4 4 2 3 0 4 6 6 6 0 0 4 4 2 4\n",
            " 0 4 6 0 0 1 3 4 3 2 2 4 4 4 4 4 4 0 3 4 3 5 4 0 3 4 4 4 3 3 4 6 6 6 4 0 0\n",
            " 0 0 0 0 0 4 0 2 0 2 0 3 1 1 1 3 0 4 0 4 3 3 4 0 0 4 6 4 0 4 4 4 3 3 2 4 4\n",
            " 6 0 3 6 6 0 0 0 0 0 1 4 0 0 1 2 2 2 0 2 2 1 4 0 6 6 6 4 4 4 3 4 3 3 2 4 3\n",
            " 1 3 4 0 3 3 3 6 3 4 1 6 0 3 4 3 2 2 4 3 2 4 3 4 0 3 0 3 3 2 2 4 0 4 0 4 3\n",
            " 3 3 3 6 2 4 6 6 6 6 0 6 4 3 4 4 4 4 3 1 6 0 4 3 4 2 0 4 2 1 3 3 3 3 4 4 4\n",
            " 4 5 0 4 4 4 3 3 4 4 4 1 3 1 4 0 0 5 0 5 3 0 3 0 3 3 3 3 3 3 3 3 3 3 0 6 3\n",
            " 6 6 6 6 1 0 0 0 0 4 4 0 0 4 0 4 4 4 0 2 2 4 4 4 0 4 3 3 0 0 0 0 0 0 0 2 0\n",
            " 4 0 4 4 4 2 4 0 4 4 4 0 0 4 4 4 4 4 4 4 4 3 3 3 3 3 3 0 0 6 6]\n",
            "                         precision    recall  f1-score   support\n",
            "\n",
            "               Argument       0.58      0.75      0.65        56\n",
            "                  Facts       0.55      0.64      0.59       154\n",
            "              Precedent       0.30      0.61      0.40        79\n",
            "  Ratio of the decision       0.66      0.37      0.47       314\n",
            "  Ruling by Lower Court       0.30      0.28      0.29        25\n",
            "Ruling by Present Court       0.69      0.78      0.73        40\n",
            "                Statute       0.55      0.76      0.64        29\n",
            "\n",
            "               accuracy                           0.52       697\n",
            "              macro avg       0.52      0.60      0.54       697\n",
            "           weighted avg       0.57      0.52      0.52       697\n",
            "\n"
          ]
        },
        {
          "output_type": "display_data",
          "data": {
            "image/png": "[encoded data removed]",
            "text/plain": [
              "<Figure size 720x720 with 2 Axes>"
            ]
          },
          "metadata": {}
        }
      ]
    },
    {
      "cell_type": "code",
      "metadata": {
        "colab": {
          "base_uri": "https://localhost:8080/",
          "height": 1000
        },
        "id": "ZhfwRI--jZH5",
        "outputId": "1a7c3b90-569d-4500-8527-24ed28916fc3"
      },
      "source": [
        "model.load_weights('./RoBERT-lemm-05.h5')\n",
        "final_test_inputs, final_test_attention_masks = roberta_encode(list(test_file.processed), max_length)\n",
        "y_preds = np.argmax(model.predict([final_test_inputs, final_test_attention_masks]), axis=1)\n",
        "\n",
        "test_file['pred-labels-cleaned-e2'] = y_preds\n",
        "def num_to_text_labels(num):\n",
        "    text = event_types_dict_inverse[num]\n",
        "    return text\n",
        "\n",
        "print(y_preds)\n",
        "test_file['pred-labels-cleaned-e2'] = test_file['pred-labels-cleaned-e2'].apply(num_to_text_labels)\n",
        "\n",
        "\n",
        "from sklearn.metrics import classification_report\n",
        "\n",
        "print(classification_report(y_true= list(test_file.labels), y_pred= list(test_file['pred-labels-cleaned-e2'])))\n",
        "\n",
        "import seaborn as sns\n",
        "from sklearn.metrics import confusion_matrix\n",
        "conf_mat = confusion_matrix(list(test_file.labels), list(test_file['pred-labels-cleaned-e2']))\n",
        "fig, ax = plt.subplots(figsize=(10,10))\n",
        "sns.heatmap(conf_mat, annot=True, fmt='d',\n",
        "            xticklabels=set(test_file.labels), yticklabels=set(test_file.labels))\n",
        "plt.ylabel('Actual')\n",
        "plt.xlabel('Predicted')\n",
        "plt.title('RoBERTa-resampled-lemm-CLEANED-e2')\n",
        "plt.show()"
      ],
      "execution_count": null,
      "outputs": [
        {
          "output_type": "stream",
          "name": "stderr",
          "text": [
            "  0%|          | 0/697 [00:00<?, ?it/s]/usr/local/lib/python3.7/dist-packages/transformers/tokenization_utils_base.py:2218: FutureWarning: The `pad_to_max_length` argument is deprecated and will be removed in a future version, use `padding=True` or `padding='longest'` to pad to the longest sequence in the batch, or use `padding='max_length'` to pad to a max length. In this case, you can give a specific length with `max_length` (e.g. `max_length=45`) or leave max_length to None to pad to the maximal input size of the model (e.g. 512 for Bert).\n",
            "  FutureWarning,\n",
            "100%|██████████| 697/697 [00:00<00:00, 2723.36it/s]\n"
          ]
        },
        {
          "output_type": "stream",
          "name": "stdout",
          "text": [
            "[0 0 0 0 0 1 0 0 0 4 4 4 4 0 0 0 4 0 0 3 4 1 4 2 4 2 0 2 4 0 5 5 5 5 5 0 0\n",
            " 1 0 4 4 3 3 4 3 5 4 4 4 4 4 4 4 4 4 1 3 3 3 3 4 4 3 3 1 0 4 4 3 5 3 3 4 4\n",
            " 4 4 4 3 3 1 4 4 0 3 0 3 3 3 0 4 2 5 4 4 3 1 3 4 1 3 3 3 1 3 4 4 2 4 2 4 6\n",
            " 0 6 0 0 0 0 4 1 0 1 1 2 4 0 2 0 2 4 2 2 2 2 4 4 2 3 2 2 2 2 2 2 3 2 3 2 2\n",
            " 2 4 0 0 0 0 0 4 4 0 3 0 2 0 5 6 5 5 5 5 5 5 5 5 5 5 5 5 5 5 5 5 5 4 4 4 4\n",
            " 0 0 4 0 4 2 4 4 4 3 3 3 4 4 0 4 4 4 0 2 4 4 4 6 6 6 0 0 0 0 0 0 0 0 0 0 0\n",
            " 0 0 0 0 0 0 0 0 2 4 4 3 2 4 4 4 4 4 4 3 3 4 4 5 4 5 4 4 2 5 5 5 4 3 4 6 6\n",
            " 6 1 0 1 0 0 1 0 0 0 4 0 0 0 0 4 4 0 0 0 0 4 0 0 0 0 0 0 0 0 0 4 0 0 0 4 0\n",
            " 4 2 4 0 0 4 4 4 4 4 4 0 0 4 0 0 4 0 4 0 0 0 0 4 4 4 0 4 4 0 0 4 0 2 2 4 0\n",
            " 4 3 4 4 6 6 6 4 6 6 0 0 4 0 0 3 4 3 3 0 0 0 4 0 4 4 1 0 4 4 1 1 1 2 2 2 2\n",
            " 2 2 4 1 1 0 5 4 0 4 0 4 1 4 1 4 1 4 4 3 4 3 4 4 2 4 0 4 6 6 6 0 0 4 4 2 4\n",
            " 0 4 0 0 0 1 4 0 3 2 2 4 4 4 4 4 4 4 4 4 4 5 0 0 0 4 4 4 3 3 4 6 6 6 4 0 0\n",
            " 0 0 0 0 0 4 1 0 0 2 0 3 1 1 1 0 0 4 4 4 3 0 4 0 0 4 0 4 0 4 4 1 1 4 2 4 4\n",
            " 6 4 4 6 6 0 0 0 0 0 1 4 0 0 0 2 2 2 0 2 2 1 4 0 4 6 4 4 4 4 4 3 3 3 2 4 3\n",
            " 1 0 0 2 3 4 4 6 4 4 1 4 0 3 4 0 0 2 4 3 2 4 4 4 0 3 0 3 3 4 2 4 0 4 4 4 3\n",
            " 3 3 3 1 2 4 4 6 6 6 0 1 4 1 4 4 0 4 4 1 4 0 4 3 4 2 4 4 2 1 4 4 4 1 4 4 4\n",
            " 4 5 4 4 4 4 4 5 4 4 4 1 5 1 4 4 0 4 4 4 4 4 3 4 3 3 4 3 3 3 3 3 3 4 4 4 4\n",
            " 4 6 6 6 0 0 0 0 0 4 4 0 0 4 4 0 4 4 0 4 4 0 4 4 0 4 0 4 0 0 0 0 0 0 0 0 0\n",
            " 4 4 4 0 4 2 4 4 4 0 4 0 0 0 4 4 4 4 4 4 4 0 3 3 3 3 3 0 4 6 6]\n",
            "                         precision    recall  f1-score   support\n",
            "\n",
            "               Argument       0.66      0.70      0.68        56\n",
            "                  Facts       0.52      0.66      0.58       154\n",
            "              Precedent       0.41      0.39      0.40        79\n",
            "  Ratio of the decision       0.64      0.52      0.58       314\n",
            "  Ruling by Lower Court       0.21      0.36      0.26        25\n",
            "Ruling by Present Court       0.91      0.75      0.82        40\n",
            "                Statute       0.61      0.76      0.68        29\n",
            "\n",
            "               accuracy                           0.57       697\n",
            "              macro avg       0.57      0.59      0.57       697\n",
            "           weighted avg       0.59      0.57      0.57       697\n",
            "\n"
          ]
        },
        {
          "output_type": "display_data",
          "data": {
            "image/png": "[encoded data removed]",
            "text/plain": [
              "<Figure size 720x720 with 2 Axes>"
            ]
          },
          "metadata": {}
        }
      ]
    }
  ]
}